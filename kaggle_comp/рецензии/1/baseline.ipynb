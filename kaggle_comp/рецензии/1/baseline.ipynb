{
 "cells": [
  {
   "cell_type": "markdown",
   "metadata": {
    "id": "TK7oX5qdEEYr"
   },
   "source": [
    "<p style=\"align: center;\"><img align=center src=\"https://s8.hostingkartinok.com/uploads/images/2018/08/308b49fcfbc619d629fe4604bceb67ac.jpg\" width=500 height=450/></p>\n",
    "\n",
    "<h3 style=\"text-align: center;\"><b>Школа глубокого обучения ФПМИ МФТИ</b></h3>\n",
    "\n",
    "<h3 style=\"text-align: center;\"><b>Домашнее задание. Продвинутый поток. Весна 2021</b></h3>\n",
    "\n",
    "Это домашнее задание будет посвящено полноценному решению задачи машинного обучения."
   ]
  },
  {
   "cell_type": "markdown",
   "metadata": {
    "id": "zlB-owfaEEYs"
   },
   "source": [
    "Есть две части этого домашнего задания: \n",
    "* Сделать полноценный отчет о вашей работе: как вы обработали данные, какие модели попробовали и какие результаты получились (максимум 10 баллов). За каждую выполненную часть будет начислено определенное количество баллов.\n",
    "* Лучшее решение отправить в соревнование на [kaggle](https://www.kaggle.com/c/advanced-dls-spring-2021/) (максимум 5 баллов). За прохождение определенного порогов будут начисляться баллы.\n",
    "\n",
    "\n",
    "**Обе части будут проверяться в формате peer-review. Т.е. вашу посылку на степик будут проверять несколько других студентов и аггрегация их оценок будет выставлена. В то же время вам тоже нужно будет проверить несколько других учеников.**\n",
    "\n",
    "**Пожалуйста, делайте свою работу чистой и понятной, чтобы облегчить проверку. Если у вас будут проблемы с решением или хочется совета, то пишите в наш чат в телеграме или в лс @runfme. Если вы захотите проаппелировать оценку, то пипшите в лс @runfme.**\n",
    "\n",
    "**Во всех пунктах указания это минимальный набор вещей, которые стоит сделать. Если вы можете сделать какой-то шаг лучше или добавить что-то свое - дерзайте!**"
   ]
  },
  {
   "cell_type": "markdown",
   "metadata": {
    "id": "Tu_JvqcBEN8Y"
   },
   "source": [
    "# Как проверять?\n",
    "\n",
    "Ставьте полный балл, если выполнены все рекомендации или сделано что-то более интересное и сложное. За каждый отсустствующий пункт из рекомендация снижайте 1 балл."
   ]
  },
  {
   "cell_type": "markdown",
   "metadata": {
    "id": "ninJ63mJEEYt"
   },
   "source": [
    "# Метрика\n",
    "\n",
    "Перед решением любой задачи важно понимать, как будет оцениваться ваше решение. В данном случае мы используем стандартную для задачи классификации метрику ROC-AUC. Ее можно вычислить используя только предсказанные вероятности и истинные классы без конкретного порога классификации + она раотает даже если классы в данных сильно несбалансированны (примеров одного класса в десятки раз больше примеров длугого). Именно поэтому она очень удобна для соревнований.\n",
    "\n",
    "Посчитать ее легко:\n"
   ]
  },
  {
   "cell_type": "code",
   "execution_count": 26,
   "metadata": {
    "colab": {
     "base_uri": "https://localhost:8080/"
    },
    "id": "SQIrka7yEEYu",
    "outputId": "a699192c-7f07-48ba-d470-c10e3d3ad7f3"
   },
   "outputs": [
    {
     "data": {
      "text/plain": [
       "0.8333333333333333"
      ]
     },
     "execution_count": 26,
     "metadata": {},
     "output_type": "execute_result"
    }
   ],
   "source": [
    "from sklearn.metrics import roc_auc_score\n",
    "\n",
    "y_true = [\n",
    "    0,\n",
    "    1,\n",
    "    1,\n",
    "    0,\n",
    "    1\n",
    "]\n",
    "\n",
    "y_predictions = [\n",
    "    0.1,\n",
    "    0.9,\n",
    "    0.4,\n",
    "    0.6,\n",
    "    0.61\n",
    "]\n",
    "\n",
    "roc_auc_score(y_true, y_predictions)"
   ]
  },
  {
   "cell_type": "markdown",
   "metadata": {
    "id": "IrDNNkNTEEYz"
   },
   "source": [
    "# Первая часть. Исследование"
   ]
  },
  {
   "cell_type": "code",
   "execution_count": 27,
   "metadata": {
    "id": "lzLqEeZKEEYz"
   },
   "outputs": [],
   "source": [
    "import pandas as pd\n",
    "import numpy as np\n",
    "from matplotlib import pyplot as plt"
   ]
  },
  {
   "cell_type": "markdown",
   "metadata": {
    "id": "LOlxdURSEEY3"
   },
   "source": [
    "## Загрузка данных (2 балла)\n",
    "\n",
    "1) Посмотрите на случайные строчки. \n",
    "\n",
    "2) Посмотрите, есть ли в датасете незаполненные значения (nan'ы) с помощью data.isna() или data.info() и, если нужно, замените их на что-то. Будет хорошо, если вы построите табличку с количеством nan в каждой колонке."
   ]
  },
  {
   "cell_type": "code",
   "execution_count": 28,
   "metadata": {
    "id": "pw-Brue9EEY3"
   },
   "outputs": [],
   "source": [
    "data = pd.read_csv('./train.csv')"
   ]
  },
  {
   "cell_type": "code",
   "execution_count": 29,
   "metadata": {
    "id": "KgnkkF5bEEY9"
   },
   "outputs": [],
   "source": [
    "# Для вашего удобства списки с именами разных колонок\n",
    "\n",
    "# Числовые признаки\n",
    "num_cols = [\n",
    "    'ClientPeriod',\n",
    "    'MonthlySpending',\n",
    "    'TotalSpent'\n",
    "]\n",
    "\n",
    "# Категориальные признаки\n",
    "cat_cols = [\n",
    "    'Sex',\n",
    "    'IsSeniorCitizen',\n",
    "    'HasPartner',\n",
    "    'HasChild',\n",
    "    'HasPhoneService',\n",
    "    'HasMultiplePhoneNumbers',\n",
    "    'HasInternetService',\n",
    "    'HasOnlineSecurityService',\n",
    "    'HasOnlineBackup',\n",
    "    'HasDeviceProtection',\n",
    "    'HasTechSupportAccess',\n",
    "    'HasOnlineTV',\n",
    "    'HasMovieSubscription',\n",
    "    'HasContractPhone',\n",
    "    'IsBillingPaperless',\n",
    "    'PaymentMethod'\n",
    "]\n",
    "\n",
    "feature_cols = num_cols + cat_cols\n",
    "target_col = 'Churn'"
   ]
  },
  {
   "cell_type": "code",
   "execution_count": 30,
   "metadata": {
    "colab": {
     "base_uri": "https://localhost:8080/"
    },
    "id": "tHC6gWabEEZA",
    "outputId": "6b24bc02-0eae-482f-f7d6-a2b1d06492a2"
   },
   "outputs": [
    {
     "name": "stdout",
     "output_type": "stream",
     "text": [
      "Number of train files: 5282\n"
     ]
    }
   ],
   "source": [
    "print('Number of train files: {}'.format(len(data)))"
   ]
  },
  {
   "cell_type": "code",
   "execution_count": 31,
   "metadata": {
    "colab": {
     "base_uri": "https://localhost:8080/",
     "height": 292
    },
    "id": "EP05APBzlalL",
    "outputId": "031ced3e-f4b0-4b21-f8bc-04a3ee48ef3a"
   },
   "outputs": [
    {
     "data": {
      "text/html": [
       "<div>\n",
       "<style scoped>\n",
       "    .dataframe tbody tr th:only-of-type {\n",
       "        vertical-align: middle;\n",
       "    }\n",
       "\n",
       "    .dataframe tbody tr th {\n",
       "        vertical-align: top;\n",
       "    }\n",
       "\n",
       "    .dataframe thead th {\n",
       "        text-align: right;\n",
       "    }\n",
       "</style>\n",
       "<table border=\"1\" class=\"dataframe\">\n",
       "  <thead>\n",
       "    <tr style=\"text-align: right;\">\n",
       "      <th></th>\n",
       "      <th>ClientPeriod</th>\n",
       "      <th>MonthlySpending</th>\n",
       "      <th>TotalSpent</th>\n",
       "      <th>Sex</th>\n",
       "      <th>IsSeniorCitizen</th>\n",
       "      <th>HasPartner</th>\n",
       "      <th>HasChild</th>\n",
       "      <th>HasPhoneService</th>\n",
       "      <th>HasMultiplePhoneNumbers</th>\n",
       "      <th>HasInternetService</th>\n",
       "      <th>HasOnlineSecurityService</th>\n",
       "      <th>HasOnlineBackup</th>\n",
       "      <th>HasDeviceProtection</th>\n",
       "      <th>HasTechSupportAccess</th>\n",
       "      <th>HasOnlineTV</th>\n",
       "      <th>HasMovieSubscription</th>\n",
       "      <th>HasContractPhone</th>\n",
       "      <th>IsBillingPaperless</th>\n",
       "      <th>PaymentMethod</th>\n",
       "      <th>Churn</th>\n",
       "    </tr>\n",
       "  </thead>\n",
       "  <tbody>\n",
       "    <tr>\n",
       "      <th>0</th>\n",
       "      <td>55</td>\n",
       "      <td>19.50</td>\n",
       "      <td>1026.35</td>\n",
       "      <td>Male</td>\n",
       "      <td>0</td>\n",
       "      <td>Yes</td>\n",
       "      <td>Yes</td>\n",
       "      <td>Yes</td>\n",
       "      <td>No</td>\n",
       "      <td>No</td>\n",
       "      <td>No internet service</td>\n",
       "      <td>No internet service</td>\n",
       "      <td>No internet service</td>\n",
       "      <td>No internet service</td>\n",
       "      <td>No internet service</td>\n",
       "      <td>No internet service</td>\n",
       "      <td>One year</td>\n",
       "      <td>No</td>\n",
       "      <td>Mailed check</td>\n",
       "      <td>0</td>\n",
       "    </tr>\n",
       "    <tr>\n",
       "      <th>1</th>\n",
       "      <td>72</td>\n",
       "      <td>25.85</td>\n",
       "      <td>1872.2</td>\n",
       "      <td>Male</td>\n",
       "      <td>0</td>\n",
       "      <td>Yes</td>\n",
       "      <td>No</td>\n",
       "      <td>Yes</td>\n",
       "      <td>Yes</td>\n",
       "      <td>No</td>\n",
       "      <td>No internet service</td>\n",
       "      <td>No internet service</td>\n",
       "      <td>No internet service</td>\n",
       "      <td>No internet service</td>\n",
       "      <td>No internet service</td>\n",
       "      <td>No internet service</td>\n",
       "      <td>Two year</td>\n",
       "      <td>No</td>\n",
       "      <td>Credit card (automatic)</td>\n",
       "      <td>0</td>\n",
       "    </tr>\n",
       "    <tr>\n",
       "      <th>2</th>\n",
       "      <td>1</td>\n",
       "      <td>75.90</td>\n",
       "      <td>75.9</td>\n",
       "      <td>Male</td>\n",
       "      <td>0</td>\n",
       "      <td>No</td>\n",
       "      <td>No</td>\n",
       "      <td>Yes</td>\n",
       "      <td>No</td>\n",
       "      <td>Fiber optic</td>\n",
       "      <td>No</td>\n",
       "      <td>No</td>\n",
       "      <td>No</td>\n",
       "      <td>Yes</td>\n",
       "      <td>No</td>\n",
       "      <td>No</td>\n",
       "      <td>Month-to-month</td>\n",
       "      <td>Yes</td>\n",
       "      <td>Electronic check</td>\n",
       "      <td>1</td>\n",
       "    </tr>\n",
       "    <tr>\n",
       "      <th>3</th>\n",
       "      <td>32</td>\n",
       "      <td>79.30</td>\n",
       "      <td>2570</td>\n",
       "      <td>Female</td>\n",
       "      <td>1</td>\n",
       "      <td>Yes</td>\n",
       "      <td>No</td>\n",
       "      <td>Yes</td>\n",
       "      <td>Yes</td>\n",
       "      <td>Fiber optic</td>\n",
       "      <td>No</td>\n",
       "      <td>No</td>\n",
       "      <td>Yes</td>\n",
       "      <td>No</td>\n",
       "      <td>No</td>\n",
       "      <td>No</td>\n",
       "      <td>Month-to-month</td>\n",
       "      <td>No</td>\n",
       "      <td>Mailed check</td>\n",
       "      <td>0</td>\n",
       "    </tr>\n",
       "    <tr>\n",
       "      <th>4</th>\n",
       "      <td>60</td>\n",
       "      <td>115.25</td>\n",
       "      <td>6758.45</td>\n",
       "      <td>Female</td>\n",
       "      <td>0</td>\n",
       "      <td>Yes</td>\n",
       "      <td>Yes</td>\n",
       "      <td>Yes</td>\n",
       "      <td>Yes</td>\n",
       "      <td>Fiber optic</td>\n",
       "      <td>Yes</td>\n",
       "      <td>Yes</td>\n",
       "      <td>Yes</td>\n",
       "      <td>Yes</td>\n",
       "      <td>Yes</td>\n",
       "      <td>Yes</td>\n",
       "      <td>Two year</td>\n",
       "      <td>No</td>\n",
       "      <td>Credit card (automatic)</td>\n",
       "      <td>0</td>\n",
       "    </tr>\n",
       "  </tbody>\n",
       "</table>\n",
       "</div>"
      ],
      "text/plain": [
       "   ClientPeriod  MonthlySpending TotalSpent     Sex  IsSeniorCitizen  \\\n",
       "0            55            19.50    1026.35    Male                0   \n",
       "1            72            25.85     1872.2    Male                0   \n",
       "2             1            75.90       75.9    Male                0   \n",
       "3            32            79.30       2570  Female                1   \n",
       "4            60           115.25    6758.45  Female                0   \n",
       "\n",
       "  HasPartner HasChild HasPhoneService HasMultiplePhoneNumbers  \\\n",
       "0        Yes      Yes             Yes                      No   \n",
       "1        Yes       No             Yes                     Yes   \n",
       "2         No       No             Yes                      No   \n",
       "3        Yes       No             Yes                     Yes   \n",
       "4        Yes      Yes             Yes                     Yes   \n",
       "\n",
       "  HasInternetService HasOnlineSecurityService      HasOnlineBackup  \\\n",
       "0                 No      No internet service  No internet service   \n",
       "1                 No      No internet service  No internet service   \n",
       "2        Fiber optic                       No                   No   \n",
       "3        Fiber optic                       No                   No   \n",
       "4        Fiber optic                      Yes                  Yes   \n",
       "\n",
       "   HasDeviceProtection HasTechSupportAccess          HasOnlineTV  \\\n",
       "0  No internet service  No internet service  No internet service   \n",
       "1  No internet service  No internet service  No internet service   \n",
       "2                   No                  Yes                   No   \n",
       "3                  Yes                   No                   No   \n",
       "4                  Yes                  Yes                  Yes   \n",
       "\n",
       "  HasMovieSubscription HasContractPhone IsBillingPaperless  \\\n",
       "0  No internet service         One year                 No   \n",
       "1  No internet service         Two year                 No   \n",
       "2                   No   Month-to-month                Yes   \n",
       "3                   No   Month-to-month                 No   \n",
       "4                  Yes         Two year                 No   \n",
       "\n",
       "             PaymentMethod  Churn  \n",
       "0             Mailed check      0  \n",
       "1  Credit card (automatic)      0  \n",
       "2         Electronic check      1  \n",
       "3             Mailed check      0  \n",
       "4  Credit card (automatic)      0  "
      ]
     },
     "execution_count": 31,
     "metadata": {},
     "output_type": "execute_result"
    }
   ],
   "source": [
    "data.head()"
   ]
  },
  {
   "cell_type": "code",
   "execution_count": 32,
   "metadata": {
    "colab": {
     "base_uri": "https://localhost:8080/"
    },
    "id": "lUQVn71xmmKE",
    "outputId": "73a3093e-bb7b-4710-c1b7-6f353503ba71"
   },
   "outputs": [
    {
     "name": "stdout",
     "output_type": "stream",
     "text": [
      "<class 'pandas.core.frame.DataFrame'>\n",
      "RangeIndex: 5282 entries, 0 to 5281\n",
      "Data columns (total 20 columns):\n",
      " #   Column                    Non-Null Count  Dtype  \n",
      "---  ------                    --------------  -----  \n",
      " 0   ClientPeriod              5282 non-null   int64  \n",
      " 1   MonthlySpending           5282 non-null   float64\n",
      " 2   TotalSpent                5282 non-null   object \n",
      " 3   Sex                       5282 non-null   object \n",
      " 4   IsSeniorCitizen           5282 non-null   int64  \n",
      " 5   HasPartner                5282 non-null   object \n",
      " 6   HasChild                  5282 non-null   object \n",
      " 7   HasPhoneService           5282 non-null   object \n",
      " 8   HasMultiplePhoneNumbers   5282 non-null   object \n",
      " 9   HasInternetService        5282 non-null   object \n",
      " 10  HasOnlineSecurityService  5282 non-null   object \n",
      " 11  HasOnlineBackup           5282 non-null   object \n",
      " 12  HasDeviceProtection       5282 non-null   object \n",
      " 13  HasTechSupportAccess      5282 non-null   object \n",
      " 14  HasOnlineTV               5282 non-null   object \n",
      " 15  HasMovieSubscription      5282 non-null   object \n",
      " 16  HasContractPhone          5282 non-null   object \n",
      " 17  IsBillingPaperless        5282 non-null   object \n",
      " 18  PaymentMethod             5282 non-null   object \n",
      " 19  Churn                     5282 non-null   int64  \n",
      "dtypes: float64(1), int64(3), object(16)\n",
      "memory usage: 825.4+ KB\n"
     ]
    }
   ],
   "source": [
    "data.info()"
   ]
  },
  {
   "cell_type": "code",
   "execution_count": 11,
   "metadata": {
    "colab": {
     "base_uri": "https://localhost:8080/"
    },
    "id": "JNb9qC61Bh_h",
    "outputId": "c7a95c73-da82-4d6d-9513-abe1f839d4fe"
   },
   "outputs": [
    {
     "name": "stdout",
     "output_type": "stream",
     "text": [
      "<class 'pandas.core.frame.DataFrame'>\n",
      "RangeIndex: 5282 entries, 0 to 5281\n",
      "Data columns (total 20 columns):\n",
      " #   Column                    Non-Null Count  Dtype  \n",
      "---  ------                    --------------  -----  \n",
      " 0   ClientPeriod              5282 non-null   int64  \n",
      " 1   MonthlySpending           5282 non-null   float64\n",
      " 2   TotalSpent                5273 non-null   float64\n",
      " 3   Sex                       5282 non-null   object \n",
      " 4   IsSeniorCitizen           5282 non-null   int64  \n",
      " 5   HasPartner                5282 non-null   object \n",
      " 6   HasChild                  5282 non-null   object \n",
      " 7   HasPhoneService           5282 non-null   object \n",
      " 8   HasMultiplePhoneNumbers   5282 non-null   object \n",
      " 9   HasInternetService        5282 non-null   object \n",
      " 10  HasOnlineSecurityService  5282 non-null   object \n",
      " 11  HasOnlineBackup           5282 non-null   object \n",
      " 12  HasDeviceProtection       5282 non-null   object \n",
      " 13  HasTechSupportAccess      5282 non-null   object \n",
      " 14  HasOnlineTV               5282 non-null   object \n",
      " 15  HasMovieSubscription      5282 non-null   object \n",
      " 16  HasContractPhone          5282 non-null   object \n",
      " 17  IsBillingPaperless        5282 non-null   object \n",
      " 18  PaymentMethod             5282 non-null   object \n",
      " 19  Churn                     5282 non-null   int64  \n",
      "dtypes: float64(2), int64(3), object(15)\n",
      "memory usage: 825.4+ KB\n",
      "The number NaN in TotalSpent: 9\n"
     ]
    },
    {
     "data": {
      "text/plain": [
       "ClientPeriod                0.000000\n",
       "MonthlySpending             0.000000\n",
       "TotalSpent                  0.001704\n",
       "Sex                         0.000000\n",
       "IsSeniorCitizen             0.000000\n",
       "HasPartner                  0.000000\n",
       "HasChild                    0.000000\n",
       "HasPhoneService             0.000000\n",
       "HasMultiplePhoneNumbers     0.000000\n",
       "HasInternetService          0.000000\n",
       "HasOnlineSecurityService    0.000000\n",
       "HasOnlineBackup             0.000000\n",
       "HasDeviceProtection         0.000000\n",
       "HasTechSupportAccess        0.000000\n",
       "HasOnlineTV                 0.000000\n",
       "HasMovieSubscription        0.000000\n",
       "HasContractPhone            0.000000\n",
       "IsBillingPaperless          0.000000\n",
       "PaymentMethod               0.000000\n",
       "Churn                       0.000000\n",
       "dtype: float64"
      ]
     },
     "execution_count": 11,
     "metadata": {},
     "output_type": "execute_result"
    }
   ],
   "source": [
    "data['TotalSpent'] = pd.to_numeric(data['TotalSpent'], errors='coerce')\n",
    "data.info()\n",
    "nanK = 0\n",
    "for i in range(len(data)):\n",
    "  if np.isnan(data['TotalSpent'][i]):\n",
    "    nanK += 1\n",
    "print('The number NaN in TotalSpent: {}'.format(nanK))\n",
    "data.isna().mean()"
   ]
  },
  {
   "cell_type": "markdown",
   "metadata": {
    "id": "dK370bPCEEZD"
   },
   "source": [
    "## Анализ данных (3 балла)\n",
    "\n",
    "1) Для численных призанков постройте гистограмму (*plt.hist(...)*) или boxplot (*plt.boxplot(...)*). Для категориальных посчитайте количество каждого значения для каждого признака. Для каждой колонки надо сделать *data.value_counts()* и построить bar диаграммы *plt.bar(...)* или круговые диаграммы *plt.pie(...)* (хорошо, елси вы сможете это сделать на одном гарфике с помощью *plt.subplots(...)*). \n",
    "\n",
    "2) Посмотрите на распределение целевой переменной и скажите, являются ли классы несбалансированными.\n",
    "\n",
    "3) (Если будет желание) Поиграйте с разными библиотеками для визуализации - *sns*, *pandas_visual_analysis*, etc.\n",
    "\n",
    "Второй пункт очень важен, потому что существуют задачи классификации с несбалансированными классами. Например, это может значить, что в датасете намного больше примеров 0 класса. В таких случаях нужно 1) не использовать accuracy как метрику 2) использовать методы борьбы с imbalanced dataset (обычно если датасет сильно несбалансирован, т.е. класса 1 в 20 раз меньше класса 0)."
   ]
  },
  {
   "cell_type": "code",
   "execution_count": 12,
   "metadata": {
    "colab": {
     "base_uri": "https://localhost:8080/",
     "height": 608
    },
    "id": "NZkbgFJZEEZE",
    "outputId": "6ff0a8ee-023f-4fb4-f3d7-8ac4e69e4a84"
   },
   "outputs": [
    {
     "data": {
      "image/png": "[encoded data removed]",
      "text/plain": [
       "<Figure size 1008x720 with 4 Axes>"
      ]
     },
     "metadata": {
      "needs_background": "light"
     },
     "output_type": "display_data"
    }
   ],
   "source": [
    "dataNum = data[num_cols]\n",
    "\n",
    "dataNum.hist(figsize=(14,10))\n",
    "None"
   ]
  },
  {
   "cell_type": "code",
   "execution_count": 13,
   "metadata": {
    "colab": {
     "base_uri": "https://localhost:8080/"
    },
    "id": "h5N_MFBnytlX",
    "outputId": "e1aebc1a-7d06-47f9-dada-60815120ae08"
   },
   "outputs": [
    {
     "name": "stdout",
     "output_type": "stream",
     "text": [
      "Sex DISTRIBUTION\n",
      "Male      2655\n",
      "Female    2627\n",
      "Name: Sex, dtype: int64\n",
      "\n",
      "IsSeniorCitizen DISTRIBUTION\n",
      "0    4440\n",
      "1     842\n",
      "Name: IsSeniorCitizen, dtype: int64\n",
      "\n",
      "HasPartner DISTRIBUTION\n",
      "No     2705\n",
      "Yes    2577\n",
      "Name: HasPartner, dtype: int64\n",
      "\n",
      "HasChild DISTRIBUTION\n",
      "No     3676\n",
      "Yes    1606\n",
      "Name: HasChild, dtype: int64\n",
      "\n",
      "HasPhoneService DISTRIBUTION\n",
      "Yes    4761\n",
      "No      521\n",
      "Name: HasPhoneService, dtype: int64\n",
      "\n",
      "HasMultiplePhoneNumbers DISTRIBUTION\n",
      "No                  2511\n",
      "Yes                 2250\n",
      "No phone service     521\n",
      "Name: HasMultiplePhoneNumbers, dtype: int64\n",
      "\n",
      "HasInternetService DISTRIBUTION\n",
      "Fiber optic    2341\n",
      "DSL            1800\n",
      "No             1141\n",
      "Name: HasInternetService, dtype: int64\n",
      "\n",
      "HasOnlineSecurityService DISTRIBUTION\n",
      "No                     2612\n",
      "Yes                    1529\n",
      "No internet service    1141\n",
      "Name: HasOnlineSecurityService, dtype: int64\n",
      "\n",
      "HasOnlineBackup DISTRIBUTION\n",
      "No                     2332\n",
      "Yes                    1809\n",
      "No internet service    1141\n",
      "Name: HasOnlineBackup, dtype: int64\n",
      "\n",
      "HasDeviceProtection DISTRIBUTION\n",
      "No                     2317\n",
      "Yes                    1824\n",
      "No internet service    1141\n",
      "Name: HasDeviceProtection, dtype: int64\n",
      "\n",
      "HasTechSupportAccess DISTRIBUTION\n",
      "No                     2604\n",
      "Yes                    1537\n",
      "No internet service    1141\n",
      "Name: HasTechSupportAccess, dtype: int64\n",
      "\n",
      "HasOnlineTV DISTRIBUTION\n",
      "No                     2099\n",
      "Yes                    2042\n",
      "No internet service    1141\n",
      "Name: HasOnlineTV, dtype: int64\n",
      "\n",
      "HasMovieSubscription DISTRIBUTION\n",
      "No                     2081\n",
      "Yes                    2060\n",
      "No internet service    1141\n",
      "Name: HasMovieSubscription, dtype: int64\n",
      "\n",
      "HasContractPhone DISTRIBUTION\n",
      "Month-to-month    2920\n",
      "Two year          1280\n",
      "One year          1082\n",
      "Name: HasContractPhone, dtype: int64\n",
      "\n",
      "IsBillingPaperless DISTRIBUTION\n",
      "Yes    3148\n",
      "No     2134\n",
      "Name: IsBillingPaperless, dtype: int64\n",
      "\n",
      "PaymentMethod DISTRIBUTION\n",
      "Electronic check             1786\n",
      "Mailed check                 1194\n",
      "Bank transfer (automatic)    1159\n",
      "Credit card (automatic)      1143\n",
      "Name: PaymentMethod, dtype: int64\n",
      "\n"
     ]
    }
   ],
   "source": [
    "for col in cat_cols:\n",
    "  print(f\"{col} DISTRIBUTION\")\n",
    "  print(data[col].value_counts())\n",
    "  print()"
   ]
  },
  {
   "cell_type": "code",
   "execution_count": 14,
   "metadata": {
    "colab": {
     "base_uri": "https://localhost:8080/",
     "height": 1000
    },
    "id": "g28cHbIgNzKn",
    "outputId": "798e0e2b-657d-48ae-d0a7-d54a93adc32c"
   },
   "outputs": [
    {
     "data": {
      "image/png": "[encoded data removed]",
      "text/plain": [
       "<Figure size 720x360 with 1 Axes>"
      ]
     },
     "metadata": {
      "needs_background": "light"
     },
     "output_type": "display_data"
    },
    {
     "data": {
      "image/png": "[encoded data removed]",
      "text/plain": [
       "<Figure size 720x360 with 1 Axes>"
      ]
     },
     "metadata": {
      "needs_background": "light"
     },
     "output_type": "display_data"
    },
    {
     "data": {
      "image/png": "[encoded data removed]",
      "text/plain": [
       "<Figure size 720x360 with 1 Axes>"
      ]
     },
     "metadata": {
      "needs_background": "light"
     },
     "output_type": "display_data"
    },
    {
     "data": {
      "image/png": "[encoded data removed]",
      "text/plain": [
       "<Figure size 720x360 with 1 Axes>"
      ]
     },
     "metadata": {
      "needs_background": "light"
     },
     "output_type": "display_data"
    },
    {
     "data": {
      "image/png": "[encoded data removed]",
      "text/plain": [
       "<Figure size 720x360 with 1 Axes>"
      ]
     },
     "metadata": {
      "needs_background": "light"
     },
     "output_type": "display_data"
    },
    {
     "data": {
      "image/png": "[encoded data removed]",
      "text/plain": [
       "<Figure size 720x360 with 1 Axes>"
      ]
     },
     "metadata": {
      "needs_background": "light"
     },
     "output_type": "display_data"
    },
    {
     "data": {
      "image/png": "[encoded data removed]",
      "text/plain": [
       "<Figure size 720x360 with 1 Axes>"
      ]
     },
     "metadata": {
      "needs_background": "light"
     },
     "output_type": "display_data"
    },
    {
     "data": {
      "image/png": "[encoded data removed]",
      "text/plain": [
       "<Figure size 720x360 with 1 Axes>"
      ]
     },
     "metadata": {
      "needs_background": "light"
     },
     "output_type": "display_data"
    },
    {
     "data": {
      "image/png": "[encoded data removed]",
      "text/plain": [
       "<Figure size 720x360 with 1 Axes>"
      ]
     },
     "metadata": {
      "needs_background": "light"
     },
     "output_type": "display_data"
    },
    {
     "data": {
      "image/png": "[encoded data removed]",
      "text/plain": [
       "<Figure size 720x360 with 1 Axes>"
      ]
     },
     "metadata": {
      "needs_background": "light"
     },
     "output_type": "display_data"
    },
    {
     "data": {
      "image/png": "[encoded data removed]",
      "text/plain": [
       "<Figure size 720x360 with 1 Axes>"
      ]
     },
     "metadata": {
      "needs_background": "light"
     },
     "output_type": "display_data"
    },
    {
     "data": {
      "image/png": "[encoded data removed]",
      "text/plain": [
       "<Figure size 720x360 with 1 Axes>"
      ]
     },
     "metadata": {
      "needs_background": "light"
     },
     "output_type": "display_data"
    },
    {
     "data": {
      "image/png": "[encoded data removed]",
      "text/plain": [
       "<Figure size 720x360 with 1 Axes>"
      ]
     },
     "metadata": {
      "needs_background": "light"
     },
     "output_type": "display_data"
    },
    {
     "data": {
      "image/png": "[encoded data removed]",
      "text/plain": [
       "<Figure size 720x360 with 1 Axes>"
      ]
     },
     "metadata": {
      "needs_background": "light"
     },
     "output_type": "display_data"
    },
    {
     "data": {
      "image/png": "[encoded data removed]",
      "text/plain": [
       "<Figure size 720x360 with 1 Axes>"
      ]
     },
     "metadata": {
      "needs_background": "light"
     },
     "output_type": "display_data"
    },
    {
     "data": {
      "image/png": "[encoded data removed]",
      "text/plain": [
       "<Figure size 720x360 with 1 Axes>"
      ]
     },
     "metadata": {
      "needs_background": "light"
     },
     "output_type": "display_data"
    }
   ],
   "source": [
    "for i in range(len(cat_cols)):\n",
    "  A = data[cat_cols[i]].value_counts()\n",
    "  a = np.array([])\n",
    "  k = 0\n",
    "  plt.subplots(1,1, figsize=(10,5))\n",
    "  for k in range(0, len(A)):\n",
    "    plt.bar(A.index[k], A[A.index[k]])\n",
    "    plt.title(cat_cols[i])\n"
   ]
  },
  {
   "cell_type": "markdown",
   "metadata": {
    "id": "DviiJd8REEZK"
   },
   "source": [
    "## Применение линейных моделей (3 балла)\n",
    "\n",
    "1) Обработайте данные для того, чтобы к ним можно было применить LogisticRegression. Т.е. отнормируйте числовые признаки, а категориальные закодируйте с помощью one-hot-encoding'а. \n",
    "\n",
    "2) С помощью кроссвалидации или разделения на train/valid выборку протестируйте разные значения гиперпараметра C и выберите лучший (можно тестировать С=100, 10, 1, 0.1, 0.01, 0.001) по метрике ROC-AUC. \n",
    "\n",
    "Если вы разделяете на train/valid, то используйте LogisticRegressionCV. Он сам при вызове .fit() подберет параметр С. (не забудьте передать scroing='roc_auc', чтобы при кроссвалидации сравнивались значения этой метрики, и refit=True, чтобы при потом модель обучилась на всем датасете с лучшим параметром C). \n",
    "\n",
    "\n",
    "(более сложный вариант) Если вы будете использовать кроссвалидацию, то преобразования данных и LogisticRegression нужно соединить в один Pipeline с помощью make_pipeline, как это делалось во втором семинаре. Потом pipeline надо передать в GridSearchCV. Для one-hot-encoding'a можно испльзовать комбинацию LabelEncoder + OneHotEncoder (сначала превращаем строчки в числа, а потом числа првращаем в one-hot вектора.)"
   ]
  },
  {
   "cell_type": "code",
   "execution_count": 15,
   "metadata": {
    "id": "xHCLDmwqEEZL"
   },
   "outputs": [],
   "source": [
    "from sklearn.linear_model import LogisticRegression, LogisticRegressionCV\n",
    "from sklearn.model_selection import train_test_split, GridSearchCV\n",
    "from sklearn.preprocessing import StandardScaler, RobustScaler, LabelEncoder, OneHotEncoder\n",
    "from sklearn.pipeline import make_pipeline"
   ]
  },
  {
   "cell_type": "code",
   "execution_count": 16,
   "metadata": {
    "id": "zCsCYpPVLUIE"
   },
   "outputs": [],
   "source": [
    "data = data.dropna()\n",
    "dataNum = data[num_cols]\n",
    "dataCat = data[cat_cols]"
   ]
  },
  {
   "cell_type": "code",
   "execution_count": 17,
   "metadata": {
    "id": "P2Yv3uYtEEZO"
   },
   "outputs": [],
   "source": [
    "dummy_features = pd.get_dummies(dataCat)"
   ]
  },
  {
   "cell_type": "code",
   "execution_count": 18,
   "metadata": {
    "id": "oxQV7cWnPxAN"
   },
   "outputs": [],
   "source": [
    "X = pd.concat([dataNum, dummy_features], axis=1)\n",
    "X_origin = data.iloc[:, :-1]"
   ]
  },
  {
   "cell_type": "code",
   "execution_count": 19,
   "metadata": {
    "id": "nOn5rEapSCHV"
   },
   "outputs": [],
   "source": [
    "y = data['Churn']"
   ]
  },
  {
   "cell_type": "code",
   "execution_count": 20,
   "metadata": {
    "id": "5jHjoOUgC55E"
   },
   "outputs": [],
   "source": [
    "X_train, X_test, y_train, y_test = train_test_split(X.values, y.values, test_size=0.2, random_state=42)"
   ]
  },
  {
   "cell_type": "code",
   "execution_count": 21,
   "metadata": {
    "colab": {
     "base_uri": "https://localhost:8080/"
    },
    "id": "-te3uWc0VMdh",
    "outputId": "fd4a6f5c-8faa-4b32-f0d1-31b97360a7c5"
   },
   "outputs": [
    {
     "data": {
      "text/plain": [
       "0.7261311633567158"
      ]
     },
     "execution_count": 21,
     "metadata": {},
     "output_type": "execute_result"
    }
   ],
   "source": [
    "cls = make_pipeline(\n",
    "    StandardScaler(),\n",
    "    LogisticRegressionCV(refit=True)\n",
    ")\n",
    "cls = cls.fit(X_train, y_train)\n",
    "preds_train = cls.predict(X_train)\n",
    "\n",
    "scroing = roc_auc_score(y_train, preds_train)\n",
    "scroing"
   ]
  },
  {
   "cell_type": "markdown",
   "metadata": {
    "id": "uVahy6JKEEZQ"
   },
   "source": [
    "Выпишите какое лучшее качество и с какими параметрами вам удалось получить"
   ]
  },
  {
   "cell_type": "markdown",
   "metadata": {
    "id": "36729TOQEEZR"
   },
   "source": []
  },
  {
   "cell_type": "markdown",
   "metadata": {
    "id": "BlTeVy7fEEZR"
   },
   "source": [
    "## Применение градиентного бустинга (2 балла)\n",
    "\n",
    "Если вы хотите получить баллы за точный ответ, то стоит попробовать градиентный бустинг. Часто градиентный бустинг с дефолтными параметрами даст вам 80% результата за 0% усилий.\n",
    "\n",
    "Мы будем использовать catboost, поэтому нам не надо кодировать категориальные признаки. catboost сделает это сам (в .fit() надо передать cat_features=cat_cols). А численные признаки нормировать для моделей, основанных на деревьях не нужно.\n",
    "\n",
    "1) Разделите выборку на train/valid. Протестируйте catboost cо стандартными параметрами.\n",
    "\n",
    "2) Протестируйте разные занчения параметроа количества деревьев и learning_rate'а и выберите лучшую по метрике ROC-AUC комбинацию. \n",
    "\n",
    "(Дополнительно) Есть некоторые сложности с тем, чтобы использовать CatBoostClassifier вместе с GridSearchCV, поэтому мы не просим использовать кроссвалидацию. Но можете попробовать)"
   ]
  },
  {
   "cell_type": "code",
   "execution_count": 33,
   "metadata": {},
   "outputs": [
    {
     "data": {
      "text/plain": [
       "array([[55, 19.5, 1026.35, ..., 'One year', 'No', 'Mailed check'],\n",
       "       [72, 25.85, 1872.2, ..., 'Two year', 'No',\n",
       "        'Credit card (automatic)'],\n",
       "       [1, 75.9, 75.9, ..., 'Month-to-month', 'Yes', 'Electronic check'],\n",
       "       ...,\n",
       "       [1, 55.05, 55.05, ..., 'Month-to-month', 'No', 'Mailed check'],\n",
       "       [29, 76.0, 2215.25, ..., 'Month-to-month', 'Yes',\n",
       "        'Credit card (automatic)'],\n",
       "       [19, 75.9, 1375.6, ..., 'Month-to-month', 'Yes', 'Mailed check']],\n",
       "      dtype=object)"
      ]
     },
     "execution_count": 33,
     "metadata": {},
     "output_type": "execute_result"
    }
   ],
   "source": [
    "X_origin.values"
   ]
  },
  {
   "cell_type": "code",
   "execution_count": 22,
   "metadata": {
    "id": "Fioxxlp-EEZS"
   },
   "outputs": [],
   "source": [
    "import catboost"
   ]
  },
  {
   "cell_type": "code",
   "execution_count": 23,
   "metadata": {
    "id": "Jh6i0fY7fqHT"
   },
   "outputs": [],
   "source": [
    "X_train_origin, X_test_origin, y_train, y_test = train_test_split(X_origin.values, y.values, \n",
    "                                                       train_size=0.8, \n",
    "                                                       random_state=42)"
   ]
  },
  {
   "cell_type": "code",
   "execution_count": 24,
   "metadata": {
    "colab": {
     "base_uri": "https://localhost:8080/"
    },
    "id": "1Y1PW0sznd3D",
    "outputId": "075424f6-c28a-4621-fb61-32ffb5ea0981"
   },
   "outputs": [
    {
     "data": {
      "text/plain": [
       "array([ 3,  4,  5,  6,  7,  8,  9, 10, 11, 12, 13, 14, 15, 16, 17, 18])"
      ]
     },
     "execution_count": 24,
     "metadata": {},
     "output_type": "execute_result"
    }
   ],
   "source": [
    "cat_cols_indices = np.array([])\n",
    "ind = 0\n",
    "for name in X_origin.columns:\n",
    "  for k in range(len(cat_cols)):\n",
    "    if name == cat_cols[k]:\n",
    "      cat_cols_indices = np.append(cat_cols_indices, ind)\n",
    "  ind += 1\n",
    "cat_cols_indices = cat_cols_indices.astype(int)\n",
    "cat_cols_indices"
   ]
  },
  {
   "cell_type": "code",
   "execution_count": 25,
   "metadata": {
    "colab": {
     "base_uri": "https://localhost:8080/"
    },
    "id": "8EvCL-F_f4zs",
    "outputId": "9b203010-f20f-4a57-961f-1b3b5cfacdcf",
    "scrolled": false
   },
   "outputs": [
    {
     "name": "stdout",
     "output_type": "stream",
     "text": [
      "Learning rate set to 0.035967\n",
      "0:\tlearn: 0.6689585\ttotal: 180ms\tremaining: 1m 29s\n",
      "1:\tlearn: 0.6480367\ttotal: 229ms\tremaining: 57s\n",
      "2:\tlearn: 0.6293862\ttotal: 272ms\tremaining: 45.1s\n",
      "3:\tlearn: 0.6106716\ttotal: 325ms\tremaining: 40.3s\n",
      "4:\tlearn: 0.5943351\ttotal: 368ms\tremaining: 36.4s\n",
      "5:\tlearn: 0.5794832\ttotal: 410ms\tremaining: 33.7s\n",
      "6:\tlearn: 0.5657872\ttotal: 452ms\tremaining: 31.8s\n",
      "7:\tlearn: 0.5548802\ttotal: 474ms\tremaining: 29.2s\n",
      "8:\tlearn: 0.5432867\ttotal: 517ms\tremaining: 28.2s\n",
      "9:\tlearn: 0.5322485\ttotal: 559ms\tremaining: 27.4s\n",
      "10:\tlearn: 0.5228064\ttotal: 600ms\tremaining: 26.7s\n",
      "11:\tlearn: 0.5135584\ttotal: 640ms\tremaining: 26s\n",
      "12:\tlearn: 0.5048724\ttotal: 688ms\tremaining: 25.8s\n",
      "13:\tlearn: 0.4969254\ttotal: 746ms\tremaining: 25.9s\n",
      "14:\tlearn: 0.4905028\ttotal: 793ms\tremaining: 25.6s\n",
      "15:\tlearn: 0.4845386\ttotal: 836ms\tremaining: 25.3s\n",
      "16:\tlearn: 0.4796961\ttotal: 879ms\tremaining: 25s\n",
      "17:\tlearn: 0.4741605\ttotal: 925ms\tremaining: 24.8s\n",
      "18:\tlearn: 0.4694036\ttotal: 971ms\tremaining: 24.6s\n",
      "19:\tlearn: 0.4651395\ttotal: 1.02s\tremaining: 24.4s\n",
      "20:\tlearn: 0.4613197\ttotal: 1.06s\tremaining: 24.1s\n",
      "21:\tlearn: 0.4586219\ttotal: 1.1s\tremaining: 24s\n",
      "22:\tlearn: 0.4560475\ttotal: 1.14s\tremaining: 23.6s\n",
      "23:\tlearn: 0.4525934\ttotal: 1.18s\tremaining: 23.4s\n",
      "24:\tlearn: 0.4492361\ttotal: 1.23s\tremaining: 23.3s\n",
      "25:\tlearn: 0.4462086\ttotal: 1.27s\tremaining: 23.1s\n",
      "26:\tlearn: 0.4438583\ttotal: 1.31s\tremaining: 23s\n",
      "27:\tlearn: 0.4411024\ttotal: 1.35s\tremaining: 22.8s\n",
      "28:\tlearn: 0.4389650\ttotal: 1.4s\tremaining: 22.7s\n",
      "29:\tlearn: 0.4363979\ttotal: 1.44s\tremaining: 22.6s\n",
      "30:\tlearn: 0.4342507\ttotal: 1.49s\tremaining: 22.5s\n",
      "31:\tlearn: 0.4324832\ttotal: 1.53s\tremaining: 22.4s\n",
      "32:\tlearn: 0.4312068\ttotal: 1.58s\tremaining: 22.4s\n",
      "33:\tlearn: 0.4297642\ttotal: 1.63s\tremaining: 22.3s\n",
      "34:\tlearn: 0.4288071\ttotal: 1.65s\tremaining: 21.9s\n",
      "35:\tlearn: 0.4269950\ttotal: 1.69s\tremaining: 21.8s\n",
      "36:\tlearn: 0.4257951\ttotal: 1.75s\tremaining: 21.9s\n",
      "37:\tlearn: 0.4244696\ttotal: 1.79s\tremaining: 21.8s\n",
      "38:\tlearn: 0.4232399\ttotal: 1.85s\tremaining: 21.8s\n",
      "39:\tlearn: 0.4218662\ttotal: 1.9s\tremaining: 21.9s\n",
      "40:\tlearn: 0.4207752\ttotal: 1.95s\tremaining: 21.8s\n",
      "41:\tlearn: 0.4204259\ttotal: 1.96s\tremaining: 21.4s\n",
      "42:\tlearn: 0.4191694\ttotal: 2.01s\tremaining: 21.4s\n",
      "43:\tlearn: 0.4178252\ttotal: 2.05s\tremaining: 21.3s\n",
      "44:\tlearn: 0.4168707\ttotal: 2.11s\tremaining: 21.3s\n",
      "45:\tlearn: 0.4157670\ttotal: 2.15s\tremaining: 21.2s\n",
      "46:\tlearn: 0.4155253\ttotal: 2.17s\tremaining: 20.9s\n",
      "47:\tlearn: 0.4147063\ttotal: 2.21s\tremaining: 20.9s\n",
      "48:\tlearn: 0.4137436\ttotal: 2.29s\tremaining: 21.1s\n",
      "49:\tlearn: 0.4129880\ttotal: 2.34s\tremaining: 21.1s\n",
      "50:\tlearn: 0.4126625\ttotal: 2.38s\tremaining: 21s\n",
      "51:\tlearn: 0.4125001\ttotal: 2.4s\tremaining: 20.7s\n",
      "52:\tlearn: 0.4115871\ttotal: 2.46s\tremaining: 20.8s\n",
      "53:\tlearn: 0.4112161\ttotal: 2.52s\tremaining: 20.8s\n",
      "54:\tlearn: 0.4102060\ttotal: 2.56s\tremaining: 20.7s\n",
      "55:\tlearn: 0.4092533\ttotal: 2.62s\tremaining: 20.7s\n",
      "56:\tlearn: 0.4086214\ttotal: 2.66s\tremaining: 20.7s\n",
      "57:\tlearn: 0.4079819\ttotal: 2.71s\tremaining: 20.7s\n",
      "58:\tlearn: 0.4075084\ttotal: 2.76s\tremaining: 20.6s\n",
      "59:\tlearn: 0.4066655\ttotal: 2.8s\tremaining: 20.5s\n",
      "60:\tlearn: 0.4061788\ttotal: 2.85s\tremaining: 20.5s\n",
      "61:\tlearn: 0.4060382\ttotal: 2.87s\tremaining: 20.3s\n",
      "62:\tlearn: 0.4057692\ttotal: 2.91s\tremaining: 20.2s\n",
      "63:\tlearn: 0.4048192\ttotal: 2.95s\tremaining: 20.1s\n",
      "64:\tlearn: 0.4042827\ttotal: 2.99s\tremaining: 20s\n",
      "65:\tlearn: 0.4037140\ttotal: 3.04s\tremaining: 20s\n",
      "66:\tlearn: 0.4032417\ttotal: 3.12s\tremaining: 20.2s\n",
      "67:\tlearn: 0.4026457\ttotal: 3.16s\tremaining: 20.1s\n",
      "68:\tlearn: 0.4020482\ttotal: 3.21s\tremaining: 20.1s\n",
      "69:\tlearn: 0.4015283\ttotal: 3.26s\tremaining: 20s\n",
      "70:\tlearn: 0.4007888\ttotal: 3.3s\tremaining: 20s\n",
      "71:\tlearn: 0.4003389\ttotal: 3.35s\tremaining: 19.9s\n",
      "72:\tlearn: 0.4000213\ttotal: 3.39s\tremaining: 19.8s\n",
      "73:\tlearn: 0.3994892\ttotal: 3.43s\tremaining: 19.8s\n",
      "74:\tlearn: 0.3989323\ttotal: 3.48s\tremaining: 19.7s\n",
      "75:\tlearn: 0.3988400\ttotal: 3.53s\tremaining: 19.7s\n",
      "76:\tlearn: 0.3982759\ttotal: 3.59s\tremaining: 19.7s\n",
      "77:\tlearn: 0.3975881\ttotal: 3.65s\tremaining: 19.7s\n",
      "78:\tlearn: 0.3971686\ttotal: 3.71s\tremaining: 19.8s\n",
      "79:\tlearn: 0.3968227\ttotal: 3.75s\tremaining: 19.7s\n",
      "80:\tlearn: 0.3963564\ttotal: 3.84s\tremaining: 19.9s\n",
      "81:\tlearn: 0.3957270\ttotal: 3.89s\tremaining: 19.8s\n",
      "82:\tlearn: 0.3955797\ttotal: 3.93s\tremaining: 19.8s\n",
      "83:\tlearn: 0.3954895\ttotal: 3.96s\tremaining: 19.6s\n",
      "84:\tlearn: 0.3949617\ttotal: 4.01s\tremaining: 19.6s\n",
      "85:\tlearn: 0.3945510\ttotal: 4.05s\tremaining: 19.5s\n",
      "86:\tlearn: 0.3943311\ttotal: 4.1s\tremaining: 19.4s\n",
      "87:\tlearn: 0.3936122\ttotal: 4.16s\tremaining: 19.5s\n",
      "88:\tlearn: 0.3935083\ttotal: 4.21s\tremaining: 19.5s\n",
      "89:\tlearn: 0.3931936\ttotal: 4.27s\tremaining: 19.4s\n",
      "90:\tlearn: 0.3930327\ttotal: 4.31s\tremaining: 19.4s\n",
      "91:\tlearn: 0.3926853\ttotal: 4.35s\tremaining: 19.3s\n",
      "92:\tlearn: 0.3924419\ttotal: 4.42s\tremaining: 19.3s\n",
      "93:\tlearn: 0.3921859\ttotal: 4.46s\tremaining: 19.3s\n",
      "94:\tlearn: 0.3919071\ttotal: 4.51s\tremaining: 19.2s\n",
      "95:\tlearn: 0.3916075\ttotal: 4.55s\tremaining: 19.2s\n",
      "96:\tlearn: 0.3911561\ttotal: 4.61s\tremaining: 19.2s\n",
      "97:\tlearn: 0.3907356\ttotal: 4.65s\tremaining: 19.1s\n",
      "98:\tlearn: 0.3906146\ttotal: 4.7s\tremaining: 19s\n",
      "99:\tlearn: 0.3902472\ttotal: 4.75s\tremaining: 19s\n",
      "100:\tlearn: 0.3899365\ttotal: 4.79s\tremaining: 18.9s\n",
      "101:\tlearn: 0.3897582\ttotal: 4.84s\tremaining: 18.9s\n",
      "102:\tlearn: 0.3893109\ttotal: 4.89s\tremaining: 18.9s\n",
      "103:\tlearn: 0.3889955\ttotal: 4.93s\tremaining: 18.8s\n",
      "104:\tlearn: 0.3888526\ttotal: 4.98s\tremaining: 18.7s\n",
      "105:\tlearn: 0.3884389\ttotal: 5.02s\tremaining: 18.7s\n",
      "106:\tlearn: 0.3882776\ttotal: 5.08s\tremaining: 18.6s\n",
      "107:\tlearn: 0.3880721\ttotal: 5.13s\tremaining: 18.6s\n",
      "108:\tlearn: 0.3876046\ttotal: 5.17s\tremaining: 18.6s\n",
      "109:\tlearn: 0.3874003\ttotal: 5.21s\tremaining: 18.5s\n",
      "110:\tlearn: 0.3869907\ttotal: 5.26s\tremaining: 18.4s\n",
      "111:\tlearn: 0.3867806\ttotal: 5.31s\tremaining: 18.4s\n",
      "112:\tlearn: 0.3867331\ttotal: 5.35s\tremaining: 18.3s\n",
      "113:\tlearn: 0.3866148\ttotal: 5.4s\tremaining: 18.3s\n",
      "114:\tlearn: 0.3865041\ttotal: 5.43s\tremaining: 18.2s\n",
      "115:\tlearn: 0.3862551\ttotal: 5.48s\tremaining: 18.1s\n",
      "116:\tlearn: 0.3857522\ttotal: 5.52s\tremaining: 18.1s\n",
      "117:\tlearn: 0.3854355\ttotal: 5.58s\tremaining: 18.1s\n",
      "118:\tlearn: 0.3849795\ttotal: 5.63s\tremaining: 18s\n",
      "119:\tlearn: 0.3846796\ttotal: 5.68s\tremaining: 18s\n",
      "120:\tlearn: 0.3846796\ttotal: 5.68s\tremaining: 17.8s\n",
      "121:\tlearn: 0.3845132\ttotal: 5.74s\tremaining: 17.8s\n",
      "122:\tlearn: 0.3843263\ttotal: 5.78s\tremaining: 17.7s\n",
      "123:\tlearn: 0.3842151\ttotal: 5.83s\tremaining: 17.7s\n",
      "124:\tlearn: 0.3839621\ttotal: 5.89s\tremaining: 17.7s\n",
      "125:\tlearn: 0.3837591\ttotal: 5.94s\tremaining: 17.6s\n",
      "126:\tlearn: 0.3832188\ttotal: 5.98s\tremaining: 17.6s\n",
      "127:\tlearn: 0.3832090\ttotal: 6s\tremaining: 17.4s\n",
      "128:\tlearn: 0.3830599\ttotal: 6.04s\tremaining: 17.4s\n",
      "129:\tlearn: 0.3827592\ttotal: 6.1s\tremaining: 17.4s\n",
      "130:\tlearn: 0.3825285\ttotal: 6.14s\tremaining: 17.3s\n",
      "131:\tlearn: 0.3823657\ttotal: 6.19s\tremaining: 17.3s\n",
      "132:\tlearn: 0.3821547\ttotal: 6.24s\tremaining: 17.2s\n",
      "133:\tlearn: 0.3821402\ttotal: 6.25s\tremaining: 17.1s\n",
      "134:\tlearn: 0.3819700\ttotal: 6.3s\tremaining: 17s\n",
      "135:\tlearn: 0.3819588\ttotal: 6.32s\tremaining: 16.9s\n",
      "136:\tlearn: 0.3819537\ttotal: 6.34s\tremaining: 16.8s\n",
      "137:\tlearn: 0.3817359\ttotal: 6.42s\tremaining: 16.9s\n",
      "138:\tlearn: 0.3817296\ttotal: 6.47s\tremaining: 16.8s\n",
      "139:\tlearn: 0.3816902\ttotal: 6.51s\tremaining: 16.7s\n",
      "140:\tlearn: 0.3816652\ttotal: 6.54s\tremaining: 16.6s\n",
      "141:\tlearn: 0.3815425\ttotal: 6.59s\tremaining: 16.6s\n",
      "142:\tlearn: 0.3814997\ttotal: 6.62s\tremaining: 16.5s\n",
      "143:\tlearn: 0.3812433\ttotal: 6.69s\tremaining: 16.5s\n",
      "144:\tlearn: 0.3810045\ttotal: 6.74s\tremaining: 16.5s\n",
      "145:\tlearn: 0.3809878\ttotal: 6.78s\tremaining: 16.4s\n",
      "146:\tlearn: 0.3806661\ttotal: 6.82s\tremaining: 16.4s\n",
      "147:\tlearn: 0.3806536\ttotal: 6.86s\tremaining: 16.3s\n",
      "148:\tlearn: 0.3804041\ttotal: 6.91s\tremaining: 16.3s\n",
      "149:\tlearn: 0.3801428\ttotal: 6.96s\tremaining: 16.2s\n",
      "150:\tlearn: 0.3801276\ttotal: 6.98s\tremaining: 16.1s\n",
      "151:\tlearn: 0.3797226\ttotal: 7.02s\tremaining: 16.1s\n",
      "152:\tlearn: 0.3796526\ttotal: 7.04s\tremaining: 16s\n",
      "153:\tlearn: 0.3795340\ttotal: 7.09s\tremaining: 15.9s\n",
      "154:\tlearn: 0.3794125\ttotal: 7.13s\tremaining: 15.9s\n",
      "155:\tlearn: 0.3793499\ttotal: 7.18s\tremaining: 15.8s\n",
      "156:\tlearn: 0.3792290\ttotal: 7.22s\tremaining: 15.8s\n",
      "157:\tlearn: 0.3790015\ttotal: 7.27s\tremaining: 15.7s\n",
      "158:\tlearn: 0.3787485\ttotal: 7.31s\tremaining: 15.7s\n",
      "159:\tlearn: 0.3786326\ttotal: 7.37s\tremaining: 15.7s\n",
      "160:\tlearn: 0.3785513\ttotal: 7.45s\tremaining: 15.7s\n",
      "161:\tlearn: 0.3784050\ttotal: 7.49s\tremaining: 15.6s\n",
      "162:\tlearn: 0.3781397\ttotal: 7.53s\tremaining: 15.6s\n"
     ]
    },
    {
     "name": "stdout",
     "output_type": "stream",
     "text": [
      "163:\tlearn: 0.3778586\ttotal: 7.58s\tremaining: 15.5s\n",
      "164:\tlearn: 0.3774389\ttotal: 7.62s\tremaining: 15.5s\n",
      "165:\tlearn: 0.3773156\ttotal: 7.67s\tremaining: 15.4s\n",
      "166:\tlearn: 0.3771452\ttotal: 7.72s\tremaining: 15.4s\n",
      "167:\tlearn: 0.3770804\ttotal: 7.76s\tremaining: 15.3s\n",
      "168:\tlearn: 0.3766514\ttotal: 7.8s\tremaining: 15.3s\n",
      "169:\tlearn: 0.3766513\ttotal: 7.81s\tremaining: 15.2s\n",
      "170:\tlearn: 0.3765951\ttotal: 7.83s\tremaining: 15.1s\n",
      "171:\tlearn: 0.3762732\ttotal: 7.88s\tremaining: 15s\n",
      "172:\tlearn: 0.3757335\ttotal: 7.92s\tremaining: 15s\n",
      "173:\tlearn: 0.3757120\ttotal: 7.96s\tremaining: 14.9s\n",
      "174:\tlearn: 0.3757106\ttotal: 7.99s\tremaining: 14.8s\n",
      "175:\tlearn: 0.3757105\ttotal: 8s\tremaining: 14.7s\n",
      "176:\tlearn: 0.3754872\ttotal: 8.04s\tremaining: 14.7s\n",
      "177:\tlearn: 0.3752807\ttotal: 8.09s\tremaining: 14.6s\n",
      "178:\tlearn: 0.3751956\ttotal: 8.13s\tremaining: 14.6s\n",
      "179:\tlearn: 0.3749530\ttotal: 8.19s\tremaining: 14.6s\n",
      "180:\tlearn: 0.3747654\ttotal: 8.23s\tremaining: 14.5s\n",
      "181:\tlearn: 0.3747614\ttotal: 8.26s\tremaining: 14.4s\n",
      "182:\tlearn: 0.3747614\ttotal: 8.27s\tremaining: 14.3s\n",
      "183:\tlearn: 0.3746237\ttotal: 8.31s\tremaining: 14.3s\n",
      "184:\tlearn: 0.3746152\ttotal: 8.32s\tremaining: 14.2s\n",
      "185:\tlearn: 0.3745536\ttotal: 8.37s\tremaining: 14.1s\n",
      "186:\tlearn: 0.3744695\ttotal: 8.39s\tremaining: 14.1s\n",
      "187:\tlearn: 0.3743769\ttotal: 8.44s\tremaining: 14s\n",
      "188:\tlearn: 0.3741842\ttotal: 8.48s\tremaining: 14s\n",
      "189:\tlearn: 0.3741302\ttotal: 8.53s\tremaining: 13.9s\n",
      "190:\tlearn: 0.3737404\ttotal: 8.57s\tremaining: 13.9s\n",
      "191:\tlearn: 0.3736904\ttotal: 8.64s\tremaining: 13.9s\n",
      "192:\tlearn: 0.3733123\ttotal: 8.69s\tremaining: 13.8s\n",
      "193:\tlearn: 0.3732993\ttotal: 8.7s\tremaining: 13.7s\n",
      "194:\tlearn: 0.3730472\ttotal: 8.75s\tremaining: 13.7s\n",
      "195:\tlearn: 0.3728650\ttotal: 8.81s\tremaining: 13.7s\n",
      "196:\tlearn: 0.3726360\ttotal: 8.85s\tremaining: 13.6s\n",
      "197:\tlearn: 0.3725210\ttotal: 8.9s\tremaining: 13.6s\n",
      "198:\tlearn: 0.3723399\ttotal: 8.95s\tremaining: 13.5s\n",
      "199:\tlearn: 0.3723399\ttotal: 8.96s\tremaining: 13.4s\n",
      "200:\tlearn: 0.3721524\ttotal: 9s\tremaining: 13.4s\n",
      "201:\tlearn: 0.3718840\ttotal: 9.05s\tremaining: 13.4s\n",
      "202:\tlearn: 0.3716542\ttotal: 9.1s\tremaining: 13.3s\n",
      "203:\tlearn: 0.3716542\ttotal: 9.11s\tremaining: 13.2s\n",
      "204:\tlearn: 0.3715443\ttotal: 9.16s\tremaining: 13.2s\n",
      "205:\tlearn: 0.3712991\ttotal: 9.21s\tremaining: 13.1s\n",
      "206:\tlearn: 0.3711712\ttotal: 9.25s\tremaining: 13.1s\n",
      "207:\tlearn: 0.3710393\ttotal: 9.29s\tremaining: 13s\n",
      "208:\tlearn: 0.3708319\ttotal: 9.35s\tremaining: 13s\n",
      "209:\tlearn: 0.3707613\ttotal: 9.42s\tremaining: 13s\n",
      "210:\tlearn: 0.3706821\ttotal: 9.46s\tremaining: 13s\n",
      "211:\tlearn: 0.3706588\ttotal: 9.51s\tremaining: 12.9s\n",
      "212:\tlearn: 0.3705811\ttotal: 9.55s\tremaining: 12.9s\n",
      "213:\tlearn: 0.3705236\ttotal: 9.58s\tremaining: 12.8s\n",
      "214:\tlearn: 0.3705157\ttotal: 9.6s\tremaining: 12.7s\n",
      "215:\tlearn: 0.3703335\ttotal: 9.64s\tremaining: 12.7s\n",
      "216:\tlearn: 0.3701500\ttotal: 9.69s\tremaining: 12.6s\n",
      "217:\tlearn: 0.3699686\ttotal: 9.73s\tremaining: 12.6s\n",
      "218:\tlearn: 0.3698070\ttotal: 9.77s\tremaining: 12.5s\n",
      "219:\tlearn: 0.3694894\ttotal: 9.82s\tremaining: 12.5s\n",
      "220:\tlearn: 0.3694239\ttotal: 9.87s\tremaining: 12.5s\n",
      "221:\tlearn: 0.3691720\ttotal: 9.91s\tremaining: 12.4s\n",
      "222:\tlearn: 0.3690680\ttotal: 9.96s\tremaining: 12.4s\n",
      "223:\tlearn: 0.3687912\ttotal: 10s\tremaining: 12.3s\n",
      "224:\tlearn: 0.3687670\ttotal: 10.1s\tremaining: 12.3s\n",
      "225:\tlearn: 0.3684277\ttotal: 10.1s\tremaining: 12.3s\n",
      "226:\tlearn: 0.3681155\ttotal: 10.2s\tremaining: 12.2s\n",
      "227:\tlearn: 0.3679709\ttotal: 10.2s\tremaining: 12.2s\n",
      "228:\tlearn: 0.3677671\ttotal: 10.3s\tremaining: 12.2s\n",
      "229:\tlearn: 0.3677218\ttotal: 10.3s\tremaining: 12.1s\n",
      "230:\tlearn: 0.3675959\ttotal: 10.4s\tremaining: 12.1s\n",
      "231:\tlearn: 0.3674413\ttotal: 10.4s\tremaining: 12s\n",
      "232:\tlearn: 0.3674145\ttotal: 10.5s\tremaining: 12s\n",
      "233:\tlearn: 0.3673270\ttotal: 10.5s\tremaining: 12s\n",
      "234:\tlearn: 0.3672649\ttotal: 10.6s\tremaining: 11.9s\n",
      "235:\tlearn: 0.3670847\ttotal: 10.6s\tremaining: 11.9s\n",
      "236:\tlearn: 0.3670756\ttotal: 10.6s\tremaining: 11.8s\n",
      "237:\tlearn: 0.3667866\ttotal: 10.7s\tremaining: 11.8s\n",
      "238:\tlearn: 0.3665618\ttotal: 10.7s\tremaining: 11.7s\n",
      "239:\tlearn: 0.3663671\ttotal: 10.8s\tremaining: 11.7s\n",
      "240:\tlearn: 0.3662840\ttotal: 10.9s\tremaining: 11.7s\n",
      "241:\tlearn: 0.3661241\ttotal: 10.9s\tremaining: 11.6s\n",
      "242:\tlearn: 0.3658468\ttotal: 10.9s\tremaining: 11.6s\n",
      "243:\tlearn: 0.3657582\ttotal: 11s\tremaining: 11.5s\n",
      "244:\tlearn: 0.3655447\ttotal: 11s\tremaining: 11.5s\n",
      "245:\tlearn: 0.3653545\ttotal: 11.1s\tremaining: 11.4s\n",
      "246:\tlearn: 0.3652943\ttotal: 11.1s\tremaining: 11.4s\n",
      "247:\tlearn: 0.3650655\ttotal: 11.2s\tremaining: 11.4s\n",
      "248:\tlearn: 0.3648724\ttotal: 11.2s\tremaining: 11.3s\n",
      "249:\tlearn: 0.3646284\ttotal: 11.3s\tremaining: 11.3s\n",
      "250:\tlearn: 0.3644398\ttotal: 11.3s\tremaining: 11.3s\n",
      "251:\tlearn: 0.3643483\ttotal: 11.4s\tremaining: 11.2s\n",
      "252:\tlearn: 0.3641964\ttotal: 11.5s\tremaining: 11.2s\n",
      "253:\tlearn: 0.3640721\ttotal: 11.5s\tremaining: 11.1s\n",
      "254:\tlearn: 0.3637209\ttotal: 11.6s\tremaining: 11.1s\n",
      "255:\tlearn: 0.3633726\ttotal: 11.6s\tremaining: 11.1s\n",
      "256:\tlearn: 0.3632543\ttotal: 11.7s\tremaining: 11s\n",
      "257:\tlearn: 0.3630079\ttotal: 11.7s\tremaining: 11s\n",
      "258:\tlearn: 0.3626719\ttotal: 11.8s\tremaining: 10.9s\n",
      "259:\tlearn: 0.3623196\ttotal: 11.8s\tremaining: 10.9s\n",
      "260:\tlearn: 0.3622156\ttotal: 11.9s\tremaining: 10.9s\n",
      "261:\tlearn: 0.3620793\ttotal: 11.9s\tremaining: 10.8s\n",
      "262:\tlearn: 0.3620054\ttotal: 12s\tremaining: 10.8s\n",
      "263:\tlearn: 0.3618397\ttotal: 12s\tremaining: 10.7s\n",
      "264:\tlearn: 0.3616604\ttotal: 12.1s\tremaining: 10.7s\n",
      "265:\tlearn: 0.3614938\ttotal: 12.1s\tremaining: 10.6s\n",
      "266:\tlearn: 0.3613859\ttotal: 12.2s\tremaining: 10.6s\n",
      "267:\tlearn: 0.3612183\ttotal: 12.2s\tremaining: 10.6s\n",
      "268:\tlearn: 0.3610847\ttotal: 12.2s\tremaining: 10.5s\n",
      "269:\tlearn: 0.3609287\ttotal: 12.3s\tremaining: 10.5s\n",
      "270:\tlearn: 0.3608512\ttotal: 12.3s\tremaining: 10.4s\n",
      "271:\tlearn: 0.3604722\ttotal: 12.4s\tremaining: 10.4s\n",
      "272:\tlearn: 0.3603515\ttotal: 12.4s\tremaining: 10.3s\n",
      "273:\tlearn: 0.3602639\ttotal: 12.5s\tremaining: 10.3s\n",
      "274:\tlearn: 0.3600345\ttotal: 12.5s\tremaining: 10.3s\n",
      "275:\tlearn: 0.3599839\ttotal: 12.6s\tremaining: 10.2s\n",
      "276:\tlearn: 0.3597828\ttotal: 12.6s\tremaining: 10.2s\n",
      "277:\tlearn: 0.3595381\ttotal: 12.7s\tremaining: 10.1s\n",
      "278:\tlearn: 0.3593308\ttotal: 12.7s\tremaining: 10.1s\n",
      "279:\tlearn: 0.3591069\ttotal: 12.8s\tremaining: 10s\n",
      "280:\tlearn: 0.3590434\ttotal: 12.8s\tremaining: 9.99s\n",
      "281:\tlearn: 0.3588547\ttotal: 12.9s\tremaining: 9.95s\n",
      "282:\tlearn: 0.3587066\ttotal: 12.9s\tremaining: 9.91s\n",
      "283:\tlearn: 0.3586392\ttotal: 13s\tremaining: 9.86s\n",
      "284:\tlearn: 0.3583594\ttotal: 13s\tremaining: 9.82s\n",
      "285:\tlearn: 0.3580347\ttotal: 13.1s\tremaining: 9.77s\n",
      "286:\tlearn: 0.3579646\ttotal: 13.1s\tremaining: 9.73s\n",
      "287:\tlearn: 0.3578065\ttotal: 13.2s\tremaining: 9.69s\n",
      "288:\tlearn: 0.3575508\ttotal: 13.2s\tremaining: 9.64s\n",
      "289:\tlearn: 0.3574212\ttotal: 13.3s\tremaining: 9.6s\n",
      "290:\tlearn: 0.3571427\ttotal: 13.3s\tremaining: 9.55s\n",
      "291:\tlearn: 0.3568722\ttotal: 13.3s\tremaining: 9.5s\n",
      "292:\tlearn: 0.3565287\ttotal: 13.4s\tremaining: 9.46s\n",
      "293:\tlearn: 0.3563626\ttotal: 13.4s\tremaining: 9.41s\n",
      "294:\tlearn: 0.3562085\ttotal: 13.5s\tremaining: 9.38s\n",
      "295:\tlearn: 0.3560921\ttotal: 13.5s\tremaining: 9.33s\n",
      "296:\tlearn: 0.3560424\ttotal: 13.6s\tremaining: 9.29s\n",
      "297:\tlearn: 0.3559327\ttotal: 13.6s\tremaining: 9.24s\n",
      "298:\tlearn: 0.3557241\ttotal: 13.7s\tremaining: 9.21s\n",
      "299:\tlearn: 0.3554407\ttotal: 13.8s\tremaining: 9.18s\n",
      "300:\tlearn: 0.3551409\ttotal: 13.8s\tremaining: 9.13s\n",
      "301:\tlearn: 0.3549129\ttotal: 13.9s\tremaining: 9.09s\n",
      "302:\tlearn: 0.3548415\ttotal: 13.9s\tremaining: 9.04s\n",
      "303:\tlearn: 0.3546732\ttotal: 13.9s\tremaining: 8.99s\n",
      "304:\tlearn: 0.3546542\ttotal: 14s\tremaining: 8.94s\n",
      "305:\tlearn: 0.3545388\ttotal: 14s\tremaining: 8.9s\n",
      "306:\tlearn: 0.3543406\ttotal: 14.1s\tremaining: 8.85s\n",
      "307:\tlearn: 0.3541917\ttotal: 14.1s\tremaining: 8.82s\n",
      "308:\tlearn: 0.3539999\ttotal: 14.2s\tremaining: 8.77s\n",
      "309:\tlearn: 0.3538108\ttotal: 14.2s\tremaining: 8.72s\n",
      "310:\tlearn: 0.3536731\ttotal: 14.3s\tremaining: 8.68s\n",
      "311:\tlearn: 0.3534006\ttotal: 14.3s\tremaining: 8.63s\n",
      "312:\tlearn: 0.3532101\ttotal: 14.4s\tremaining: 8.59s\n",
      "313:\tlearn: 0.3529822\ttotal: 14.4s\tremaining: 8.55s\n",
      "314:\tlearn: 0.3528495\ttotal: 14.5s\tremaining: 8.5s\n",
      "315:\tlearn: 0.3526412\ttotal: 14.5s\tremaining: 8.46s\n",
      "316:\tlearn: 0.3525339\ttotal: 14.6s\tremaining: 8.41s\n",
      "317:\tlearn: 0.3524029\ttotal: 14.6s\tremaining: 8.37s\n",
      "318:\tlearn: 0.3521534\ttotal: 14.7s\tremaining: 8.32s\n",
      "319:\tlearn: 0.3520895\ttotal: 14.7s\tremaining: 8.28s\n",
      "320:\tlearn: 0.3519828\ttotal: 14.8s\tremaining: 8.23s\n",
      "321:\tlearn: 0.3517875\ttotal: 14.8s\tremaining: 8.19s\n",
      "322:\tlearn: 0.3516284\ttotal: 14.9s\tremaining: 8.14s\n",
      "323:\tlearn: 0.3515034\ttotal: 14.9s\tremaining: 8.09s\n"
     ]
    },
    {
     "name": "stdout",
     "output_type": "stream",
     "text": [
      "324:\tlearn: 0.3514185\ttotal: 15s\tremaining: 8.05s\n",
      "325:\tlearn: 0.3509487\ttotal: 15s\tremaining: 8.01s\n",
      "326:\tlearn: 0.3507708\ttotal: 15s\tremaining: 7.96s\n",
      "327:\tlearn: 0.3506874\ttotal: 15.1s\tremaining: 7.92s\n",
      "328:\tlearn: 0.3504599\ttotal: 15.1s\tremaining: 7.87s\n",
      "329:\tlearn: 0.3503495\ttotal: 15.2s\tremaining: 7.83s\n",
      "330:\tlearn: 0.3501687\ttotal: 15.3s\tremaining: 7.79s\n",
      "331:\tlearn: 0.3499101\ttotal: 15.3s\tremaining: 7.74s\n",
      "332:\tlearn: 0.3498210\ttotal: 15.3s\tremaining: 7.7s\n",
      "333:\tlearn: 0.3494029\ttotal: 15.4s\tremaining: 7.65s\n",
      "334:\tlearn: 0.3493581\ttotal: 15.4s\tremaining: 7.6s\n",
      "335:\tlearn: 0.3490606\ttotal: 15.5s\tremaining: 7.56s\n",
      "336:\tlearn: 0.3488180\ttotal: 15.5s\tremaining: 7.51s\n",
      "337:\tlearn: 0.3484952\ttotal: 15.6s\tremaining: 7.46s\n",
      "338:\tlearn: 0.3483143\ttotal: 15.6s\tremaining: 7.42s\n",
      "339:\tlearn: 0.3481996\ttotal: 15.7s\tremaining: 7.38s\n",
      "340:\tlearn: 0.3479902\ttotal: 15.7s\tremaining: 7.34s\n",
      "341:\tlearn: 0.3477274\ttotal: 15.8s\tremaining: 7.29s\n",
      "342:\tlearn: 0.3475065\ttotal: 15.8s\tremaining: 7.25s\n",
      "343:\tlearn: 0.3473400\ttotal: 15.9s\tremaining: 7.2s\n",
      "344:\tlearn: 0.3471556\ttotal: 15.9s\tremaining: 7.15s\n",
      "345:\tlearn: 0.3469520\ttotal: 16s\tremaining: 7.11s\n",
      "346:\tlearn: 0.3466026\ttotal: 16s\tremaining: 7.07s\n",
      "347:\tlearn: 0.3463774\ttotal: 16.1s\tremaining: 7.02s\n",
      "348:\tlearn: 0.3462228\ttotal: 16.1s\tremaining: 6.98s\n",
      "349:\tlearn: 0.3461508\ttotal: 16.2s\tremaining: 6.93s\n",
      "350:\tlearn: 0.3460176\ttotal: 16.2s\tremaining: 6.88s\n",
      "351:\tlearn: 0.3458432\ttotal: 16.3s\tremaining: 6.84s\n",
      "352:\tlearn: 0.3454996\ttotal: 16.3s\tremaining: 6.79s\n",
      "353:\tlearn: 0.3451970\ttotal: 16.4s\tremaining: 6.75s\n",
      "354:\tlearn: 0.3451102\ttotal: 16.4s\tremaining: 6.7s\n",
      "355:\tlearn: 0.3447731\ttotal: 16.5s\tremaining: 6.66s\n",
      "356:\tlearn: 0.3446841\ttotal: 16.5s\tremaining: 6.61s\n",
      "357:\tlearn: 0.3445504\ttotal: 16.6s\tremaining: 6.56s\n",
      "358:\tlearn: 0.3444582\ttotal: 16.6s\tremaining: 6.52s\n",
      "359:\tlearn: 0.3440978\ttotal: 16.7s\tremaining: 6.48s\n",
      "360:\tlearn: 0.3439050\ttotal: 16.7s\tremaining: 6.43s\n",
      "361:\tlearn: 0.3436887\ttotal: 16.7s\tremaining: 6.38s\n",
      "362:\tlearn: 0.3435651\ttotal: 16.8s\tremaining: 6.34s\n",
      "363:\tlearn: 0.3434371\ttotal: 16.8s\tremaining: 6.29s\n",
      "364:\tlearn: 0.3432893\ttotal: 16.9s\tremaining: 6.24s\n",
      "365:\tlearn: 0.3429479\ttotal: 16.9s\tremaining: 6.2s\n",
      "366:\tlearn: 0.3428135\ttotal: 17s\tremaining: 6.15s\n",
      "367:\tlearn: 0.3426174\ttotal: 17s\tremaining: 6.11s\n",
      "368:\tlearn: 0.3424899\ttotal: 17.1s\tremaining: 6.06s\n",
      "369:\tlearn: 0.3423772\ttotal: 17.1s\tremaining: 6.01s\n",
      "370:\tlearn: 0.3421469\ttotal: 17.2s\tremaining: 5.97s\n",
      "371:\tlearn: 0.3420274\ttotal: 17.2s\tremaining: 5.92s\n",
      "372:\tlearn: 0.3415759\ttotal: 17.3s\tremaining: 5.88s\n",
      "373:\tlearn: 0.3414616\ttotal: 17.3s\tremaining: 5.83s\n",
      "374:\tlearn: 0.3413976\ttotal: 17.4s\tremaining: 5.79s\n",
      "375:\tlearn: 0.3413170\ttotal: 17.4s\tremaining: 5.74s\n",
      "376:\tlearn: 0.3411148\ttotal: 17.4s\tremaining: 5.69s\n",
      "377:\tlearn: 0.3410075\ttotal: 17.5s\tremaining: 5.64s\n",
      "378:\tlearn: 0.3407003\ttotal: 17.5s\tremaining: 5.6s\n",
      "379:\tlearn: 0.3405885\ttotal: 17.6s\tremaining: 5.55s\n",
      "380:\tlearn: 0.3403903\ttotal: 17.6s\tremaining: 5.51s\n",
      "381:\tlearn: 0.3403273\ttotal: 17.7s\tremaining: 5.46s\n",
      "382:\tlearn: 0.3401830\ttotal: 17.7s\tremaining: 5.42s\n",
      "383:\tlearn: 0.3400521\ttotal: 17.8s\tremaining: 5.37s\n",
      "384:\tlearn: 0.3398488\ttotal: 17.8s\tremaining: 5.33s\n",
      "385:\tlearn: 0.3396801\ttotal: 17.9s\tremaining: 5.29s\n",
      "386:\tlearn: 0.3395089\ttotal: 18s\tremaining: 5.24s\n",
      "387:\tlearn: 0.3393452\ttotal: 18s\tremaining: 5.2s\n",
      "388:\tlearn: 0.3392108\ttotal: 18s\tremaining: 5.15s\n",
      "389:\tlearn: 0.3389851\ttotal: 18.1s\tremaining: 5.1s\n",
      "390:\tlearn: 0.3389058\ttotal: 18.1s\tremaining: 5.06s\n",
      "391:\tlearn: 0.3387739\ttotal: 18.2s\tremaining: 5.01s\n",
      "392:\tlearn: 0.3385380\ttotal: 18.2s\tremaining: 4.96s\n",
      "393:\tlearn: 0.3384344\ttotal: 18.3s\tremaining: 4.92s\n",
      "394:\tlearn: 0.3383167\ttotal: 18.3s\tremaining: 4.87s\n",
      "395:\tlearn: 0.3381750\ttotal: 18.4s\tremaining: 4.82s\n",
      "396:\tlearn: 0.3379037\ttotal: 18.4s\tremaining: 4.78s\n",
      "397:\tlearn: 0.3377806\ttotal: 18.5s\tremaining: 4.73s\n",
      "398:\tlearn: 0.3375244\ttotal: 18.5s\tremaining: 4.68s\n",
      "399:\tlearn: 0.3373756\ttotal: 18.6s\tremaining: 4.64s\n",
      "400:\tlearn: 0.3372618\ttotal: 18.6s\tremaining: 4.59s\n",
      "401:\tlearn: 0.3371872\ttotal: 18.6s\tremaining: 4.54s\n",
      "402:\tlearn: 0.3370547\ttotal: 18.7s\tremaining: 4.5s\n",
      "403:\tlearn: 0.3367919\ttotal: 18.7s\tremaining: 4.45s\n",
      "404:\tlearn: 0.3364496\ttotal: 18.8s\tremaining: 4.41s\n",
      "405:\tlearn: 0.3362005\ttotal: 18.8s\tremaining: 4.36s\n",
      "406:\tlearn: 0.3359001\ttotal: 18.9s\tremaining: 4.32s\n",
      "407:\tlearn: 0.3357192\ttotal: 18.9s\tremaining: 4.27s\n",
      "408:\tlearn: 0.3353822\ttotal: 19s\tremaining: 4.22s\n",
      "409:\tlearn: 0.3352714\ttotal: 19s\tremaining: 4.17s\n",
      "410:\tlearn: 0.3351614\ttotal: 19.1s\tremaining: 4.13s\n",
      "411:\tlearn: 0.3348999\ttotal: 19.1s\tremaining: 4.08s\n",
      "412:\tlearn: 0.3348740\ttotal: 19.2s\tremaining: 4.04s\n",
      "413:\tlearn: 0.3347609\ttotal: 19.2s\tremaining: 3.99s\n",
      "414:\tlearn: 0.3346907\ttotal: 19.3s\tremaining: 3.94s\n",
      "415:\tlearn: 0.3345339\ttotal: 19.3s\tremaining: 3.9s\n",
      "416:\tlearn: 0.3343597\ttotal: 19.3s\tremaining: 3.85s\n",
      "417:\tlearn: 0.3341271\ttotal: 19.4s\tremaining: 3.8s\n",
      "418:\tlearn: 0.3340067\ttotal: 19.4s\tremaining: 3.76s\n",
      "419:\tlearn: 0.3339294\ttotal: 19.5s\tremaining: 3.71s\n",
      "420:\tlearn: 0.3337336\ttotal: 19.5s\tremaining: 3.66s\n",
      "421:\tlearn: 0.3336545\ttotal: 19.6s\tremaining: 3.62s\n",
      "422:\tlearn: 0.3336341\ttotal: 19.6s\tremaining: 3.57s\n",
      "423:\tlearn: 0.3333530\ttotal: 19.7s\tremaining: 3.52s\n",
      "424:\tlearn: 0.3331518\ttotal: 19.7s\tremaining: 3.48s\n",
      "425:\tlearn: 0.3330301\ttotal: 19.7s\tremaining: 3.43s\n",
      "426:\tlearn: 0.3327140\ttotal: 19.8s\tremaining: 3.38s\n",
      "427:\tlearn: 0.3325625\ttotal: 19.8s\tremaining: 3.34s\n",
      "428:\tlearn: 0.3324614\ttotal: 19.9s\tremaining: 3.29s\n",
      "429:\tlearn: 0.3321999\ttotal: 19.9s\tremaining: 3.25s\n",
      "430:\tlearn: 0.3320628\ttotal: 20s\tremaining: 3.2s\n",
      "431:\tlearn: 0.3319132\ttotal: 20s\tremaining: 3.15s\n",
      "432:\tlearn: 0.3316052\ttotal: 20.1s\tremaining: 3.11s\n",
      "433:\tlearn: 0.3312999\ttotal: 20.1s\tremaining: 3.06s\n",
      "434:\tlearn: 0.3312324\ttotal: 20.2s\tremaining: 3.02s\n",
      "435:\tlearn: 0.3311067\ttotal: 20.2s\tremaining: 2.97s\n",
      "436:\tlearn: 0.3309951\ttotal: 20.3s\tremaining: 2.92s\n",
      "437:\tlearn: 0.3306342\ttotal: 20.3s\tremaining: 2.88s\n",
      "438:\tlearn: 0.3304373\ttotal: 20.4s\tremaining: 2.83s\n",
      "439:\tlearn: 0.3301533\ttotal: 20.4s\tremaining: 2.79s\n",
      "440:\tlearn: 0.3300713\ttotal: 20.5s\tremaining: 2.74s\n",
      "441:\tlearn: 0.3299590\ttotal: 20.5s\tremaining: 2.69s\n",
      "442:\tlearn: 0.3297630\ttotal: 20.6s\tremaining: 2.65s\n",
      "443:\tlearn: 0.3296370\ttotal: 20.6s\tremaining: 2.6s\n",
      "444:\tlearn: 0.3295946\ttotal: 20.7s\tremaining: 2.55s\n",
      "445:\tlearn: 0.3294368\ttotal: 20.7s\tremaining: 2.51s\n",
      "446:\tlearn: 0.3292824\ttotal: 20.8s\tremaining: 2.46s\n",
      "447:\tlearn: 0.3290629\ttotal: 20.8s\tremaining: 2.41s\n",
      "448:\tlearn: 0.3288364\ttotal: 20.8s\tremaining: 2.37s\n",
      "449:\tlearn: 0.3284202\ttotal: 20.9s\tremaining: 2.32s\n",
      "450:\tlearn: 0.3282682\ttotal: 20.9s\tremaining: 2.27s\n",
      "451:\tlearn: 0.3280266\ttotal: 21s\tremaining: 2.23s\n",
      "452:\tlearn: 0.3279337\ttotal: 21s\tremaining: 2.18s\n",
      "453:\tlearn: 0.3277145\ttotal: 21.1s\tremaining: 2.14s\n",
      "454:\tlearn: 0.3276350\ttotal: 21.1s\tremaining: 2.09s\n",
      "455:\tlearn: 0.3275007\ttotal: 21.2s\tremaining: 2.04s\n",
      "456:\tlearn: 0.3273133\ttotal: 21.2s\tremaining: 2s\n",
      "457:\tlearn: 0.3272811\ttotal: 21.3s\tremaining: 1.95s\n",
      "458:\tlearn: 0.3272454\ttotal: 21.3s\tremaining: 1.9s\n",
      "459:\tlearn: 0.3270409\ttotal: 21.4s\tremaining: 1.86s\n",
      "460:\tlearn: 0.3266970\ttotal: 21.4s\tremaining: 1.81s\n",
      "461:\tlearn: 0.3266030\ttotal: 21.5s\tremaining: 1.76s\n",
      "462:\tlearn: 0.3265370\ttotal: 21.5s\tremaining: 1.72s\n",
      "463:\tlearn: 0.3264853\ttotal: 21.5s\tremaining: 1.67s\n",
      "464:\tlearn: 0.3263843\ttotal: 21.6s\tremaining: 1.62s\n",
      "465:\tlearn: 0.3261053\ttotal: 21.6s\tremaining: 1.58s\n",
      "466:\tlearn: 0.3259791\ttotal: 21.7s\tremaining: 1.53s\n",
      "467:\tlearn: 0.3258896\ttotal: 21.7s\tremaining: 1.49s\n",
      "468:\tlearn: 0.3258713\ttotal: 21.8s\tremaining: 1.44s\n",
      "469:\tlearn: 0.3256780\ttotal: 21.8s\tremaining: 1.39s\n",
      "470:\tlearn: 0.3256340\ttotal: 21.9s\tremaining: 1.35s\n",
      "471:\tlearn: 0.3255778\ttotal: 21.9s\tremaining: 1.3s\n",
      "472:\tlearn: 0.3252835\ttotal: 22s\tremaining: 1.25s\n",
      "473:\tlearn: 0.3251741\ttotal: 22s\tremaining: 1.21s\n",
      "474:\tlearn: 0.3250774\ttotal: 22.1s\tremaining: 1.16s\n",
      "475:\tlearn: 0.3248538\ttotal: 22.1s\tremaining: 1.11s\n",
      "476:\tlearn: 0.3246772\ttotal: 22.2s\tremaining: 1.07s\n",
      "477:\tlearn: 0.3246092\ttotal: 22.2s\tremaining: 1.02s\n",
      "478:\tlearn: 0.3244254\ttotal: 22.3s\tremaining: 977ms\n",
      "479:\tlearn: 0.3242783\ttotal: 22.3s\tremaining: 931ms\n",
      "480:\tlearn: 0.3238921\ttotal: 22.4s\tremaining: 884ms\n",
      "481:\tlearn: 0.3238137\ttotal: 22.4s\tremaining: 838ms\n",
      "482:\tlearn: 0.3233377\ttotal: 22.5s\tremaining: 792ms\n",
      "483:\tlearn: 0.3231554\ttotal: 22.5s\tremaining: 745ms\n",
      "484:\tlearn: 0.3230116\ttotal: 22.6s\tremaining: 698ms\n"
     ]
    },
    {
     "name": "stdout",
     "output_type": "stream",
     "text": [
      "485:\tlearn: 0.3227698\ttotal: 22.6s\tremaining: 652ms\n",
      "486:\tlearn: 0.3226568\ttotal: 22.7s\tremaining: 605ms\n",
      "487:\tlearn: 0.3224436\ttotal: 22.7s\tremaining: 559ms\n",
      "488:\tlearn: 0.3223121\ttotal: 22.8s\tremaining: 512ms\n",
      "489:\tlearn: 0.3222229\ttotal: 22.8s\tremaining: 466ms\n",
      "490:\tlearn: 0.3221364\ttotal: 22.9s\tremaining: 419ms\n",
      "491:\tlearn: 0.3220970\ttotal: 22.9s\tremaining: 373ms\n",
      "492:\tlearn: 0.3218669\ttotal: 23s\tremaining: 326ms\n",
      "493:\tlearn: 0.3216301\ttotal: 23s\tremaining: 279ms\n",
      "494:\tlearn: 0.3214794\ttotal: 23s\tremaining: 233ms\n",
      "495:\tlearn: 0.3212252\ttotal: 23.1s\tremaining: 186ms\n",
      "496:\tlearn: 0.3210390\ttotal: 23.1s\tremaining: 140ms\n",
      "497:\tlearn: 0.3209453\ttotal: 23.2s\tremaining: 93.1ms\n",
      "498:\tlearn: 0.3208282\ttotal: 23.2s\tremaining: 46.5ms\n",
      "499:\tlearn: 0.3207302\ttotal: 23.3s\tremaining: 0us\n"
     ]
    }
   ],
   "source": [
    "boosting_model = catboost.CatBoostClassifier(n_estimators=500, cat_features=cat_cols_indices)\n",
    "\n",
    "boosting_model.fit(X_train_origin, y_train)\n",
    "\n",
    "y_train_predicted = boosting_model.predict_proba(X_train_origin)[:, 1]\n",
    "y_test_predicted = boosting_model.predict_proba(X_test_origin)[:, 1]"
   ]
  },
  {
   "cell_type": "code",
   "execution_count": 37,
   "metadata": {},
   "outputs": [
    {
     "name": "stdout",
     "output_type": "stream",
     "text": [
      "[0.30728863 0.1284664  0.00966774 ... 0.19451727 0.20122394 0.18752379]\n"
     ]
    }
   ],
   "source": [
    "print(y_test_predicted)"
   ]
  },
  {
   "cell_type": "code",
   "execution_count": 34,
   "metadata": {
    "colab": {
     "base_uri": "https://localhost:8080/"
    },
    "id": "P56Iv5LVuA-g",
    "outputId": "5748d5ec-3196-4d21-a12a-4054fb289941"
   },
   "outputs": [
    {
     "name": "stdout",
     "output_type": "stream",
     "text": [
      "0.8939465668900035\n"
     ]
    },
    {
     "data": {
      "text/plain": [
       "0.8420311394196746"
      ]
     },
     "execution_count": 34,
     "metadata": {},
     "output_type": "execute_result"
    }
   ],
   "source": [
    "print(roc_auc_score(y_train, y_train_predicted))\n",
    "roc_auc_score(y_test, y_test_predicted)"
   ]
  },
  {
   "cell_type": "markdown",
   "metadata": {
    "id": "rf4Kjt96EEZU"
   },
   "source": [
    "Лучший результат показал catboost"
   ]
  },
  {
   "cell_type": "markdown",
   "metadata": {
    "id": "dDMXbvNZEEZV"
   },
   "source": [
    "# Предсказания"
   ]
  },
  {
   "cell_type": "code",
   "execution_count": 123,
   "metadata": {
    "colab": {
     "base_uri": "https://localhost:8080/"
    },
    "id": "FfSufx0CEEZZ",
    "outputId": "db3eeba8-7231-466e-958a-d2c0ada93b90"
   },
   "outputs": [
    {
     "name": "stdout",
     "output_type": "stream",
     "text": [
      "Learning rate set to 0.035967\n",
      "0:\tlearn: 0.6689585\ttotal: 16.8ms\tremaining: 8.36s\n",
      "1:\tlearn: 0.6480367\ttotal: 31.2ms\tremaining: 7.77s\n",
      "2:\tlearn: 0.6293862\ttotal: 42.2ms\tremaining: 6.98s\n",
      "3:\tlearn: 0.6106716\ttotal: 56.3ms\tremaining: 6.98s\n",
      "4:\tlearn: 0.5943351\ttotal: 71ms\tremaining: 7.03s\n",
      "5:\tlearn: 0.5794832\ttotal: 86ms\tremaining: 7.08s\n",
      "6:\tlearn: 0.5657872\ttotal: 99ms\tremaining: 6.97s\n",
      "7:\tlearn: 0.5548802\ttotal: 105ms\tremaining: 6.46s\n",
      "8:\tlearn: 0.5432867\ttotal: 119ms\tremaining: 6.48s\n",
      "9:\tlearn: 0.5322485\ttotal: 134ms\tremaining: 6.55s\n",
      "10:\tlearn: 0.5228064\ttotal: 147ms\tremaining: 6.54s\n",
      "11:\tlearn: 0.5135584\ttotal: 162ms\tremaining: 6.6s\n",
      "12:\tlearn: 0.5048724\ttotal: 177ms\tremaining: 6.62s\n",
      "13:\tlearn: 0.4969254\ttotal: 204ms\tremaining: 7.07s\n",
      "14:\tlearn: 0.4905028\ttotal: 217ms\tremaining: 7.02s\n",
      "15:\tlearn: 0.4845386\ttotal: 233ms\tremaining: 7.04s\n",
      "16:\tlearn: 0.4796961\ttotal: 247ms\tremaining: 7.02s\n",
      "17:\tlearn: 0.4741605\ttotal: 261ms\tremaining: 6.99s\n",
      "18:\tlearn: 0.4694036\ttotal: 276ms\tremaining: 6.98s\n",
      "19:\tlearn: 0.4651395\ttotal: 288ms\tremaining: 6.92s\n",
      "20:\tlearn: 0.4613197\ttotal: 301ms\tremaining: 6.86s\n",
      "21:\tlearn: 0.4586219\ttotal: 313ms\tremaining: 6.8s\n",
      "22:\tlearn: 0.4560475\ttotal: 321ms\tremaining: 6.65s\n",
      "23:\tlearn: 0.4525934\ttotal: 336ms\tremaining: 6.65s\n",
      "24:\tlearn: 0.4492361\ttotal: 348ms\tremaining: 6.61s\n",
      "25:\tlearn: 0.4462086\ttotal: 363ms\tremaining: 6.61s\n",
      "26:\tlearn: 0.4438583\ttotal: 375ms\tremaining: 6.56s\n",
      "27:\tlearn: 0.4411024\ttotal: 388ms\tremaining: 6.54s\n",
      "28:\tlearn: 0.4389650\ttotal: 405ms\tremaining: 6.58s\n",
      "29:\tlearn: 0.4363979\ttotal: 422ms\tremaining: 6.61s\n",
      "30:\tlearn: 0.4342507\ttotal: 435ms\tremaining: 6.58s\n",
      "31:\tlearn: 0.4324832\ttotal: 450ms\tremaining: 6.58s\n",
      "32:\tlearn: 0.4312068\ttotal: 458ms\tremaining: 6.48s\n",
      "33:\tlearn: 0.4297642\ttotal: 470ms\tremaining: 6.44s\n",
      "34:\tlearn: 0.4288071\ttotal: 475ms\tremaining: 6.31s\n",
      "35:\tlearn: 0.4269950\ttotal: 489ms\tremaining: 6.3s\n",
      "36:\tlearn: 0.4257951\ttotal: 504ms\tremaining: 6.31s\n",
      "37:\tlearn: 0.4244696\ttotal: 516ms\tremaining: 6.28s\n",
      "38:\tlearn: 0.4232399\ttotal: 531ms\tremaining: 6.28s\n",
      "39:\tlearn: 0.4218662\ttotal: 546ms\tremaining: 6.27s\n",
      "40:\tlearn: 0.4207752\ttotal: 560ms\tremaining: 6.26s\n",
      "41:\tlearn: 0.4204259\ttotal: 564ms\tremaining: 6.15s\n",
      "42:\tlearn: 0.4191694\ttotal: 576ms\tremaining: 6.12s\n",
      "43:\tlearn: 0.4178252\ttotal: 590ms\tremaining: 6.12s\n",
      "44:\tlearn: 0.4168707\ttotal: 609ms\tremaining: 6.16s\n",
      "45:\tlearn: 0.4157670\ttotal: 623ms\tremaining: 6.14s\n",
      "46:\tlearn: 0.4155253\ttotal: 627ms\tremaining: 6.04s\n",
      "47:\tlearn: 0.4147063\ttotal: 640ms\tremaining: 6.02s\n",
      "48:\tlearn: 0.4137436\ttotal: 654ms\tremaining: 6.01s\n",
      "49:\tlearn: 0.4129880\ttotal: 668ms\tremaining: 6.01s\n",
      "50:\tlearn: 0.4126625\ttotal: 681ms\tremaining: 6s\n",
      "51:\tlearn: 0.4125001\ttotal: 686ms\tremaining: 5.91s\n",
      "52:\tlearn: 0.4115871\ttotal: 701ms\tremaining: 5.91s\n",
      "53:\tlearn: 0.4112161\ttotal: 710ms\tremaining: 5.86s\n",
      "54:\tlearn: 0.4102060\ttotal: 726ms\tremaining: 5.87s\n",
      "55:\tlearn: 0.4092533\ttotal: 740ms\tremaining: 5.86s\n",
      "56:\tlearn: 0.4086214\ttotal: 753ms\tremaining: 5.85s\n",
      "57:\tlearn: 0.4079819\ttotal: 765ms\tremaining: 5.83s\n",
      "58:\tlearn: 0.4075084\ttotal: 780ms\tremaining: 5.83s\n",
      "59:\tlearn: 0.4066655\ttotal: 794ms\tremaining: 5.83s\n",
      "60:\tlearn: 0.4061788\ttotal: 813ms\tremaining: 5.85s\n",
      "61:\tlearn: 0.4060382\ttotal: 818ms\tremaining: 5.78s\n",
      "62:\tlearn: 0.4057692\ttotal: 829ms\tremaining: 5.75s\n",
      "63:\tlearn: 0.4048192\ttotal: 843ms\tremaining: 5.74s\n",
      "64:\tlearn: 0.4042827\ttotal: 857ms\tremaining: 5.74s\n",
      "65:\tlearn: 0.4037140\ttotal: 872ms\tremaining: 5.74s\n",
      "66:\tlearn: 0.4032417\ttotal: 884ms\tremaining: 5.71s\n",
      "67:\tlearn: 0.4026457\ttotal: 898ms\tremaining: 5.7s\n",
      "68:\tlearn: 0.4020482\ttotal: 911ms\tremaining: 5.69s\n",
      "69:\tlearn: 0.4015283\ttotal: 924ms\tremaining: 5.68s\n",
      "70:\tlearn: 0.4007888\ttotal: 939ms\tremaining: 5.67s\n",
      "71:\tlearn: 0.4003389\ttotal: 951ms\tremaining: 5.65s\n",
      "72:\tlearn: 0.4000213\ttotal: 963ms\tremaining: 5.63s\n",
      "73:\tlearn: 0.3994892\ttotal: 978ms\tremaining: 5.63s\n",
      "74:\tlearn: 0.3989323\ttotal: 992ms\tremaining: 5.62s\n",
      "75:\tlearn: 0.3988400\ttotal: 1s\tremaining: 5.59s\n",
      "76:\tlearn: 0.3982759\ttotal: 1.02s\tremaining: 5.6s\n",
      "77:\tlearn: 0.3975881\ttotal: 1.03s\tremaining: 5.59s\n",
      "78:\tlearn: 0.3971686\ttotal: 1.04s\tremaining: 5.57s\n",
      "79:\tlearn: 0.3968227\ttotal: 1.06s\tremaining: 5.56s\n",
      "80:\tlearn: 0.3963564\ttotal: 1.07s\tremaining: 5.55s\n",
      "81:\tlearn: 0.3957270\ttotal: 1.09s\tremaining: 5.54s\n",
      "82:\tlearn: 0.3955797\ttotal: 1.1s\tremaining: 5.51s\n",
      "83:\tlearn: 0.3954895\ttotal: 1.1s\tremaining: 5.47s\n",
      "84:\tlearn: 0.3949617\ttotal: 1.12s\tremaining: 5.47s\n",
      "85:\tlearn: 0.3945510\ttotal: 1.13s\tremaining: 5.45s\n",
      "86:\tlearn: 0.3943311\ttotal: 1.14s\tremaining: 5.43s\n",
      "87:\tlearn: 0.3936122\ttotal: 1.16s\tremaining: 5.42s\n",
      "88:\tlearn: 0.3935083\ttotal: 1.18s\tremaining: 5.43s\n",
      "89:\tlearn: 0.3931936\ttotal: 1.19s\tremaining: 5.42s\n",
      "90:\tlearn: 0.3930327\ttotal: 1.2s\tremaining: 5.4s\n",
      "91:\tlearn: 0.3926853\ttotal: 1.22s\tremaining: 5.39s\n",
      "92:\tlearn: 0.3924419\ttotal: 1.23s\tremaining: 5.4s\n",
      "93:\tlearn: 0.3921859\ttotal: 1.25s\tremaining: 5.39s\n",
      "94:\tlearn: 0.3919071\ttotal: 1.26s\tremaining: 5.39s\n",
      "95:\tlearn: 0.3916075\ttotal: 1.28s\tremaining: 5.38s\n",
      "96:\tlearn: 0.3911561\ttotal: 1.29s\tremaining: 5.37s\n",
      "97:\tlearn: 0.3907356\ttotal: 1.31s\tremaining: 5.36s\n",
      "98:\tlearn: 0.3906146\ttotal: 1.32s\tremaining: 5.36s\n",
      "99:\tlearn: 0.3902472\ttotal: 1.34s\tremaining: 5.34s\n",
      "100:\tlearn: 0.3899365\ttotal: 1.35s\tremaining: 5.34s\n",
      "101:\tlearn: 0.3897582\ttotal: 1.37s\tremaining: 5.33s\n",
      "102:\tlearn: 0.3893109\ttotal: 1.38s\tremaining: 5.33s\n",
      "103:\tlearn: 0.3889955\ttotal: 1.4s\tremaining: 5.31s\n",
      "104:\tlearn: 0.3888526\ttotal: 1.41s\tremaining: 5.29s\n",
      "105:\tlearn: 0.3884389\ttotal: 1.42s\tremaining: 5.28s\n",
      "106:\tlearn: 0.3882776\ttotal: 1.44s\tremaining: 5.28s\n",
      "107:\tlearn: 0.3880721\ttotal: 1.45s\tremaining: 5.27s\n",
      "108:\tlearn: 0.3876046\ttotal: 1.47s\tremaining: 5.26s\n",
      "109:\tlearn: 0.3874003\ttotal: 1.48s\tremaining: 5.24s\n",
      "110:\tlearn: 0.3869907\ttotal: 1.49s\tremaining: 5.23s\n",
      "111:\tlearn: 0.3867806\ttotal: 1.5s\tremaining: 5.21s\n",
      "112:\tlearn: 0.3867331\ttotal: 1.52s\tremaining: 5.2s\n",
      "113:\tlearn: 0.3866148\ttotal: 1.53s\tremaining: 5.19s\n",
      "114:\tlearn: 0.3865041\ttotal: 1.54s\tremaining: 5.16s\n",
      "115:\tlearn: 0.3862551\ttotal: 1.56s\tremaining: 5.15s\n",
      "116:\tlearn: 0.3857522\ttotal: 1.57s\tremaining: 5.14s\n",
      "117:\tlearn: 0.3854355\ttotal: 1.59s\tremaining: 5.14s\n",
      "118:\tlearn: 0.3849795\ttotal: 1.6s\tremaining: 5.13s\n",
      "119:\tlearn: 0.3846796\ttotal: 1.62s\tremaining: 5.12s\n",
      "120:\tlearn: 0.3846796\ttotal: 1.62s\tremaining: 5.07s\n",
      "121:\tlearn: 0.3845132\ttotal: 1.63s\tremaining: 5.06s\n",
      "122:\tlearn: 0.3843263\ttotal: 1.65s\tremaining: 5.06s\n",
      "123:\tlearn: 0.3842151\ttotal: 1.67s\tremaining: 5.06s\n",
      "124:\tlearn: 0.3839621\ttotal: 1.68s\tremaining: 5.04s\n",
      "125:\tlearn: 0.3837591\ttotal: 1.7s\tremaining: 5.04s\n",
      "126:\tlearn: 0.3832188\ttotal: 1.71s\tremaining: 5.03s\n",
      "127:\tlearn: 0.3832090\ttotal: 1.72s\tremaining: 4.99s\n",
      "128:\tlearn: 0.3830599\ttotal: 1.73s\tremaining: 4.99s\n",
      "129:\tlearn: 0.3827592\ttotal: 1.75s\tremaining: 4.97s\n",
      "130:\tlearn: 0.3825285\ttotal: 1.76s\tremaining: 4.96s\n",
      "131:\tlearn: 0.3823657\ttotal: 1.77s\tremaining: 4.95s\n",
      "132:\tlearn: 0.3821547\ttotal: 1.79s\tremaining: 4.94s\n",
      "133:\tlearn: 0.3821402\ttotal: 1.79s\tremaining: 4.9s\n",
      "134:\tlearn: 0.3819700\ttotal: 1.81s\tremaining: 4.89s\n",
      "135:\tlearn: 0.3819588\ttotal: 1.81s\tremaining: 4.86s\n",
      "136:\tlearn: 0.3819537\ttotal: 1.82s\tremaining: 4.83s\n",
      "137:\tlearn: 0.3817359\ttotal: 1.84s\tremaining: 4.82s\n",
      "138:\tlearn: 0.3817296\ttotal: 1.84s\tremaining: 4.79s\n",
      "139:\tlearn: 0.3816902\ttotal: 1.86s\tremaining: 4.79s\n",
      "140:\tlearn: 0.3816652\ttotal: 1.87s\tremaining: 4.77s\n",
      "141:\tlearn: 0.3815425\ttotal: 1.89s\tremaining: 4.76s\n",
      "142:\tlearn: 0.3814997\ttotal: 1.9s\tremaining: 4.75s\n",
      "143:\tlearn: 0.3812433\ttotal: 1.92s\tremaining: 4.74s\n",
      "144:\tlearn: 0.3810045\ttotal: 1.93s\tremaining: 4.72s\n",
      "145:\tlearn: 0.3809878\ttotal: 1.94s\tremaining: 4.7s\n",
      "146:\tlearn: 0.3806661\ttotal: 1.95s\tremaining: 4.69s\n",
      "147:\tlearn: 0.3806536\ttotal: 1.96s\tremaining: 4.67s\n",
      "148:\tlearn: 0.3804041\ttotal: 1.98s\tremaining: 4.66s\n",
      "149:\tlearn: 0.3801428\ttotal: 1.99s\tremaining: 4.65s\n",
      "150:\tlearn: 0.3801276\ttotal: 2s\tremaining: 4.62s\n",
      "151:\tlearn: 0.3797226\ttotal: 2.01s\tremaining: 4.61s\n",
      "152:\tlearn: 0.3796526\ttotal: 2.02s\tremaining: 4.58s\n",
      "153:\tlearn: 0.3795340\ttotal: 2.03s\tremaining: 4.57s\n",
      "154:\tlearn: 0.3794125\ttotal: 2.04s\tremaining: 4.55s\n",
      "155:\tlearn: 0.3793499\ttotal: 2.06s\tremaining: 4.54s\n",
      "156:\tlearn: 0.3792290\ttotal: 2.08s\tremaining: 4.54s\n",
      "157:\tlearn: 0.3790015\ttotal: 2.09s\tremaining: 4.53s\n",
      "158:\tlearn: 0.3787485\ttotal: 2.11s\tremaining: 4.52s\n",
      "159:\tlearn: 0.3786326\ttotal: 2.12s\tremaining: 4.51s\n",
      "160:\tlearn: 0.3785513\ttotal: 2.13s\tremaining: 4.48s\n",
      "161:\tlearn: 0.3784050\ttotal: 2.14s\tremaining: 4.47s\n",
      "162:\tlearn: 0.3781397\ttotal: 2.16s\tremaining: 4.47s\n",
      "163:\tlearn: 0.3778586\ttotal: 2.18s\tremaining: 4.46s\n",
      "164:\tlearn: 0.3774389\ttotal: 2.19s\tremaining: 4.45s\n",
      "165:\tlearn: 0.3773156\ttotal: 2.21s\tremaining: 4.44s\n",
      "166:\tlearn: 0.3771452\ttotal: 2.22s\tremaining: 4.42s\n",
      "167:\tlearn: 0.3770804\ttotal: 2.23s\tremaining: 4.41s\n",
      "168:\tlearn: 0.3766514\ttotal: 2.25s\tremaining: 4.4s\n",
      "169:\tlearn: 0.3766513\ttotal: 2.25s\tremaining: 4.37s\n",
      "170:\tlearn: 0.3765951\ttotal: 2.25s\tremaining: 4.34s\n",
      "171:\tlearn: 0.3762732\ttotal: 2.27s\tremaining: 4.33s\n",
      "172:\tlearn: 0.3757335\ttotal: 2.29s\tremaining: 4.32s\n",
      "173:\tlearn: 0.3757120\ttotal: 2.3s\tremaining: 4.3s\n",
      "174:\tlearn: 0.3757106\ttotal: 2.31s\tremaining: 4.28s\n",
      "175:\tlearn: 0.3757105\ttotal: 2.31s\tremaining: 4.25s\n",
      "176:\tlearn: 0.3754872\ttotal: 2.32s\tremaining: 4.24s\n",
      "177:\tlearn: 0.3752807\ttotal: 2.33s\tremaining: 4.22s\n",
      "178:\tlearn: 0.3751956\ttotal: 2.35s\tremaining: 4.21s\n",
      "179:\tlearn: 0.3749530\ttotal: 2.36s\tremaining: 4.2s\n",
      "180:\tlearn: 0.3747654\ttotal: 2.38s\tremaining: 4.19s\n",
      "181:\tlearn: 0.3747614\ttotal: 2.38s\tremaining: 4.16s\n",
      "182:\tlearn: 0.3747614\ttotal: 2.38s\tremaining: 4.13s\n",
      "183:\tlearn: 0.3746237\ttotal: 2.4s\tremaining: 4.12s\n",
      "184:\tlearn: 0.3746152\ttotal: 2.4s\tremaining: 4.09s\n",
      "185:\tlearn: 0.3745536\ttotal: 2.42s\tremaining: 4.08s\n",
      "186:\tlearn: 0.3744695\ttotal: 2.42s\tremaining: 4.06s\n",
      "187:\tlearn: 0.3743769\ttotal: 2.44s\tremaining: 4.04s\n",
      "188:\tlearn: 0.3741842\ttotal: 2.45s\tremaining: 4.04s\n",
      "189:\tlearn: 0.3741302\ttotal: 2.47s\tremaining: 4.03s\n",
      "190:\tlearn: 0.3737404\ttotal: 2.48s\tremaining: 4.01s\n",
      "191:\tlearn: 0.3736904\ttotal: 2.5s\tremaining: 4s\n",
      "192:\tlearn: 0.3733123\ttotal: 2.51s\tremaining: 4s\n",
      "193:\tlearn: 0.3732993\ttotal: 2.52s\tremaining: 3.97s\n",
      "194:\tlearn: 0.3730472\ttotal: 2.53s\tremaining: 3.96s\n",
      "195:\tlearn: 0.3728650\ttotal: 2.55s\tremaining: 3.95s\n",
      "196:\tlearn: 0.3726360\ttotal: 2.56s\tremaining: 3.94s\n",
      "197:\tlearn: 0.3725210\ttotal: 2.58s\tremaining: 3.93s\n",
      "198:\tlearn: 0.3723399\ttotal: 2.59s\tremaining: 3.92s\n",
      "199:\tlearn: 0.3723399\ttotal: 2.6s\tremaining: 3.89s\n",
      "200:\tlearn: 0.3721524\ttotal: 2.61s\tremaining: 3.88s\n",
      "201:\tlearn: 0.3718840\ttotal: 2.62s\tremaining: 3.87s\n",
      "202:\tlearn: 0.3716542\ttotal: 2.64s\tremaining: 3.86s\n",
      "203:\tlearn: 0.3716542\ttotal: 2.64s\tremaining: 3.83s\n",
      "204:\tlearn: 0.3715443\ttotal: 2.65s\tremaining: 3.82s\n",
      "205:\tlearn: 0.3712991\ttotal: 2.67s\tremaining: 3.81s\n",
      "206:\tlearn: 0.3711712\ttotal: 2.68s\tremaining: 3.8s\n",
      "207:\tlearn: 0.3710393\ttotal: 2.7s\tremaining: 3.78s\n",
      "208:\tlearn: 0.3708319\ttotal: 2.71s\tremaining: 3.78s\n",
      "209:\tlearn: 0.3707613\ttotal: 2.73s\tremaining: 3.77s\n",
      "210:\tlearn: 0.3706821\ttotal: 2.74s\tremaining: 3.75s\n",
      "211:\tlearn: 0.3706588\ttotal: 2.75s\tremaining: 3.74s\n",
      "212:\tlearn: 0.3705811\ttotal: 2.77s\tremaining: 3.73s\n",
      "213:\tlearn: 0.3705236\ttotal: 2.78s\tremaining: 3.71s\n",
      "214:\tlearn: 0.3705157\ttotal: 2.78s\tremaining: 3.69s\n",
      "215:\tlearn: 0.3703335\ttotal: 2.8s\tremaining: 3.68s\n",
      "216:\tlearn: 0.3701500\ttotal: 2.81s\tremaining: 3.67s\n",
      "217:\tlearn: 0.3699686\ttotal: 2.83s\tremaining: 3.65s\n",
      "218:\tlearn: 0.3698070\ttotal: 2.84s\tremaining: 3.64s\n",
      "219:\tlearn: 0.3694894\ttotal: 2.85s\tremaining: 3.63s\n",
      "220:\tlearn: 0.3694239\ttotal: 2.87s\tremaining: 3.62s\n",
      "221:\tlearn: 0.3691720\ttotal: 2.88s\tremaining: 3.61s\n",
      "222:\tlearn: 0.3690680\ttotal: 2.9s\tremaining: 3.6s\n",
      "223:\tlearn: 0.3687912\ttotal: 2.92s\tremaining: 3.59s\n",
      "224:\tlearn: 0.3687670\ttotal: 2.93s\tremaining: 3.58s\n",
      "225:\tlearn: 0.3684277\ttotal: 2.94s\tremaining: 3.57s\n",
      "226:\tlearn: 0.3681155\ttotal: 2.96s\tremaining: 3.55s\n",
      "227:\tlearn: 0.3679709\ttotal: 2.97s\tremaining: 3.54s\n",
      "228:\tlearn: 0.3677671\ttotal: 2.98s\tremaining: 3.53s\n",
      "229:\tlearn: 0.3677218\ttotal: 3s\tremaining: 3.52s\n",
      "230:\tlearn: 0.3675959\ttotal: 3.01s\tremaining: 3.51s\n",
      "231:\tlearn: 0.3674413\ttotal: 3.03s\tremaining: 3.5s\n",
      "232:\tlearn: 0.3674145\ttotal: 3.04s\tremaining: 3.48s\n",
      "233:\tlearn: 0.3673270\ttotal: 3.05s\tremaining: 3.47s\n",
      "234:\tlearn: 0.3672649\ttotal: 3.07s\tremaining: 3.46s\n",
      "235:\tlearn: 0.3670847\ttotal: 3.08s\tremaining: 3.45s\n",
      "236:\tlearn: 0.3670756\ttotal: 3.09s\tremaining: 3.43s\n",
      "237:\tlearn: 0.3667866\ttotal: 3.11s\tremaining: 3.42s\n",
      "238:\tlearn: 0.3665618\ttotal: 3.12s\tremaining: 3.41s\n",
      "239:\tlearn: 0.3663671\ttotal: 3.14s\tremaining: 3.4s\n",
      "240:\tlearn: 0.3662840\ttotal: 3.16s\tremaining: 3.4s\n",
      "241:\tlearn: 0.3661241\ttotal: 3.17s\tremaining: 3.38s\n",
      "242:\tlearn: 0.3658468\ttotal: 3.19s\tremaining: 3.37s\n",
      "243:\tlearn: 0.3657582\ttotal: 3.2s\tremaining: 3.36s\n",
      "244:\tlearn: 0.3655447\ttotal: 3.21s\tremaining: 3.35s\n",
      "245:\tlearn: 0.3653545\ttotal: 3.23s\tremaining: 3.33s\n",
      "246:\tlearn: 0.3652943\ttotal: 3.24s\tremaining: 3.32s\n",
      "247:\tlearn: 0.3650655\ttotal: 3.26s\tremaining: 3.31s\n",
      "248:\tlearn: 0.3648724\ttotal: 3.27s\tremaining: 3.3s\n",
      "249:\tlearn: 0.3646284\ttotal: 3.29s\tremaining: 3.29s\n",
      "250:\tlearn: 0.3644398\ttotal: 3.3s\tremaining: 3.28s\n",
      "251:\tlearn: 0.3643483\ttotal: 3.32s\tremaining: 3.27s\n",
      "252:\tlearn: 0.3641964\ttotal: 3.33s\tremaining: 3.25s\n",
      "253:\tlearn: 0.3640721\ttotal: 3.35s\tremaining: 3.24s\n",
      "254:\tlearn: 0.3637209\ttotal: 3.37s\tremaining: 3.23s\n",
      "255:\tlearn: 0.3633726\ttotal: 3.38s\tremaining: 3.22s\n",
      "256:\tlearn: 0.3632543\ttotal: 3.39s\tremaining: 3.21s\n",
      "257:\tlearn: 0.3630079\ttotal: 3.41s\tremaining: 3.2s\n",
      "258:\tlearn: 0.3626719\ttotal: 3.43s\tremaining: 3.19s\n",
      "259:\tlearn: 0.3623196\ttotal: 3.44s\tremaining: 3.18s\n",
      "260:\tlearn: 0.3622156\ttotal: 3.46s\tremaining: 3.17s\n",
      "261:\tlearn: 0.3620793\ttotal: 3.47s\tremaining: 3.15s\n",
      "262:\tlearn: 0.3620054\ttotal: 3.49s\tremaining: 3.14s\n",
      "263:\tlearn: 0.3618397\ttotal: 3.5s\tremaining: 3.13s\n",
      "264:\tlearn: 0.3616604\ttotal: 3.52s\tremaining: 3.12s\n",
      "265:\tlearn: 0.3614938\ttotal: 3.54s\tremaining: 3.11s\n",
      "266:\tlearn: 0.3613859\ttotal: 3.55s\tremaining: 3.1s\n",
      "267:\tlearn: 0.3612183\ttotal: 3.57s\tremaining: 3.09s\n",
      "268:\tlearn: 0.3610847\ttotal: 3.59s\tremaining: 3.08s\n",
      "269:\tlearn: 0.3609287\ttotal: 3.6s\tremaining: 3.07s\n",
      "270:\tlearn: 0.3608512\ttotal: 3.62s\tremaining: 3.06s\n",
      "271:\tlearn: 0.3604722\ttotal: 3.64s\tremaining: 3.05s\n",
      "272:\tlearn: 0.3603515\ttotal: 3.65s\tremaining: 3.03s\n",
      "273:\tlearn: 0.3602639\ttotal: 3.66s\tremaining: 3.02s\n",
      "274:\tlearn: 0.3600345\ttotal: 3.68s\tremaining: 3.01s\n",
      "275:\tlearn: 0.3599839\ttotal: 3.69s\tremaining: 3s\n",
      "276:\tlearn: 0.3597828\ttotal: 3.71s\tremaining: 2.98s\n",
      "277:\tlearn: 0.3595381\ttotal: 3.72s\tremaining: 2.97s\n",
      "278:\tlearn: 0.3593308\ttotal: 3.74s\tremaining: 2.96s\n",
      "279:\tlearn: 0.3591069\ttotal: 3.75s\tremaining: 2.95s\n",
      "280:\tlearn: 0.3590434\ttotal: 3.77s\tremaining: 2.94s\n",
      "281:\tlearn: 0.3588547\ttotal: 3.78s\tremaining: 2.92s\n",
      "282:\tlearn: 0.3587066\ttotal: 3.8s\tremaining: 2.91s\n",
      "283:\tlearn: 0.3586392\ttotal: 3.81s\tremaining: 2.9s\n",
      "284:\tlearn: 0.3583594\ttotal: 3.83s\tremaining: 2.89s\n",
      "285:\tlearn: 0.3580347\ttotal: 3.84s\tremaining: 2.88s\n",
      "286:\tlearn: 0.3579646\ttotal: 3.86s\tremaining: 2.86s\n",
      "287:\tlearn: 0.3578065\ttotal: 3.87s\tremaining: 2.85s\n",
      "288:\tlearn: 0.3575508\ttotal: 3.89s\tremaining: 2.84s\n",
      "289:\tlearn: 0.3574212\ttotal: 3.9s\tremaining: 2.83s\n",
      "290:\tlearn: 0.3571427\ttotal: 3.92s\tremaining: 2.81s\n",
      "291:\tlearn: 0.3568722\ttotal: 3.93s\tremaining: 2.8s\n",
      "292:\tlearn: 0.3565287\ttotal: 3.95s\tremaining: 2.79s\n",
      "293:\tlearn: 0.3563626\ttotal: 3.97s\tremaining: 2.78s\n",
      "294:\tlearn: 0.3562085\ttotal: 3.98s\tremaining: 2.77s\n",
      "295:\tlearn: 0.3560921\ttotal: 4s\tremaining: 2.75s\n",
      "296:\tlearn: 0.3560424\ttotal: 4.01s\tremaining: 2.74s\n",
      "297:\tlearn: 0.3559327\ttotal: 4.03s\tremaining: 2.73s\n",
      "298:\tlearn: 0.3557241\ttotal: 4.04s\tremaining: 2.71s\n",
      "299:\tlearn: 0.3554407\ttotal: 4.05s\tremaining: 2.7s\n",
      "300:\tlearn: 0.3551409\ttotal: 4.07s\tremaining: 2.69s\n",
      "301:\tlearn: 0.3549129\ttotal: 4.08s\tremaining: 2.68s\n",
      "302:\tlearn: 0.3548415\ttotal: 4.1s\tremaining: 2.66s\n",
      "303:\tlearn: 0.3546732\ttotal: 4.11s\tremaining: 2.65s\n",
      "304:\tlearn: 0.3546542\ttotal: 4.13s\tremaining: 2.64s\n",
      "305:\tlearn: 0.3545388\ttotal: 4.14s\tremaining: 2.63s\n",
      "306:\tlearn: 0.3543406\ttotal: 4.17s\tremaining: 2.62s\n",
      "307:\tlearn: 0.3541917\ttotal: 4.18s\tremaining: 2.61s\n",
      "308:\tlearn: 0.3539999\ttotal: 4.2s\tremaining: 2.59s\n",
      "309:\tlearn: 0.3538108\ttotal: 4.21s\tremaining: 2.58s\n",
      "310:\tlearn: 0.3536731\ttotal: 4.22s\tremaining: 2.57s\n",
      "311:\tlearn: 0.3534006\ttotal: 4.24s\tremaining: 2.55s\n",
      "312:\tlearn: 0.3532101\ttotal: 4.26s\tremaining: 2.54s\n",
      "313:\tlearn: 0.3529822\ttotal: 4.27s\tremaining: 2.53s\n",
      "314:\tlearn: 0.3528495\ttotal: 4.29s\tremaining: 2.52s\n",
      "315:\tlearn: 0.3526412\ttotal: 4.3s\tremaining: 2.5s\n",
      "316:\tlearn: 0.3525339\ttotal: 4.32s\tremaining: 2.49s\n",
      "317:\tlearn: 0.3524029\ttotal: 4.33s\tremaining: 2.48s\n",
      "318:\tlearn: 0.3521534\ttotal: 4.34s\tremaining: 2.46s\n",
      "319:\tlearn: 0.3520895\ttotal: 4.36s\tremaining: 2.45s\n",
      "320:\tlearn: 0.3519828\ttotal: 4.38s\tremaining: 2.44s\n",
      "321:\tlearn: 0.3517875\ttotal: 4.4s\tremaining: 2.43s\n",
      "322:\tlearn: 0.3516284\ttotal: 4.41s\tremaining: 2.42s\n",
      "323:\tlearn: 0.3515034\ttotal: 4.43s\tremaining: 2.4s\n",
      "324:\tlearn: 0.3514185\ttotal: 4.44s\tremaining: 2.39s\n",
      "325:\tlearn: 0.3509487\ttotal: 4.46s\tremaining: 2.38s\n",
      "326:\tlearn: 0.3507708\ttotal: 4.47s\tremaining: 2.37s\n",
      "327:\tlearn: 0.3506874\ttotal: 4.49s\tremaining: 2.35s\n",
      "328:\tlearn: 0.3504599\ttotal: 4.5s\tremaining: 2.34s\n",
      "329:\tlearn: 0.3503495\ttotal: 4.51s\tremaining: 2.33s\n",
      "330:\tlearn: 0.3501687\ttotal: 4.53s\tremaining: 2.31s\n",
      "331:\tlearn: 0.3499101\ttotal: 4.54s\tremaining: 2.3s\n",
      "332:\tlearn: 0.3498210\ttotal: 4.56s\tremaining: 2.29s\n",
      "333:\tlearn: 0.3494029\ttotal: 4.57s\tremaining: 2.27s\n",
      "334:\tlearn: 0.3493581\ttotal: 4.59s\tremaining: 2.26s\n",
      "335:\tlearn: 0.3490606\ttotal: 4.61s\tremaining: 2.25s\n",
      "336:\tlearn: 0.3488180\ttotal: 4.62s\tremaining: 2.24s\n",
      "337:\tlearn: 0.3484952\ttotal: 4.64s\tremaining: 2.22s\n",
      "338:\tlearn: 0.3483143\ttotal: 4.65s\tremaining: 2.21s\n",
      "339:\tlearn: 0.3481996\ttotal: 4.67s\tremaining: 2.2s\n",
      "340:\tlearn: 0.3479902\ttotal: 4.68s\tremaining: 2.18s\n",
      "341:\tlearn: 0.3477274\ttotal: 4.7s\tremaining: 2.17s\n",
      "342:\tlearn: 0.3475065\ttotal: 4.71s\tremaining: 2.16s\n",
      "343:\tlearn: 0.3473400\ttotal: 4.73s\tremaining: 2.14s\n",
      "344:\tlearn: 0.3471556\ttotal: 4.74s\tremaining: 2.13s\n",
      "345:\tlearn: 0.3469520\ttotal: 4.76s\tremaining: 2.12s\n",
      "346:\tlearn: 0.3466026\ttotal: 4.77s\tremaining: 2.1s\n",
      "347:\tlearn: 0.3463774\ttotal: 4.79s\tremaining: 2.09s\n",
      "348:\tlearn: 0.3462228\ttotal: 4.81s\tremaining: 2.08s\n",
      "349:\tlearn: 0.3461508\ttotal: 4.82s\tremaining: 2.07s\n",
      "350:\tlearn: 0.3460176\ttotal: 4.84s\tremaining: 2.05s\n",
      "351:\tlearn: 0.3458432\ttotal: 4.85s\tremaining: 2.04s\n",
      "352:\tlearn: 0.3454996\ttotal: 4.87s\tremaining: 2.03s\n",
      "353:\tlearn: 0.3451970\ttotal: 4.88s\tremaining: 2.01s\n",
      "354:\tlearn: 0.3451102\ttotal: 4.9s\tremaining: 2s\n",
      "355:\tlearn: 0.3447731\ttotal: 4.92s\tremaining: 1.99s\n",
      "356:\tlearn: 0.3446841\ttotal: 4.93s\tremaining: 1.98s\n",
      "357:\tlearn: 0.3445504\ttotal: 4.95s\tremaining: 1.96s\n",
      "358:\tlearn: 0.3444582\ttotal: 4.96s\tremaining: 1.95s\n",
      "359:\tlearn: 0.3440978\ttotal: 4.98s\tremaining: 1.94s\n",
      "360:\tlearn: 0.3439050\ttotal: 4.99s\tremaining: 1.92s\n",
      "361:\tlearn: 0.3436887\ttotal: 5.01s\tremaining: 1.91s\n",
      "362:\tlearn: 0.3435651\ttotal: 5.02s\tremaining: 1.9s\n",
      "363:\tlearn: 0.3434371\ttotal: 5.04s\tremaining: 1.88s\n",
      "364:\tlearn: 0.3432893\ttotal: 5.05s\tremaining: 1.87s\n",
      "365:\tlearn: 0.3429479\ttotal: 5.07s\tremaining: 1.85s\n",
      "366:\tlearn: 0.3428135\ttotal: 5.08s\tremaining: 1.84s\n",
      "367:\tlearn: 0.3426174\ttotal: 5.1s\tremaining: 1.83s\n",
      "368:\tlearn: 0.3424899\ttotal: 5.11s\tremaining: 1.81s\n",
      "369:\tlearn: 0.3423772\ttotal: 5.13s\tremaining: 1.8s\n",
      "370:\tlearn: 0.3421469\ttotal: 5.14s\tremaining: 1.79s\n",
      "371:\tlearn: 0.3420274\ttotal: 5.16s\tremaining: 1.77s\n",
      "372:\tlearn: 0.3415759\ttotal: 5.17s\tremaining: 1.76s\n",
      "373:\tlearn: 0.3414616\ttotal: 5.19s\tremaining: 1.75s\n",
      "374:\tlearn: 0.3413976\ttotal: 5.21s\tremaining: 1.74s\n",
      "375:\tlearn: 0.3413170\ttotal: 5.22s\tremaining: 1.72s\n",
      "376:\tlearn: 0.3411148\ttotal: 5.24s\tremaining: 1.71s\n",
      "377:\tlearn: 0.3410075\ttotal: 5.25s\tremaining: 1.7s\n",
      "378:\tlearn: 0.3407003\ttotal: 5.27s\tremaining: 1.68s\n",
      "379:\tlearn: 0.3405885\ttotal: 5.28s\tremaining: 1.67s\n",
      "380:\tlearn: 0.3403903\ttotal: 5.3s\tremaining: 1.65s\n",
      "381:\tlearn: 0.3403273\ttotal: 5.31s\tremaining: 1.64s\n",
      "382:\tlearn: 0.3401830\ttotal: 5.33s\tremaining: 1.63s\n",
      "383:\tlearn: 0.3400521\ttotal: 5.34s\tremaining: 1.61s\n",
      "384:\tlearn: 0.3398488\ttotal: 5.36s\tremaining: 1.6s\n",
      "385:\tlearn: 0.3396801\ttotal: 5.37s\tremaining: 1.59s\n",
      "386:\tlearn: 0.3395089\ttotal: 5.39s\tremaining: 1.57s\n",
      "387:\tlearn: 0.3393452\ttotal: 5.4s\tremaining: 1.56s\n",
      "388:\tlearn: 0.3392108\ttotal: 5.42s\tremaining: 1.55s\n",
      "389:\tlearn: 0.3389851\ttotal: 5.43s\tremaining: 1.53s\n",
      "390:\tlearn: 0.3389058\ttotal: 5.45s\tremaining: 1.52s\n",
      "391:\tlearn: 0.3387739\ttotal: 5.46s\tremaining: 1.5s\n",
      "392:\tlearn: 0.3385380\ttotal: 5.48s\tremaining: 1.49s\n",
      "393:\tlearn: 0.3384344\ttotal: 5.49s\tremaining: 1.48s\n",
      "394:\tlearn: 0.3383167\ttotal: 5.51s\tremaining: 1.46s\n",
      "395:\tlearn: 0.3381750\ttotal: 5.52s\tremaining: 1.45s\n",
      "396:\tlearn: 0.3379037\ttotal: 5.54s\tremaining: 1.44s\n",
      "397:\tlearn: 0.3377806\ttotal: 5.55s\tremaining: 1.42s\n",
      "398:\tlearn: 0.3375244\ttotal: 5.57s\tremaining: 1.41s\n",
      "399:\tlearn: 0.3373756\ttotal: 5.58s\tremaining: 1.4s\n",
      "400:\tlearn: 0.3372618\ttotal: 5.59s\tremaining: 1.38s\n",
      "401:\tlearn: 0.3371872\ttotal: 5.61s\tremaining: 1.37s\n",
      "402:\tlearn: 0.3370547\ttotal: 5.63s\tremaining: 1.35s\n",
      "403:\tlearn: 0.3367919\ttotal: 5.65s\tremaining: 1.34s\n",
      "404:\tlearn: 0.3364496\ttotal: 5.66s\tremaining: 1.33s\n",
      "405:\tlearn: 0.3362005\ttotal: 5.68s\tremaining: 1.31s\n",
      "406:\tlearn: 0.3359001\ttotal: 5.69s\tremaining: 1.3s\n",
      "407:\tlearn: 0.3357192\ttotal: 5.71s\tremaining: 1.29s\n",
      "408:\tlearn: 0.3353822\ttotal: 5.72s\tremaining: 1.27s\n",
      "409:\tlearn: 0.3352714\ttotal: 5.74s\tremaining: 1.26s\n",
      "410:\tlearn: 0.3351614\ttotal: 5.75s\tremaining: 1.25s\n",
      "411:\tlearn: 0.3348999\ttotal: 5.77s\tremaining: 1.23s\n",
      "412:\tlearn: 0.3348740\ttotal: 5.79s\tremaining: 1.22s\n",
      "413:\tlearn: 0.3347609\ttotal: 5.8s\tremaining: 1.2s\n",
      "414:\tlearn: 0.3346907\ttotal: 5.82s\tremaining: 1.19s\n",
      "415:\tlearn: 0.3345339\ttotal: 5.83s\tremaining: 1.18s\n",
      "416:\tlearn: 0.3343597\ttotal: 5.85s\tremaining: 1.16s\n",
      "417:\tlearn: 0.3341271\ttotal: 5.87s\tremaining: 1.15s\n",
      "418:\tlearn: 0.3340067\ttotal: 5.88s\tremaining: 1.14s\n",
      "419:\tlearn: 0.3339294\ttotal: 5.89s\tremaining: 1.12s\n",
      "420:\tlearn: 0.3337336\ttotal: 5.91s\tremaining: 1.11s\n",
      "421:\tlearn: 0.3336545\ttotal: 5.93s\tremaining: 1.09s\n",
      "422:\tlearn: 0.3336341\ttotal: 5.94s\tremaining: 1.08s\n",
      "423:\tlearn: 0.3333530\ttotal: 5.96s\tremaining: 1.07s\n",
      "424:\tlearn: 0.3331518\ttotal: 5.97s\tremaining: 1.05s\n",
      "425:\tlearn: 0.3330301\ttotal: 5.99s\tremaining: 1.04s\n",
      "426:\tlearn: 0.3327140\ttotal: 6.01s\tremaining: 1.03s\n",
      "427:\tlearn: 0.3325625\ttotal: 6.02s\tremaining: 1.01s\n",
      "428:\tlearn: 0.3324614\ttotal: 6.05s\tremaining: 1s\n",
      "429:\tlearn: 0.3321999\ttotal: 6.06s\tremaining: 987ms\n",
      "430:\tlearn: 0.3320628\ttotal: 6.08s\tremaining: 973ms\n",
      "431:\tlearn: 0.3319132\ttotal: 6.09s\tremaining: 959ms\n",
      "432:\tlearn: 0.3316052\ttotal: 6.11s\tremaining: 946ms\n",
      "433:\tlearn: 0.3312999\ttotal: 6.13s\tremaining: 932ms\n",
      "434:\tlearn: 0.3312324\ttotal: 6.15s\tremaining: 919ms\n",
      "435:\tlearn: 0.3311067\ttotal: 6.17s\tremaining: 906ms\n",
      "436:\tlearn: 0.3309951\ttotal: 6.18s\tremaining: 892ms\n",
      "437:\tlearn: 0.3306342\ttotal: 6.2s\tremaining: 878ms\n",
      "438:\tlearn: 0.3304373\ttotal: 6.22s\tremaining: 865ms\n",
      "439:\tlearn: 0.3301533\ttotal: 6.24s\tremaining: 851ms\n",
      "440:\tlearn: 0.3300713\ttotal: 6.26s\tremaining: 837ms\n",
      "441:\tlearn: 0.3299590\ttotal: 6.27s\tremaining: 823ms\n",
      "442:\tlearn: 0.3297630\ttotal: 6.29s\tremaining: 809ms\n",
      "443:\tlearn: 0.3296370\ttotal: 6.3s\tremaining: 795ms\n",
      "444:\tlearn: 0.3295946\ttotal: 6.32s\tremaining: 781ms\n",
      "445:\tlearn: 0.3294368\ttotal: 6.33s\tremaining: 767ms\n",
      "446:\tlearn: 0.3292824\ttotal: 6.35s\tremaining: 753ms\n",
      "447:\tlearn: 0.3290629\ttotal: 6.37s\tremaining: 739ms\n",
      "448:\tlearn: 0.3288364\ttotal: 6.38s\tremaining: 725ms\n",
      "449:\tlearn: 0.3284202\ttotal: 6.4s\tremaining: 711ms\n",
      "450:\tlearn: 0.3282682\ttotal: 6.41s\tremaining: 697ms\n",
      "451:\tlearn: 0.3280266\ttotal: 6.43s\tremaining: 683ms\n",
      "452:\tlearn: 0.3279337\ttotal: 6.44s\tremaining: 668ms\n",
      "453:\tlearn: 0.3277145\ttotal: 6.46s\tremaining: 655ms\n",
      "454:\tlearn: 0.3276350\ttotal: 6.47s\tremaining: 640ms\n",
      "455:\tlearn: 0.3275007\ttotal: 6.49s\tremaining: 626ms\n",
      "456:\tlearn: 0.3273133\ttotal: 6.5s\tremaining: 612ms\n",
      "457:\tlearn: 0.3272811\ttotal: 6.52s\tremaining: 598ms\n",
      "458:\tlearn: 0.3272454\ttotal: 6.54s\tremaining: 584ms\n",
      "459:\tlearn: 0.3270409\ttotal: 6.55s\tremaining: 570ms\n",
      "460:\tlearn: 0.3266970\ttotal: 6.57s\tremaining: 556ms\n",
      "461:\tlearn: 0.3266030\ttotal: 6.58s\tremaining: 541ms\n",
      "462:\tlearn: 0.3265370\ttotal: 6.59s\tremaining: 527ms\n",
      "463:\tlearn: 0.3264853\ttotal: 6.61s\tremaining: 513ms\n",
      "464:\tlearn: 0.3263843\ttotal: 6.63s\tremaining: 499ms\n",
      "465:\tlearn: 0.3261053\ttotal: 6.64s\tremaining: 485ms\n",
      "466:\tlearn: 0.3259791\ttotal: 6.66s\tremaining: 470ms\n",
      "467:\tlearn: 0.3258896\ttotal: 6.68s\tremaining: 457ms\n",
      "468:\tlearn: 0.3258713\ttotal: 6.69s\tremaining: 442ms\n",
      "469:\tlearn: 0.3256780\ttotal: 6.71s\tremaining: 428ms\n",
      "470:\tlearn: 0.3256340\ttotal: 6.72s\tremaining: 414ms\n",
      "471:\tlearn: 0.3255778\ttotal: 6.74s\tremaining: 400ms\n",
      "472:\tlearn: 0.3252835\ttotal: 6.75s\tremaining: 386ms\n",
      "473:\tlearn: 0.3251741\ttotal: 6.77s\tremaining: 371ms\n",
      "474:\tlearn: 0.3250774\ttotal: 6.78s\tremaining: 357ms\n",
      "475:\tlearn: 0.3248538\ttotal: 6.8s\tremaining: 343ms\n",
      "476:\tlearn: 0.3246772\ttotal: 6.82s\tremaining: 329ms\n",
      "477:\tlearn: 0.3246092\ttotal: 6.83s\tremaining: 314ms\n",
      "478:\tlearn: 0.3244254\ttotal: 6.85s\tremaining: 300ms\n",
      "479:\tlearn: 0.3242783\ttotal: 6.86s\tremaining: 286ms\n",
      "480:\tlearn: 0.3238921\ttotal: 6.88s\tremaining: 272ms\n",
      "481:\tlearn: 0.3238137\ttotal: 6.9s\tremaining: 258ms\n",
      "482:\tlearn: 0.3233377\ttotal: 6.91s\tremaining: 243ms\n",
      "483:\tlearn: 0.3231554\ttotal: 6.93s\tremaining: 229ms\n",
      "484:\tlearn: 0.3230116\ttotal: 6.94s\tremaining: 215ms\n",
      "485:\tlearn: 0.3227698\ttotal: 6.96s\tremaining: 200ms\n",
      "486:\tlearn: 0.3226568\ttotal: 6.97s\tremaining: 186ms\n",
      "487:\tlearn: 0.3224436\ttotal: 6.99s\tremaining: 172ms\n",
      "488:\tlearn: 0.3223121\ttotal: 7s\tremaining: 157ms\n",
      "489:\tlearn: 0.3222229\ttotal: 7.01s\tremaining: 143ms\n",
      "490:\tlearn: 0.3221364\ttotal: 7.03s\tremaining: 129ms\n",
      "491:\tlearn: 0.3220970\ttotal: 7.04s\tremaining: 115ms\n",
      "492:\tlearn: 0.3218669\ttotal: 7.06s\tremaining: 100ms\n",
      "493:\tlearn: 0.3216301\ttotal: 7.08s\tremaining: 85.9ms\n",
      "494:\tlearn: 0.3214794\ttotal: 7.09s\tremaining: 71.7ms\n",
      "495:\tlearn: 0.3212252\ttotal: 7.11s\tremaining: 57.4ms\n",
      "496:\tlearn: 0.3210390\ttotal: 7.14s\tremaining: 43.1ms\n",
      "497:\tlearn: 0.3209453\ttotal: 7.15s\tremaining: 28.7ms\n",
      "498:\tlearn: 0.3208282\ttotal: 7.17s\tremaining: 14.4ms\n",
      "499:\tlearn: 0.3207302\ttotal: 7.18s\tremaining: 0us\n"
     ]
    }
   ],
   "source": [
    "best_model = boosting_model\n",
    "boosting_model.fit(X_train_origin, y_train)\n",
    "\n",
    "X_test = pd.read_csv('./test.csv')\n",
    "submission = pd.read_csv('./submission.csv')\n",
    "\n",
    "submission['Churn'] = best_model.predict_proba(X_test)[:, 1]\n",
    "submission.to_csv('./my_submission.csv',  index=False)"
   ]
  }
 ],
 "metadata": {
  "colab": {
   "collapsed_sections": [],
   "name": "baseline.ipynb",
   "provenance": []
  },
  "kernelspec": {
   "display_name": "Python 3 (ipykernel)",
   "language": "python",
   "name": "python3"
  },
  "language_info": {
   "codemirror_mode": {
    "name": "ipython",
    "version": 3
   },
   "file_extension": ".py",
   "mimetype": "text/x-python",
   "name": "python",
   "nbconvert_exporter": "python",
   "pygments_lexer": "ipython3",
   "version": "3.8.5"
  }
 },
 "nbformat": 4,
 "nbformat_minor": 1
}
