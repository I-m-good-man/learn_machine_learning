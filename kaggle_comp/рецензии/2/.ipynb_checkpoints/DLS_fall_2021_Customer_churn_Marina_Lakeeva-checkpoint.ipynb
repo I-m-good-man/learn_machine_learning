{
 "cells": [
  {
   "cell_type": "markdown",
   "metadata": {
    "id": "TK7oX5qdEEYr"
   },
   "source": [
    "<p style=\"align: center;\"><img align=center src=\"https://s8.hostingkartinok.com/uploads/images/2018/08/308b49fcfbc619d629fe4604bceb67ac.jpg\" width=500 height=450/></p>\n",
    "\n",
    "<h3 style=\"text-align: center;\"><b>Школа глубокого обучения ФПМИ МФТИ</b></h3>\n",
    "\n",
    "<h3 style=\"text-align: center;\"><b>Домашнее задание. Продвинутый поток. Весна 2021</b></h3>\n",
    "\n",
    "Это домашнее задание будет посвящено полноценному решению задачи машинного обучения."
   ]
  },
  {
   "cell_type": "markdown",
   "metadata": {
    "id": "zlB-owfaEEYs"
   },
   "source": [
    "Есть две части этого домашнего задания: \n",
    "* Сделать полноценный отчет о вашей работе: как вы обработали данные, какие модели попробовали и какие результаты получились (максимум 10 баллов). За каждую выполненную часть будет начислено определенное количество баллов.\n",
    "* Лучшее решение отправить в соревнование на [kaggle](https://www.kaggle.com/c/advanced-dls-spring-2021/) (максимум 5 баллов). За прохождение определенного порогов будут начисляться баллы.\n",
    "\n",
    "\n",
    "**Обе части будут проверяться в формате peer-review. Т.е. вашу посылку на степик будут проверять несколько других студентов и аггрегация их оценок будет выставлена. В то же время вам тоже нужно будет проверить несколько других учеников.**\n",
    "\n",
    "**Пожалуйста, делайте свою работу чистой и понятной, чтобы облегчить проверку. Если у вас будут проблемы с решением или хочется совета, то пишите в наш чат в телеграме или в лс @runfme. Если вы захотите проаппелировать оценку, то пипшите в лс @runfme.**\n",
    "\n",
    "**Во всех пунктах указания это минимальный набор вещей, которые стоит сделать. Если вы можете сделать какой-то шаг лучше или добавить что-то свое - дерзайте!**"
   ]
  },
  {
   "cell_type": "markdown",
   "metadata": {
    "id": "Tu_JvqcBEN8Y"
   },
   "source": [
    "# Как проверять?\n",
    "\n",
    "Ставьте полный балл, если выполнены все рекомендации или сделано что-то более интересное и сложное. За каждый отсустствующий пункт из рекомендация снижайте 1 балл."
   ]
  },
  {
   "cell_type": "markdown",
   "metadata": {
    "id": "ninJ63mJEEYt"
   },
   "source": [
    "# Метрика\n",
    "\n",
    "Перед решением любой задачи важно понимать, как будет оцениваться ваше решение. В данном случае мы используем стандартную для задачи классификации метрику ROC-AUC. Ее можно вычислить используя только предсказанные вероятности и истинные классы без конкретного порога классификации + она раотает даже если классы в данных сильно несбалансированны (примеров одного класса в десятки раз больше примеров длугого). Именно поэтому она очень удобна для соревнований.\n",
    "\n",
    "Посчитать ее легко:\n"
   ]
  },
  {
   "cell_type": "code",
   "execution_count": 1,
   "metadata": {
    "colab": {
     "base_uri": "https://localhost:8080/"
    },
    "id": "SQIrka7yEEYu",
    "outputId": "02d34cef-045b-46a0-fcd9-bdfae9e84e85"
   },
   "outputs": [
    {
     "data": {
      "text/plain": [
       "0.8333333333333333"
      ]
     },
     "execution_count": 1,
     "metadata": {},
     "output_type": "execute_result"
    }
   ],
   "source": [
    "from sklearn.metrics import roc_auc_score\n",
    "\n",
    "y_true = [\n",
    "    0,\n",
    "    1,\n",
    "    1,\n",
    "    0,\n",
    "    1\n",
    "]\n",
    "\n",
    "y_predictions = [\n",
    "    0.1,\n",
    "    0.9,\n",
    "    0.4,\n",
    "    0.6,\n",
    "    0.61\n",
    "]\n",
    "\n",
    "roc_auc_score(y_true, y_predictions)"
   ]
  },
  {
   "cell_type": "markdown",
   "metadata": {
    "id": "IrDNNkNTEEYz"
   },
   "source": [
    "# Первая часть. Исследование"
   ]
  },
  {
   "cell_type": "code",
   "execution_count": 2,
   "metadata": {
    "id": "lzLqEeZKEEYz"
   },
   "outputs": [],
   "source": [
    "import pandas as pd\n",
    "import numpy as np\n",
    "from matplotlib import pyplot as plt"
   ]
  },
  {
   "cell_type": "markdown",
   "metadata": {
    "id": "LOlxdURSEEY3"
   },
   "source": [
    "## Загрузка данных (2 балла)\n",
    "\n",
    "1) Посмотрите на случайные строчки. \n",
    "\n",
    "2) Посмотрите, есть ли в датасете незаполненные значения (nan'ы) с помощью data.isna() или data.info() и, если нужно, замените их на что-то. Будет хорошо, если вы построите табличку с количеством nan в каждой колонке."
   ]
  },
  {
   "cell_type": "code",
   "execution_count": 3,
   "metadata": {
    "id": "pw-Brue9EEY3"
   },
   "outputs": [],
   "source": [
    "data = pd.read_csv('./train.csv')"
   ]
  },
  {
   "cell_type": "markdown",
   "metadata": {
    "id": "Zn3ZOhTZRYFD"
   },
   "source": [
    "Посмотрим на выборку из 5 строк из датасета."
   ]
  },
  {
   "cell_type": "code",
   "execution_count": 4,
   "metadata": {
    "colab": {
     "base_uri": "https://localhost:8080/",
     "height": 301
    },
    "id": "2stM_tUUQ8qS",
    "outputId": "68ead408-aad1-4e42-fa58-25ebbb904ce5"
   },
   "outputs": [
    {
     "data": {
      "text/html": [
       "<div>\n",
       "<style scoped>\n",
       "    .dataframe tbody tr th:only-of-type {\n",
       "        vertical-align: middle;\n",
       "    }\n",
       "\n",
       "    .dataframe tbody tr th {\n",
       "        vertical-align: top;\n",
       "    }\n",
       "\n",
       "    .dataframe thead th {\n",
       "        text-align: right;\n",
       "    }\n",
       "</style>\n",
       "<table border=\"1\" class=\"dataframe\">\n",
       "  <thead>\n",
       "    <tr style=\"text-align: right;\">\n",
       "      <th></th>\n",
       "      <th>ClientPeriod</th>\n",
       "      <th>MonthlySpending</th>\n",
       "      <th>TotalSpent</th>\n",
       "      <th>Sex</th>\n",
       "      <th>IsSeniorCitizen</th>\n",
       "      <th>HasPartner</th>\n",
       "      <th>HasChild</th>\n",
       "      <th>HasPhoneService</th>\n",
       "      <th>HasMultiplePhoneNumbers</th>\n",
       "      <th>HasInternetService</th>\n",
       "      <th>HasOnlineSecurityService</th>\n",
       "      <th>HasOnlineBackup</th>\n",
       "      <th>HasDeviceProtection</th>\n",
       "      <th>HasTechSupportAccess</th>\n",
       "      <th>HasOnlineTV</th>\n",
       "      <th>HasMovieSubscription</th>\n",
       "      <th>HasContractPhone</th>\n",
       "      <th>IsBillingPaperless</th>\n",
       "      <th>PaymentMethod</th>\n",
       "      <th>Churn</th>\n",
       "    </tr>\n",
       "  </thead>\n",
       "  <tbody>\n",
       "    <tr>\n",
       "      <th>2519</th>\n",
       "      <td>72</td>\n",
       "      <td>92.00</td>\n",
       "      <td>6632.75</td>\n",
       "      <td>Male</td>\n",
       "      <td>0</td>\n",
       "      <td>No</td>\n",
       "      <td>No</td>\n",
       "      <td>Yes</td>\n",
       "      <td>Yes</td>\n",
       "      <td>DSL</td>\n",
       "      <td>Yes</td>\n",
       "      <td>Yes</td>\n",
       "      <td>Yes</td>\n",
       "      <td>Yes</td>\n",
       "      <td>Yes</td>\n",
       "      <td>Yes</td>\n",
       "      <td>Two year</td>\n",
       "      <td>No</td>\n",
       "      <td>Bank transfer (automatic)</td>\n",
       "      <td>0</td>\n",
       "    </tr>\n",
       "    <tr>\n",
       "      <th>3996</th>\n",
       "      <td>2</td>\n",
       "      <td>20.05</td>\n",
       "      <td>42.7</td>\n",
       "      <td>Male</td>\n",
       "      <td>0</td>\n",
       "      <td>No</td>\n",
       "      <td>No</td>\n",
       "      <td>Yes</td>\n",
       "      <td>No</td>\n",
       "      <td>No</td>\n",
       "      <td>No internet service</td>\n",
       "      <td>No internet service</td>\n",
       "      <td>No internet service</td>\n",
       "      <td>No internet service</td>\n",
       "      <td>No internet service</td>\n",
       "      <td>No internet service</td>\n",
       "      <td>Month-to-month</td>\n",
       "      <td>No</td>\n",
       "      <td>Mailed check</td>\n",
       "      <td>0</td>\n",
       "    </tr>\n",
       "    <tr>\n",
       "      <th>4444</th>\n",
       "      <td>1</td>\n",
       "      <td>70.30</td>\n",
       "      <td>70.3</td>\n",
       "      <td>Female</td>\n",
       "      <td>0</td>\n",
       "      <td>No</td>\n",
       "      <td>No</td>\n",
       "      <td>Yes</td>\n",
       "      <td>No</td>\n",
       "      <td>Fiber optic</td>\n",
       "      <td>No</td>\n",
       "      <td>No</td>\n",
       "      <td>No</td>\n",
       "      <td>No</td>\n",
       "      <td>No</td>\n",
       "      <td>No</td>\n",
       "      <td>Month-to-month</td>\n",
       "      <td>Yes</td>\n",
       "      <td>Electronic check</td>\n",
       "      <td>1</td>\n",
       "    </tr>\n",
       "    <tr>\n",
       "      <th>4220</th>\n",
       "      <td>70</td>\n",
       "      <td>80.70</td>\n",
       "      <td>5617.95</td>\n",
       "      <td>Female</td>\n",
       "      <td>0</td>\n",
       "      <td>Yes</td>\n",
       "      <td>Yes</td>\n",
       "      <td>Yes</td>\n",
       "      <td>Yes</td>\n",
       "      <td>DSL</td>\n",
       "      <td>Yes</td>\n",
       "      <td>Yes</td>\n",
       "      <td>Yes</td>\n",
       "      <td>Yes</td>\n",
       "      <td>Yes</td>\n",
       "      <td>No</td>\n",
       "      <td>Two year</td>\n",
       "      <td>No</td>\n",
       "      <td>Electronic check</td>\n",
       "      <td>0</td>\n",
       "    </tr>\n",
       "    <tr>\n",
       "      <th>535</th>\n",
       "      <td>64</td>\n",
       "      <td>89.45</td>\n",
       "      <td>5692.65</td>\n",
       "      <td>Male</td>\n",
       "      <td>0</td>\n",
       "      <td>Yes</td>\n",
       "      <td>No</td>\n",
       "      <td>Yes</td>\n",
       "      <td>Yes</td>\n",
       "      <td>Fiber optic</td>\n",
       "      <td>Yes</td>\n",
       "      <td>Yes</td>\n",
       "      <td>Yes</td>\n",
       "      <td>No</td>\n",
       "      <td>No</td>\n",
       "      <td>No</td>\n",
       "      <td>One year</td>\n",
       "      <td>No</td>\n",
       "      <td>Bank transfer (automatic)</td>\n",
       "      <td>0</td>\n",
       "    </tr>\n",
       "  </tbody>\n",
       "</table>\n",
       "</div>"
      ],
      "text/plain": [
       "      ClientPeriod  MonthlySpending  ...              PaymentMethod Churn\n",
       "2519            72            92.00  ...  Bank transfer (automatic)     0\n",
       "3996             2            20.05  ...               Mailed check     0\n",
       "4444             1            70.30  ...           Electronic check     1\n",
       "4220            70            80.70  ...           Electronic check     0\n",
       "535             64            89.45  ...  Bank transfer (automatic)     0\n",
       "\n",
       "[5 rows x 20 columns]"
      ]
     },
     "execution_count": 4,
     "metadata": {},
     "output_type": "execute_result"
    }
   ],
   "source": [
    "data.sample(5)"
   ]
  },
  {
   "cell_type": "code",
   "execution_count": 5,
   "metadata": {
    "id": "KgnkkF5bEEY9"
   },
   "outputs": [],
   "source": [
    "# Для вашего удобства списки с именами разных колонок\n",
    "\n",
    "# Числовые признаки\n",
    "num_cols = [\n",
    "    'ClientPeriod',\n",
    "    'MonthlySpending',\n",
    "    'TotalSpent'\n",
    "]\n",
    "\n",
    "# Категориальные признаки\n",
    "cat_cols = [\n",
    "    'Sex',\n",
    "    'IsSeniorCitizen',\n",
    "    'HasPartner',\n",
    "    'HasChild',\n",
    "    'HasPhoneService',\n",
    "    'HasMultiplePhoneNumbers',\n",
    "    'HasInternetService',\n",
    "    'HasOnlineSecurityService',\n",
    "    'HasOnlineBackup',\n",
    "    'HasDeviceProtection',\n",
    "    'HasTechSupportAccess',\n",
    "    'HasOnlineTV',\n",
    "    'HasMovieSubscription',\n",
    "    'HasContractPhone',\n",
    "    'IsBillingPaperless',\n",
    "    'PaymentMethod'\n",
    "]\n",
    "\n",
    "feature_cols = num_cols + cat_cols\n",
    "target_col = 'Churn'"
   ]
  },
  {
   "cell_type": "markdown",
   "metadata": {
    "id": "lILaM5MvRfrS"
   },
   "source": [
    "Проверим, какой тип данных используется в каждой колонке и нет ли отсутствующих значений."
   ]
  },
  {
   "cell_type": "code",
   "execution_count": 6,
   "metadata": {
    "colab": {
     "base_uri": "https://localhost:8080/"
    },
    "id": "tHC6gWabEEZA",
    "outputId": "33fc1149-ec35-4f59-d140-4daddd48baaf"
   },
   "outputs": [
    {
     "name": "stdout",
     "output_type": "stream",
     "text": [
      "<class 'pandas.core.frame.DataFrame'>\n",
      "RangeIndex: 5282 entries, 0 to 5281\n",
      "Data columns (total 20 columns):\n",
      " #   Column                    Non-Null Count  Dtype  \n",
      "---  ------                    --------------  -----  \n",
      " 0   ClientPeriod              5282 non-null   int64  \n",
      " 1   MonthlySpending           5282 non-null   float64\n",
      " 2   TotalSpent                5282 non-null   object \n",
      " 3   Sex                       5282 non-null   object \n",
      " 4   IsSeniorCitizen           5282 non-null   int64  \n",
      " 5   HasPartner                5282 non-null   object \n",
      " 6   HasChild                  5282 non-null   object \n",
      " 7   HasPhoneService           5282 non-null   object \n",
      " 8   HasMultiplePhoneNumbers   5282 non-null   object \n",
      " 9   HasInternetService        5282 non-null   object \n",
      " 10  HasOnlineSecurityService  5282 non-null   object \n",
      " 11  HasOnlineBackup           5282 non-null   object \n",
      " 12  HasDeviceProtection       5282 non-null   object \n",
      " 13  HasTechSupportAccess      5282 non-null   object \n",
      " 14  HasOnlineTV               5282 non-null   object \n",
      " 15  HasMovieSubscription      5282 non-null   object \n",
      " 16  HasContractPhone          5282 non-null   object \n",
      " 17  IsBillingPaperless        5282 non-null   object \n",
      " 18  PaymentMethod             5282 non-null   object \n",
      " 19  Churn                     5282 non-null   int64  \n",
      "dtypes: float64(1), int64(3), object(16)\n",
      "memory usage: 825.4+ KB\n"
     ]
    }
   ],
   "source": [
    "data.info()"
   ]
  },
  {
   "cell_type": "markdown",
   "metadata": {
    "id": "VmcDFBBrR2Aq"
   },
   "source": [
    "Кажется, все значения на месте. На всякий случай перепроверим с помощью метода `DataFrame.isna()`"
   ]
  },
  {
   "cell_type": "code",
   "execution_count": 7,
   "metadata": {
    "colab": {
     "base_uri": "https://localhost:8080/"
    },
    "id": "HUaomBipQtCC",
    "outputId": "27f29b2a-8b7f-403c-eb50-826d818d2287"
   },
   "outputs": [
    {
     "data": {
      "text/plain": [
       "ClientPeriod                0\n",
       "MonthlySpending             0\n",
       "TotalSpent                  0\n",
       "Sex                         0\n",
       "IsSeniorCitizen             0\n",
       "HasPartner                  0\n",
       "HasChild                    0\n",
       "HasPhoneService             0\n",
       "HasMultiplePhoneNumbers     0\n",
       "HasInternetService          0\n",
       "HasOnlineSecurityService    0\n",
       "HasOnlineBackup             0\n",
       "HasDeviceProtection         0\n",
       "HasTechSupportAccess        0\n",
       "HasOnlineTV                 0\n",
       "HasMovieSubscription        0\n",
       "HasContractPhone            0\n",
       "IsBillingPaperless          0\n",
       "PaymentMethod               0\n",
       "Churn                       0\n",
       "dtype: int64"
      ]
     },
     "execution_count": 7,
     "metadata": {},
     "output_type": "execute_result"
    }
   ],
   "source": [
    "data.isna().sum()"
   ]
  },
  {
   "cell_type": "markdown",
   "metadata": {
    "id": "pVv-tFbvSIUE"
   },
   "source": [
    "Пропуски в данных отсутствуют. "
   ]
  },
  {
   "cell_type": "markdown",
   "metadata": {
    "id": "em7JoiWkSiCr"
   },
   "source": [
    "Судя по всему, колонка TotalSpent должна содержать числовые данные. Приведём её к числовому виду."
   ]
  },
  {
   "cell_type": "markdown",
   "metadata": {
    "id": "6YoIfftCTgEl"
   },
   "source": [
    "Поскольку простое приведение к типу `float` не сработало, посмотрим, что мешает."
   ]
  },
  {
   "cell_type": "code",
   "execution_count": 8,
   "metadata": {
    "colab": {
     "base_uri": "https://localhost:8080/"
    },
    "id": "dXBtA4N1THeD",
    "outputId": "b0c3a246-e84d-4a42-b7de-ebab4e39090c"
   },
   "outputs": [
    {
     "data": {
      "text/plain": [
       "[' ',\n",
       " '100.2',\n",
       " '100.25',\n",
       " '100.35',\n",
       " '100.4',\n",
       " '100.9',\n",
       " '1001.5',\n",
       " '1003.05',\n",
       " '1004.35',\n",
       " '1004.5']"
      ]
     },
     "execution_count": 8,
     "metadata": {},
     "output_type": "execute_result"
    }
   ],
   "source": [
    "sorted(data['TotalSpent'].unique())[:10]"
   ]
  },
  {
   "cell_type": "code",
   "execution_count": 9,
   "metadata": {
    "id": "aQYBS1zRTtm6"
   },
   "outputs": [],
   "source": [
    "indexes_to_del = data[data['TotalSpent'] == ' '].index\n",
    "\n",
    "data = data.drop(labels=indexes_to_del, axis='index')"
   ]
  },
  {
   "cell_type": "code",
   "execution_count": 10,
   "metadata": {
    "colab": {
     "base_uri": "https://localhost:8080/"
    },
    "id": "1NvI1wg1S0OK",
    "outputId": "233131fd-0b4f-44ba-878c-c6dbaec0f759"
   },
   "outputs": [
    {
     "name": "stdout",
     "output_type": "stream",
     "text": [
      "<class 'pandas.core.frame.DataFrame'>\n",
      "Int64Index: 5273 entries, 0 to 5281\n",
      "Data columns (total 20 columns):\n",
      " #   Column                    Non-Null Count  Dtype  \n",
      "---  ------                    --------------  -----  \n",
      " 0   ClientPeriod              5273 non-null   int64  \n",
      " 1   MonthlySpending           5273 non-null   float64\n",
      " 2   TotalSpent                5273 non-null   float64\n",
      " 3   Sex                       5273 non-null   object \n",
      " 4   IsSeniorCitizen           5273 non-null   int64  \n",
      " 5   HasPartner                5273 non-null   object \n",
      " 6   HasChild                  5273 non-null   object \n",
      " 7   HasPhoneService           5273 non-null   object \n",
      " 8   HasMultiplePhoneNumbers   5273 non-null   object \n",
      " 9   HasInternetService        5273 non-null   object \n",
      " 10  HasOnlineSecurityService  5273 non-null   object \n",
      " 11  HasOnlineBackup           5273 non-null   object \n",
      " 12  HasDeviceProtection       5273 non-null   object \n",
      " 13  HasTechSupportAccess      5273 non-null   object \n",
      " 14  HasOnlineTV               5273 non-null   object \n",
      " 15  HasMovieSubscription      5273 non-null   object \n",
      " 16  HasContractPhone          5273 non-null   object \n",
      " 17  IsBillingPaperless        5273 non-null   object \n",
      " 18  PaymentMethod             5273 non-null   object \n",
      " 19  Churn                     5273 non-null   int64  \n",
      "dtypes: float64(2), int64(3), object(15)\n",
      "memory usage: 865.1+ KB\n"
     ]
    }
   ],
   "source": [
    "data['TotalSpent'] = data['TotalSpent'].astype('float64')\n",
    "data.info()"
   ]
  },
  {
   "cell_type": "markdown",
   "metadata": {
    "id": "dK370bPCEEZD"
   },
   "source": [
    "## Анализ данных (3 балла)\n",
    "\n",
    "1) Для численных призанков постройте гистограмму (*plt.hist(...)*) или boxplot (*plt.boxplot(...)*). Для категориальных посчитайте количество каждого значения для каждого признака. Для каждой колонки надо сделать *data.value_counts()* и построить bar диаграммы *plt.bar(...)* или круговые диаграммы *plt.pie(...)* (хорошо, елси вы сможете это сделать на одном гарфике с помощью *plt.subplots(...)*). \n",
    "\n",
    "2) Посмотрите на распределение целевой переменной и скажите, являются ли классы несбалансированными.\n",
    "\n",
    "3) (Если будет желание) Поиграйте с разными библиотеками для визуализации - *sns*, *pandas_visual_analysis*, etc.\n",
    "\n",
    "Второй пункт очень важен, потому что существуют задачи классификации с несбалансированными классами. Например, это может значить, что в датасете намного больше примеров 0 класса. В таких случаях нужно 1) не использовать accuracy как метрику 2) использовать методы борьбы с imbalanced dataset (обычно если датасет сильно несбалансирован, т.е. класса 1 в 20 раз меньше класса 0)."
   ]
  },
  {
   "cell_type": "markdown",
   "metadata": {
    "id": "1nXYquNljRPf"
   },
   "source": [
    "## Анализ численных признаков"
   ]
  },
  {
   "cell_type": "code",
   "execution_count": null,
   "metadata": {
    "colab": {
     "base_uri": "https://localhost:8080/",
     "height": 390
    },
    "id": "NZkbgFJZEEZE",
    "outputId": "9f8b98f6-6b17-4c8d-8dd6-fdf8211a1ccd"
   },
   "outputs": [
    {
     "data": {
      "image/png": "[encoded data removed]",
      "text/plain": [
       "<Figure size 1080x432 with 3 Axes>"
      ]
     },
     "metadata": {
      "needs_background": "light"
     },
     "output_type": "display_data"
    }
   ],
   "source": [
    "fig, axs = plt.subplots(1, len(num_cols), squeeze=False, figsize=(15, 6))\n",
    "\n",
    "\n",
    "for index, feature in enumerate(num_cols):\n",
    "    axs[0, index].hist(data[feature])\n",
    "    axs[0, index].set_title(feature)"
   ]
  },
  {
   "cell_type": "code",
   "execution_count": null,
   "metadata": {
    "colab": {
     "base_uri": "https://localhost:8080/",
     "height": 390
    },
    "id": "6WVzQZlYab4U",
    "outputId": "269f94f9-37a5-402f-de32-284305988787"
   },
   "outputs": [
    {
     "data": {
      "image/png": "[encoded data removed]",
      "text/plain": [
       "<Figure size 1080x432 with 3 Axes>"
      ]
     },
     "metadata": {
      "needs_background": "light"
     },
     "output_type": "display_data"
    }
   ],
   "source": [
    "fig, axs = plt.subplots(1, len(num_cols), squeeze=False, figsize=(15, 6))\n",
    "\n",
    "for index, feature in enumerate(num_cols):\n",
    "    axs[0, index].boxplot(data[feature])\n",
    "    axs[0, index].set_title(feature)\n"
   ]
  },
  {
   "cell_type": "markdown",
   "metadata": {
    "id": "0nVEj2ZmjnKa"
   },
   "source": [
    "## Анализ категориальных признаков"
   ]
  },
  {
   "cell_type": "code",
   "execution_count": null,
   "metadata": {
    "colab": {
     "base_uri": "https://localhost:8080/"
    },
    "id": "VB9PE3sVbStT",
    "outputId": "c813181e-9bc2-4769-c5b1-9d7338a3fe75"
   },
   "outputs": [
    {
     "data": {
      "text/plain": [
       "16"
      ]
     },
     "execution_count": 17,
     "metadata": {},
     "output_type": "execute_result"
    }
   ],
   "source": [
    "len(cat_cols)"
   ]
  },
  {
   "cell_type": "code",
   "execution_count": null,
   "metadata": {
    "colab": {
     "base_uri": "https://localhost:8080/",
     "height": 879
    },
    "id": "1HWWEeUgbU_a",
    "outputId": "d8624e9b-9cd8-4687-ab5a-3660e3a129bd"
   },
   "outputs": [
    {
     "data": {
      "image/png": "[encoded data removed]",
      "text/plain": [
       "<Figure size 1440x1080 with 16 Axes>"
      ]
     },
     "metadata": {
      "needs_background": "light"
     },
     "output_type": "display_data"
    }
   ],
   "source": [
    "fig, axs = plt.subplots(4, 4, figsize=(20, 15))\n",
    "\n",
    "for index, feature in enumerate(cat_cols):\n",
    "    axs[index // 4, index % 4].bar(data[feature].unique(), [(data[feature] == x).sum() for x in data[feature].unique()])\n",
    "    axs[index // 4, index % 4].set_title(feature)"
   ]
  },
  {
   "cell_type": "markdown",
   "metadata": {
    "id": "kMX7ua_NjyTS"
   },
   "source": [
    "## Распределение целевой переменной"
   ]
  },
  {
   "cell_type": "code",
   "execution_count": null,
   "metadata": {
    "colab": {
     "base_uri": "https://localhost:8080/",
     "height": 319
    },
    "id": "DW-gAMJYgsui",
    "outputId": "3d7cea8b-49d5-46e7-b978-72ec1764d1b3"
   },
   "outputs": [
    {
     "data": {
      "image/png": "[encoded data removed]",
      "text/plain": [
       "<Figure size 360x360 with 1 Axes>"
      ]
     },
     "metadata": {},
     "output_type": "display_data"
    }
   ],
   "source": [
    "plt.figure(figsize=(5, 5))\n",
    "plt.pie([data['Churn'].sum(), data['Churn'].count() - data['Churn'].sum()], labels=['Churn', 'No Churn'], autopct='%1.1f%%')\n",
    "plt.title('Customer churn ratio')\n",
    "# plt.legend()\n",
    "plt.show()"
   ]
  },
  {
   "cell_type": "markdown",
   "metadata": {
    "id": "ebb5jUGxj2G6"
   },
   "source": [
    "По графику видно, что классы можно считать сбалансированными."
   ]
  },
  {
   "cell_type": "markdown",
   "metadata": {
    "id": "zg60u3QDEEZH"
   },
   "source": [
    "(Дополнительно) Если вы нашли какие-то ошибки в данных или выбросы, то можете их убрать. Тут можно поэксперементировать с обработкой данных как угодно, но не за баллы."
   ]
  },
  {
   "cell_type": "code",
   "execution_count": null,
   "metadata": {
    "id": "fwfksF1gEEZI"
   },
   "outputs": [],
   "source": [
    "# YOUR CODE"
   ]
  },
  {
   "cell_type": "markdown",
   "metadata": {
    "id": "DviiJd8REEZK"
   },
   "source": [
    "## Применение линейных моделей (3 балла)\n",
    "\n",
    "1) Обработайте данные для того, чтобы к ним можно было применить LogisticRegression. Т.е. отнормируйте числовые признаки, а категориальные закодируйте с помощью one-hot-encoding'а. \n",
    "\n",
    "2) С помощью кроссвалидации или разделения на train/valid выборку протестируйте разные значения гиперпараметра C и выберите лучший (можно тестировать С=100, 10, 1, 0.1, 0.01, 0.001) по метрике ROC-AUC. \n",
    "\n",
    "Если вы разделяете на train/valid, то используйте LogisticRegressionCV. Он сам при вызове .fit() подберет параметр С. (не забудьте передать scroing='roc_auc', чтобы при кроссвалидации сравнивались значения этой метрики, и refit=True, чтобы при потом модель обучилась на всем датасете с лучшим параметром C). \n",
    "\n",
    "\n",
    "(более сложный вариант) Если вы будете использовать кроссвалидацию, то преобразования данных и LogisticRegression нужно соединить в один Pipeline с помощью make_pipeline, как это делалось во втором семинаре. Потом pipeline надо передать в GridSearchCV. Для one-hot-encoding'a можно испльзовать комбинацию LabelEncoder + OneHotEncoder (сначала превращаем строчки в числа, а потом числа првращаем в one-hot вектора.)"
   ]
  },
  {
   "cell_type": "code",
   "execution_count": 11,
   "metadata": {
    "id": "xHCLDmwqEEZL"
   },
   "outputs": [],
   "source": [
    "from sklearn.linear_model import LogisticRegression, LogisticRegressionCV\n",
    "from sklearn.model_selection import train_test_split, GridSearchCV\n",
    "from sklearn.preprocessing import StandardScaler, RobustScaler, LabelEncoder, OneHotEncoder\n",
    "from sklearn.pipeline import make_pipeline\n",
    "from sklearn.metrics import roc_curve"
   ]
  },
  {
   "cell_type": "markdown",
   "metadata": {
    "id": "9oOlNwLammn2"
   },
   "source": [
    "Закодируем категориальные признаки с помощью `pd.get_dummies()`"
   ]
  },
  {
   "cell_type": "code",
   "execution_count": 12,
   "metadata": {
    "colab": {
     "base_uri": "https://localhost:8080/",
     "height": 251
    },
    "id": "P2Yv3uYtEEZO",
    "outputId": "22651907-3e92-4477-c2ee-c4f147cc05cc"
   },
   "outputs": [
    {
     "data": {
      "text/html": [
       "<div>\n",
       "<style scoped>\n",
       "    .dataframe tbody tr th:only-of-type {\n",
       "        vertical-align: middle;\n",
       "    }\n",
       "\n",
       "    .dataframe tbody tr th {\n",
       "        vertical-align: top;\n",
       "    }\n",
       "\n",
       "    .dataframe thead th {\n",
       "        text-align: right;\n",
       "    }\n",
       "</style>\n",
       "<table border=\"1\" class=\"dataframe\">\n",
       "  <thead>\n",
       "    <tr style=\"text-align: right;\">\n",
       "      <th></th>\n",
       "      <th>ClientPeriod</th>\n",
       "      <th>MonthlySpending</th>\n",
       "      <th>TotalSpent</th>\n",
       "      <th>IsSeniorCitizen</th>\n",
       "      <th>Sex_Male</th>\n",
       "      <th>HasPartner_Yes</th>\n",
       "      <th>HasChild_Yes</th>\n",
       "      <th>HasPhoneService_Yes</th>\n",
       "      <th>HasMultiplePhoneNumbers_No phone service</th>\n",
       "      <th>HasMultiplePhoneNumbers_Yes</th>\n",
       "      <th>HasInternetService_Fiber optic</th>\n",
       "      <th>HasInternetService_No</th>\n",
       "      <th>HasOnlineSecurityService_No internet service</th>\n",
       "      <th>HasOnlineSecurityService_Yes</th>\n",
       "      <th>HasOnlineBackup_No internet service</th>\n",
       "      <th>HasOnlineBackup_Yes</th>\n",
       "      <th>HasDeviceProtection_No internet service</th>\n",
       "      <th>HasDeviceProtection_Yes</th>\n",
       "      <th>HasTechSupportAccess_No internet service</th>\n",
       "      <th>HasTechSupportAccess_Yes</th>\n",
       "      <th>HasOnlineTV_No internet service</th>\n",
       "      <th>HasOnlineTV_Yes</th>\n",
       "      <th>HasMovieSubscription_No internet service</th>\n",
       "      <th>HasMovieSubscription_Yes</th>\n",
       "      <th>HasContractPhone_One year</th>\n",
       "      <th>HasContractPhone_Two year</th>\n",
       "      <th>IsBillingPaperless_Yes</th>\n",
       "      <th>PaymentMethod_Credit card (automatic)</th>\n",
       "      <th>PaymentMethod_Electronic check</th>\n",
       "      <th>PaymentMethod_Mailed check</th>\n",
       "    </tr>\n",
       "  </thead>\n",
       "  <tbody>\n",
       "    <tr>\n",
       "      <th>0</th>\n",
       "      <td>55</td>\n",
       "      <td>19.50</td>\n",
       "      <td>1026.35</td>\n",
       "      <td>0</td>\n",
       "      <td>1</td>\n",
       "      <td>1</td>\n",
       "      <td>1</td>\n",
       "      <td>1</td>\n",
       "      <td>0</td>\n",
       "      <td>0</td>\n",
       "      <td>0</td>\n",
       "      <td>1</td>\n",
       "      <td>1</td>\n",
       "      <td>0</td>\n",
       "      <td>1</td>\n",
       "      <td>0</td>\n",
       "      <td>1</td>\n",
       "      <td>0</td>\n",
       "      <td>1</td>\n",
       "      <td>0</td>\n",
       "      <td>1</td>\n",
       "      <td>0</td>\n",
       "      <td>1</td>\n",
       "      <td>0</td>\n",
       "      <td>1</td>\n",
       "      <td>0</td>\n",
       "      <td>0</td>\n",
       "      <td>0</td>\n",
       "      <td>0</td>\n",
       "      <td>1</td>\n",
       "    </tr>\n",
       "    <tr>\n",
       "      <th>1</th>\n",
       "      <td>72</td>\n",
       "      <td>25.85</td>\n",
       "      <td>1872.20</td>\n",
       "      <td>0</td>\n",
       "      <td>1</td>\n",
       "      <td>1</td>\n",
       "      <td>0</td>\n",
       "      <td>1</td>\n",
       "      <td>0</td>\n",
       "      <td>1</td>\n",
       "      <td>0</td>\n",
       "      <td>1</td>\n",
       "      <td>1</td>\n",
       "      <td>0</td>\n",
       "      <td>1</td>\n",
       "      <td>0</td>\n",
       "      <td>1</td>\n",
       "      <td>0</td>\n",
       "      <td>1</td>\n",
       "      <td>0</td>\n",
       "      <td>1</td>\n",
       "      <td>0</td>\n",
       "      <td>1</td>\n",
       "      <td>0</td>\n",
       "      <td>0</td>\n",
       "      <td>1</td>\n",
       "      <td>0</td>\n",
       "      <td>1</td>\n",
       "      <td>0</td>\n",
       "      <td>0</td>\n",
       "    </tr>\n",
       "    <tr>\n",
       "      <th>2</th>\n",
       "      <td>1</td>\n",
       "      <td>75.90</td>\n",
       "      <td>75.90</td>\n",
       "      <td>0</td>\n",
       "      <td>1</td>\n",
       "      <td>0</td>\n",
       "      <td>0</td>\n",
       "      <td>1</td>\n",
       "      <td>0</td>\n",
       "      <td>0</td>\n",
       "      <td>1</td>\n",
       "      <td>0</td>\n",
       "      <td>0</td>\n",
       "      <td>0</td>\n",
       "      <td>0</td>\n",
       "      <td>0</td>\n",
       "      <td>0</td>\n",
       "      <td>0</td>\n",
       "      <td>0</td>\n",
       "      <td>1</td>\n",
       "      <td>0</td>\n",
       "      <td>0</td>\n",
       "      <td>0</td>\n",
       "      <td>0</td>\n",
       "      <td>0</td>\n",
       "      <td>0</td>\n",
       "      <td>1</td>\n",
       "      <td>0</td>\n",
       "      <td>1</td>\n",
       "      <td>0</td>\n",
       "    </tr>\n",
       "    <tr>\n",
       "      <th>3</th>\n",
       "      <td>32</td>\n",
       "      <td>79.30</td>\n",
       "      <td>2570.00</td>\n",
       "      <td>1</td>\n",
       "      <td>0</td>\n",
       "      <td>1</td>\n",
       "      <td>0</td>\n",
       "      <td>1</td>\n",
       "      <td>0</td>\n",
       "      <td>1</td>\n",
       "      <td>1</td>\n",
       "      <td>0</td>\n",
       "      <td>0</td>\n",
       "      <td>0</td>\n",
       "      <td>0</td>\n",
       "      <td>0</td>\n",
       "      <td>0</td>\n",
       "      <td>1</td>\n",
       "      <td>0</td>\n",
       "      <td>0</td>\n",
       "      <td>0</td>\n",
       "      <td>0</td>\n",
       "      <td>0</td>\n",
       "      <td>0</td>\n",
       "      <td>0</td>\n",
       "      <td>0</td>\n",
       "      <td>0</td>\n",
       "      <td>0</td>\n",
       "      <td>0</td>\n",
       "      <td>1</td>\n",
       "    </tr>\n",
       "    <tr>\n",
       "      <th>4</th>\n",
       "      <td>60</td>\n",
       "      <td>115.25</td>\n",
       "      <td>6758.45</td>\n",
       "      <td>0</td>\n",
       "      <td>0</td>\n",
       "      <td>1</td>\n",
       "      <td>1</td>\n",
       "      <td>1</td>\n",
       "      <td>0</td>\n",
       "      <td>1</td>\n",
       "      <td>1</td>\n",
       "      <td>0</td>\n",
       "      <td>0</td>\n",
       "      <td>1</td>\n",
       "      <td>0</td>\n",
       "      <td>1</td>\n",
       "      <td>0</td>\n",
       "      <td>1</td>\n",
       "      <td>0</td>\n",
       "      <td>1</td>\n",
       "      <td>0</td>\n",
       "      <td>1</td>\n",
       "      <td>0</td>\n",
       "      <td>1</td>\n",
       "      <td>0</td>\n",
       "      <td>1</td>\n",
       "      <td>0</td>\n",
       "      <td>1</td>\n",
       "      <td>0</td>\n",
       "      <td>0</td>\n",
       "    </tr>\n",
       "  </tbody>\n",
       "</table>\n",
       "</div>"
      ],
      "text/plain": [
       "   ClientPeriod  ...  PaymentMethod_Mailed check\n",
       "0            55  ...                           1\n",
       "1            72  ...                           0\n",
       "2             1  ...                           0\n",
       "3            32  ...                           1\n",
       "4            60  ...                           0\n",
       "\n",
       "[5 rows x 30 columns]"
      ]
     },
     "execution_count": 12,
     "metadata": {},
     "output_type": "execute_result"
    }
   ],
   "source": [
    "X = pd.concat([data[num_cols], pd.get_dummies(data[cat_cols], drop_first=True)], axis=1)\n",
    "X.head()"
   ]
  },
  {
   "cell_type": "markdown",
   "metadata": {
    "id": "uF8iUW5rm9AS"
   },
   "source": [
    "Разделим данные на обучающую и тестовую выборки."
   ]
  },
  {
   "cell_type": "code",
   "execution_count": null,
   "metadata": {
    "id": "Is613lNLnAmf"
   },
   "outputs": [],
   "source": [
    "X_train, X_test, y_train, y_test = train_test_split(X, data[target_col], \n",
    "                                                    train_size=0.8,\n",
    "                                                    random_state=42)"
   ]
  },
  {
   "cell_type": "markdown",
   "metadata": {
    "id": "kd9Cizm_mv6z"
   },
   "source": [
    "Отнормируем числовые признаки."
   ]
  },
  {
   "cell_type": "code",
   "execution_count": null,
   "metadata": {
    "id": "rlnOOjSQm0YE"
   },
   "outputs": [],
   "source": [
    "scaler = StandardScaler()\n",
    "\n",
    "X_train_scaled = scaler.fit_transform(X_train)\n",
    "X_test_scaled = scaler.transform(X_test)"
   ]
  },
  {
   "cell_type": "code",
   "execution_count": null,
   "metadata": {
    "id": "-8hWUVFfnpzV"
   },
   "outputs": [],
   "source": [
    "logreg = LogisticRegressionCV(cv=5, random_state=42, refit=True, scoring='roc_auc').fit(X_train_scaled, y_train)"
   ]
  },
  {
   "cell_type": "code",
   "execution_count": null,
   "metadata": {
    "id": "L7b59tCtpChD"
   },
   "outputs": [],
   "source": [
    "y_train_predictions = logreg.predict_proba(X_train_scaled)[:, 1]\n",
    "y_test_predictions = logreg.predict_proba(X_test_scaled)[:, 1]"
   ]
  },
  {
   "cell_type": "code",
   "execution_count": null,
   "metadata": {
    "colab": {
     "base_uri": "https://localhost:8080/",
     "height": 592
    },
    "id": "fLJNDO36pA4S",
    "outputId": "35df0fa6-4182-43e0-ab57-1f94232b0aee"
   },
   "outputs": [
    {
     "data": {
      "image/png": "[encoded data removed]",
      "text/plain": [
       "<Figure size 1440x720 with 1 Axes>"
      ]
     },
     "metadata": {
      "needs_background": "light"
     },
     "output_type": "display_data"
    }
   ],
   "source": [
    "train_auc = roc_auc_score(y_train, y_train_predictions)\n",
    "test_auc = roc_auc_score(y_test, y_test_predictions)\n",
    "\n",
    "plt.figure(figsize=(20,10))\n",
    "plt.plot(*roc_curve(y_train, y_train_predictions)[:2], label='train AUC={:.4f}'.format(train_auc))\n",
    "plt.plot(*roc_curve(y_test, y_test_predictions)[:2], label='test AUC={:.4f}'.format(test_auc))\n",
    "legend_box = plt.legend(fontsize='large', framealpha=1).get_frame()\n",
    "legend_box.set_facecolor(\"white\")\n",
    "legend_box.set_edgecolor(\"black\")\n",
    "plt.plot(np.linspace(0,1,100), np.linspace(0,1,100))\n",
    "plt.show()"
   ]
  },
  {
   "cell_type": "markdown",
   "metadata": {
    "id": "uVahy6JKEEZQ"
   },
   "source": [
    "Выпишите какое лучшее качество и с какими параметрами вам удалось получить"
   ]
  },
  {
   "cell_type": "code",
   "execution_count": null,
   "metadata": {
    "colab": {
     "base_uri": "https://localhost:8080/"
    },
    "id": "0DXkrz6bptEt",
    "outputId": "41c669ec-12c5-4bc2-92e8-d25fbe96b86d"
   },
   "outputs": [
    {
     "data": {
      "text/plain": [
       "{'Cs': 10,\n",
       " 'class_weight': None,\n",
       " 'cv': 5,\n",
       " 'dual': False,\n",
       " 'fit_intercept': True,\n",
       " 'intercept_scaling': 1.0,\n",
       " 'l1_ratios': None,\n",
       " 'max_iter': 100,\n",
       " 'multi_class': 'auto',\n",
       " 'n_jobs': None,\n",
       " 'penalty': 'l2',\n",
       " 'random_state': 42,\n",
       " 'refit': True,\n",
       " 'scoring': 'roc_auc',\n",
       " 'solver': 'lbfgs',\n",
       " 'tol': 0.0001,\n",
       " 'verbose': 0}"
      ]
     },
     "execution_count": 43,
     "metadata": {},
     "output_type": "execute_result"
    }
   ],
   "source": [
    "logreg.get_params()"
   ]
  },
  {
   "cell_type": "markdown",
   "metadata": {
    "id": "UU4W4vWmp7B0"
   },
   "source": [
    "Лучшее качество: `roc_auc_score = 0.8438` с параметром `Cs=10`"
   ]
  },
  {
   "cell_type": "markdown",
   "metadata": {
    "id": "BlTeVy7fEEZR"
   },
   "source": [
    "## Применение градиентного бустинга (2 балла)\n",
    "\n",
    "Если вы хотите получить баллы за точный ответ, то стоит попробовать градиентный бустинг. Часто градиентный бустинг с дефолтными параметрами даст вам 80% результата за 0% усилий.\n",
    "\n",
    "Мы будем использовать catboost, поэтому нам не надо кодировать категориальные признаки. catboost сделает это сам (в .fit() надо передать cat_features=cat_cols). А численные признаки нормировать для моделей, основанных на деревьях не нужно.\n",
    "\n",
    "1) Разделите выборку на train/valid. Протестируйте catboost cо стандартными параметрами.\n",
    "\n",
    "2) Протестируйте разные занчения параметроа количества деревьев и learning_rate'а и выберите лучшую по метрике ROC-AUC комбинацию. \n",
    "\n",
    "(Дополнительно) Есть некоторые сложности с тем, чтобы использовать CatBoostClassifier вместе с GridSearchCV, поэтому мы не просим использовать кроссвалидацию. Но можете попробовать)"
   ]
  },
  {
   "cell_type": "code",
   "execution_count": null,
   "metadata": {
    "colab": {
     "base_uri": "https://localhost:8080/"
    },
    "id": "Ao_f7pEBq4wE",
    "outputId": "5b4fdfd3-ab9b-4d15-98d3-f3f04eb8d430"
   },
   "outputs": [
    {
     "name": "stdout",
     "output_type": "stream",
     "text": [
      "Collecting catboost\n",
      "  Downloading catboost-1.0.3-cp37-none-manylinux1_x86_64.whl (76.3 MB)\n",
      "\u001b[K     |████████████████████████████████| 76.3 MB 26 kB/s \n",
      "\u001b[?25hRequirement already satisfied: matplotlib in /usr/local/lib/python3.7/dist-packages (from catboost) (3.2.2)\n",
      "Requirement already satisfied: graphviz in /usr/local/lib/python3.7/dist-packages (from catboost) (0.10.1)\n",
      "Requirement already satisfied: pandas>=0.24.0 in /usr/local/lib/python3.7/dist-packages (from catboost) (1.1.5)\n",
      "Requirement already satisfied: numpy>=1.16.0 in /usr/local/lib/python3.7/dist-packages (from catboost) (1.19.5)\n",
      "Requirement already satisfied: plotly in /usr/local/lib/python3.7/dist-packages (from catboost) (4.4.1)\n",
      "Requirement already satisfied: scipy in /usr/local/lib/python3.7/dist-packages (from catboost) (1.4.1)\n",
      "Requirement already satisfied: six in /usr/local/lib/python3.7/dist-packages (from catboost) (1.15.0)\n",
      "Requirement already satisfied: pytz>=2017.2 in /usr/local/lib/python3.7/dist-packages (from pandas>=0.24.0->catboost) (2018.9)\n",
      "Requirement already satisfied: python-dateutil>=2.7.3 in /usr/local/lib/python3.7/dist-packages (from pandas>=0.24.0->catboost) (2.8.2)\n",
      "Requirement already satisfied: cycler>=0.10 in /usr/local/lib/python3.7/dist-packages (from matplotlib->catboost) (0.11.0)\n",
      "Requirement already satisfied: kiwisolver>=1.0.1 in /usr/local/lib/python3.7/dist-packages (from matplotlib->catboost) (1.3.2)\n",
      "Requirement already satisfied: pyparsing!=2.0.4,!=2.1.2,!=2.1.6,>=2.0.1 in /usr/local/lib/python3.7/dist-packages (from matplotlib->catboost) (2.4.7)\n",
      "Requirement already satisfied: retrying>=1.3.3 in /usr/local/lib/python3.7/dist-packages (from plotly->catboost) (1.3.3)\n",
      "Installing collected packages: catboost\n",
      "Successfully installed catboost-1.0.3\n"
     ]
    }
   ],
   "source": [
    "!pip install catboost"
   ]
  },
  {
   "cell_type": "code",
   "execution_count": null,
   "metadata": {
    "id": "Fioxxlp-EEZS"
   },
   "outputs": [],
   "source": [
    "import catboost"
   ]
  },
  {
   "cell_type": "code",
   "execution_count": null,
   "metadata": {
    "id": "bIDzX151rC-C"
   },
   "outputs": [],
   "source": [
    "X_train_origin, X_test_origin, _, _ = train_test_split(data[feature_cols], axis=1),\n",
    "                                                       data[target_col], \n",
    "                                                       train_size=0.8, \n",
    "                                                       random_state=42)"
   ]
  },
  {
   "cell_type": "code",
   "execution_count": null,
   "metadata": {
    "id": "eYtQ4TMnrfOO"
   },
   "outputs": [],
   "source": [
    "catboost_model = catboost.CatBoostClassifier(cat_features=cat_cols)\n",
    "\n",
    "catboost_model.fit(X_train_origin, y_train)\n",
    "catboost_train_predictions = catboost_model.predict_proba(X_train_origin)[:, 1]\n",
    "catboost_test_predictions = catboost_model.predict_proba(X_test_origin)[:, 1]"
   ]
  },
  {
   "cell_type": "code",
   "execution_count": null,
   "metadata": {
    "colab": {
     "base_uri": "https://localhost:8080/",
     "height": 592
    },
    "id": "xXyPVcZDszl8",
    "outputId": "ac179626-2f92-4c63-f171-c298af66951f"
   },
   "outputs": [
    {
     "data": {
      "image/png": "[encoded data removed]",
      "text/plain": [
       "<Figure size 1440x720 with 1 Axes>"
      ]
     },
     "metadata": {
      "needs_background": "light"
     },
     "output_type": "display_data"
    }
   ],
   "source": [
    "train_auc = roc_auc_score(y_train, catboost_train_predictions)\n",
    "test_auc = roc_auc_score(y_test, catboost_test_predictions)\n",
    "\n",
    "plt.figure(figsize=(20,10))\n",
    "plt.plot(*roc_curve(y_train, catboost_train_predictions)[:2], label='train AUC={:.4f}'.format(train_auc))\n",
    "plt.plot(*roc_curve(y_test, catboost_test_predictions)[:2], label='test AUC={:.4f}'.format(test_auc))\n",
    "legend_box = plt.legend(fontsize='large', framealpha=1).get_frame()\n",
    "legend_box.set_facecolor(\"white\")\n",
    "legend_box.set_edgecolor(\"black\")\n",
    "plt.plot(np.linspace(0,1,100), np.linspace(0,1,100))\n",
    "plt.show()"
   ]
  },
  {
   "cell_type": "markdown",
   "metadata": {
    "id": "5BxKZO7Rf-kO"
   },
   "source": [
    "Попробуем подобрать параметры `learning_rate` и `n_estimators`"
   ]
  },
  {
   "cell_type": "code",
   "execution_count": null,
   "metadata": {
    "id": "oiH5gQDftok3"
   },
   "outputs": [],
   "source": [
    "learning_rate = np.linspace(0.01, 0.1, 10)\n",
    "estimators = np.linspace(100, 1000, 10)\n",
    "results = np.zeros((10, 10))\n",
    "for i_index, lr in enumerate(learning_rate):\n",
    "    for j_index, est in enumerate(estimators):\n",
    "        model = catboost.CatBoostClassifier(cat_features=cat_cols,\n",
    "                                                     n_estimators=est,\n",
    "                                                     learning_rate=lr)\n",
    "        model.fit(X_train_origin, y_train)\n",
    "        results[i_index][j_index] = roc_auc_score(y_test, model.predict_proba(X_test_origin)[:, 1])\n"
   ]
  },
  {
   "cell_type": "code",
   "execution_count": null,
   "metadata": {
    "colab": {
     "base_uri": "https://localhost:8080/",
     "height": 347
    },
    "id": "of1YH7e8wbFg",
    "outputId": "075e6305-b7b4-443b-ef96-19a92b80e811"
   },
   "outputs": [
    {
     "data": {
      "text/html": [
       "<style  type=\"text/css\" >\n",
       "#T_a7d35742_4445_11ec_89b5_0242ac1c0002row0_col0,#T_a7d35742_4445_11ec_89b5_0242ac1c0002row0_col1,#T_a7d35742_4445_11ec_89b5_0242ac1c0002row8_col2,#T_a7d35742_4445_11ec_89b5_0242ac1c0002row8_col3,#T_a7d35742_4445_11ec_89b5_0242ac1c0002row8_col4,#T_a7d35742_4445_11ec_89b5_0242ac1c0002row8_col5,#T_a7d35742_4445_11ec_89b5_0242ac1c0002row8_col6,#T_a7d35742_4445_11ec_89b5_0242ac1c0002row8_col7,#T_a7d35742_4445_11ec_89b5_0242ac1c0002row8_col8,#T_a7d35742_4445_11ec_89b5_0242ac1c0002row8_col9{\n",
       "            background-color:  #f7fbff;\n",
       "            color:  #000000;\n",
       "        }#T_a7d35742_4445_11ec_89b5_0242ac1c0002row0_col2{\n",
       "            background-color:  #85bcdc;\n",
       "            color:  #000000;\n",
       "        }#T_a7d35742_4445_11ec_89b5_0242ac1c0002row0_col3{\n",
       "            background-color:  #2272b6;\n",
       "            color:  #f1f1f1;\n",
       "        }#T_a7d35742_4445_11ec_89b5_0242ac1c0002row0_col4{\n",
       "            background-color:  #0b559f;\n",
       "            color:  #f1f1f1;\n",
       "        }#T_a7d35742_4445_11ec_89b5_0242ac1c0002row0_col5,#T_a7d35742_4445_11ec_89b5_0242ac1c0002row2_col6{\n",
       "            background-color:  #083b7c;\n",
       "            color:  #f1f1f1;\n",
       "        }#T_a7d35742_4445_11ec_89b5_0242ac1c0002row0_col6,#T_a7d35742_4445_11ec_89b5_0242ac1c0002row0_col7,#T_a7d35742_4445_11ec_89b5_0242ac1c0002row0_col8,#T_a7d35742_4445_11ec_89b5_0242ac1c0002row0_col9,#T_a7d35742_4445_11ec_89b5_0242ac1c0002row1_col5,#T_a7d35742_4445_11ec_89b5_0242ac1c0002row2_col3,#T_a7d35742_4445_11ec_89b5_0242ac1c0002row2_col4,#T_a7d35742_4445_11ec_89b5_0242ac1c0002row4_col2,#T_a7d35742_4445_11ec_89b5_0242ac1c0002row5_col1,#T_a7d35742_4445_11ec_89b5_0242ac1c0002row9_col0{\n",
       "            background-color:  #08306b;\n",
       "            color:  #f1f1f1;\n",
       "        }#T_a7d35742_4445_11ec_89b5_0242ac1c0002row1_col0{\n",
       "            background-color:  #aacfe5;\n",
       "            color:  #000000;\n",
       "        }#T_a7d35742_4445_11ec_89b5_0242ac1c0002row1_col1{\n",
       "            background-color:  #4e9acb;\n",
       "            color:  #000000;\n",
       "        }#T_a7d35742_4445_11ec_89b5_0242ac1c0002row1_col2,#T_a7d35742_4445_11ec_89b5_0242ac1c0002row5_col2{\n",
       "            background-color:  #2979b9;\n",
       "            color:  #000000;\n",
       "        }#T_a7d35742_4445_11ec_89b5_0242ac1c0002row1_col3{\n",
       "            background-color:  #08478d;\n",
       "            color:  #f1f1f1;\n",
       "        }#T_a7d35742_4445_11ec_89b5_0242ac1c0002row1_col4{\n",
       "            background-color:  #083c7d;\n",
       "            color:  #f1f1f1;\n",
       "        }#T_a7d35742_4445_11ec_89b5_0242ac1c0002row1_col6,#T_a7d35742_4445_11ec_89b5_0242ac1c0002row1_col7{\n",
       "            background-color:  #083d7f;\n",
       "            color:  #f1f1f1;\n",
       "        }#T_a7d35742_4445_11ec_89b5_0242ac1c0002row1_col8,#T_a7d35742_4445_11ec_89b5_0242ac1c0002row6_col0{\n",
       "            background-color:  #08458a;\n",
       "            color:  #f1f1f1;\n",
       "        }#T_a7d35742_4445_11ec_89b5_0242ac1c0002row1_col9,#T_a7d35742_4445_11ec_89b5_0242ac1c0002row2_col7{\n",
       "            background-color:  #084387;\n",
       "            color:  #f1f1f1;\n",
       "        }#T_a7d35742_4445_11ec_89b5_0242ac1c0002row2_col0,#T_a7d35742_4445_11ec_89b5_0242ac1c0002row2_col1{\n",
       "            background-color:  #1561a9;\n",
       "            color:  #f1f1f1;\n",
       "        }#T_a7d35742_4445_11ec_89b5_0242ac1c0002row2_col2{\n",
       "            background-color:  #08488e;\n",
       "            color:  #f1f1f1;\n",
       "        }#T_a7d35742_4445_11ec_89b5_0242ac1c0002row2_col5,#T_a7d35742_4445_11ec_89b5_0242ac1c0002row7_col0{\n",
       "            background-color:  #083877;\n",
       "            color:  #f1f1f1;\n",
       "        }#T_a7d35742_4445_11ec_89b5_0242ac1c0002row2_col8{\n",
       "            background-color:  #084c95;\n",
       "            color:  #f1f1f1;\n",
       "        }#T_a7d35742_4445_11ec_89b5_0242ac1c0002row2_col9{\n",
       "            background-color:  #084a91;\n",
       "            color:  #f1f1f1;\n",
       "        }#T_a7d35742_4445_11ec_89b5_0242ac1c0002row3_col0{\n",
       "            background-color:  #08509b;\n",
       "            color:  #f1f1f1;\n",
       "        }#T_a7d35742_4445_11ec_89b5_0242ac1c0002row3_col1,#T_a7d35742_4445_11ec_89b5_0242ac1c0002row4_col1{\n",
       "            background-color:  #08519c;\n",
       "            color:  #f1f1f1;\n",
       "        }#T_a7d35742_4445_11ec_89b5_0242ac1c0002row3_col2{\n",
       "            background-color:  #08468b;\n",
       "            color:  #f1f1f1;\n",
       "        }#T_a7d35742_4445_11ec_89b5_0242ac1c0002row3_col3{\n",
       "            background-color:  #0c56a0;\n",
       "            color:  #f1f1f1;\n",
       "        }#T_a7d35742_4445_11ec_89b5_0242ac1c0002row3_col4,#T_a7d35742_4445_11ec_89b5_0242ac1c0002row5_col3{\n",
       "            background-color:  #1865ac;\n",
       "            color:  #f1f1f1;\n",
       "        }#T_a7d35742_4445_11ec_89b5_0242ac1c0002row3_col5,#T_a7d35742_4445_11ec_89b5_0242ac1c0002row4_col0{\n",
       "            background-color:  #115ca5;\n",
       "            color:  #f1f1f1;\n",
       "        }#T_a7d35742_4445_11ec_89b5_0242ac1c0002row3_col6{\n",
       "            background-color:  #1764ab;\n",
       "            color:  #f1f1f1;\n",
       "        }#T_a7d35742_4445_11ec_89b5_0242ac1c0002row3_col7{\n",
       "            background-color:  #2777b8;\n",
       "            color:  #000000;\n",
       "        }#T_a7d35742_4445_11ec_89b5_0242ac1c0002row3_col8{\n",
       "            background-color:  #3c8cc3;\n",
       "            color:  #000000;\n",
       "        }#T_a7d35742_4445_11ec_89b5_0242ac1c0002row3_col9{\n",
       "            background-color:  #3585bf;\n",
       "            color:  #000000;\n",
       "        }#T_a7d35742_4445_11ec_89b5_0242ac1c0002row4_col3{\n",
       "            background-color:  #084f99;\n",
       "            color:  #f1f1f1;\n",
       "        }#T_a7d35742_4445_11ec_89b5_0242ac1c0002row4_col4{\n",
       "            background-color:  #084990;\n",
       "            color:  #f1f1f1;\n",
       "        }#T_a7d35742_4445_11ec_89b5_0242ac1c0002row4_col5{\n",
       "            background-color:  #09529d;\n",
       "            color:  #f1f1f1;\n",
       "        }#T_a7d35742_4445_11ec_89b5_0242ac1c0002row4_col6{\n",
       "            background-color:  #2070b4;\n",
       "            color:  #f1f1f1;\n",
       "        }#T_a7d35742_4445_11ec_89b5_0242ac1c0002row4_col7{\n",
       "            background-color:  #2c7cba;\n",
       "            color:  #000000;\n",
       "        }#T_a7d35742_4445_11ec_89b5_0242ac1c0002row4_col8{\n",
       "            background-color:  #4695c8;\n",
       "            color:  #000000;\n",
       "        }#T_a7d35742_4445_11ec_89b5_0242ac1c0002row4_col9{\n",
       "            background-color:  #529dcc;\n",
       "            color:  #000000;\n",
       "        }#T_a7d35742_4445_11ec_89b5_0242ac1c0002row5_col0{\n",
       "            background-color:  #2a7ab9;\n",
       "            color:  #000000;\n",
       "        }#T_a7d35742_4445_11ec_89b5_0242ac1c0002row5_col4{\n",
       "            background-color:  #3888c1;\n",
       "            color:  #000000;\n",
       "        }#T_a7d35742_4445_11ec_89b5_0242ac1c0002row5_col5{\n",
       "            background-color:  #57a0ce;\n",
       "            color:  #000000;\n",
       "        }#T_a7d35742_4445_11ec_89b5_0242ac1c0002row5_col6{\n",
       "            background-color:  #79b5d9;\n",
       "            color:  #000000;\n",
       "        }#T_a7d35742_4445_11ec_89b5_0242ac1c0002row5_col7,#T_a7d35742_4445_11ec_89b5_0242ac1c0002row7_col1{\n",
       "            background-color:  #7cb7da;\n",
       "            color:  #000000;\n",
       "        }#T_a7d35742_4445_11ec_89b5_0242ac1c0002row5_col8{\n",
       "            background-color:  #a0cbe2;\n",
       "            color:  #000000;\n",
       "        }#T_a7d35742_4445_11ec_89b5_0242ac1c0002row5_col9{\n",
       "            background-color:  #9cc9e1;\n",
       "            color:  #000000;\n",
       "        }#T_a7d35742_4445_11ec_89b5_0242ac1c0002row6_col1{\n",
       "            background-color:  #084082;\n",
       "            color:  #f1f1f1;\n",
       "        }#T_a7d35742_4445_11ec_89b5_0242ac1c0002row6_col2{\n",
       "            background-color:  #9ac8e0;\n",
       "            color:  #000000;\n",
       "        }#T_a7d35742_4445_11ec_89b5_0242ac1c0002row6_col3{\n",
       "            background-color:  #a6cee4;\n",
       "            color:  #000000;\n",
       "        }#T_a7d35742_4445_11ec_89b5_0242ac1c0002row6_col4,#T_a7d35742_4445_11ec_89b5_0242ac1c0002row7_col7{\n",
       "            background-color:  #dae8f6;\n",
       "            color:  #000000;\n",
       "        }#T_a7d35742_4445_11ec_89b5_0242ac1c0002row6_col5{\n",
       "            background-color:  #c2d9ee;\n",
       "            color:  #000000;\n",
       "        }#T_a7d35742_4445_11ec_89b5_0242ac1c0002row6_col6{\n",
       "            background-color:  #aed1e7;\n",
       "            color:  #000000;\n",
       "        }#T_a7d35742_4445_11ec_89b5_0242ac1c0002row6_col7{\n",
       "            background-color:  #b4d3e9;\n",
       "            color:  #000000;\n",
       "        }#T_a7d35742_4445_11ec_89b5_0242ac1c0002row6_col8,#T_a7d35742_4445_11ec_89b5_0242ac1c0002row7_col3{\n",
       "            background-color:  #cbdef1;\n",
       "            color:  #000000;\n",
       "        }#T_a7d35742_4445_11ec_89b5_0242ac1c0002row6_col9{\n",
       "            background-color:  #b8d5ea;\n",
       "            color:  #000000;\n",
       "        }#T_a7d35742_4445_11ec_89b5_0242ac1c0002row7_col2{\n",
       "            background-color:  #a4cce3;\n",
       "            color:  #000000;\n",
       "        }#T_a7d35742_4445_11ec_89b5_0242ac1c0002row7_col4{\n",
       "            background-color:  #dbe9f6;\n",
       "            color:  #000000;\n",
       "        }#T_a7d35742_4445_11ec_89b5_0242ac1c0002row7_col5,#T_a7d35742_4445_11ec_89b5_0242ac1c0002row7_col6{\n",
       "            background-color:  #e1edf8;\n",
       "            color:  #000000;\n",
       "        }#T_a7d35742_4445_11ec_89b5_0242ac1c0002row7_col8{\n",
       "            background-color:  #e0ecf8;\n",
       "            color:  #000000;\n",
       "        }#T_a7d35742_4445_11ec_89b5_0242ac1c0002row7_col9{\n",
       "            background-color:  #d2e3f3;\n",
       "            color:  #000000;\n",
       "        }#T_a7d35742_4445_11ec_89b5_0242ac1c0002row8_col0{\n",
       "            background-color:  #1663aa;\n",
       "            color:  #f1f1f1;\n",
       "        }#T_a7d35742_4445_11ec_89b5_0242ac1c0002row8_col1{\n",
       "            background-color:  #d6e5f4;\n",
       "            color:  #000000;\n",
       "        }#T_a7d35742_4445_11ec_89b5_0242ac1c0002row9_col1{\n",
       "            background-color:  #91c3de;\n",
       "            color:  #000000;\n",
       "        }#T_a7d35742_4445_11ec_89b5_0242ac1c0002row9_col2{\n",
       "            background-color:  #9dcae1;\n",
       "            color:  #000000;\n",
       "        }#T_a7d35742_4445_11ec_89b5_0242ac1c0002row9_col3{\n",
       "            background-color:  #cadef0;\n",
       "            color:  #000000;\n",
       "        }#T_a7d35742_4445_11ec_89b5_0242ac1c0002row9_col4{\n",
       "            background-color:  #e8f1fa;\n",
       "            color:  #000000;\n",
       "        }#T_a7d35742_4445_11ec_89b5_0242ac1c0002row9_col5{\n",
       "            background-color:  #e7f1fa;\n",
       "            color:  #000000;\n",
       "        }#T_a7d35742_4445_11ec_89b5_0242ac1c0002row9_col6{\n",
       "            background-color:  #e9f2fa;\n",
       "            color:  #000000;\n",
       "        }#T_a7d35742_4445_11ec_89b5_0242ac1c0002row9_col7{\n",
       "            background-color:  #d8e7f5;\n",
       "            color:  #000000;\n",
       "        }#T_a7d35742_4445_11ec_89b5_0242ac1c0002row9_col8{\n",
       "            background-color:  #eaf3fb;\n",
       "            color:  #000000;\n",
       "        }#T_a7d35742_4445_11ec_89b5_0242ac1c0002row9_col9{\n",
       "            background-color:  #dce9f6;\n",
       "            color:  #000000;\n",
       "        }</style><table id=\"T_a7d35742_4445_11ec_89b5_0242ac1c0002\" class=\"dataframe\"><thead>    <tr>        <th class=\"blank level0\" ></th>        <th class=\"col_heading level0 col0\" >0.01</th>        <th class=\"col_heading level0 col1\" >0.020000000000000004</th>        <th class=\"col_heading level0 col2\" >0.030000000000000006</th>        <th class=\"col_heading level0 col3\" >0.04000000000000001</th>        <th class=\"col_heading level0 col4\" >0.05000000000000001</th>        <th class=\"col_heading level0 col5\" >0.06000000000000001</th>        <th class=\"col_heading level0 col6\" >0.07</th>        <th class=\"col_heading level0 col7\" >0.08</th>        <th class=\"col_heading level0 col8\" >0.09000000000000001</th>        <th class=\"col_heading level0 col9\" >0.1</th>    </tr></thead><tbody>\n",
       "                <tr>\n",
       "                        <th id=\"T_a7d35742_4445_11ec_89b5_0242ac1c0002level0_row0\" class=\"row_heading level0 row0\" >100.0</th>\n",
       "                        <td id=\"T_a7d35742_4445_11ec_89b5_0242ac1c0002row0_col0\" class=\"data row0 col0\" >0.827313</td>\n",
       "                        <td id=\"T_a7d35742_4445_11ec_89b5_0242ac1c0002row0_col1\" class=\"data row0 col1\" >0.836129</td>\n",
       "                        <td id=\"T_a7d35742_4445_11ec_89b5_0242ac1c0002row0_col2\" class=\"data row0 col2\" >0.837738</td>\n",
       "                        <td id=\"T_a7d35742_4445_11ec_89b5_0242ac1c0002row0_col3\" class=\"data row0 col3\" >0.839255</td>\n",
       "                        <td id=\"T_a7d35742_4445_11ec_89b5_0242ac1c0002row0_col4\" class=\"data row0 col4\" >0.840075</td>\n",
       "                        <td id=\"T_a7d35742_4445_11ec_89b5_0242ac1c0002row0_col5\" class=\"data row0 col5\" >0.840677</td>\n",
       "                        <td id=\"T_a7d35742_4445_11ec_89b5_0242ac1c0002row0_col6\" class=\"data row0 col6\" >0.841106</td>\n",
       "                        <td id=\"T_a7d35742_4445_11ec_89b5_0242ac1c0002row0_col7\" class=\"data row0 col7\" >0.841451</td>\n",
       "                        <td id=\"T_a7d35742_4445_11ec_89b5_0242ac1c0002row0_col8\" class=\"data row0 col8\" >0.841500</td>\n",
       "                        <td id=\"T_a7d35742_4445_11ec_89b5_0242ac1c0002row0_col9\" class=\"data row0 col9\" >0.841441</td>\n",
       "            </tr>\n",
       "            <tr>\n",
       "                        <th id=\"T_a7d35742_4445_11ec_89b5_0242ac1c0002level0_row1\" class=\"row_heading level0 row1\" >200.0</th>\n",
       "                        <td id=\"T_a7d35742_4445_11ec_89b5_0242ac1c0002row1_col0\" class=\"data row1 col0\" >0.832864</td>\n",
       "                        <td id=\"T_a7d35742_4445_11ec_89b5_0242ac1c0002row1_col1\" class=\"data row1 col1\" >0.839696</td>\n",
       "                        <td id=\"T_a7d35742_4445_11ec_89b5_0242ac1c0002row1_col2\" class=\"data row1 col2\" >0.840415</td>\n",
       "                        <td id=\"T_a7d35742_4445_11ec_89b5_0242ac1c0002row1_col3\" class=\"data row1 col3\" >0.841142</td>\n",
       "                        <td id=\"T_a7d35742_4445_11ec_89b5_0242ac1c0002row1_col4\" class=\"data row1 col4\" >0.841224</td>\n",
       "                        <td id=\"T_a7d35742_4445_11ec_89b5_0242ac1c0002row1_col5\" class=\"data row1 col5\" >0.841314</td>\n",
       "                        <td id=\"T_a7d35742_4445_11ec_89b5_0242ac1c0002row1_col6\" class=\"data row1 col6\" >0.840186</td>\n",
       "                        <td id=\"T_a7d35742_4445_11ec_89b5_0242ac1c0002row1_col7\" class=\"data row1 col7\" >0.840436</td>\n",
       "                        <td id=\"T_a7d35742_4445_11ec_89b5_0242ac1c0002row1_col8\" class=\"data row1 col8\" >0.839903</td>\n",
       "                        <td id=\"T_a7d35742_4445_11ec_89b5_0242ac1c0002row1_col9\" class=\"data row1 col9\" >0.839738</td>\n",
       "            </tr>\n",
       "            <tr>\n",
       "                        <th id=\"T_a7d35742_4445_11ec_89b5_0242ac1c0002level0_row2\" class=\"row_heading level0 row2\" >300.0</th>\n",
       "                        <td id=\"T_a7d35742_4445_11ec_89b5_0242ac1c0002row2_col0\" class=\"data row2 col0\" >0.840611</td>\n",
       "                        <td id=\"T_a7d35742_4445_11ec_89b5_0242ac1c0002row2_col1\" class=\"data row2 col1\" >0.841062</td>\n",
       "                        <td id=\"T_a7d35742_4445_11ec_89b5_0242ac1c0002row2_col2\" class=\"data row2 col2\" >0.842173</td>\n",
       "                        <td id=\"T_a7d35742_4445_11ec_89b5_0242ac1c0002row2_col3\" class=\"data row2 col3\" >0.842133</td>\n",
       "                        <td id=\"T_a7d35742_4445_11ec_89b5_0242ac1c0002row2_col4\" class=\"data row2 col4\" >0.841859</td>\n",
       "                        <td id=\"T_a7d35742_4445_11ec_89b5_0242ac1c0002row2_col5\" class=\"data row2 col5\" >0.840840</td>\n",
       "                        <td id=\"T_a7d35742_4445_11ec_89b5_0242ac1c0002row2_col6\" class=\"data row2 col6\" >0.840363</td>\n",
       "                        <td id=\"T_a7d35742_4445_11ec_89b5_0242ac1c0002row2_col7\" class=\"data row2 col7\" >0.840017</td>\n",
       "                        <td id=\"T_a7d35742_4445_11ec_89b5_0242ac1c0002row2_col8\" class=\"data row2 col8\" >0.839403</td>\n",
       "                        <td id=\"T_a7d35742_4445_11ec_89b5_0242ac1c0002row2_col9\" class=\"data row2 col9\" >0.839127</td>\n",
       "            </tr>\n",
       "            <tr>\n",
       "                        <th id=\"T_a7d35742_4445_11ec_89b5_0242ac1c0002level0_row3\" class=\"row_heading level0 row3\" >400.0</th>\n",
       "                        <td id=\"T_a7d35742_4445_11ec_89b5_0242ac1c0002row3_col0\" class=\"data row3 col0\" >0.841684</td>\n",
       "                        <td id=\"T_a7d35742_4445_11ec_89b5_0242ac1c0002row3_col1\" class=\"data row3 col1\" >0.841427</td>\n",
       "                        <td id=\"T_a7d35742_4445_11ec_89b5_0242ac1c0002row3_col2\" class=\"data row3 col2\" >0.842241</td>\n",
       "                        <td id=\"T_a7d35742_4445_11ec_89b5_0242ac1c0002row3_col3\" class=\"data row3 col3\" >0.840495</td>\n",
       "                        <td id=\"T_a7d35742_4445_11ec_89b5_0242ac1c0002row3_col4\" class=\"data row3 col4\" >0.839295</td>\n",
       "                        <td id=\"T_a7d35742_4445_11ec_89b5_0242ac1c0002row3_col5\" class=\"data row3 col5\" >0.838816</td>\n",
       "                        <td id=\"T_a7d35742_4445_11ec_89b5_0242ac1c0002row3_col6\" class=\"data row3 col6\" >0.837660</td>\n",
       "                        <td id=\"T_a7d35742_4445_11ec_89b5_0242ac1c0002row3_col7\" class=\"data row3 col7\" >0.835975</td>\n",
       "                        <td id=\"T_a7d35742_4445_11ec_89b5_0242ac1c0002row3_col8\" class=\"data row3 col8\" >0.834551</td>\n",
       "                        <td id=\"T_a7d35742_4445_11ec_89b5_0242ac1c0002row3_col9\" class=\"data row3 col9\" >0.833831</td>\n",
       "            </tr>\n",
       "            <tr>\n",
       "                        <th id=\"T_a7d35742_4445_11ec_89b5_0242ac1c0002level0_row4\" class=\"row_heading level0 row4\" >500.0</th>\n",
       "                        <td id=\"T_a7d35742_4445_11ec_89b5_0242ac1c0002row4_col0\" class=\"data row4 col0\" >0.840958</td>\n",
       "                        <td id=\"T_a7d35742_4445_11ec_89b5_0242ac1c0002row4_col1\" class=\"data row4 col1\" >0.841439</td>\n",
       "                        <td id=\"T_a7d35742_4445_11ec_89b5_0242ac1c0002row4_col2\" class=\"data row4 col2\" >0.843024</td>\n",
       "                        <td id=\"T_a7d35742_4445_11ec_89b5_0242ac1c0002row4_col3\" class=\"data row4 col3\" >0.840788</td>\n",
       "                        <td id=\"T_a7d35742_4445_11ec_89b5_0242ac1c0002row4_col4\" class=\"data row4 col4\" >0.840637</td>\n",
       "                        <td id=\"T_a7d35742_4445_11ec_89b5_0242ac1c0002row4_col5\" class=\"data row4 col5\" >0.839396</td>\n",
       "                        <td id=\"T_a7d35742_4445_11ec_89b5_0242ac1c0002row4_col6\" class=\"data row4 col6\" >0.836841</td>\n",
       "                        <td id=\"T_a7d35742_4445_11ec_89b5_0242ac1c0002row4_col7\" class=\"data row4 col7\" >0.835640</td>\n",
       "                        <td id=\"T_a7d35742_4445_11ec_89b5_0242ac1c0002row4_col8\" class=\"data row4 col8\" >0.833881</td>\n",
       "                        <td id=\"T_a7d35742_4445_11ec_89b5_0242ac1c0002row4_col9\" class=\"data row4 col9\" >0.831602</td>\n",
       "            </tr>\n",
       "            <tr>\n",
       "                        <th id=\"T_a7d35742_4445_11ec_89b5_0242ac1c0002level0_row5\" class=\"row_heading level0 row5\" >600.0</th>\n",
       "                        <td id=\"T_a7d35742_4445_11ec_89b5_0242ac1c0002row5_col0\" class=\"data row5 col0\" >0.839061</td>\n",
       "                        <td id=\"T_a7d35742_4445_11ec_89b5_0242ac1c0002row5_col1\" class=\"data row5 col1\" >0.842210</td>\n",
       "                        <td id=\"T_a7d35742_4445_11ec_89b5_0242ac1c0002row5_col2\" class=\"data row5 col2\" >0.840403</td>\n",
       "                        <td id=\"T_a7d35742_4445_11ec_89b5_0242ac1c0002row5_col3\" class=\"data row5 col3\" >0.839835</td>\n",
       "                        <td id=\"T_a7d35742_4445_11ec_89b5_0242ac1c0002row5_col4\" class=\"data row5 col4\" >0.837613</td>\n",
       "                        <td id=\"T_a7d35742_4445_11ec_89b5_0242ac1c0002row5_col5\" class=\"data row5 col5\" >0.834916</td>\n",
       "                        <td id=\"T_a7d35742_4445_11ec_89b5_0242ac1c0002row5_col6\" class=\"data row5 col6\" >0.831972</td>\n",
       "                        <td id=\"T_a7d35742_4445_11ec_89b5_0242ac1c0002row5_col7\" class=\"data row5 col7\" >0.830745</td>\n",
       "                        <td id=\"T_a7d35742_4445_11ec_89b5_0242ac1c0002row5_col8\" class=\"data row5 col8\" >0.829056</td>\n",
       "                        <td id=\"T_a7d35742_4445_11ec_89b5_0242ac1c0002row5_col9\" class=\"data row5 col9\" >0.827094</td>\n",
       "            </tr>\n",
       "            <tr>\n",
       "                        <th id=\"T_a7d35742_4445_11ec_89b5_0242ac1c0002level0_row6\" class=\"row_heading level0 row6\" >700.0</th>\n",
       "                        <td id=\"T_a7d35742_4445_11ec_89b5_0242ac1c0002row6_col0\" class=\"data row6 col0\" >0.842404</td>\n",
       "                        <td id=\"T_a7d35742_4445_11ec_89b5_0242ac1c0002row6_col1\" class=\"data row6 col1\" >0.841833</td>\n",
       "                        <td id=\"T_a7d35742_4445_11ec_89b5_0242ac1c0002row6_col2\" class=\"data row6 col2\" >0.837259</td>\n",
       "                        <td id=\"T_a7d35742_4445_11ec_89b5_0242ac1c0002row6_col3\" class=\"data row6 col3\" >0.834810</td>\n",
       "                        <td id=\"T_a7d35742_4445_11ec_89b5_0242ac1c0002row6_col4\" class=\"data row6 col4\" >0.831106</td>\n",
       "                        <td id=\"T_a7d35742_4445_11ec_89b5_0242ac1c0002row6_col5\" class=\"data row6 col5\" >0.830611</td>\n",
       "                        <td id=\"T_a7d35742_4445_11ec_89b5_0242ac1c0002row6_col6\" class=\"data row6 col6\" >0.829625</td>\n",
       "                        <td id=\"T_a7d35742_4445_11ec_89b5_0242ac1c0002row6_col7\" class=\"data row6 col7\" >0.827681</td>\n",
       "                        <td id=\"T_a7d35742_4445_11ec_89b5_0242ac1c0002row6_col8\" class=\"data row6 col8\" >0.826275</td>\n",
       "                        <td id=\"T_a7d35742_4445_11ec_89b5_0242ac1c0002row6_col9\" class=\"data row6 col9\" >0.825039</td>\n",
       "            </tr>\n",
       "            <tr>\n",
       "                        <th id=\"T_a7d35742_4445_11ec_89b5_0242ac1c0002level0_row7\" class=\"row_heading level0 row7\" >800.0</th>\n",
       "                        <td id=\"T_a7d35742_4445_11ec_89b5_0242ac1c0002row7_col0\" class=\"data row7 col0\" >0.843175</td>\n",
       "                        <td id=\"T_a7d35742_4445_11ec_89b5_0242ac1c0002row7_col1\" class=\"data row7 col1\" >0.838912</td>\n",
       "                        <td id=\"T_a7d35742_4445_11ec_89b5_0242ac1c0002row7_col2\" class=\"data row7 col2\" >0.836980</td>\n",
       "                        <td id=\"T_a7d35742_4445_11ec_89b5_0242ac1c0002row7_col3\" class=\"data row7 col3\" >0.833414</td>\n",
       "                        <td id=\"T_a7d35742_4445_11ec_89b5_0242ac1c0002row7_col4\" class=\"data row7 col4\" >0.831047</td>\n",
       "                        <td id=\"T_a7d35742_4445_11ec_89b5_0242ac1c0002row7_col5\" class=\"data row7 col5\" >0.828424</td>\n",
       "                        <td id=\"T_a7d35742_4445_11ec_89b5_0242ac1c0002row7_col6\" class=\"data row7 col6\" >0.825957</td>\n",
       "                        <td id=\"T_a7d35742_4445_11ec_89b5_0242ac1c0002row7_col7\" class=\"data row7 col7\" >0.824532</td>\n",
       "                        <td id=\"T_a7d35742_4445_11ec_89b5_0242ac1c0002row7_col8\" class=\"data row7 col8\" >0.824107</td>\n",
       "                        <td id=\"T_a7d35742_4445_11ec_89b5_0242ac1c0002row7_col9\" class=\"data row7 col9\" >0.822616</td>\n",
       "            </tr>\n",
       "            <tr>\n",
       "                        <th id=\"T_a7d35742_4445_11ec_89b5_0242ac1c0002level0_row8\" class=\"row_heading level0 row8\" >900.0</th>\n",
       "                        <td id=\"T_a7d35742_4445_11ec_89b5_0242ac1c0002row8_col0\" class=\"data row8 col0\" >0.840484</td>\n",
       "                        <td id=\"T_a7d35742_4445_11ec_89b5_0242ac1c0002row8_col1\" class=\"data row8 col1\" >0.837172</td>\n",
       "                        <td id=\"T_a7d35742_4445_11ec_89b5_0242ac1c0002row8_col2\" class=\"data row8 col2\" >0.833640</td>\n",
       "                        <td id=\"T_a7d35742_4445_11ec_89b5_0242ac1c0002row8_col3\" class=\"data row8 col3\" >0.830892</td>\n",
       "                        <td id=\"T_a7d35742_4445_11ec_89b5_0242ac1c0002row8_col4\" class=\"data row8 col4\" >0.829245</td>\n",
       "                        <td id=\"T_a7d35742_4445_11ec_89b5_0242ac1c0002row8_col5\" class=\"data row8 col5\" >0.826778</td>\n",
       "                        <td id=\"T_a7d35742_4445_11ec_89b5_0242ac1c0002row8_col6\" class=\"data row8 col6\" >0.824032</td>\n",
       "                        <td id=\"T_a7d35742_4445_11ec_89b5_0242ac1c0002row8_col7\" class=\"data row8 col7\" >0.821597</td>\n",
       "                        <td id=\"T_a7d35742_4445_11ec_89b5_0242ac1c0002row8_col8\" class=\"data row8 col8\" >0.821824</td>\n",
       "                        <td id=\"T_a7d35742_4445_11ec_89b5_0242ac1c0002row8_col9\" class=\"data row8 col9\" >0.818195</td>\n",
       "            </tr>\n",
       "            <tr>\n",
       "                        <th id=\"T_a7d35742_4445_11ec_89b5_0242ac1c0002level0_row9\" class=\"row_heading level0 row9\" >1000.0</th>\n",
       "                        <td id=\"T_a7d35742_4445_11ec_89b5_0242ac1c0002row9_col0\" class=\"data row9 col0\" >0.843732</td>\n",
       "                        <td id=\"T_a7d35742_4445_11ec_89b5_0242ac1c0002row9_col1\" class=\"data row9 col1\" >0.838603</td>\n",
       "                        <td id=\"T_a7d35742_4445_11ec_89b5_0242ac1c0002row9_col2\" class=\"data row9 col2\" >0.837164</td>\n",
       "                        <td id=\"T_a7d35742_4445_11ec_89b5_0242ac1c0002row9_col3\" class=\"data row9 col3\" >0.833442</td>\n",
       "                        <td id=\"T_a7d35742_4445_11ec_89b5_0242ac1c0002row9_col4\" class=\"data row9 col4\" >0.830217</td>\n",
       "                        <td id=\"T_a7d35742_4445_11ec_89b5_0242ac1c0002row9_col5\" class=\"data row9 col5\" >0.827967</td>\n",
       "                        <td id=\"T_a7d35742_4445_11ec_89b5_0242ac1c0002row9_col6\" class=\"data row9 col6\" >0.825244</td>\n",
       "                        <td id=\"T_a7d35742_4445_11ec_89b5_0242ac1c0002row9_col7\" class=\"data row9 col7\" >0.824711</td>\n",
       "                        <td id=\"T_a7d35742_4445_11ec_89b5_0242ac1c0002row9_col8\" class=\"data row9 col8\" >0.823060</td>\n",
       "                        <td id=\"T_a7d35742_4445_11ec_89b5_0242ac1c0002row9_col9\" class=\"data row9 col9\" >0.821437</td>\n",
       "            </tr>\n",
       "    </tbody></table>"
      ],
      "text/plain": [
       "<pandas.io.formats.style.Styler at 0x7f0d9521d850>"
      ]
     },
     "execution_count": 75,
     "metadata": {},
     "output_type": "execute_result"
    }
   ],
   "source": [
    "df = pd.DataFrame(results, columns=learning_rate, index=estimators)\n",
    "df.style.background_gradient(cmap='Blues')"
   ]
  },
  {
   "cell_type": "markdown",
   "metadata": {
    "id": "rf4Kjt96EEZU"
   },
   "source": [
    "Выпишите какое лучшее качество и с какими параметрами вам удалось получить"
   ]
  },
  {
   "cell_type": "markdown",
   "metadata": {
    "id": "SQsZ79j02elf"
   },
   "source": [
    "Лучшее качество: `roc_auc_score = 0.8437` с параметрами `learning_rate = 0.01` и `n_estimators = 1000`"
   ]
  },
  {
   "cell_type": "markdown",
   "metadata": {
    "id": "dDMXbvNZEEZV"
   },
   "source": [
    "# Предсказания"
   ]
  },
  {
   "cell_type": "code",
   "execution_count": null,
   "metadata": {
    "id": "G_P4wFNaEEZW"
   },
   "outputs": [],
   "source": [
    "best_model = catboost.CatBoostClassifier(cat_features=cat_cols,\n",
    "                                         n_estimators=1000,\n",
    "                                         learning_rate=0.01)\n",
    "\n",
    "best_model.fit(data[feature_cols], data[target_col])"
   ]
  },
  {
   "cell_type": "code",
   "execution_count": null,
   "metadata": {
    "id": "FfSufx0CEEZZ"
   },
   "outputs": [],
   "source": [
    "X_test = pd.read_csv('./test.csv')\n",
    "submission = pd.read_csv('./submission.csv')\n",
    "\n",
    "submission['Churn'] = best_model.predict_proba(X_test) # best_model.predict_proba(X_test) / best_model.predict(X_test)\n",
    "submission.to_csv('./my_submission.csv')"
   ]
  },
  {
   "cell_type": "markdown",
   "metadata": {
    "id": "mkxjbGkVEEZc"
   },
   "source": [
    "# Kaggle (5 баллов)\n",
    "\n",
    "Как выставить баллы:\n",
    "\n",
    "1) 1 >= roc auc > 0.84 это 5 баллов\n",
    "\n",
    "2) 0.84 >= roc auc > 0.7 это 3 балла\n",
    "\n",
    "3) 0.7 >= roc auc > 0.6 это 1 балл\n",
    "\n",
    "4) 0.6 >= roc auc это 0 баллов\n",
    "\n",
    "\n",
    "Для выполнения задания необходимо выполнить следующие шаги.\n",
    "* Зарегистрироваться на платформе [kaggle.com](kaggle.com). Процесс выставления оценок будет проходить при подведении итогового рейтинга. Пожалуйста, укажите во вкладке Team -> Team name свои имя и фамилию в формате Имя_Фамилия (важно, чтобы имя и фамилия совпадали с данными на Stepik).\n",
    "* Обучить модель, получить файл с ответами в формате .csv и сдать его в конкурс. Пробуйте и экспериментируйте. Обратите внимание, что вы можете выполнять до 20 попыток сдачи на kaggle в день.\n",
    "* После окончания соревнования отправить в итоговый ноутбук с решением на степик. \n",
    "* После дедлайна проверьте посылки других участников по критериям. Для этого надо зайти на степик, скачать их ноутбук и проверить скор в соревновании."
   ]
  },
  {
   "cell_type": "markdown",
   "metadata": {
    "id": "YJENxWPq8W5_"
   },
   "source": [
    "\n",
    "\n",
    "---\n",
    "\n",
    "\n",
    "Kaggle name: Marina Lakeeva, результат 0.85178"
   ]
  }
 ],
 "metadata": {
  "colab": {
   "collapsed_sections": [],
   "name": "DLS_fall_2021_Customer_churn_Marina_Lakeeva.ipynb",
   "provenance": []
  },
  "kernelspec": {
   "display_name": "Python 3 (ipykernel)",
   "language": "python",
   "name": "python3"
  },
  "language_info": {
   "codemirror_mode": {
    "name": "ipython",
    "version": 3
   },
   "file_extension": ".py",
   "mimetype": "text/x-python",
   "name": "python",
   "nbconvert_exporter": "python",
   "pygments_lexer": "ipython3",
   "version": "3.8.5"
  }
 },
 "nbformat": 4,
 "nbformat_minor": 1
}
