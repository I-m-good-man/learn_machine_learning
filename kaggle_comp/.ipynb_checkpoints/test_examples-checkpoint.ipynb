{
 "cells": [
  {
   "cell_type": "code",
   "execution_count": 1,
   "id": "086fa869",
   "metadata": {},
   "outputs": [],
   "source": [
    "import pandas as pd\n",
    "import numpy as np\n",
    "from matplotlib import pyplot as plt"
   ]
  },
  {
   "cell_type": "raw",
   "id": "3b0dbdf5",
   "metadata": {},
   "source": [
    "fig = plt.figure()\n",
    "fig, axes = plt.subplots(nrows=10, ncols=1)\n",
    "func = lambda x: x+1\n",
    "random = np.random_int\n",
    "for \n"
   ]
  }
 ],
 "metadata": {
  "kernelspec": {
   "display_name": "Python 3 (ipykernel)",
   "language": "python",
   "name": "python3"
  },
  "language_info": {
   "codemirror_mode": {
    "name": "ipython",
    "version": 3
   },
   "file_extension": ".py",
   "mimetype": "text/x-python",
   "name": "python",
   "nbconvert_exporter": "python",
   "pygments_lexer": "ipython3",
   "version": "3.8.5"
  }
 },
 "nbformat": 4,
 "nbformat_minor": 5
}
