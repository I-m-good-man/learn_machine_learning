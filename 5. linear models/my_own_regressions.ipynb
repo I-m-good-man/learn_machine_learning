{
 "cells": [
  {
   "cell_type": "code",
   "execution_count": 1,
   "id": "d4f21365",
   "metadata": {},
   "outputs": [],
   "source": [
    "import numpy as np\n",
    "import pandas as pd"
   ]
  },
  {
   "cell_type": "code",
   "execution_count": null,
   "id": "746ce7a1",
   "metadata": {},
   "outputs": [],
   "source": [
    "class MyLinearGradientRegression:\n",
    "    def __init__(self):\n",
    "        self.w = None\n",
    "    \n",
    "    def fit(x, y, max_iter=100, lr=0.1):\n",
    "        pass\n",
    "    \n",
    "    def mse(x, y):\n",
    "        return np.mean((np.dot(x, self.w)-y)**2)\n",
    "    \n",
    "    def get_grade(start_dot, x, y, eps=0.00001):\n",
    "        for arg1, arg2 in zip(range(list(start_dot)))\n",
    "        \n",
    "        \n",
    "        "
   ]
  }
 ],
 "metadata": {
  "kernelspec": {
   "display_name": "Python 3 (ipykernel)",
   "language": "python",
   "name": "python3"
  },
  "language_info": {
   "codemirror_mode": {
    "name": "ipython",
    "version": 3
   },
   "file_extension": ".py",
   "mimetype": "text/x-python",
   "name": "python",
   "nbconvert_exporter": "python",
   "pygments_lexer": "ipython3",
   "version": "3.8.5"
  }
 },
 "nbformat": 4,
 "nbformat_minor": 5
}
