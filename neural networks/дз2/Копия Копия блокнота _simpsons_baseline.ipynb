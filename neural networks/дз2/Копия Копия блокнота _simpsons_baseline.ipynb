{
 "cells": [
  {
   "cell_type": "markdown",
   "metadata": {
    "id": "fQlDjKcWcb1I"
   },
   "source": [
    "\n",
    "\n",
    "## **Физтех-Школа Прикладной математики и информатики (ФПМИ) МФТИ**"
   ]
  },
  {
   "cell_type": "markdown",
   "metadata": {
    "id": "Xw7YkEefehWo"
   },
   "source": [
    "# Путешествие по Спрингфилду.\n",
    "\n",
    "\n",
    "Сегодня вам предстоить помочь телекомпании FOX  в обработке их контента. Как вы знаете сериал Симсоны идет на телеэкранах более 25 лет и за это время скопилось очень много видео материала. Персоонажи менялись вместе с изменяющимися графическими технологиями   и Гомер 2018 не очень похож на Гомера 1989. Нашей задачей будет научиться классифицировать персонажей проживающих в Спрингфилде. Думаю, что нет смысла представлять каждого из них в отдельности.\n",
    "\n",
    "\n",
    "\n",
    " ![alt text](https://vignette.wikia.nocookie.net/simpsons/images/5/5a/Spider_fat_piglet.png/revision/latest/scale-to-width-down/640?cb=20111118140828)\n",
    "\n"
   ]
  },
  {
   "cell_type": "markdown",
   "metadata": {
    "id": "oG47vhLxKNln"
   },
   "source": [
    "### Установка зависимостей"
   ]
  },
  {
   "cell_type": "code",
   "execution_count": 1,
   "metadata": {
    "colab": {
     "base_uri": "https://localhost:8080/",
     "height": 35
    },
    "executionInfo": {
     "elapsed": 373,
     "status": "ok",
     "timestamp": 1640003154386,
     "user": {
      "displayName": "Марат Марат",
      "photoUrl": "https://lh3.googleusercontent.com/a/default-user=s64",
      "userId": "10330915484136450663"
     },
     "user_tz": -180
    },
    "id": "_ITX8q-BMkKu",
    "outputId": "ad42a87e-d99c-416c-aa9c-9beb36b64614"
   },
   "outputs": [
    {
     "data": {
      "text/plain": [
       "'!pip install -U torch torchvision'"
      ]
     },
     "execution_count": 1,
     "metadata": {},
     "output_type": "execute_result"
    }
   ],
   "source": [
    "\"\"\"!pip install -U torch torchvision\"\"\""
   ]
  },
  {
   "cell_type": "code",
   "execution_count": 2,
   "metadata": {
    "colab": {
     "base_uri": "https://localhost:8080/",
     "height": 87
    },
    "executionInfo": {
     "elapsed": 476,
     "status": "ok",
     "timestamp": 1640003155487,
     "user": {
      "displayName": "Марат Марат",
      "photoUrl": "https://lh3.googleusercontent.com/a/default-user=s64",
      "userId": "10330915484136450663"
     },
     "user_tz": -180
    },
    "id": "W-YekKLfK-3M",
    "outputId": "2c56f3fb-7fda-415d-8bd3-223c192459d8"
   },
   "outputs": [
    {
     "data": {
      "text/plain": [
       "\"\\n# установка подходящей версии torch\\n\\nfrom os.path import exists\\nfrom wheel.pep425tags import get_abbr_impl, get_impl_ver, get_abi_tag\\nplatform = '{}{}-{}'.format(get_abbr_impl(), get_impl_ver(), get_abi_tag())\\ncuda_output = !ldconfig -p|grep cudart.so|sed -e 's/.*\\\\.\\\\([0-9]*\\\\)\\\\.\\\\([0-9]*\\\\)$/cu\\x01\\x02/'\\naccelerator = cuda_output[0] if exists('/dev/nvidia0') else 'cpu'\\n\\n!pip install -q http://download.pytorch.org/whl/{accelerator}/torch-0.4.1-{platform}-linux_x86_64.whl torchvision\\nimport torch\\n\""
      ]
     },
     "execution_count": 2,
     "metadata": {},
     "output_type": "execute_result"
    }
   ],
   "source": [
    "\"\"\"\n",
    "# установка подходящей версии torch\n",
    "\n",
    "from os.path import exists\n",
    "from wheel.pep425tags import get_abbr_impl, get_impl_ver, get_abi_tag\n",
    "platform = '{}{}-{}'.format(get_abbr_impl(), get_impl_ver(), get_abi_tag())\n",
    "cuda_output = !ldconfig -p|grep cudart.so|sed -e 's/.*\\.\\([0-9]*\\)\\.\\([0-9]*\\)$/cu\\1\\2/'\n",
    "accelerator = cuda_output[0] if exists('/dev/nvidia0') else 'cpu'\n",
    "\n",
    "!pip install -q http://download.pytorch.org/whl/{accelerator}/torch-0.4.1-{platform}-linux_x86_64.whl torchvision\n",
    "import torch\n",
    "\"\"\""
   ]
  },
  {
   "cell_type": "code",
   "execution_count": 3,
   "metadata": {
    "colab": {
     "base_uri": "https://localhost:8080/"
    },
    "executionInfo": {
     "elapsed": 5380,
     "status": "ok",
     "timestamp": 1640003160863,
     "user": {
      "displayName": "Марат Марат",
      "photoUrl": "https://lh3.googleusercontent.com/a/default-user=s64",
      "userId": "10330915484136450663"
     },
     "user_tz": -180
    },
    "id": "WWgcwKwCLBfr",
    "outputId": "c0619aa4-4984-4d9b-a830-91107be8fe88"
   },
   "outputs": [
    {
     "name": "stdout",
     "output_type": "stream",
     "text": [
      "CUDA is not available.  Training on CPU ...\n"
     ]
    }
   ],
   "source": [
    "# we will verify that GPU is enabled for this notebook\n",
    "# following should print: CUDA is available!  Training on GPU ...\n",
    "# \n",
    "# if it prints otherwise, then you need to enable GPU: \n",
    "# from Menu > Runtime > Change Runtime Type > Hardware Accelerator > GPU\n",
    "\n",
    "import torch\n",
    "import numpy as np\n",
    "from torch.optim import lr_scheduler\n",
    "\n",
    "\n",
    "train_on_gpu = torch.cuda.is_available()\n",
    "\n",
    "if not train_on_gpu:\n",
    "    print('CUDA is not available.  Training on CPU ...')\n",
    "else:\n",
    "    print('CUDA is available!  Training on GPU ...')"
   ]
  },
  {
   "cell_type": "code",
   "execution_count": 4,
   "metadata": {
    "colab": {
     "base_uri": "https://localhost:8080/",
     "height": 70
    },
    "executionInfo": {
     "elapsed": 9,
     "status": "ok",
     "timestamp": 1640003160863,
     "user": {
      "displayName": "Марат Марат",
      "photoUrl": "https://lh3.googleusercontent.com/a/default-user=s64",
      "userId": "10330915484136450663"
     },
     "user_tz": -180
    },
    "id": "MXno2OSeLF3e",
    "outputId": "686bd473-7962-467b-a37b-60c81723d908"
   },
   "outputs": [
    {
     "data": {
      "text/plain": [
       "'\\n# нам необходима версия pillow  5.3.0\\n# удалим старую версию и установим новую\\n!pip uninstall -y Pillow\\n!pip install Pillow==5.3.0\\nimport PIL\\nprint(PIL.PILLOW_VERSION)\\n# здесь должна быть версия 5.3.0. если это не так перехгрузите данный ноутбук:\\n# Menu > Runtime > Restart Runtime\\n'"
      ]
     },
     "execution_count": 4,
     "metadata": {},
     "output_type": "execute_result"
    }
   ],
   "source": [
    "\"\"\"\n",
    "# нам необходима версия pillow  5.3.0\n",
    "# удалим старую версию и установим новую\n",
    "!pip uninstall -y Pillow\n",
    "!pip install Pillow==5.3.0\n",
    "import PIL\n",
    "print(PIL.PILLOW_VERSION)\n",
    "# здесь должна быть версия 5.3.0. если это не так перехгрузите данный ноутбук:\n",
    "# Menu > Runtime > Restart Runtime\n",
    "\"\"\""
   ]
  },
  {
   "cell_type": "markdown",
   "metadata": {
    "id": "TTQXgo_oYDx8"
   },
   "source": []
  },
  {
   "cell_type": "code",
   "execution_count": 5,
   "metadata": {
    "colab": {
     "base_uri": "https://localhost:8080/"
    },
    "executionInfo": {
     "elapsed": 19652,
     "status": "ok",
     "timestamp": 1640003180508,
     "user": {
      "displayName": "Марат Марат",
      "photoUrl": "https://lh3.googleusercontent.com/a/default-user=s64",
      "userId": "10330915484136450663"
     },
     "user_tz": -180
    },
    "id": "xA3o2xC3MlMI",
    "outputId": "88dc6622-369d-48cd-d2b5-b20e300f3140"
   },
   "outputs": [
    {
     "data": {
      "text/plain": [
       "\"\\nfrom google.colab import drive\\ndrive.mount('/content/gdrive/')\\n\""
      ]
     },
     "execution_count": 5,
     "metadata": {},
     "output_type": "execute_result"
    }
   ],
   "source": [
    "\"\"\"\n",
    "from google.colab import drive\n",
    "drive.mount('/content/gdrive/')\n",
    "\"\"\""
   ]
  },
  {
   "cell_type": "code",
   "execution_count": 6,
   "metadata": {
    "colab": {
     "base_uri": "https://localhost:8080/",
     "height": 52
    },
    "executionInfo": {
     "elapsed": 15,
     "status": "ok",
     "timestamp": 1640003180509,
     "user": {
      "displayName": "Марат Марат",
      "photoUrl": "https://lh3.googleusercontent.com/a/default-user=s64",
      "userId": "10330915484136450663"
     },
     "user_tz": -180
    },
    "id": "kRGt7YicMxYI",
    "outputId": "7f18a632-3a59-4839-c3b8-03c2c14908c4"
   },
   "outputs": [
    {
     "data": {
      "text/plain": [
       "'\\n!unzip -q /content/gdrive/My\\\\ Drive/simpsons/data/dataset.zip -d train\\n!unzip -q /content/gdrive/My\\\\ Drive/simpsons/data/testset.zip -d test\\n'"
      ]
     },
     "execution_count": 6,
     "metadata": {},
     "output_type": "execute_result"
    }
   ],
   "source": [
    "\"\"\"\n",
    "!unzip -q /content/gdrive/My\\ Drive/simpsons/data/dataset.zip -d train\n",
    "!unzip -q /content/gdrive/My\\ Drive/simpsons/data/testset.zip -d test\n",
    "\"\"\""
   ]
  },
  {
   "cell_type": "code",
   "execution_count": 7,
   "metadata": {
    "colab": {
     "base_uri": "https://localhost:8080/",
     "height": 35
    },
    "executionInfo": {
     "elapsed": 15,
     "status": "ok",
     "timestamp": 1640003180510,
     "user": {
      "displayName": "Марат Марат",
      "photoUrl": "https://lh3.googleusercontent.com/a/default-user=s64",
      "userId": "10330915484136450663"
     },
     "user_tz": -180
    },
    "id": "D2dg3IHMMo-s",
    "outputId": "64f26240-7654-4e19-ac1e-e2e7e9d8faa7"
   },
   "outputs": [
    {
     "data": {
      "text/plain": [
       "'!ls train'"
      ]
     },
     "execution_count": 7,
     "metadata": {},
     "output_type": "execute_result"
    }
   ],
   "source": [
    "\"\"\"!ls train\"\"\""
   ]
  },
  {
   "cell_type": "code",
   "execution_count": null,
   "metadata": {
    "executionInfo": {
     "elapsed": 14,
     "status": "ok",
     "timestamp": 1640003180511,
     "user": {
      "displayName": "Марат Марат",
      "photoUrl": "https://lh3.googleusercontent.com/a/default-user=s64",
      "userId": "10330915484136450663"
     },
     "user_tz": -180
    },
    "id": "Eql8-ma0zBHc"
   },
   "outputs": [],
   "source": []
  },
  {
   "cell_type": "code",
   "execution_count": 8,
   "metadata": {
    "colab": {
     "base_uri": "https://localhost:8080/"
    },
    "executionInfo": {
     "elapsed": 14,
     "status": "ok",
     "timestamp": 1640003180511,
     "user": {
      "displayName": "Марат Марат",
      "photoUrl": "https://lh3.googleusercontent.com/a/default-user=s64",
      "userId": "10330915484136450663"
     },
     "user_tz": -180
    },
    "id": "GvWhlkiRMxih",
    "outputId": "df2d899a-42c1-4897-8af3-f68d527988b4"
   },
   "outputs": [
    {
     "name": "stderr",
     "output_type": "stream",
     "text": [
      "\"nvidia-smi\" ­Ґ пў«пҐвбп ў­гваҐ­­Ґ© Ё«Ё ў­Ґи­Ґ©\n",
      "Є®¬ ­¤®©, ЁбЇ®«­пҐ¬®© Їа®Ја ¬¬®© Ё«Ё Ї ЄҐв­л¬ д ©«®¬.\n"
     ]
    },
    {
     "data": {
      "text/plain": [
       "False"
      ]
     },
     "execution_count": 8,
     "metadata": {},
     "output_type": "execute_result"
    }
   ],
   "source": [
    "!nvidia-smi\n",
    "import torch\n",
    "torch.cuda.is_available()"
   ]
  },
  {
   "cell_type": "markdown",
   "metadata": {
    "id": "BD_8gK6PmgXk"
   },
   "source": [
    "В нашем тесте будет 990 картнок, для которых вам будет необходимо предсказать класс."
   ]
  },
  {
   "cell_type": "code",
   "execution_count": 9,
   "metadata": {
    "executionInfo": {
     "elapsed": 1367,
     "status": "ok",
     "timestamp": 1640003181869,
     "user": {
      "displayName": "Марат Марат",
      "photoUrl": "https://lh3.googleusercontent.com/a/default-user=s64",
      "userId": "10330915484136450663"
     },
     "user_tz": -180
    },
    "id": "naD6xsZzMxrC"
   },
   "outputs": [],
   "source": [
    "import pickle\n",
    "import numpy as np\n",
    "from skimage import io\n",
    "\n",
    "from tqdm import tqdm, tqdm_notebook\n",
    "from PIL import Image\n",
    "from pathlib import Path\n",
    "\n",
    "from torchvision import transforms\n",
    "from multiprocessing.pool import ThreadPool\n",
    "from sklearn.preprocessing import LabelEncoder\n",
    "from torch.utils.data import Dataset, DataLoader\n",
    "import torch.nn as nn\n",
    "\n",
    "from matplotlib import colors, pyplot as plt\n",
    "%matplotlib inline\n",
    "\n",
    "# в sklearn не все гладко, чтобы в colab удобно выводить картинки \n",
    "# мы будем игнорировать warnings\n",
    "import warnings\n",
    "warnings.filterwarnings(action='ignore', category=DeprecationWarning)\n"
   ]
  },
  {
   "cell_type": "code",
   "execution_count": 10,
   "metadata": {
    "executionInfo": {
     "elapsed": 16,
     "status": "ok",
     "timestamp": 1640003181870,
     "user": {
      "displayName": "Марат Марат",
      "photoUrl": "https://lh3.googleusercontent.com/a/default-user=s64",
      "userId": "10330915484136450663"
     },
     "user_tz": -180
    },
    "id": "WTdzMtgJP15N"
   },
   "outputs": [],
   "source": [
    "# разные режимы датасета \n",
    "DATA_MODES = ['train', 'val', 'test']\n",
    "# все изображения будут масштабированы к размеру 224x224 px\n",
    "RESCALE_SIZE = 224\n",
    "# работаем на видеокарте\n",
    "DEVICE = torch.device(\"cuda\") if torch.cuda.is_available() else torch.device(\"cpu\")"
   ]
  },
  {
   "cell_type": "markdown",
   "metadata": {
    "id": "HYFeKUzfy572"
   },
   "source": [
    "https://jhui.github.io/2018/02/09/PyTorch-Data-loading-preprocess_torchvision/\n"
   ]
  },
  {
   "cell_type": "markdown",
   "metadata": {
    "id": "8ecnkB2xK1aE"
   },
   "source": [
    "Ниже мы исспользуем враппер над датасетом для удобной работы. Вам стоит понимать, что происходит с LabelEncoder и  с torch.Transformation. \n",
    "\n",
    "ToTensor конвертирует  PIL Image с параметрами в диапазоне [0, 255] (как все пиксели) в FloatTensor размера (C x H x W) [0,1] , затем производится масштабирование:\n",
    "$input = \\frac{input - \\mu}{\\text{standard deviation}} $, <br>       константы - средние и дисперсии по каналам на основе ImageNet\n",
    "\n",
    "\n",
    "Стоит также отметить, что мы переопределяем метод __getitem__ для удобства работы с данной структурой данных.\n",
    " Также используется LabelEncoder для преобразования строковых меток классов в id и обратно. В описании датасета указано, что картинки разного размера, так как брались напрямую с видео, поэтому следуем привести их к одному размер (это делает метод  _prepare_sample) "
   ]
  },
  {
   "cell_type": "code",
   "execution_count": 11,
   "metadata": {
    "executionInfo": {
     "elapsed": 15,
     "status": "ok",
     "timestamp": 1640003181870,
     "user": {
      "displayName": "Марат Марат",
      "photoUrl": "https://lh3.googleusercontent.com/a/default-user=s64",
      "userId": "10330915484136450663"
     },
     "user_tz": -180
    },
    "id": "cj32U5iTQUe4"
   },
   "outputs": [],
   "source": [
    "class SimpsonsDataset(Dataset):\n",
    "    \"\"\"\n",
    "    Датасет с картинками, который паралельно подгружает их из папок\n",
    "    производит скалирование и превращение в торчевые тензоры\n",
    "    \"\"\"\n",
    "    def __init__(self, files, mode):\n",
    "        super().__init__()\n",
    "        # список файлов для загрузки\n",
    "        self.files = sorted(files)\n",
    "        # режим работы\n",
    "        self.mode = mode\n",
    "\n",
    "        if self.mode not in DATA_MODES:\n",
    "            print(f\"{self.mode} is not correct; correct modes: {DATA_MODES}\")\n",
    "            raise NameError\n",
    "\n",
    "        self.len_ = len(self.files)\n",
    "     \n",
    "        self.label_encoder = LabelEncoder()\n",
    "\n",
    "        if self.mode != 'test':\n",
    "            self.labels = [path.parent.name for path in self.files]\n",
    "            self.label_encoder.fit(self.labels)\n",
    "\n",
    "            with open('label_encoder.pkl', 'wb') as le_dump_file:\n",
    "                  pickle.dump(self.label_encoder, le_dump_file)\n",
    "                      \n",
    "    def __len__(self):\n",
    "        return self.len_\n",
    "      \n",
    "    def load_sample(self, file):\n",
    "        image = Image.open(file)\n",
    "        image.load()\n",
    "        return image\n",
    "  \n",
    "    def __getitem__(self, index):\n",
    "        # для преобразования изображений в тензоры PyTorch и нормализации входа\n",
    "        transform = transforms.Compose([\n",
    "            transforms.ToTensor(),\n",
    "            transforms.Normalize([0.485, 0.456, 0.406], [0.229, 0.224, 0.225]) \n",
    "        ])\n",
    "        x = self.load_sample(self.files[index])\n",
    "        x = self._prepare_sample(x)\n",
    "        x = np.array(x / 255, dtype='float32')\n",
    "        x = transform(x)\n",
    "        if self.mode == 'test':\n",
    "            return x\n",
    "        else:\n",
    "            label = self.labels[index]\n",
    "            label_id = self.label_encoder.transform([label])\n",
    "            y = label_id.item()\n",
    "            return x, y\n",
    "        \n",
    "    def _prepare_sample(self, image):\n",
    "        image = image.resize((RESCALE_SIZE, RESCALE_SIZE))\n",
    "        return np.array(image)"
   ]
  },
  {
   "cell_type": "code",
   "execution_count": 12,
   "metadata": {
    "executionInfo": {
     "elapsed": 16,
     "status": "ok",
     "timestamp": 1640003181871,
     "user": {
      "displayName": "Марат Марат",
      "photoUrl": "https://lh3.googleusercontent.com/a/default-user=s64",
      "userId": "10330915484136450663"
     },
     "user_tz": -180
    },
    "id": "j_odtTEzcaWH"
   },
   "outputs": [],
   "source": [
    "def imshow(inp, title=None, plt_ax=plt, default=False):\n",
    "    \"\"\"Imshow для тензоров\"\"\"\n",
    "    inp = inp.numpy().transpose((1, 2, 0))\n",
    "    mean = np.array([0.485, 0.456, 0.406])\n",
    "    std = np.array([0.229, 0.224, 0.225])\n",
    "    inp = std * inp + mean\n",
    "    inp = np.clip(inp, 0, 1)\n",
    "    plt_ax.imshow(inp)\n",
    "    if title is not None:\n",
    "        plt_ax.set_title(title)\n",
    "    plt_ax.grid(False)"
   ]
  },
  {
   "cell_type": "code",
   "execution_count": 13,
   "metadata": {
    "colab": {
     "base_uri": "https://localhost:8080/"
    },
    "executionInfo": {
     "elapsed": 16,
     "status": "ok",
     "timestamp": 1640003181871,
     "user": {
      "displayName": "Марат Марат",
      "photoUrl": "https://lh3.googleusercontent.com/a/default-user=s64",
      "userId": "10330915484136450663"
     },
     "user_tz": -180
    },
    "id": "emK5XheCtsEL",
    "outputId": "77e5c4af-07e2-465e-f0ff-05be8810362c"
   },
   "outputs": [
    {
     "data": {
      "text/plain": [
       "WindowsPath('.')"
      ]
     },
     "execution_count": 13,
     "metadata": {},
     "output_type": "execute_result"
    }
   ],
   "source": [
    "Path()"
   ]
  },
  {
   "cell_type": "code",
   "execution_count": 14,
   "metadata": {
    "colab": {
     "base_uri": "https://localhost:8080/"
    },
    "executionInfo": {
     "elapsed": 13,
     "status": "ok",
     "timestamp": 1640003181872,
     "user": {
      "displayName": "Марат Марат",
      "photoUrl": "https://lh3.googleusercontent.com/a/default-user=s64",
      "userId": "10330915484136450663"
     },
     "user_tz": -180
    },
    "id": "rlNs3DezuEro",
    "outputId": "0c9dc5f1-3910-435d-b656-286efb29ca1b"
   },
   "outputs": [
    {
     "name": "stderr",
     "output_type": "stream",
     "text": [
      "\"ls\" ­Ґ пў«пҐвбп ў­гваҐ­­Ґ© Ё«Ё ў­Ґи­Ґ©\n",
      "Є®¬ ­¤®©, ЁбЇ®«­пҐ¬®© Їа®Ја ¬¬®© Ё«Ё Ї ЄҐв­л¬ д ©«®¬.\n"
     ]
    }
   ],
   "source": [
    "!ls gdrive/MyDrive"
   ]
  },
  {
   "cell_type": "code",
   "execution_count": 15,
   "metadata": {
    "executionInfo": {
     "elapsed": 43229,
     "status": "ok",
     "timestamp": 1640003225093,
     "user": {
      "displayName": "Марат Марат",
      "photoUrl": "https://lh3.googleusercontent.com/a/default-user=s64",
      "userId": "10330915484136450663"
     },
     "user_tz": -180
    },
    "id": "yUhzOq1zRJil"
   },
   "outputs": [],
   "source": [
    "TRAIN_DIR = Path('journey-springfield/train/simpsons_dataset')\n",
    "TEST_DIR = Path('journey-springfield/testset/testset')\n",
    "\n",
    "train_val_files = sorted(list(TRAIN_DIR.rglob('*.jpg')))\n",
    "test_files = sorted(list(TEST_DIR.rglob('*.jpg')))\n"
   ]
  },
  {
   "cell_type": "code",
   "execution_count": 16,
   "metadata": {
    "executionInfo": {
     "elapsed": 14,
     "status": "ok",
     "timestamp": 1640003225094,
     "user": {
      "displayName": "Марат Марат",
      "photoUrl": "https://lh3.googleusercontent.com/a/default-user=s64",
      "userId": "10330915484136450663"
     },
     "user_tz": -180
    },
    "id": "TmPhhKKlRyCF"
   },
   "outputs": [],
   "source": [
    "from sklearn.model_selection import train_test_split\n",
    "\n",
    "train_val_labels = [path.parent.name for path in train_val_files]\n",
    "train_files, val_files = train_test_split(train_val_files, test_size=0.25, \\\n",
    "                                          stratify=train_val_labels)"
   ]
  },
  {
   "cell_type": "code",
   "execution_count": 17,
   "metadata": {
    "executionInfo": {
     "elapsed": 14,
     "status": "ok",
     "timestamp": 1640003225095,
     "user": {
      "displayName": "Марат Марат",
      "photoUrl": "https://lh3.googleusercontent.com/a/default-user=s64",
      "userId": "10330915484136450663"
     },
     "user_tz": -180
    },
    "id": "aAimOLjSQGTh"
   },
   "outputs": [],
   "source": [
    "val_dataset = SimpsonsDataset(val_files, mode='val')"
   ]
  },
  {
   "cell_type": "code",
   "execution_count": 18,
   "metadata": {
    "executionInfo": {
     "elapsed": 13,
     "status": "ok",
     "timestamp": 1640003225095,
     "user": {
      "displayName": "Марат Марат",
      "photoUrl": "https://lh3.googleusercontent.com/a/default-user=s64",
      "userId": "10330915484136450663"
     },
     "user_tz": -180
    },
    "id": "DMgIbm6hRwdQ"
   },
   "outputs": [],
   "source": [
    "# uncomment if you have problem with pillow\n",
    "# def register_extension(id, extension): Image.EXTENSION[extension.lower()] = id.upper()\n",
    "# Image.register_extension = register_extension\n",
    "# def register_extensions(id, extensions): \n",
    "#     for extension in extensions: register_extension(id, extension)\n",
    "# Image.register_extensions = register_extensions"
   ]
  },
  {
   "cell_type": "markdown",
   "metadata": {
    "id": "PmKSdyv1b7PD"
   },
   "source": [
    "Давайте посмотрим на наших героев внутри датасета."
   ]
  },
  {
   "cell_type": "code",
   "execution_count": 19,
   "metadata": {
    "colab": {
     "base_uri": "https://localhost:8080/",
     "height": 499
    },
    "executionInfo": {
     "elapsed": 8564,
     "status": "ok",
     "timestamp": 1640003233646,
     "user": {
      "displayName": "Марат Марат",
      "photoUrl": "https://lh3.googleusercontent.com/a/default-user=s64",
      "userId": "10330915484136450663"
     },
     "user_tz": -180
    },
    "id": "ltitWp3lXAZt",
    "outputId": "dd00adb8-dc4c-43f3-dad3-cbb3190911c5"
   },
   "outputs": [
    {
     "data": {
      "image/png": "[encoded data removed]",
      "text/plain": [
       "<Figure size 576x576 with 9 Axes>"
      ]
     },
     "metadata": {
      "needs_background": "light"
     },
     "output_type": "display_data"
    }
   ],
   "source": [
    "fig, ax = plt.subplots(nrows=3, ncols=3,figsize=(8, 8), \\\n",
    "                        sharey=True, sharex=True)\n",
    "for fig_x in ax.flatten():\n",
    "    random_characters = int(np.random.uniform(0,1000))\n",
    "    im_val, label = val_dataset[random_characters]\n",
    "    img_label = \" \".join(map(lambda x: x.capitalize(),\\\n",
    "                val_dataset.label_encoder.inverse_transform([label])[0].split('_')))\n",
    "    imshow(im_val.data.cpu(), \\\n",
    "          title=img_label,plt_ax=fig_x)"
   ]
  },
  {
   "cell_type": "markdown",
   "metadata": {
    "id": "GpN9lSi4QVGt"
   },
   "source": [
    "Можете добавить ваши любимые сцены и классифицировать их. (веселые результаты можно кидать в чат)"
   ]
  },
  {
   "cell_type": "markdown",
   "metadata": {
    "id": "u6YcZk8vQR47"
   },
   "source": [
    "### Построение нейросети\n",
    "\n",
    "Запустить данную сеть будет вашим мини-заданием на первую неделю, чтобы было проще участвовать в соревновании.\n",
    "\n",
    "Данная архитектура будет очень простой и нужна для того, чтобы установить базовое понимание и получить простенький сабмит на Kaggle\n",
    "\n",
    "<!-- Здесь вам предлагается дописать сверточную сеть глубины 4/5.  -->\n",
    "\n",
    "*Описание слоев*:\n",
    "\n",
    "\n",
    "\n",
    "1. размерность входа: 3x224x224 \n",
    "2.размерности после слоя:  8x111x111\n",
    "3. 16x54x54\n",
    "4. 32x26x26\n",
    "5. 64x12x12\n",
    "6. выход: 96x5x5\n"
   ]
  },
  {
   "cell_type": "code",
   "execution_count": 20,
   "metadata": {
    "executionInfo": {
     "elapsed": 19,
     "status": "ok",
     "timestamp": 1640003233647,
     "user": {
      "displayName": "Марат Марат",
      "photoUrl": "https://lh3.googleusercontent.com/a/default-user=s64",
      "userId": "10330915484136450663"
     },
     "user_tz": -180
    },
    "id": "1PJcWAhuji-i"
   },
   "outputs": [],
   "source": [
    "# Очень простая сеть\n",
    "class SimpleCnn(nn.Module):\n",
    "  \n",
    "    def __init__(self, n_classes):\n",
    "        super().__init__()\n",
    "        self.conv1 = nn.Sequential(\n",
    "            nn.Conv2d(in_channels=3, out_channels=8, kernel_size=3),\n",
    "            nn.ReLU(),\n",
    "            nn.MaxPool2d(kernel_size=2)\n",
    "        )\n",
    "        self.conv2 = nn.Sequential(\n",
    "            nn.Conv2d(in_channels=8, out_channels=16, kernel_size=3),\n",
    "            nn.ReLU(),\n",
    "            nn.MaxPool2d(kernel_size=2)\n",
    "        )\n",
    "        self.conv3 = nn.Sequential(\n",
    "            nn.Conv2d(in_channels=16, out_channels=32, kernel_size=3),\n",
    "            nn.ReLU(),\n",
    "            nn.MaxPool2d(kernel_size=2)\n",
    "        )\n",
    "        self.conv4 = nn.Sequential(\n",
    "            nn.Conv2d(in_channels=32, out_channels=64, kernel_size=3),\n",
    "            nn.ReLU(),\n",
    "            nn.MaxPool2d(kernel_size=2)\n",
    "        )\n",
    "        self.conv5 = nn.Sequential(\n",
    "            nn.Conv2d(in_channels=64, out_channels=96, kernel_size=3),\n",
    "            nn.ReLU(),\n",
    "            nn.MaxPool2d(kernel_size=2)\n",
    "        )\n",
    "        \n",
    "        self.out = nn.Linear(96 * 5 * 5, n_classes)\n",
    "  \n",
    "  \n",
    "    def forward(self, x):\n",
    "        x = self.conv1(x)\n",
    "        x = self.conv2(x)\n",
    "        x = self.conv3(x)\n",
    "        x = self.conv4(x)\n",
    "        x = self.conv5(x)\n",
    "\n",
    "        x = x.view(x.size(0), -1)\n",
    "        logits = self.out(x)\n",
    "        return logits"
   ]
  },
  {
   "cell_type": "code",
   "execution_count": 21,
   "metadata": {
    "executionInfo": {
     "elapsed": 18,
     "status": "ok",
     "timestamp": 1640003233648,
     "user": {
      "displayName": "Марат Марат",
      "photoUrl": "https://lh3.googleusercontent.com/a/default-user=s64",
      "userId": "10330915484136450663"
     },
     "user_tz": -180
    },
    "id": "e2mk7MNtcUhJ"
   },
   "outputs": [],
   "source": [
    "def fit_epoch(model, train_loader, criterion, optimizer):\n",
    "    running_loss = 0.0\n",
    "    running_corrects = 0\n",
    "    processed_data = 0\n",
    "  \n",
    "    for inputs, labels in tqdm(train_loader):\n",
    "        inputs = inputs.to(DEVICE)\n",
    "        labels = labels.to(DEVICE)\n",
    "        optimizer.zero_grad()\n",
    "\n",
    "        outputs = model(inputs)\n",
    "        loss = criterion(outputs, labels)\n",
    "        loss.backward()\n",
    "        optimizer.step()\n",
    "        preds = torch.argmax(outputs, 1)\n",
    "        running_loss += loss.item() * inputs.size(0)\n",
    "        running_corrects += torch.sum(preds == labels.data)\n",
    "        processed_data += inputs.size(0)\n",
    "              \n",
    "    train_loss = running_loss / processed_data\n",
    "    train_acc = running_corrects.cpu().numpy() / processed_data\n",
    "    return train_loss, train_acc"
   ]
  },
  {
   "cell_type": "code",
   "execution_count": 22,
   "metadata": {
    "executionInfo": {
     "elapsed": 19,
     "status": "ok",
     "timestamp": 1640003233649,
     "user": {
      "displayName": "Марат Марат",
      "photoUrl": "https://lh3.googleusercontent.com/a/default-user=s64",
      "userId": "10330915484136450663"
     },
     "user_tz": -180
    },
    "id": "w_CD9--hcUjs"
   },
   "outputs": [],
   "source": [
    "def eval_epoch(model, val_loader, criterion):\n",
    "    model.eval()\n",
    "    running_loss = 0.0\n",
    "    running_corrects = 0\n",
    "    processed_size = 0\n",
    "\n",
    "    for inputs, labels in tqdm(val_loader):\n",
    "        inputs = inputs.to(DEVICE)\n",
    "        labels = labels.to(DEVICE)\n",
    "\n",
    "        with torch.set_grad_enabled(False):\n",
    "            outputs = model(inputs)\n",
    "            loss = criterion(outputs, labels)\n",
    "            preds = torch.argmax(outputs, 1)\n",
    "\n",
    "        running_loss += loss.item() * inputs.size(0)\n",
    "        running_corrects += torch.sum(preds == labels.data)\n",
    "        processed_size += inputs.size(0)\n",
    "    val_loss = running_loss / processed_size\n",
    "    val_acc = running_corrects.double() / processed_size\n",
    "    return val_loss, val_acc"
   ]
  },
  {
   "cell_type": "code",
   "execution_count": 23,
   "metadata": {
    "executionInfo": {
     "elapsed": 20,
     "status": "ok",
     "timestamp": 1640003233650,
     "user": {
      "displayName": "Марат Марат",
      "photoUrl": "https://lh3.googleusercontent.com/a/default-user=s64",
      "userId": "10330915484136450663"
     },
     "user_tz": -180
    },
    "id": "NaxYIwB3cUmX"
   },
   "outputs": [],
   "source": [
    "def train(train_files, val_files, model, epochs, batch_size):\n",
    "    train_loader = DataLoader(train_dataset, batch_size=batch_size, shuffle=True)\n",
    "    val_loader = DataLoader(val_dataset, batch_size=batch_size, shuffle=False)\n",
    "\n",
    "    history = []\n",
    "    log_template = \"\\nEpoch {ep:03d} train_loss: {t_loss:0.4f} \\\n",
    "    val_loss {v_loss:0.4f} train_acc {t_acc:0.4f} val_acc {v_acc:0.4f}\"\n",
    "\n",
    "    with tqdm(desc=\"epoch\", total=epochs) as pbar_outer:\n",
    "        opt = torch.optim.Adam(model.parameters())\n",
    "        criterion = nn.CrossEntropyLoss()\n",
    "\n",
    "        for epoch in range(epochs):\n",
    "            train_loss, train_acc = fit_epoch(model, train_loader, criterion, opt)\n",
    "            print(\"loss\", train_loss)\n",
    "            \n",
    "            val_loss, val_acc = eval_epoch(model, val_loader, criterion)\n",
    "            history.append((train_loss, train_acc, val_loss, val_acc))\n",
    "            \n",
    "            pbar_outer.update(1)\n",
    "            tqdm.write(log_template.format(ep=epoch+1, t_loss=train_loss,\\\n",
    "                                           v_loss=val_loss, t_acc=train_acc, v_acc=val_acc))\n",
    "            \n",
    "    return history"
   ]
  },
  {
   "cell_type": "code",
   "execution_count": 24,
   "metadata": {
    "executionInfo": {
     "elapsed": 20,
     "status": "ok",
     "timestamp": 1640003233651,
     "user": {
      "displayName": "Марат Марат",
      "photoUrl": "https://lh3.googleusercontent.com/a/default-user=s64",
      "userId": "10330915484136450663"
     },
     "user_tz": -180
    },
    "id": "v6G7qbYqcUpL"
   },
   "outputs": [],
   "source": [
    "def predict(model, test_loader):\n",
    "    with torch.no_grad():\n",
    "        logits = []\n",
    "    \n",
    "        for inputs in test_loader:\n",
    "            inputs = inputs.to(DEVICE)\n",
    "            model.eval()\n",
    "            outputs = model(inputs).cpu()\n",
    "            logits.append(outputs)\n",
    "            \n",
    "    probs = nn.functional.softmax(torch.cat(logits), dim=-1).numpy()\n",
    "    return probs"
   ]
  },
  {
   "cell_type": "code",
   "execution_count": 25,
   "metadata": {
    "colab": {
     "base_uri": "https://localhost:8080/"
    },
    "executionInfo": {
     "elapsed": 7317,
     "status": "ok",
     "timestamp": 1640003240949,
     "user": {
      "displayName": "Марат Марат",
      "photoUrl": "https://lh3.googleusercontent.com/a/default-user=s64",
      "userId": "10330915484136450663"
     },
     "user_tz": -180
    },
    "id": "yzwhB4K3dQOC",
    "outputId": "ad78127b-367b-4ece-e650-1ee4e6017d3f",
    "scrolled": false
   },
   "outputs": [
    {
     "name": "stdout",
     "output_type": "stream",
     "text": [
      "we will classify :42\n",
      "SimpleCnn(\n",
      "  (conv1): Sequential(\n",
      "    (0): Conv2d(3, 8, kernel_size=(3, 3), stride=(1, 1))\n",
      "    (1): ReLU()\n",
      "    (2): MaxPool2d(kernel_size=2, stride=2, padding=0, dilation=1, ceil_mode=False)\n",
      "  )\n",
      "  (conv2): Sequential(\n",
      "    (0): Conv2d(8, 16, kernel_size=(3, 3), stride=(1, 1))\n",
      "    (1): ReLU()\n",
      "    (2): MaxPool2d(kernel_size=2, stride=2, padding=0, dilation=1, ceil_mode=False)\n",
      "  )\n",
      "  (conv3): Sequential(\n",
      "    (0): Conv2d(16, 32, kernel_size=(3, 3), stride=(1, 1))\n",
      "    (1): ReLU()\n",
      "    (2): MaxPool2d(kernel_size=2, stride=2, padding=0, dilation=1, ceil_mode=False)\n",
      "  )\n",
      "  (conv4): Sequential(\n",
      "    (0): Conv2d(32, 64, kernel_size=(3, 3), stride=(1, 1))\n",
      "    (1): ReLU()\n",
      "    (2): MaxPool2d(kernel_size=2, stride=2, padding=0, dilation=1, ceil_mode=False)\n",
      "  )\n",
      "  (conv5): Sequential(\n",
      "    (0): Conv2d(64, 96, kernel_size=(3, 3), stride=(1, 1))\n",
      "    (1): ReLU()\n",
      "    (2): MaxPool2d(kernel_size=2, stride=2, padding=0, dilation=1, ceil_mode=False)\n",
      "  )\n",
      "  (out): Linear(in_features=2400, out_features=42, bias=True)\n",
      ")\n"
     ]
    }
   ],
   "source": [
    "n_classes = len(np.unique(train_val_labels))\n",
    "simple_cnn = SimpleCnn(n_classes).to(DEVICE)\n",
    "print(\"we will classify :{}\".format(n_classes))\n",
    "print(simple_cnn)"
   ]
  },
  {
   "cell_type": "code",
   "execution_count": 26,
   "metadata": {
    "executionInfo": {
     "elapsed": 20,
     "status": "ok",
     "timestamp": 1640003240950,
     "user": {
      "displayName": "Марат Марат",
      "photoUrl": "https://lh3.googleusercontent.com/a/default-user=s64",
      "userId": "10330915484136450663"
     },
     "user_tz": -180
    },
    "id": "gohqVUtEsvph"
   },
   "outputs": [],
   "source": [
    "if val_dataset is None:\n",
    "    val_dataset = SimpsonsDataset(val_files, mode='val')\n",
    "    \n",
    "train_dataset = SimpsonsDataset(train_files, mode='train')\n"
   ]
  },
  {
   "cell_type": "markdown",
   "metadata": {
    "id": "bo3UND5RdgVg"
   },
   "source": [
    "Запустим обучение сети."
   ]
  },
  {
   "cell_type": "code",
   "execution_count": 27,
   "metadata": {
    "executionInfo": {
     "elapsed": 19,
     "status": "ok",
     "timestamp": 1640003240951,
     "user": {
      "displayName": "Марат Марат",
      "photoUrl": "https://lh3.googleusercontent.com/a/default-user=s64",
      "userId": "10330915484136450663"
     },
     "user_tz": -180
    },
    "id": "kurbEJd5svpj"
   },
   "outputs": [],
   "source": [
    "# history = train(train_dataset, val_dataset, model=simple_cnn, epochs=5, batch_size=128)"
   ]
  },
  {
   "cell_type": "code",
   "execution_count": 28,
   "metadata": {
    "executionInfo": {
     "elapsed": 18,
     "status": "ok",
     "timestamp": 1640003240951,
     "user": {
      "displayName": "Марат Марат",
      "photoUrl": "https://lh3.googleusercontent.com/a/default-user=s64",
      "userId": "10330915484136450663"
     },
     "user_tz": -180
    },
    "id": "U3UBSBBdsvpk"
   },
   "outputs": [],
   "source": [
    "# loss, acc, val_loss, val_acc = zip(*history)"
   ]
  },
  {
   "cell_type": "code",
   "execution_count": 29,
   "metadata": {
    "executionInfo": {
     "elapsed": 19,
     "status": "ok",
     "timestamp": 1640003240952,
     "user": {
      "displayName": "Марат Марат",
      "photoUrl": "https://lh3.googleusercontent.com/a/default-user=s64",
      "userId": "10330915484136450663"
     },
     "user_tz": -180
    },
    "id": "Pm9x-KPzsvpk"
   },
   "outputs": [],
   "source": [
    "# val_acc"
   ]
  },
  {
   "cell_type": "code",
   "execution_count": 30,
   "metadata": {
    "colab": {
     "base_uri": "https://localhost:8080/",
     "height": 52
    },
    "executionInfo": {
     "elapsed": 19,
     "status": "ok",
     "timestamp": 1640003240953,
     "user": {
      "displayName": "Марат Марат",
      "photoUrl": "https://lh3.googleusercontent.com/a/default-user=s64",
      "userId": "10330915484136450663"
     },
     "user_tz": -180
    },
    "id": "hwkSEEPDsvpl",
    "outputId": "0421fd22-1d8c-49ee-91e2-e9721ab2438f"
   },
   "outputs": [
    {
     "data": {
      "text/plain": [
       "'\\nplt.figure(figsize=(15, 9))\\nplt.plot(loss, label=\"train_loss\")\\nplt.plot(val_loss, label=\"val_loss\")\\nplt.legend(loc=\\'best\\')\\nplt.xlabel(\"epochs\")\\nplt.ylabel(\"loss\")\\nplt.show()\\n'"
      ]
     },
     "execution_count": 30,
     "metadata": {},
     "output_type": "execute_result"
    }
   ],
   "source": [
    "\"\"\"\n",
    "plt.figure(figsize=(15, 9))\n",
    "plt.plot(loss, label=\"train_loss\")\n",
    "plt.plot(val_loss, label=\"val_loss\")\n",
    "plt.legend(loc='best')\n",
    "plt.xlabel(\"epochs\")\n",
    "plt.ylabel(\"loss\")\n",
    "plt.show()\n",
    "\"\"\""
   ]
  },
  {
   "cell_type": "markdown",
   "metadata": {
    "id": "UoCtP7bSsvpm"
   },
   "source": [
    "# Тюним resnet"
   ]
  },
  {
   "cell_type": "code",
   "execution_count": 31,
   "metadata": {
    "colab": {
     "base_uri": "https://localhost:8080/",
     "height": 1000,
     "referenced_widgets": [
      "584bea9925914401982af30b2c793db4",
      "a36d3ec1b3e2487fbb0804e0e2abba8f",
      "ea991b7320124b268723dbf5092d260f",
      "b1c1722c59924be79e17b7589053971d",
      "7b135d570422416cad1f5ba5d4f49dcf",
      "bd6d0ca6eb3b4f87829570624a0b7a54",
      "5b9863b8c7594a0cb961e352e667a34a",
      "7d8234b52df04f358484a6ebbc2e3c87",
      "d2dc0dc88bb745af81d4cdd7e99134a3",
      "393acf6bfdb34e43acb9943ee66528a4",
      "a8e548daf65945eaaba247432e2d4bf7"
     ]
    },
    "executionInfo": {
     "elapsed": 1848,
     "status": "ok",
     "timestamp": 1640003242783,
     "user": {
      "displayName": "Марат Марат",
      "photoUrl": "https://lh3.googleusercontent.com/a/default-user=s64",
      "userId": "10330915484136450663"
     },
     "user_tz": -180
    },
    "id": "cNiUDHfbsvpn",
    "outputId": "1b70295d-e3a2-4952-f677-b53bcaae55d5"
   },
   "outputs": [
    {
     "data": {
      "text/plain": [
       "ResNet(\n",
       "  (conv1): Conv2d(3, 64, kernel_size=(7, 7), stride=(2, 2), padding=(3, 3), bias=False)\n",
       "  (bn1): BatchNorm2d(64, eps=1e-05, momentum=0.1, affine=True, track_running_stats=True)\n",
       "  (relu): ReLU(inplace=True)\n",
       "  (maxpool): MaxPool2d(kernel_size=3, stride=2, padding=1, dilation=1, ceil_mode=False)\n",
       "  (layer1): Sequential(\n",
       "    (0): Bottleneck(\n",
       "      (conv1): Conv2d(64, 64, kernel_size=(1, 1), stride=(1, 1), bias=False)\n",
       "      (bn1): BatchNorm2d(64, eps=1e-05, momentum=0.1, affine=True, track_running_stats=True)\n",
       "      (conv2): Conv2d(64, 64, kernel_size=(3, 3), stride=(1, 1), padding=(1, 1), bias=False)\n",
       "      (bn2): BatchNorm2d(64, eps=1e-05, momentum=0.1, affine=True, track_running_stats=True)\n",
       "      (conv3): Conv2d(64, 256, kernel_size=(1, 1), stride=(1, 1), bias=False)\n",
       "      (bn3): BatchNorm2d(256, eps=1e-05, momentum=0.1, affine=True, track_running_stats=True)\n",
       "      (relu): ReLU(inplace=True)\n",
       "      (downsample): Sequential(\n",
       "        (0): Conv2d(64, 256, kernel_size=(1, 1), stride=(1, 1), bias=False)\n",
       "        (1): BatchNorm2d(256, eps=1e-05, momentum=0.1, affine=True, track_running_stats=True)\n",
       "      )\n",
       "    )\n",
       "    (1): Bottleneck(\n",
       "      (conv1): Conv2d(256, 64, kernel_size=(1, 1), stride=(1, 1), bias=False)\n",
       "      (bn1): BatchNorm2d(64, eps=1e-05, momentum=0.1, affine=True, track_running_stats=True)\n",
       "      (conv2): Conv2d(64, 64, kernel_size=(3, 3), stride=(1, 1), padding=(1, 1), bias=False)\n",
       "      (bn2): BatchNorm2d(64, eps=1e-05, momentum=0.1, affine=True, track_running_stats=True)\n",
       "      (conv3): Conv2d(64, 256, kernel_size=(1, 1), stride=(1, 1), bias=False)\n",
       "      (bn3): BatchNorm2d(256, eps=1e-05, momentum=0.1, affine=True, track_running_stats=True)\n",
       "      (relu): ReLU(inplace=True)\n",
       "    )\n",
       "    (2): Bottleneck(\n",
       "      (conv1): Conv2d(256, 64, kernel_size=(1, 1), stride=(1, 1), bias=False)\n",
       "      (bn1): BatchNorm2d(64, eps=1e-05, momentum=0.1, affine=True, track_running_stats=True)\n",
       "      (conv2): Conv2d(64, 64, kernel_size=(3, 3), stride=(1, 1), padding=(1, 1), bias=False)\n",
       "      (bn2): BatchNorm2d(64, eps=1e-05, momentum=0.1, affine=True, track_running_stats=True)\n",
       "      (conv3): Conv2d(64, 256, kernel_size=(1, 1), stride=(1, 1), bias=False)\n",
       "      (bn3): BatchNorm2d(256, eps=1e-05, momentum=0.1, affine=True, track_running_stats=True)\n",
       "      (relu): ReLU(inplace=True)\n",
       "    )\n",
       "  )\n",
       "  (layer2): Sequential(\n",
       "    (0): Bottleneck(\n",
       "      (conv1): Conv2d(256, 128, kernel_size=(1, 1), stride=(1, 1), bias=False)\n",
       "      (bn1): BatchNorm2d(128, eps=1e-05, momentum=0.1, affine=True, track_running_stats=True)\n",
       "      (conv2): Conv2d(128, 128, kernel_size=(3, 3), stride=(2, 2), padding=(1, 1), bias=False)\n",
       "      (bn2): BatchNorm2d(128, eps=1e-05, momentum=0.1, affine=True, track_running_stats=True)\n",
       "      (conv3): Conv2d(128, 512, kernel_size=(1, 1), stride=(1, 1), bias=False)\n",
       "      (bn3): BatchNorm2d(512, eps=1e-05, momentum=0.1, affine=True, track_running_stats=True)\n",
       "      (relu): ReLU(inplace=True)\n",
       "      (downsample): Sequential(\n",
       "        (0): Conv2d(256, 512, kernel_size=(1, 1), stride=(2, 2), bias=False)\n",
       "        (1): BatchNorm2d(512, eps=1e-05, momentum=0.1, affine=True, track_running_stats=True)\n",
       "      )\n",
       "    )\n",
       "    (1): Bottleneck(\n",
       "      (conv1): Conv2d(512, 128, kernel_size=(1, 1), stride=(1, 1), bias=False)\n",
       "      (bn1): BatchNorm2d(128, eps=1e-05, momentum=0.1, affine=True, track_running_stats=True)\n",
       "      (conv2): Conv2d(128, 128, kernel_size=(3, 3), stride=(1, 1), padding=(1, 1), bias=False)\n",
       "      (bn2): BatchNorm2d(128, eps=1e-05, momentum=0.1, affine=True, track_running_stats=True)\n",
       "      (conv3): Conv2d(128, 512, kernel_size=(1, 1), stride=(1, 1), bias=False)\n",
       "      (bn3): BatchNorm2d(512, eps=1e-05, momentum=0.1, affine=True, track_running_stats=True)\n",
       "      (relu): ReLU(inplace=True)\n",
       "    )\n",
       "    (2): Bottleneck(\n",
       "      (conv1): Conv2d(512, 128, kernel_size=(1, 1), stride=(1, 1), bias=False)\n",
       "      (bn1): BatchNorm2d(128, eps=1e-05, momentum=0.1, affine=True, track_running_stats=True)\n",
       "      (conv2): Conv2d(128, 128, kernel_size=(3, 3), stride=(1, 1), padding=(1, 1), bias=False)\n",
       "      (bn2): BatchNorm2d(128, eps=1e-05, momentum=0.1, affine=True, track_running_stats=True)\n",
       "      (conv3): Conv2d(128, 512, kernel_size=(1, 1), stride=(1, 1), bias=False)\n",
       "      (bn3): BatchNorm2d(512, eps=1e-05, momentum=0.1, affine=True, track_running_stats=True)\n",
       "      (relu): ReLU(inplace=True)\n",
       "    )\n",
       "    (3): Bottleneck(\n",
       "      (conv1): Conv2d(512, 128, kernel_size=(1, 1), stride=(1, 1), bias=False)\n",
       "      (bn1): BatchNorm2d(128, eps=1e-05, momentum=0.1, affine=True, track_running_stats=True)\n",
       "      (conv2): Conv2d(128, 128, kernel_size=(3, 3), stride=(1, 1), padding=(1, 1), bias=False)\n",
       "      (bn2): BatchNorm2d(128, eps=1e-05, momentum=0.1, affine=True, track_running_stats=True)\n",
       "      (conv3): Conv2d(128, 512, kernel_size=(1, 1), stride=(1, 1), bias=False)\n",
       "      (bn3): BatchNorm2d(512, eps=1e-05, momentum=0.1, affine=True, track_running_stats=True)\n",
       "      (relu): ReLU(inplace=True)\n",
       "    )\n",
       "  )\n",
       "  (layer3): Sequential(\n",
       "    (0): Bottleneck(\n",
       "      (conv1): Conv2d(512, 256, kernel_size=(1, 1), stride=(1, 1), bias=False)\n",
       "      (bn1): BatchNorm2d(256, eps=1e-05, momentum=0.1, affine=True, track_running_stats=True)\n",
       "      (conv2): Conv2d(256, 256, kernel_size=(3, 3), stride=(2, 2), padding=(1, 1), bias=False)\n",
       "      (bn2): BatchNorm2d(256, eps=1e-05, momentum=0.1, affine=True, track_running_stats=True)\n",
       "      (conv3): Conv2d(256, 1024, kernel_size=(1, 1), stride=(1, 1), bias=False)\n",
       "      (bn3): BatchNorm2d(1024, eps=1e-05, momentum=0.1, affine=True, track_running_stats=True)\n",
       "      (relu): ReLU(inplace=True)\n",
       "      (downsample): Sequential(\n",
       "        (0): Conv2d(512, 1024, kernel_size=(1, 1), stride=(2, 2), bias=False)\n",
       "        (1): BatchNorm2d(1024, eps=1e-05, momentum=0.1, affine=True, track_running_stats=True)\n",
       "      )\n",
       "    )\n",
       "    (1): Bottleneck(\n",
       "      (conv1): Conv2d(1024, 256, kernel_size=(1, 1), stride=(1, 1), bias=False)\n",
       "      (bn1): BatchNorm2d(256, eps=1e-05, momentum=0.1, affine=True, track_running_stats=True)\n",
       "      (conv2): Conv2d(256, 256, kernel_size=(3, 3), stride=(1, 1), padding=(1, 1), bias=False)\n",
       "      (bn2): BatchNorm2d(256, eps=1e-05, momentum=0.1, affine=True, track_running_stats=True)\n",
       "      (conv3): Conv2d(256, 1024, kernel_size=(1, 1), stride=(1, 1), bias=False)\n",
       "      (bn3): BatchNorm2d(1024, eps=1e-05, momentum=0.1, affine=True, track_running_stats=True)\n",
       "      (relu): ReLU(inplace=True)\n",
       "    )\n",
       "    (2): Bottleneck(\n",
       "      (conv1): Conv2d(1024, 256, kernel_size=(1, 1), stride=(1, 1), bias=False)\n",
       "      (bn1): BatchNorm2d(256, eps=1e-05, momentum=0.1, affine=True, track_running_stats=True)\n",
       "      (conv2): Conv2d(256, 256, kernel_size=(3, 3), stride=(1, 1), padding=(1, 1), bias=False)\n",
       "      (bn2): BatchNorm2d(256, eps=1e-05, momentum=0.1, affine=True, track_running_stats=True)\n",
       "      (conv3): Conv2d(256, 1024, kernel_size=(1, 1), stride=(1, 1), bias=False)\n",
       "      (bn3): BatchNorm2d(1024, eps=1e-05, momentum=0.1, affine=True, track_running_stats=True)\n",
       "      (relu): ReLU(inplace=True)\n",
       "    )\n",
       "    (3): Bottleneck(\n",
       "      (conv1): Conv2d(1024, 256, kernel_size=(1, 1), stride=(1, 1), bias=False)\n",
       "      (bn1): BatchNorm2d(256, eps=1e-05, momentum=0.1, affine=True, track_running_stats=True)\n",
       "      (conv2): Conv2d(256, 256, kernel_size=(3, 3), stride=(1, 1), padding=(1, 1), bias=False)\n",
       "      (bn2): BatchNorm2d(256, eps=1e-05, momentum=0.1, affine=True, track_running_stats=True)\n",
       "      (conv3): Conv2d(256, 1024, kernel_size=(1, 1), stride=(1, 1), bias=False)\n",
       "      (bn3): BatchNorm2d(1024, eps=1e-05, momentum=0.1, affine=True, track_running_stats=True)\n",
       "      (relu): ReLU(inplace=True)\n",
       "    )\n",
       "    (4): Bottleneck(\n",
       "      (conv1): Conv2d(1024, 256, kernel_size=(1, 1), stride=(1, 1), bias=False)\n",
       "      (bn1): BatchNorm2d(256, eps=1e-05, momentum=0.1, affine=True, track_running_stats=True)\n",
       "      (conv2): Conv2d(256, 256, kernel_size=(3, 3), stride=(1, 1), padding=(1, 1), bias=False)\n",
       "      (bn2): BatchNorm2d(256, eps=1e-05, momentum=0.1, affine=True, track_running_stats=True)\n",
       "      (conv3): Conv2d(256, 1024, kernel_size=(1, 1), stride=(1, 1), bias=False)\n",
       "      (bn3): BatchNorm2d(1024, eps=1e-05, momentum=0.1, affine=True, track_running_stats=True)\n",
       "      (relu): ReLU(inplace=True)\n",
       "    )\n",
       "    (5): Bottleneck(\n",
       "      (conv1): Conv2d(1024, 256, kernel_size=(1, 1), stride=(1, 1), bias=False)\n",
       "      (bn1): BatchNorm2d(256, eps=1e-05, momentum=0.1, affine=True, track_running_stats=True)\n",
       "      (conv2): Conv2d(256, 256, kernel_size=(3, 3), stride=(1, 1), padding=(1, 1), bias=False)\n",
       "      (bn2): BatchNorm2d(256, eps=1e-05, momentum=0.1, affine=True, track_running_stats=True)\n",
       "      (conv3): Conv2d(256, 1024, kernel_size=(1, 1), stride=(1, 1), bias=False)\n",
       "      (bn3): BatchNorm2d(1024, eps=1e-05, momentum=0.1, affine=True, track_running_stats=True)\n",
       "      (relu): ReLU(inplace=True)\n",
       "    )\n",
       "  )\n",
       "  (layer4): Sequential(\n",
       "    (0): Bottleneck(\n",
       "      (conv1): Conv2d(1024, 512, kernel_size=(1, 1), stride=(1, 1), bias=False)\n",
       "      (bn1): BatchNorm2d(512, eps=1e-05, momentum=0.1, affine=True, track_running_stats=True)\n",
       "      (conv2): Conv2d(512, 512, kernel_size=(3, 3), stride=(2, 2), padding=(1, 1), bias=False)\n",
       "      (bn2): BatchNorm2d(512, eps=1e-05, momentum=0.1, affine=True, track_running_stats=True)\n",
       "      (conv3): Conv2d(512, 2048, kernel_size=(1, 1), stride=(1, 1), bias=False)\n",
       "      (bn3): BatchNorm2d(2048, eps=1e-05, momentum=0.1, affine=True, track_running_stats=True)\n",
       "      (relu): ReLU(inplace=True)\n",
       "      (downsample): Sequential(\n",
       "        (0): Conv2d(1024, 2048, kernel_size=(1, 1), stride=(2, 2), bias=False)\n",
       "        (1): BatchNorm2d(2048, eps=1e-05, momentum=0.1, affine=True, track_running_stats=True)\n",
       "      )\n",
       "    )\n",
       "    (1): Bottleneck(\n",
       "      (conv1): Conv2d(2048, 512, kernel_size=(1, 1), stride=(1, 1), bias=False)\n",
       "      (bn1): BatchNorm2d(512, eps=1e-05, momentum=0.1, affine=True, track_running_stats=True)\n",
       "      (conv2): Conv2d(512, 512, kernel_size=(3, 3), stride=(1, 1), padding=(1, 1), bias=False)\n",
       "      (bn2): BatchNorm2d(512, eps=1e-05, momentum=0.1, affine=True, track_running_stats=True)\n",
       "      (conv3): Conv2d(512, 2048, kernel_size=(1, 1), stride=(1, 1), bias=False)\n",
       "      (bn3): BatchNorm2d(2048, eps=1e-05, momentum=0.1, affine=True, track_running_stats=True)\n",
       "      (relu): ReLU(inplace=True)\n",
       "    )\n",
       "    (2): Bottleneck(\n",
       "      (conv1): Conv2d(2048, 512, kernel_size=(1, 1), stride=(1, 1), bias=False)\n",
       "      (bn1): BatchNorm2d(512, eps=1e-05, momentum=0.1, affine=True, track_running_stats=True)\n",
       "      (conv2): Conv2d(512, 512, kernel_size=(3, 3), stride=(1, 1), padding=(1, 1), bias=False)\n",
       "      (bn2): BatchNorm2d(512, eps=1e-05, momentum=0.1, affine=True, track_running_stats=True)\n",
       "      (conv3): Conv2d(512, 2048, kernel_size=(1, 1), stride=(1, 1), bias=False)\n",
       "      (bn3): BatchNorm2d(2048, eps=1e-05, momentum=0.1, affine=True, track_running_stats=True)\n",
       "      (relu): ReLU(inplace=True)\n",
       "    )\n",
       "  )\n",
       "  (avgpool): AdaptiveAvgPool2d(output_size=(1, 1))\n",
       "  (fc): Linear(in_features=2048, out_features=1000, bias=True)\n",
       ")"
      ]
     },
     "execution_count": 31,
     "metadata": {},
     "output_type": "execute_result"
    }
   ],
   "source": [
    "import torchvision.models as models\n",
    "resnet = models.resnet50(pretrained=True)\n",
    "resnet"
   ]
  },
  {
   "cell_type": "code",
   "execution_count": 32,
   "metadata": {
    "colab": {
     "base_uri": "https://localhost:8080/"
    },
    "executionInfo": {
     "elapsed": 8,
     "status": "ok",
     "timestamp": 1640003242784,
     "user": {
      "displayName": "Марат Марат",
      "photoUrl": "https://lh3.googleusercontent.com/a/default-user=s64",
      "userId": "10330915484136450663"
     },
     "user_tz": -180
    },
    "id": "xSxPqARmsvpn",
    "outputId": "f04958dc-3d71-4fa8-be11-71f4089729d3"
   },
   "outputs": [
    {
     "data": {
      "text/plain": [
       "Linear(in_features=2048, out_features=1000, bias=True)"
      ]
     },
     "execution_count": 32,
     "metadata": {},
     "output_type": "execute_result"
    }
   ],
   "source": [
    "resnet.fc"
   ]
  },
  {
   "cell_type": "code",
   "execution_count": 33,
   "metadata": {
    "executionInfo": {
     "elapsed": 547,
     "status": "ok",
     "timestamp": 1640003243326,
     "user": {
      "displayName": "Марат Марат",
      "photoUrl": "https://lh3.googleusercontent.com/a/default-user=s64",
      "userId": "10330915484136450663"
     },
     "user_tz": -180
    },
    "id": "vneZoPx3svpo"
   },
   "outputs": [],
   "source": [
    "num_ftrs = 2048\n",
    "resnet.fc = nn.Linear(num_ftrs,n_classes)\n",
    "resnet = resnet.to(DEVICE)\n",
    "torch.cuda.empty_cache()"
   ]
  },
  {
   "cell_type": "code",
   "execution_count": 34,
   "metadata": {
    "colab": {
     "base_uri": "https://localhost:8080/"
    },
    "executionInfo": {
     "elapsed": 11,
     "status": "ok",
     "timestamp": 1640003243326,
     "user": {
      "displayName": "Марат Марат",
      "photoUrl": "https://lh3.googleusercontent.com/a/default-user=s64",
      "userId": "10330915484136450663"
     },
     "user_tz": -180
    },
    "id": "ZjnOXMobWZFs",
    "outputId": "72c7951e-e5af-435b-e077-8b1c4a5122aa"
   },
   "outputs": [
    {
     "name": "stderr",
     "output_type": "stream",
     "text": [
      "\"nvidia-smi\" ­Ґ пў«пҐвбп ў­гваҐ­­Ґ© Ё«Ё ў­Ґи­Ґ©\n",
      "Є®¬ ­¤®©, ЁбЇ®«­пҐ¬®© Їа®Ја ¬¬®© Ё«Ё Ї ЄҐв­л¬ д ©«®¬.\n"
     ]
    }
   ],
   "source": [
    "torch.cuda.is_available()\n",
    "!nvidia-smi\n"
   ]
  },
  {
   "cell_type": "code",
   "execution_count": null,
   "metadata": {
    "colab": {
     "base_uri": "https://localhost:8080/"
    },
    "id": "CyqSNQsfsvpp",
    "outputId": "4e77faba-9faa-47e9-c1c5-4bc545ffebc1",
    "scrolled": true
   },
   "outputs": [
    {
     "name": "stderr",
     "output_type": "stream",
     "text": [
      "epoch:   0%|          | 0/10 [00:00<?, ?it/s]\n",
      "  0%|          | 0/246 [00:00<?, ?it/s]\u001b[A\n",
      "  0%|          | 1/246 [00:26<1:48:46, 26.64s/it]\u001b[A\n",
      "  1%|          | 2/246 [00:54<1:51:21, 27.38s/it]\u001b[A\n",
      "  1%|          | 3/246 [01:25<1:57:07, 28.92s/it]\u001b[A\n",
      "  2%|▏         | 4/246 [01:54<1:57:34, 29.15s/it]\u001b[A\n",
      "  2%|▏         | 5/246 [02:23<1:57:07, 29.16s/it]\u001b[A\n",
      "  2%|▏         | 6/246 [02:53<1:57:02, 29.26s/it]\u001b[A\n",
      "  3%|▎         | 7/246 [03:23<1:57:09, 29.41s/it]\u001b[A\n",
      "  3%|▎         | 8/246 [03:52<1:56:14, 29.31s/it]\u001b[A\n",
      "  4%|▎         | 9/246 [04:21<1:55:51, 29.33s/it]\u001b[A\n",
      "  4%|▍         | 10/246 [04:50<1:55:19, 29.32s/it]\u001b[A\n",
      "  4%|▍         | 11/246 [05:21<1:56:03, 29.63s/it]\u001b[A\n",
      "  5%|▍         | 12/246 [05:51<1:55:42, 29.67s/it]\u001b[A\n",
      "  5%|▌         | 13/246 [06:20<1:55:31, 29.75s/it]\u001b[A\n",
      "  6%|▌         | 14/246 [06:49<1:54:10, 29.53s/it]\u001b[A\n",
      "  6%|▌         | 15/246 [07:20<1:54:56, 29.85s/it]\u001b[A\n",
      "  7%|▋         | 16/246 [07:50<1:54:39, 29.91s/it]\u001b[A\n",
      "  7%|▋         | 17/246 [08:20<1:53:34, 29.76s/it]\u001b[A\n",
      "  7%|▋         | 18/246 [08:49<1:52:32, 29.62s/it]\u001b[A\n",
      "  8%|▊         | 19/246 [09:17<1:50:57, 29.33s/it]\u001b[A\n",
      "  8%|▊         | 20/246 [09:46<1:49:54, 29.18s/it]\u001b[A\n",
      "  9%|▊         | 21/246 [10:19<1:52:50, 30.09s/it]\u001b[A\n",
      "  9%|▉         | 22/246 [10:49<1:53:09, 30.31s/it]\u001b[A\n",
      "  9%|▉         | 23/246 [11:19<1:51:34, 30.02s/it]\u001b[A\n",
      " 10%|▉         | 24/246 [11:49<1:51:24, 30.11s/it]\u001b[A\n",
      " 10%|█         | 25/246 [12:18<1:49:38, 29.77s/it]\u001b[A\n",
      " 11%|█         | 26/246 [12:47<1:48:05, 29.48s/it]\u001b[A\n",
      " 11%|█         | 27/246 [13:19<1:50:20, 30.23s/it]\u001b[A\n",
      " 11%|█▏        | 28/246 [13:51<1:52:04, 30.85s/it]\u001b[A\n",
      " 12%|█▏        | 29/246 [14:23<1:52:31, 31.11s/it]\u001b[A\n",
      " 12%|█▏        | 30/246 [14:53<1:51:26, 30.96s/it]\u001b[A\n",
      " 13%|█▎        | 31/246 [15:23<1:50:00, 30.70s/it]\u001b[A\n",
      " 13%|█▎        | 32/246 [15:53<1:47:48, 30.23s/it]\u001b[A\n",
      " 13%|█▎        | 33/246 [16:23<1:47:13, 30.21s/it]\u001b[A\n",
      " 14%|█▍        | 34/246 [16:52<1:45:49, 29.95s/it]\u001b[A\n",
      " 14%|█▍        | 35/246 [17:22<1:44:56, 29.84s/it]\u001b[A\n",
      " 15%|█▍        | 36/246 [17:51<1:43:36, 29.60s/it]\u001b[A\n",
      " 15%|█▌        | 37/246 [18:20<1:42:50, 29.53s/it]\u001b[A\n",
      " 15%|█▌        | 38/246 [18:51<1:43:33, 29.87s/it]\u001b[A\n",
      " 16%|█▌        | 39/246 [19:20<1:42:20, 29.66s/it]\u001b[A\n",
      " 16%|█▋        | 40/246 [19:49<1:41:19, 29.51s/it]\u001b[A\n",
      " 17%|█▋        | 41/246 [20:19<1:41:02, 29.57s/it]\u001b[A\n",
      " 17%|█▋        | 42/246 [20:48<1:40:08, 29.46s/it]\u001b[A\n",
      " 17%|█▋        | 43/246 [21:18<1:40:43, 29.77s/it]\u001b[A\n",
      " 18%|█▊        | 44/246 [21:48<1:39:28, 29.54s/it]\u001b[A\n",
      " 18%|█▊        | 45/246 [22:17<1:38:51, 29.51s/it]\u001b[A\n",
      " 19%|█▊        | 46/246 [22:46<1:38:04, 29.42s/it]\u001b[A\n",
      " 19%|█▉        | 47/246 [23:15<1:37:12, 29.31s/it]\u001b[A\n",
      " 20%|█▉        | 48/246 [23:48<1:39:41, 30.21s/it]\u001b[A\n",
      " 20%|█▉        | 49/246 [24:19<1:40:08, 30.50s/it]\u001b[A\n",
      " 20%|██        | 50/246 [24:47<1:37:56, 29.98s/it]\u001b[A\n",
      " 21%|██        | 51/246 [25:16<1:36:15, 29.62s/it]\u001b[A\n",
      " 21%|██        | 52/246 [25:45<1:35:03, 29.40s/it]\u001b[A\n",
      " 22%|██▏       | 53/246 [26:14<1:34:02, 29.24s/it]\u001b[A\n",
      " 22%|██▏       | 54/246 [26:44<1:33:55, 29.35s/it]\u001b[A\n",
      " 22%|██▏       | 55/246 [27:14<1:33:59, 29.53s/it]\u001b[A\n",
      " 23%|██▎       | 56/246 [27:44<1:34:14, 29.76s/it]\u001b[A\n",
      " 23%|██▎       | 57/246 [28:14<1:34:17, 29.93s/it]\u001b[A\n",
      " 24%|██▎       | 58/246 [28:45<1:34:36, 30.20s/it]\u001b[A\n",
      " 24%|██▍       | 59/246 [29:14<1:33:05, 29.87s/it]\u001b[A\n",
      " 24%|██▍       | 60/246 [29:44<1:32:39, 29.89s/it]\u001b[A\n",
      " 25%|██▍       | 61/246 [30:14<1:32:07, 29.88s/it]\u001b[A\n",
      " 25%|██▌       | 62/246 [30:44<1:31:56, 29.98s/it]\u001b[A\n",
      " 26%|██▌       | 63/246 [31:14<1:30:54, 29.81s/it]\u001b[A\n",
      " 26%|██▌       | 64/246 [31:43<1:29:59, 29.67s/it]\u001b[A\n",
      " 26%|██▋       | 65/246 [32:13<1:29:32, 29.68s/it]\u001b[A\n",
      " 27%|██▋       | 66/246 [32:42<1:28:43, 29.57s/it]\u001b[A\n",
      " 27%|██▋       | 67/246 [33:13<1:29:14, 29.91s/it]\u001b[A\n",
      " 28%|██▊       | 68/246 [33:42<1:28:24, 29.80s/it]\u001b[A\n",
      " 28%|██▊       | 69/246 [34:11<1:27:04, 29.52s/it]\u001b[A\n",
      " 28%|██▊       | 70/246 [34:40<1:26:03, 29.34s/it]\u001b[A\n",
      " 29%|██▉       | 71/246 [35:08<1:24:50, 29.09s/it]\u001b[A\n",
      " 29%|██▉       | 72/246 [35:38<1:24:21, 29.09s/it]\u001b[A\n",
      " 30%|██▉       | 73/246 [36:06<1:23:28, 28.95s/it]\u001b[A\n",
      " 30%|███       | 74/246 [36:34<1:22:25, 28.75s/it]\u001b[A\n",
      " 30%|███       | 75/246 [37:04<1:22:19, 28.89s/it]\u001b[A\n",
      " 31%|███       | 76/246 [37:32<1:21:49, 28.88s/it]\u001b[A\n",
      " 31%|███▏      | 77/246 [38:01<1:21:22, 28.89s/it]\u001b[A\n",
      " 32%|███▏      | 78/246 [38:30<1:20:19, 28.69s/it]\u001b[A\n",
      " 32%|███▏      | 79/246 [39:01<1:21:42, 29.36s/it]\u001b[A\n",
      " 33%|███▎      | 80/246 [39:29<1:20:47, 29.20s/it]\u001b[A\n",
      " 33%|███▎      | 81/246 [39:59<1:20:18, 29.20s/it]\u001b[A\n",
      " 33%|███▎      | 82/246 [40:28<1:20:10, 29.33s/it]\u001b[A\n",
      " 34%|███▎      | 83/246 [40:57<1:19:35, 29.30s/it]\u001b[A\n",
      " 34%|███▍      | 84/246 [41:26<1:18:54, 29.23s/it]\u001b[A\n",
      " 35%|███▍      | 85/246 [41:56<1:18:39, 29.31s/it]\u001b[A\n",
      " 35%|███▍      | 86/246 [42:26<1:18:37, 29.48s/it]\u001b[A\n",
      " 35%|███▌      | 87/246 [42:56<1:18:49, 29.74s/it]\u001b[A\n",
      " 36%|███▌      | 88/246 [43:26<1:18:35, 29.84s/it]\u001b[A\n",
      " 36%|███▌      | 89/246 [43:57<1:18:54, 30.15s/it]\u001b[A\n",
      " 37%|███▋      | 90/246 [44:26<1:17:38, 29.86s/it]\u001b[A\n",
      " 37%|███▋      | 91/246 [44:56<1:16:38, 29.67s/it]\u001b[A\n",
      " 37%|███▋      | 92/246 [45:26<1:16:29, 29.80s/it]\u001b[A\n",
      " 38%|███▊      | 93/246 [45:54<1:15:10, 29.48s/it]\u001b[A\n",
      " 38%|███▊      | 94/246 [46:24<1:14:32, 29.42s/it]\u001b[A\n",
      " 39%|███▊      | 95/246 [46:53<1:13:57, 29.39s/it]\u001b[A\n",
      " 39%|███▉      | 96/246 [47:22<1:13:28, 29.39s/it]\u001b[A\n",
      " 39%|███▉      | 97/246 [47:52<1:13:11, 29.47s/it]\u001b[A\n",
      " 40%|███▉      | 98/246 [48:22<1:12:53, 29.55s/it]\u001b[A\n",
      " 40%|████      | 99/246 [48:51<1:12:27, 29.58s/it]\u001b[A\n",
      " 41%|████      | 100/246 [49:20<1:11:34, 29.41s/it]\u001b[A\n",
      " 41%|████      | 101/246 [49:50<1:11:08, 29.44s/it]\u001b[A\n",
      " 41%|████▏     | 102/246 [50:19<1:10:37, 29.43s/it]\u001b[A\n",
      " 42%|████▏     | 103/246 [50:48<1:09:41, 29.24s/it]\u001b[A\n",
      " 42%|████▏     | 104/246 [51:18<1:09:16, 29.27s/it]\u001b[A\n",
      " 43%|████▎     | 105/246 [51:46<1:08:32, 29.17s/it]\u001b[A\n",
      " 43%|████▎     | 106/246 [52:15<1:07:41, 29.01s/it]\u001b[A\n",
      " 43%|████▎     | 107/246 [52:44<1:07:11, 29.00s/it]\u001b[A\n",
      " 44%|████▍     | 108/246 [53:13<1:06:46, 29.03s/it]\u001b[A\n",
      " 44%|████▍     | 109/246 [53:42<1:06:23, 29.07s/it]\u001b[A\n",
      " 45%|████▍     | 110/246 [54:11<1:05:45, 29.01s/it]\u001b[A\n",
      " 45%|████▌     | 111/246 [54:40<1:05:10, 28.97s/it]\u001b[A\n",
      " 46%|████▌     | 112/246 [55:09<1:04:37, 28.94s/it]\u001b[A\n",
      " 46%|████▌     | 113/246 [55:37<1:03:51, 28.81s/it]\u001b[A\n",
      " 46%|████▋     | 114/246 [56:07<1:03:39, 28.94s/it]\u001b[A\n",
      " 47%|████▋     | 115/246 [56:36<1:03:36, 29.13s/it]\u001b[A\n",
      " 47%|████▋     | 116/246 [57:05<1:02:58, 29.07s/it]\u001b[A\n",
      " 48%|████▊     | 117/246 [57:34<1:02:22, 29.01s/it]\u001b[A\n",
      " 48%|████▊     | 118/246 [58:03<1:01:50, 28.99s/it]\u001b[A\n",
      " 48%|████▊     | 119/246 [58:32<1:01:07, 28.88s/it]\u001b[A\n",
      " 49%|████▉     | 120/246 [59:02<1:01:21, 29.22s/it]\u001b[A\n",
      " 49%|████▉     | 121/246 [59:30<1:00:28, 29.03s/it]\u001b[A\n",
      " 50%|████▉     | 122/246 [1:00:00<1:00:24, 29.23s/it]\u001b[A\n",
      " 50%|█████     | 123/246 [1:00:29<59:33, 29.05s/it]  \u001b[A\n",
      " 50%|█████     | 124/246 [1:00:57<58:40, 28.86s/it]\u001b[A\n",
      " 51%|█████     | 125/246 [1:01:26<58:23, 28.95s/it]\u001b[A\n",
      " 51%|█████     | 126/246 [1:01:55<57:49, 28.91s/it]\u001b[A\n",
      " 52%|█████▏    | 127/246 [1:02:24<57:35, 29.03s/it]\u001b[A\n",
      " 52%|█████▏    | 128/246 [1:02:53<56:49, 28.89s/it]\u001b[A\n",
      " 52%|█████▏    | 129/246 [1:03:22<56:14, 28.84s/it]\u001b[A\n",
      " 53%|█████▎    | 130/246 [1:03:51<55:58, 28.95s/it]\u001b[A\n",
      " 53%|█████▎    | 131/246 [1:04:19<55:16, 28.84s/it]\u001b[A\n",
      " 54%|█████▎    | 132/246 [1:04:48<54:43, 28.81s/it]\u001b[A\n",
      " 54%|█████▍    | 133/246 [1:05:16<53:55, 28.64s/it]\u001b[A\n",
      " 54%|█████▍    | 134/246 [1:05:45<53:25, 28.62s/it]\u001b[A\n",
      " 55%|█████▍    | 135/246 [1:06:14<53:25, 28.88s/it]\u001b[A\n",
      " 55%|█████▌    | 136/246 [1:06:43<52:44, 28.77s/it]\u001b[A\n",
      " 56%|█████▌    | 137/246 [1:07:12<52:14, 28.76s/it]\u001b[A\n",
      " 56%|█████▌    | 138/246 [1:07:40<51:45, 28.75s/it]\u001b[A\n",
      " 57%|█████▋    | 139/246 [1:08:09<51:25, 28.84s/it]\u001b[A\n",
      " 57%|█████▋    | 140/246 [1:08:38<50:56, 28.83s/it]\u001b[A\n",
      " 57%|█████▋    | 141/246 [1:09:07<50:28, 28.84s/it]\u001b[A\n",
      " 58%|█████▊    | 142/246 [1:09:36<49:54, 28.79s/it]\u001b[A\n",
      " 58%|█████▊    | 143/246 [1:10:05<49:37, 28.91s/it]\u001b[A\n",
      " 59%|█████▊    | 144/246 [1:10:34<49:22, 29.05s/it]\u001b[A\n",
      " 59%|█████▉    | 145/246 [1:11:05<49:53, 29.64s/it]\u001b[A\n",
      " 59%|█████▉    | 146/246 [1:11:37<50:15, 30.16s/it]\u001b[A\n",
      " 60%|█████▉    | 147/246 [1:12:07<49:39, 30.10s/it]\u001b[A\n",
      " 60%|██████    | 148/246 [1:12:37<49:01, 30.02s/it]\u001b[A\n",
      " 61%|██████    | 149/246 [1:13:06<48:22, 29.92s/it]\u001b[A\n"
     ]
    },
    {
     "name": "stderr",
     "output_type": "stream",
     "text": [
      " 61%|██████    | 150/246 [1:13:36<48:02, 30.02s/it]\u001b[A\n",
      " 61%|██████▏   | 151/246 [1:14:09<48:29, 30.63s/it]\u001b[A\n",
      " 62%|██████▏   | 152/246 [1:14:39<47:50, 30.53s/it]\u001b[A\n",
      " 62%|██████▏   | 153/246 [1:15:08<46:51, 30.23s/it]\u001b[A\n",
      " 63%|██████▎   | 154/246 [1:15:38<46:05, 30.06s/it]\u001b[A\n",
      " 63%|██████▎   | 155/246 [1:16:08<45:22, 29.92s/it]\u001b[A\n",
      " 63%|██████▎   | 156/246 [1:16:38<45:15, 30.17s/it]\u001b[A\n",
      " 64%|██████▍   | 157/246 [1:17:09<44:57, 30.30s/it]\u001b[A\n",
      " 64%|██████▍   | 158/246 [1:17:39<44:11, 30.14s/it]\u001b[A\n",
      " 65%|██████▍   | 159/246 [1:18:08<43:29, 30.00s/it]\u001b[A\n",
      " 65%|██████▌   | 160/246 [1:18:38<42:48, 29.87s/it]\u001b[A\n",
      " 65%|██████▌   | 161/246 [1:19:08<42:34, 30.06s/it]\u001b[A\n",
      " 66%|██████▌   | 162/246 [1:19:39<42:16, 30.20s/it]\u001b[A\n",
      " 66%|██████▋   | 163/246 [1:20:09<41:34, 30.06s/it]\u001b[A\n",
      " 67%|██████▋   | 164/246 [1:20:39<41:05, 30.06s/it]\u001b[A\n",
      " 67%|██████▋   | 165/246 [1:21:09<40:40, 30.13s/it]\u001b[A\n",
      " 67%|██████▋   | 166/246 [1:21:40<40:35, 30.44s/it]\u001b[A\n",
      " 68%|██████▊   | 167/246 [1:22:11<40:15, 30.58s/it]\u001b[A\n",
      " 68%|██████▊   | 168/246 [1:22:41<39:30, 30.39s/it]\u001b[A\n",
      " 69%|██████▊   | 169/246 [1:23:11<38:44, 30.18s/it]\u001b[A\n",
      " 69%|██████▉   | 170/246 [1:23:41<38:06, 30.08s/it]\u001b[A\n",
      " 70%|██████▉   | 171/246 [1:24:11<37:36, 30.09s/it]\u001b[A\n",
      " 70%|██████▉   | 172/246 [1:24:41<37:18, 30.25s/it]\u001b[A\n",
      " 70%|███████   | 173/246 [1:25:11<36:44, 30.20s/it]\u001b[A\n",
      " 71%|███████   | 174/246 [1:25:41<36:08, 30.12s/it]\u001b[A\n",
      " 71%|███████   | 175/246 [1:26:11<35:29, 29.99s/it]\u001b[A\n",
      " 72%|███████▏  | 176/246 [1:26:41<34:50, 29.86s/it]\u001b[A\n",
      " 72%|███████▏  | 177/246 [1:27:11<34:38, 30.13s/it]\u001b[A\n",
      " 72%|███████▏  | 178/246 [1:27:41<33:54, 29.93s/it]\u001b[A\n",
      " 73%|███████▎  | 179/246 [1:28:11<33:22, 29.89s/it]\u001b[A\n",
      " 73%|███████▎  | 180/246 [1:28:43<33:44, 30.68s/it]\u001b[A\n",
      " 74%|███████▎  | 181/246 [1:29:15<33:32, 30.96s/it]\u001b[A\n",
      " 74%|███████▍  | 182/246 [1:29:44<32:34, 30.54s/it]\u001b[A\n",
      " 74%|███████▍  | 183/246 [1:30:16<32:19, 30.79s/it]\u001b[A\n",
      " 75%|███████▍  | 184/246 [1:30:46<31:33, 30.54s/it]\u001b[A\n",
      " 75%|███████▌  | 185/246 [1:31:17<31:24, 30.89s/it]\u001b[A\n",
      " 76%|███████▌  | 186/246 [1:31:48<30:52, 30.88s/it]\u001b[A\n",
      " 76%|███████▌  | 187/246 [1:32:18<30:04, 30.59s/it]\u001b[A\n",
      " 76%|███████▋  | 188/246 [1:32:47<29:02, 30.05s/it]\u001b[A\n",
      " 77%|███████▋  | 189/246 [1:33:18<28:58, 30.50s/it]\u001b[A\n",
      " 77%|███████▋  | 190/246 [1:33:48<28:13, 30.24s/it]\u001b[A\n",
      " 78%|███████▊  | 191/246 [1:34:18<27:39, 30.18s/it]\u001b[A\n",
      " 78%|███████▊  | 192/246 [1:34:50<27:43, 30.80s/it]\u001b[A\n",
      " 78%|███████▊  | 193/246 [1:35:20<26:54, 30.46s/it]\u001b[A\n",
      " 79%|███████▉  | 194/246 [1:35:51<26:30, 30.59s/it]\u001b[A\n",
      " 79%|███████▉  | 195/246 [1:36:22<26:09, 30.78s/it]\u001b[A\n",
      " 80%|███████▉  | 196/246 [1:36:52<25:31, 30.63s/it]\u001b[A\n",
      " 80%|████████  | 197/246 [1:37:22<24:41, 30.23s/it]\u001b[A\n",
      " 80%|████████  | 198/246 [1:37:52<24:15, 30.31s/it]\u001b[A\n",
      " 81%|████████  | 199/246 [1:38:22<23:42, 30.28s/it]\u001b[A\n",
      " 81%|████████▏ | 200/246 [1:38:55<23:39, 30.85s/it]\u001b[A\n",
      " 82%|████████▏ | 201/246 [1:39:26<23:10, 30.90s/it]\u001b[A\n",
      " 82%|████████▏ | 202/246 [1:39:57<22:49, 31.13s/it]\u001b[A\n",
      " 83%|████████▎ | 203/246 [1:40:27<21:54, 30.57s/it]\u001b[A\n",
      " 83%|████████▎ | 204/246 [1:40:56<21:14, 30.34s/it]\u001b[A\n",
      " 83%|████████▎ | 205/246 [1:41:27<20:44, 30.36s/it]\u001b[A\n",
      " 84%|████████▎ | 206/246 [1:41:57<20:14, 30.37s/it]\u001b[A\n",
      " 84%|████████▍ | 207/246 [1:42:29<19:56, 30.68s/it]\u001b[A\n",
      " 85%|████████▍ | 208/246 [1:43:00<19:36, 30.95s/it]\u001b[A\n",
      " 85%|████████▍ | 209/246 [1:43:30<18:52, 30.62s/it]\u001b[A\n",
      " 85%|████████▌ | 210/246 [1:44:02<18:34, 30.95s/it]\u001b[A\n",
      " 86%|████████▌ | 211/246 [1:44:33<18:06, 31.05s/it]\u001b[A\n",
      " 86%|████████▌ | 212/246 [1:45:03<17:25, 30.74s/it]\u001b[A\n",
      " 87%|████████▋ | 213/246 [1:45:33<16:48, 30.55s/it]\u001b[A\n",
      " 87%|████████▋ | 214/246 [1:46:04<16:21, 30.66s/it]\u001b[A\n",
      " 87%|████████▋ | 215/246 [1:46:35<15:48, 30.61s/it]\u001b[A\n",
      " 88%|████████▊ | 216/246 [1:47:08<15:40, 31.36s/it]\u001b[A\n",
      " 88%|████████▊ | 217/246 [1:47:41<15:25, 31.92s/it]\u001b[A\n",
      " 89%|████████▊ | 218/246 [1:48:13<14:57, 32.07s/it]\u001b[A\n",
      " 89%|████████▉ | 219/246 [1:48:45<14:24, 32.04s/it]\u001b[A\n",
      " 89%|████████▉ | 220/246 [1:49:17<13:50, 31.93s/it]\u001b[A\n",
      " 90%|████████▉ | 221/246 [1:49:49<13:22, 32.10s/it]\u001b[A\n",
      " 90%|█████████ | 222/246 [1:50:22<12:54, 32.26s/it]\u001b[A\n",
      " 91%|█████████ | 223/246 [1:50:54<12:22, 32.27s/it]\u001b[A\n",
      " 91%|█████████ | 224/246 [1:51:27<11:49, 32.25s/it]\u001b[A\n",
      " 91%|█████████▏| 225/246 [1:51:59<11:16, 32.21s/it]\u001b[A\n",
      " 92%|█████████▏| 226/246 [1:52:31<10:46, 32.33s/it]\u001b[A\n",
      " 92%|█████████▏| 227/246 [1:53:03<10:09, 32.06s/it]\u001b[A\n",
      " 93%|█████████▎| 228/246 [1:53:37<09:46, 32.61s/it]\u001b[A\n",
      " 93%|█████████▎| 229/246 [1:54:09<09:10, 32.39s/it]\u001b[A\n",
      " 93%|█████████▎| 230/246 [1:54:41<08:38, 32.39s/it]\u001b[A\n",
      " 94%|█████████▍| 231/246 [1:55:13<08:03, 32.26s/it]\u001b[A\n",
      " 94%|█████████▍| 232/246 [1:55:46<07:35, 32.52s/it]\u001b[A\n",
      " 95%|█████████▍| 233/246 [1:56:19<07:05, 32.77s/it]\u001b[A\n",
      " 95%|█████████▌| 234/246 [1:56:52<06:31, 32.66s/it]\u001b[A\n",
      " 96%|█████████▌| 235/246 [1:57:24<05:57, 32.53s/it]\u001b[A\n",
      " 96%|█████████▌| 236/246 [1:57:56<05:24, 32.50s/it]\u001b[A\n",
      " 96%|█████████▋| 237/246 [1:58:26<04:44, 31.66s/it]\u001b[A\n",
      " 97%|█████████▋| 238/246 [1:58:56<04:08, 31.10s/it]\u001b[A\n",
      " 97%|█████████▋| 239/246 [1:59:25<03:33, 30.56s/it]\u001b[A\n",
      " 98%|█████████▊| 240/246 [1:59:55<03:01, 30.32s/it]\u001b[A\n",
      " 98%|█████████▊| 241/246 [2:00:25<02:31, 30.22s/it]\u001b[A\n",
      " 98%|█████████▊| 242/246 [2:00:56<02:01, 30.49s/it]\u001b[A\n",
      " 99%|█████████▉| 243/246 [2:01:27<01:31, 30.65s/it]\u001b[A\n",
      " 99%|█████████▉| 244/246 [2:01:57<01:01, 30.53s/it]\u001b[A\n",
      "100%|█████████▉| 245/246 [2:02:30<00:31, 31.05s/it]\u001b[A\n",
      "100%|██████████| 246/246 [2:02:40<00:00, 29.92s/it]\u001b[A\n"
     ]
    },
    {
     "name": "stdout",
     "output_type": "stream",
     "text": [
      "loss 0.8619214407280984\n"
     ]
    },
    {
     "name": "stderr",
     "output_type": "stream",
     "text": [
      "\n",
      "  0%|          | 0/82 [00:00<?, ?it/s]\u001b[A\n",
      "  1%|          | 1/82 [00:09<13:28,  9.98s/it]\u001b[A\n",
      "  2%|▏         | 2/82 [00:20<13:54, 10.43s/it]\u001b[A\n",
      "  4%|▎         | 3/82 [00:32<14:22, 10.92s/it]\u001b[A\n",
      "  5%|▍         | 4/82 [00:42<13:49, 10.63s/it]\u001b[A\n",
      "  6%|▌         | 5/82 [00:52<13:22, 10.42s/it]\u001b[A\n",
      "  7%|▋         | 6/82 [01:02<13:10, 10.41s/it]\u001b[A\n",
      "  9%|▊         | 7/82 [01:13<13:13, 10.57s/it]\u001b[A\n",
      " 10%|▉         | 8/82 [01:23<12:52, 10.43s/it]\u001b[A\n",
      " 11%|█         | 9/82 [01:34<12:47, 10.51s/it]\u001b[A\n",
      " 12%|█▏        | 10/82 [01:45<12:37, 10.52s/it]\u001b[A\n",
      " 13%|█▎        | 11/82 [01:54<12:12, 10.32s/it]\u001b[A\n",
      " 15%|█▍        | 12/82 [02:05<11:56, 10.24s/it]\u001b[A\n",
      " 16%|█▌        | 13/82 [02:14<11:37, 10.11s/it]\u001b[A\n",
      " 17%|█▋        | 14/82 [02:24<11:19,  9.99s/it]\u001b[A\n",
      " 18%|█▊        | 15/82 [02:34<11:01,  9.87s/it]\u001b[A\n",
      " 20%|█▉        | 16/82 [02:44<10:53,  9.90s/it]\u001b[A\n",
      " 21%|██        | 17/82 [02:54<10:47,  9.97s/it]\u001b[A\n",
      " 22%|██▏       | 18/82 [03:03<10:30,  9.85s/it]\u001b[A\n",
      " 23%|██▎       | 19/82 [03:14<10:42, 10.20s/it]\u001b[A\n",
      " 24%|██▍       | 20/82 [03:24<10:25, 10.09s/it]\u001b[A\n",
      " 26%|██▌       | 21/82 [03:34<10:06,  9.94s/it]\u001b[A\n",
      " 27%|██▋       | 22/82 [03:44<10:01, 10.03s/it]\u001b[A\n",
      " 28%|██▊       | 23/82 [03:54<09:55, 10.09s/it]\u001b[A\n",
      " 29%|██▉       | 24/82 [04:04<09:38,  9.97s/it]\u001b[A\n",
      " 30%|███       | 25/82 [04:14<09:24,  9.90s/it]\u001b[A\n",
      " 32%|███▏      | 26/82 [04:24<09:29, 10.17s/it]\u001b[A\n",
      " 33%|███▎      | 27/82 [04:34<09:12, 10.04s/it]\u001b[A\n",
      " 34%|███▍      | 28/82 [04:44<08:58,  9.97s/it]\u001b[A\n",
      " 35%|███▌      | 29/82 [04:54<08:48,  9.96s/it]\u001b[A\n",
      " 37%|███▋      | 30/82 [05:04<08:36,  9.94s/it]\u001b[A\n",
      " 38%|███▊      | 31/82 [05:14<08:25,  9.91s/it]\u001b[A\n",
      " 39%|███▉      | 32/82 [05:24<08:20, 10.00s/it]\u001b[A\n",
      " 40%|████      | 33/82 [05:35<08:23, 10.28s/it]\u001b[A\n",
      " 41%|████▏     | 34/82 [05:46<08:31, 10.65s/it]\u001b[A\n",
      " 43%|████▎     | 35/82 [05:58<08:31, 10.88s/it]\u001b[A\n",
      " 44%|████▍     | 36/82 [06:08<08:17, 10.81s/it]\u001b[A\n",
      " 45%|████▌     | 37/82 [06:18<07:54, 10.54s/it]\u001b[A\n",
      " 46%|████▋     | 38/82 [06:28<07:35, 10.35s/it]\u001b[A\n",
      " 48%|████▊     | 39/82 [06:39<07:24, 10.34s/it]\u001b[A\n",
      " 49%|████▉     | 40/82 [06:49<07:20, 10.49s/it]\u001b[A\n",
      " 50%|█████     | 41/82 [07:00<07:09, 10.48s/it]\u001b[A\n",
      " 51%|█████     | 42/82 [07:10<06:51, 10.30s/it]\u001b[A\n",
      " 52%|█████▏    | 43/82 [07:20<06:42, 10.33s/it]\u001b[A\n",
      " 54%|█████▎    | 44/82 [07:30<06:29, 10.25s/it]\u001b[A\n",
      " 55%|█████▍    | 45/82 [07:40<06:14, 10.11s/it]\u001b[A\n",
      " 56%|█████▌    | 46/82 [07:51<06:10, 10.30s/it]\u001b[A\n",
      " 57%|█████▋    | 47/82 [08:01<05:58, 10.24s/it]\u001b[A\n",
      " 59%|█████▊    | 48/82 [08:11<05:44, 10.13s/it]\u001b[A\n",
      " 60%|█████▉    | 49/82 [08:21<05:35, 10.17s/it]\u001b[A\n",
      " 61%|██████    | 50/82 [08:32<05:33, 10.43s/it]\u001b[A\n",
      " 62%|██████▏   | 51/82 [08:42<05:16, 10.19s/it]\u001b[A\n",
      " 63%|██████▎   | 52/82 [08:51<05:02, 10.09s/it]\u001b[A\n",
      " 65%|██████▍   | 53/82 [09:02<04:58, 10.28s/it]\u001b[A\n",
      " 66%|██████▌   | 54/82 [09:12<04:46, 10.23s/it]\u001b[A\n",
      " 67%|██████▋   | 55/82 [09:22<04:32, 10.10s/it]\u001b[A\n",
      " 68%|██████▊   | 56/82 [09:32<04:22, 10.09s/it]\u001b[A\n",
      " 70%|██████▉   | 57/82 [09:43<04:16, 10.26s/it]\u001b[A\n",
      " 71%|███████   | 58/82 [09:53<04:03, 10.16s/it]\u001b[A\n",
      " 72%|███████▏  | 59/82 [10:03<03:51, 10.08s/it]\u001b[A\n",
      " 73%|███████▎  | 60/82 [10:13<03:42, 10.10s/it]\u001b[A\n",
      " 74%|███████▍  | 61/82 [10:23<03:30, 10.04s/it]\u001b[A\n",
      " 76%|███████▌  | 62/82 [10:33<03:20, 10.02s/it]\u001b[A\n",
      " 77%|███████▋  | 63/82 [10:42<03:09,  9.95s/it]\u001b[A\n",
      " 78%|███████▊  | 64/82 [10:53<03:04, 10.27s/it]\u001b[A\n",
      " 79%|███████▉  | 65/82 [11:04<02:55, 10.31s/it]\u001b[A\n",
      " 80%|████████  | 66/82 [11:14<02:43, 10.22s/it]\u001b[A\n",
      " 82%|████████▏ | 67/82 [11:24<02:34, 10.30s/it]\u001b[A\n",
      " 83%|████████▎ | 68/82 [11:34<02:23, 10.22s/it]\u001b[A\n",
      " 84%|████████▍ | 69/82 [11:44<02:11, 10.08s/it]\u001b[A\n",
      " 85%|████████▌ | 70/82 [11:54<02:01, 10.09s/it]\u001b[A\n",
      " 87%|████████▋ | 71/82 [12:05<01:54, 10.37s/it]\u001b[A\n",
      " 88%|████████▊ | 72/82 [12:15<01:41, 10.15s/it]\u001b[A\n",
      " 89%|████████▉ | 73/82 [12:25<01:30, 10.01s/it]\u001b[A\n",
      " 90%|█████████ | 74/82 [12:35<01:21, 10.14s/it]\u001b[A\n",
      " 91%|█████████▏| 75/82 [12:45<01:10, 10.04s/it]\u001b[A\n",
      " 93%|█████████▎| 76/82 [12:55<00:59, 10.00s/it]\u001b[A\n",
      " 94%|█████████▍| 77/82 [13:05<00:50, 10.01s/it]\u001b[A\n",
      " 95%|█████████▌| 78/82 [13:15<00:40, 10.18s/it]\u001b[A\n",
      " 96%|█████████▋| 79/82 [13:25<00:30, 10.09s/it]\u001b[A\n",
      " 98%|█████████▊| 80/82 [13:35<00:20, 10.07s/it]\u001b[A\n",
      " 99%|█████████▉| 81/82 [13:45<00:10, 10.02s/it]\u001b[A\n",
      "100%|██████████| 82/82 [13:54<00:00, 10.17s/it]\u001b[A\n",
      "epoch:  10%|█         | 1/10 [2:16:34<20:29:14, 8194.89s/it]"
     ]
    },
    {
     "name": "stdout",
     "output_type": "stream",
     "text": [
      "\n",
      "Epoch 001 train_loss: 0.8619     val_loss 0.6161 train_acc 0.7899 val_acc 0.8477\n"
     ]
    },
    {
     "name": "stderr",
     "output_type": "stream",
     "text": [
      "\n",
      "  0%|          | 0/246 [00:00<?, ?it/s]\u001b[A\n",
      "  0%|          | 1/246 [00:29<2:00:54, 29.61s/it]\u001b[A\n",
      "  1%|          | 2/246 [00:59<2:00:11, 29.56s/it]\u001b[A\n",
      "  1%|          | 3/246 [01:29<2:02:00, 30.13s/it]\u001b[A\n",
      "  2%|▏         | 4/246 [02:00<2:02:31, 30.38s/it]\u001b[A\n",
      "  2%|▏         | 5/246 [02:31<2:03:07, 30.65s/it]\u001b[A\n",
      "  2%|▏         | 6/246 [03:04<2:04:44, 31.19s/it]\u001b[A\n",
      "  3%|▎         | 7/246 [03:33<2:02:28, 30.75s/it]\u001b[A\n",
      "  3%|▎         | 8/246 [04:05<2:02:30, 30.88s/it]\u001b[A\n",
      "  4%|▎         | 9/246 [04:34<1:59:35, 30.28s/it]\u001b[A\n",
      "  4%|▍         | 10/246 [05:01<1:55:56, 29.48s/it]\u001b[A\n",
      "  4%|▍         | 11/246 [05:30<1:54:59, 29.36s/it]\u001b[A\n",
      "  5%|▍         | 12/246 [06:00<1:54:22, 29.33s/it]\u001b[A\n",
      "  5%|▌         | 13/246 [06:31<1:55:54, 29.85s/it]\u001b[A\n",
      "  6%|▌         | 14/246 [07:00<1:54:48, 29.69s/it]\u001b[A\n",
      "  6%|▌         | 15/246 [07:29<1:53:44, 29.54s/it]\u001b[A\n",
      "  7%|▋         | 16/246 [08:00<1:55:05, 30.03s/it]\u001b[A\n",
      "  7%|▋         | 17/246 [08:31<1:55:45, 30.33s/it]\u001b[A\n",
      "  7%|▋         | 18/246 [09:01<1:54:47, 30.21s/it]\u001b[A\n",
      "  8%|▊         | 19/246 [09:31<1:53:30, 30.00s/it]\u001b[A\n",
      "  8%|▊         | 20/246 [09:58<1:49:45, 29.14s/it]\u001b[A\n",
      "  9%|▊         | 21/246 [10:27<1:49:03, 29.08s/it]\u001b[A\n",
      "  9%|▉         | 22/246 [10:55<1:47:08, 28.70s/it]\u001b[A\n",
      "  9%|▉         | 23/246 [11:23<1:46:49, 28.74s/it]\u001b[A\n",
      " 10%|▉         | 24/246 [11:54<1:47:46, 29.13s/it]\u001b[A\n",
      " 10%|█         | 25/246 [12:23<1:48:11, 29.37s/it]\u001b[A\n",
      " 11%|█         | 26/246 [12:52<1:46:35, 29.07s/it]\u001b[A\n",
      " 11%|█         | 27/246 [13:21<1:45:42, 28.96s/it]\u001b[A\n",
      " 11%|█▏        | 28/246 [13:50<1:45:21, 29.00s/it]\u001b[A\n",
      " 12%|█▏        | 29/246 [14:20<1:45:56, 29.29s/it]\u001b[A\n",
      " 12%|█▏        | 30/246 [14:49<1:45:10, 29.22s/it]\u001b[A\n",
      " 13%|█▎        | 31/246 [15:16<1:42:43, 28.67s/it]\u001b[A\n",
      " 13%|█▎        | 32/246 [15:46<1:43:37, 29.05s/it]\u001b[A\n",
      " 13%|█▎        | 33/246 [16:14<1:42:29, 28.87s/it]\u001b[A\n",
      " 14%|█▍        | 34/246 [16:43<1:42:10, 28.92s/it]\u001b[A\n",
      " 14%|█▍        | 35/246 [17:12<1:41:38, 28.90s/it]\u001b[A\n",
      " 15%|█▍        | 36/246 [17:43<1:43:10, 29.48s/it]\u001b[A\n",
      " 15%|█▌        | 37/246 [18:14<1:44:34, 30.02s/it]\u001b[A\n",
      " 15%|█▌        | 38/246 [18:45<1:44:24, 30.12s/it]\u001b[A\n",
      " 16%|█▌        | 39/246 [19:15<1:43:38, 30.04s/it]\u001b[A\n",
      " 16%|█▋        | 40/246 [19:44<1:42:30, 29.86s/it]\u001b[A\n",
      " 17%|█▋        | 41/246 [20:12<1:40:24, 29.39s/it]\u001b[A\n",
      " 17%|█▋        | 42/246 [20:41<1:39:23, 29.23s/it]\u001b[A\n",
      " 17%|█▋        | 43/246 [21:11<1:39:35, 29.44s/it]\u001b[A\n",
      " 18%|█▊        | 44/246 [21:40<1:39:01, 29.41s/it]\u001b[A\n",
      " 18%|█▊        | 45/246 [22:08<1:36:56, 28.94s/it]\u001b[A\n",
      " 19%|█▊        | 46/246 [22:41<1:39:50, 29.95s/it]\u001b[A\n",
      " 19%|█▉        | 47/246 [23:12<1:40:27, 30.29s/it]\u001b[A\n",
      " 20%|█▉        | 48/246 [23:43<1:41:19, 30.71s/it]\u001b[A\n",
      " 20%|█▉        | 49/246 [24:15<1:41:36, 30.95s/it]\u001b[A\n",
      " 20%|██        | 50/246 [24:44<1:38:50, 30.26s/it]\u001b[A\n",
      " 21%|██        | 51/246 [25:11<1:35:28, 29.38s/it]\u001b[A\n",
      " 21%|██        | 52/246 [25:38<1:33:02, 28.78s/it]\u001b[A\n",
      " 22%|██▏       | 53/246 [26:06<1:31:22, 28.41s/it]\u001b[A\n",
      " 22%|██▏       | 54/246 [26:35<1:31:19, 28.54s/it]\u001b[A\n",
      " 22%|██▏       | 55/246 [27:04<1:31:33, 28.76s/it]\u001b[A\n",
      " 23%|██▎       | 56/246 [27:33<1:31:42, 28.96s/it]\u001b[A\n",
      " 23%|██▎       | 57/246 [28:03<1:32:12, 29.27s/it]\u001b[A\n",
      " 24%|██▎       | 58/246 [28:33<1:31:59, 29.36s/it]\u001b[A\n",
      " 24%|██▍       | 59/246 [29:02<1:31:16, 29.28s/it]\u001b[A\n",
      " 24%|██▍       | 60/246 [29:31<1:30:46, 29.28s/it]\u001b[A\n",
      " 25%|██▍       | 61/246 [30:00<1:29:56, 29.17s/it]\u001b[A\n",
      " 25%|██▌       | 62/246 [30:32<1:31:37, 29.88s/it]\u001b[A\n",
      " 26%|██▌       | 63/246 [31:00<1:29:16, 29.27s/it]\u001b[A\n",
      " 26%|██▌       | 64/246 [31:27<1:27:13, 28.76s/it]\u001b[A\n",
      " 26%|██▋       | 65/246 [31:55<1:25:38, 28.39s/it]\u001b[A\n",
      " 27%|██▋       | 66/246 [32:22<1:23:48, 27.94s/it]\u001b[A\n",
      " 27%|██▋       | 67/246 [32:50<1:24:00, 28.16s/it]\u001b[A\n",
      " 28%|██▊       | 68/246 [33:18<1:23:17, 28.08s/it]\u001b[A\n",
      " 28%|██▊       | 69/246 [33:47<1:23:46, 28.40s/it]\u001b[A\n",
      " 28%|██▊       | 70/246 [34:16<1:23:34, 28.49s/it]\u001b[A\n",
      " 29%|██▉       | 71/246 [34:45<1:23:58, 28.79s/it]\u001b[A\n",
      " 29%|██▉       | 72/246 [35:15<1:24:13, 29.04s/it]\u001b[A\n",
      " 30%|██▉       | 73/246 [35:45<1:24:27, 29.29s/it]\u001b[A\n",
      " 30%|███       | 74/246 [36:14<1:24:07, 29.35s/it]\u001b[A\n",
      " 30%|███       | 75/246 [36:47<1:26:09, 30.23s/it]\u001b[A\n",
      " 31%|███       | 76/246 [37:19<1:27:46, 30.98s/it]\u001b[A\n",
      " 31%|███▏      | 77/246 [37:50<1:27:16, 30.98s/it]\u001b[A\n",
      " 32%|███▏      | 78/246 [38:23<1:28:09, 31.49s/it]\u001b[A\n",
      " 32%|███▏      | 79/246 [38:55<1:28:01, 31.62s/it]\u001b[A\n",
      " 33%|███▎      | 80/246 [39:25<1:25:58, 31.08s/it]\u001b[A\n",
      " 33%|███▎      | 81/246 [39:55<1:24:36, 30.77s/it]\u001b[A\n",
      " 33%|███▎      | 82/246 [40:24<1:22:32, 30.20s/it]\u001b[A\n",
      " 34%|███▎      | 83/246 [40:54<1:21:51, 30.13s/it]\u001b[A\n",
      " 34%|███▍      | 84/246 [41:25<1:22:03, 30.39s/it]\u001b[A\n",
      " 35%|███▍      | 85/246 [41:55<1:21:46, 30.47s/it]\u001b[A\n",
      " 35%|███▍      | 86/246 [42:25<1:20:40, 30.25s/it]\u001b[A\n",
      " 35%|███▌      | 87/246 [42:56<1:20:29, 30.38s/it]\u001b[A\n",
      " 36%|███▌      | 88/246 [43:26<1:19:56, 30.36s/it]\u001b[A\n",
      " 36%|███▌      | 89/246 [43:55<1:18:08, 29.86s/it]\u001b[A\n",
      " 37%|███▋      | 90/246 [44:25<1:18:03, 30.02s/it]\u001b[A\n",
      " 37%|███▋      | 91/246 [44:57<1:18:42, 30.47s/it]\u001b[A\n",
      " 37%|███▋      | 92/246 [45:28<1:19:02, 30.80s/it]\u001b[A\n",
      " 38%|███▊      | 93/246 [46:02<1:20:37, 31.61s/it]\u001b[A\n",
      " 38%|███▊      | 94/246 [46:32<1:19:19, 31.31s/it]\u001b[A\n",
      " 39%|███▊      | 95/246 [47:02<1:17:44, 30.89s/it]\u001b[A\n",
      " 39%|███▉      | 96/246 [47:34<1:17:46, 31.11s/it]\u001b[A\n",
      " 39%|███▉      | 97/246 [48:08<1:19:18, 31.93s/it]\u001b[A\n",
      " 40%|███▉      | 98/246 [48:37<1:16:40, 31.09s/it]\u001b[A\n",
      " 40%|████      | 99/246 [49:07<1:15:24, 30.78s/it]\u001b[A\n",
      " 41%|████      | 100/246 [49:37<1:14:25, 30.58s/it]\u001b[A\n",
      " 41%|████      | 101/246 [50:08<1:14:03, 30.65s/it]\u001b[A\n",
      " 41%|████▏     | 102/246 [50:40<1:14:46, 31.15s/it]\u001b[A\n",
      " 42%|████▏     | 103/246 [51:10<1:13:13, 30.72s/it]\u001b[A\n",
      " 42%|████▏     | 104/246 [51:39<1:11:23, 30.17s/it]\u001b[A\n",
      " 43%|████▎     | 105/246 [52:07<1:09:27, 29.56s/it]\u001b[A\n",
      " 43%|████▎     | 106/246 [52:38<1:09:59, 30.00s/it]\u001b[A\n",
      " 43%|████▎     | 107/246 [53:08<1:09:11, 29.87s/it]\u001b[A\n",
      " 44%|████▍     | 108/246 [53:38<1:09:13, 30.10s/it]\u001b[A\n",
      " 44%|████▍     | 109/246 [54:10<1:10:10, 30.73s/it]\u001b[A\n",
      " 45%|████▍     | 110/246 [54:40<1:08:35, 30.26s/it]\u001b[A\n",
      " 45%|████▌     | 111/246 [55:09<1:07:45, 30.12s/it]\u001b[A\n",
      " 46%|████▌     | 112/246 [55:41<1:08:18, 30.59s/it]\u001b[A\n",
      " 46%|████▌     | 113/246 [56:13<1:08:40, 30.98s/it]\u001b[A\n",
      " 46%|████▋     | 114/246 [56:44<1:08:10, 30.99s/it]\u001b[A\n",
      " 47%|████▋     | 115/246 [57:12<1:05:33, 30.03s/it]\u001b[A\n",
      " 47%|████▋     | 116/246 [57:40<1:04:14, 29.65s/it]\u001b[A\n",
      " 48%|████▊     | 117/246 [58:10<1:03:56, 29.74s/it]\u001b[A\n",
      " 48%|████▊     | 118/246 [58:39<1:02:31, 29.31s/it]\u001b[A\n",
      " 48%|████▊     | 119/246 [59:07<1:01:34, 29.09s/it]\u001b[A\n",
      " 49%|████▉     | 120/246 [59:36<1:00:35, 28.85s/it]\u001b[A\n",
      " 49%|████▉     | 121/246 [1:00:04<59:44, 28.68s/it]\u001b[A\n",
      " 50%|████▉     | 122/246 [1:00:33<59:19, 28.71s/it]\u001b[A\n",
      " 50%|█████     | 123/246 [1:01:01<58:28, 28.53s/it]\u001b[A\n",
      " 50%|█████     | 124/246 [1:01:29<57:51, 28.46s/it]\u001b[A\n",
      " 51%|█████     | 125/246 [1:01:58<57:33, 28.54s/it]\u001b[A\n",
      " 51%|█████     | 126/246 [1:02:26<56:54, 28.45s/it]\u001b[A\n",
      " 52%|█████▏    | 127/246 [1:02:55<56:52, 28.68s/it]\u001b[A\n",
      " 52%|█████▏    | 128/246 [1:03:24<56:19, 28.64s/it]\u001b[A\n",
      " 52%|█████▏    | 129/246 [1:03:53<56:08, 28.79s/it]\u001b[A\n",
      " 53%|█████▎    | 130/246 [1:04:21<55:24, 28.66s/it]\u001b[A\n",
      " 53%|█████▎    | 131/246 [1:04:49<54:36, 28.49s/it]\u001b[A\n",
      " 54%|█████▎    | 132/246 [1:05:17<53:50, 28.33s/it]\u001b[A\n",
      " 54%|█████▍    | 133/246 [1:05:46<53:43, 28.53s/it]\u001b[A\n",
      " 54%|█████▍    | 134/246 [1:06:15<53:33, 28.69s/it]\u001b[A\n",
      " 55%|█████▍    | 135/246 [1:06:46<54:09, 29.28s/it]\u001b[A\n",
      " 55%|█████▌    | 136/246 [1:07:14<53:00, 28.91s/it]\u001b[A"
     ]
    }
   ],
   "source": [
    "history = train(train_dataset, val_dataset, model=resnet, epochs=10, batch_size=64)"
   ]
  },
  {
   "cell_type": "markdown",
   "metadata": {
    "id": "7qMAdL_BduXZ"
   },
   "source": [
    "Построим кривые обучения"
   ]
  },
  {
   "cell_type": "code",
   "execution_count": null,
   "metadata": {
    "id": "2ryD_9yFdfNr"
   },
   "outputs": [],
   "source": [
    "loss, acc, val_loss, val_acc = zip(*history)"
   ]
  },
  {
   "cell_type": "code",
   "execution_count": null,
   "metadata": {
    "id": "60w-NB2msvpq"
   },
   "outputs": [],
   "source": [
    "val_acc"
   ]
  },
  {
   "cell_type": "code",
   "execution_count": null,
   "metadata": {
    "id": "GpQDWGkfdfQ5"
   },
   "outputs": [],
   "source": [
    "plt.figure(figsize=(15, 9))\n",
    "plt.plot(loss, label=\"train_loss\")\n",
    "plt.plot(val_loss, label=\"val_loss\")\n",
    "plt.legend(loc='best')\n",
    "plt.xlabel(\"epochs\")\n",
    "plt.ylabel(\"loss\")\n",
    "plt.show()"
   ]
  },
  {
   "cell_type": "markdown",
   "metadata": {
    "id": "64K4JUdFsvpr"
   },
   "source": [
    "# Здесь заморозим фич-экстрактор, оптимизировать будем только свой линейный слой."
   ]
  },
  {
   "cell_type": "code",
   "execution_count": null,
   "metadata": {
    "id": "WXjvxi3isvps"
   },
   "outputs": [],
   "source": [
    "resnet_ = models.resnet50(pretrained=True)\n",
    "resnet_"
   ]
  },
  {
   "cell_type": "code",
   "execution_count": null,
   "metadata": {
    "id": "WIFLpDqjsvps"
   },
   "outputs": [],
   "source": [
    "for param in resnet_.parameters():\n",
    "    print(param.requires_grad)"
   ]
  },
  {
   "cell_type": "code",
   "execution_count": null,
   "metadata": {
    "id": "JA5qQ07lsvpt"
   },
   "outputs": [],
   "source": [
    "for param in resnet_.parameters():\n",
    "    param.requires_grad = False"
   ]
  },
  {
   "cell_type": "code",
   "execution_count": null,
   "metadata": {
    "id": "XEz2esr8svpt"
   },
   "outputs": [],
   "source": [
    "for param in resnet_.parameters():\n",
    "    print(param.requires_grad)"
   ]
  },
  {
   "cell_type": "code",
   "execution_count": null,
   "metadata": {
    "id": "y7PxmQFvsvpt"
   },
   "outputs": [],
   "source": [
    "num_ftrs = 2048\n",
    "resnet_.fc = nn.Linear(num_ftrs,n_classes)\n",
    "resnet_ = resnet.to(DEVICE)\n",
    "torch.cuda.empty_cache()"
   ]
  },
  {
   "cell_type": "code",
   "execution_count": null,
   "metadata": {
    "id": "rBWYQJDi3f6u"
   },
   "outputs": [],
   "source": [
    "# history = train(train_dataset, val_dataset, model=resnet, epochs=10, batch_size=128)"
   ]
  },
  {
   "cell_type": "code",
   "execution_count": null,
   "metadata": {
    "id": "wncR9FOQsvpu"
   },
   "outputs": [],
   "source": [
    "# loss, acc, val_loss, val_acc = zip(*history)"
   ]
  },
  {
   "cell_type": "code",
   "execution_count": null,
   "metadata": {
    "id": "qkWzZZxSsvpv"
   },
   "outputs": [],
   "source": [
    "# val_acc"
   ]
  },
  {
   "cell_type": "code",
   "execution_count": null,
   "metadata": {
    "id": "mCAkBWOnsvpv"
   },
   "outputs": [],
   "source": [
    "\"\"\"\n",
    "plt.figure(figsize=(15, 9))\n",
    "plt.plot(loss, label=\"train_loss\")\n",
    "plt.plot(val_loss, label=\"val_loss\")\n",
    "plt.legend(loc='best')\n",
    "plt.xlabel(\"epochs\")\n",
    "plt.ylabel(\"loss\")\n",
    "plt.show()\n",
    "\"\"\""
   ]
  },
  {
   "cell_type": "markdown",
   "metadata": {
    "id": "Gr9lRCJNNDfD"
   },
   "source": [
    "### Ну и что теперь со всем этим делать?"
   ]
  },
  {
   "cell_type": "markdown",
   "metadata": {
    "id": "DSe0nQ-dJ8uy"
   },
   "source": [
    "![alt text](https://www.indiewire.com/wp-content/uploads/2014/08/the-simpsons.jpg)"
   ]
  },
  {
   "cell_type": "markdown",
   "metadata": {
    "id": "y5k0UGeTNaQX"
   },
   "source": [
    "Хорошо бы понять, как сделать сабмит. \n",
    "У нас есть сеть и методы eval у нее, которые позволяют перевести сеть в режим предсказания. Стоит понимать, что у нашей модели на последнем слое стоит softmax, которые позволяет получить вектор вероятностей  того, что объект относится к тому или иному классу. Давайте воспользуемся этим."
   ]
  },
  {
   "cell_type": "code",
   "execution_count": null,
   "metadata": {
    "id": "IhLY3Jgxsvpy"
   },
   "outputs": [],
   "source": [
    "simple_cnn = resnet"
   ]
  },
  {
   "cell_type": "code",
   "execution_count": null,
   "metadata": {
    "id": "Z8PlF6o0N9O1"
   },
   "outputs": [],
   "source": [
    "def predict_one_sample(model, inputs, device=DEVICE):\n",
    "    \"\"\"Предсказание, для одной картинки\"\"\"\n",
    "    with torch.no_grad():\n",
    "        inputs = inputs.to(device)\n",
    "        model.eval()\n",
    "        logit = model(inputs).cpu()\n",
    "        probs = torch.nn.functional.softmax(logit, dim=-1).numpy()\n",
    "    return probs"
   ]
  },
  {
   "cell_type": "code",
   "execution_count": null,
   "metadata": {
    "id": "pY_OoLoVO_9V"
   },
   "outputs": [],
   "source": [
    "random_characters = int(np.random.uniform(0,1000))\n",
    "ex_img, true_label = val_dataset[random_characters]\n",
    "probs_im = predict_one_sample(simple_cnn, ex_img.unsqueeze(0))"
   ]
  },
  {
   "cell_type": "code",
   "execution_count": null,
   "metadata": {
    "id": "caivVFeAN9SY"
   },
   "outputs": [],
   "source": [
    "idxs = list(map(int, np.random.uniform(0,1000, 20)))\n",
    "imgs = [val_dataset[id][0].unsqueeze(0) for id in idxs]\n",
    "\n",
    "probs_ims = predict(simple_cnn, imgs)"
   ]
  },
  {
   "cell_type": "code",
   "execution_count": null,
   "metadata": {
    "id": "t-0pRdHnQQKM"
   },
   "outputs": [],
   "source": [
    "label_encoder = pickle.load(open(\"label_encoder.pkl\", 'rb'))"
   ]
  },
  {
   "cell_type": "code",
   "execution_count": null,
   "metadata": {
    "id": "GNMFc7sfQh1a"
   },
   "outputs": [],
   "source": [
    "y_pred = np.argmax(probs_ims,-1)\n",
    "\n",
    "actual_labels = [val_dataset[id][1] for id in idxs]\n",
    "\n",
    "preds_class = [label_encoder.classes_[i] for i in y_pred]"
   ]
  },
  {
   "cell_type": "markdown",
   "metadata": {
    "id": "iVePL0-BKHrF"
   },
   "source": [
    "Обратите внимание, что метрика, которую необходимо оптимизировать в конкурсе --- f1-score. Вычислим целевую метрику на валидационной выборке."
   ]
  },
  {
   "cell_type": "code",
   "execution_count": null,
   "metadata": {
    "id": "_h-9dDWsKGU-"
   },
   "outputs": [],
   "source": [
    "from sklearn.metrics import f1_score\n",
    "\n",
    "# f1_score(actual_labels, preds_class)\n"
   ]
  },
  {
   "cell_type": "markdown",
   "metadata": {
    "id": "pxB9pfPfdCHr"
   },
   "source": [
    "Сделаем классную визуализацию,  чтобы посмотреть насколько сеть уверена в своих ответах. Можете исспользовать это, чтобы отлаживать правильность вывода."
   ]
  },
  {
   "cell_type": "code",
   "execution_count": null,
   "metadata": {
    "id": "VVjq4EC5ZZE7"
   },
   "outputs": [],
   "source": [
    "import matplotlib.patches as patches\n",
    "from matplotlib.font_manager import FontProperties\n",
    "\n",
    "fig, ax = plt.subplots(nrows=3, ncols=3,figsize=(12, 12), \\\n",
    "                        sharey=True, sharex=True)\n",
    "for fig_x in ax.flatten():\n",
    "    random_characters = int(np.random.uniform(0,1000))\n",
    "    im_val, label = val_dataset[random_characters]\n",
    "    img_label = \" \".join(map(lambda x: x.capitalize(),\\\n",
    "                val_dataset.label_encoder.inverse_transform([label])[0].split('_')))\n",
    "    \n",
    "    \n",
    "\n",
    "    imshow(im_val.data.cpu(), \\\n",
    "          title=img_label,plt_ax=fig_x)\n",
    "    \n",
    "    actual_text = \"Actual : {}\".format(img_label)\n",
    "            \n",
    "    fig_x.add_patch(patches.Rectangle((0, 53),86,35,color='white'))\n",
    "    font0 = FontProperties()\n",
    "    font = font0.copy()\n",
    "    font.set_family(\"fantasy\")\n",
    "    prob_pred = predict_one_sample(simple_cnn, im_val.unsqueeze(0))\n",
    "    predicted_proba = np.max(prob_pred)*100\n",
    "    y_pred = np.argmax(prob_pred)\n",
    "    \n",
    "    predicted_label = label_encoder.classes_[y_pred]\n",
    "    predicted_label = predicted_label[:len(predicted_label)//2] + '\\n' + predicted_label[len(predicted_label)//2:]\n",
    "    predicted_text = \"{} : {:.0f}%\".format(predicted_label,predicted_proba)\n",
    "            \n",
    "    fig_x.text(1, 59, predicted_text , horizontalalignment='left', fontproperties=font,\n",
    "                    verticalalignment='top',fontsize=8, color='black',fontweight='bold')"
   ]
  },
  {
   "cell_type": "code",
   "execution_count": null,
   "metadata": {
    "id": "tq3nMIqHeFFC"
   },
   "outputs": [],
   "source": []
  },
  {
   "cell_type": "markdown",
   "metadata": {
    "id": "hO9OLOMqIXRV"
   },
   "source": [
    "Попробуйте найти те классы, которые сеть не смогла расспознать. Изучите данную проблему, это понадобится в дальнейшем."
   ]
  },
  {
   "cell_type": "markdown",
   "metadata": {
    "id": "QEWTL6jgdh7L"
   },
   "source": [
    "### Submit на Kaggle"
   ]
  },
  {
   "cell_type": "markdown",
   "metadata": {
    "id": "wrjQ6cxHIGtk"
   },
   "source": [
    "![alt text](https://i.redd.it/nuaphfioz0211.jpg)"
   ]
  },
  {
   "cell_type": "markdown",
   "metadata": {
    "id": "7zgCev66svp6"
   },
   "source": [
    "# Предсказываем resnet"
   ]
  },
  {
   "cell_type": "code",
   "execution_count": null,
   "metadata": {
    "id": "9UTbU0Zbc6Hb"
   },
   "outputs": [],
   "source": [
    "test_dataset = SimpsonsDataset(test_files, mode=\"test\")\n",
    "test_loader = DataLoader(test_dataset, shuffle=False, batch_size=64)\n",
    "probs = predict(resnet, test_loader)\n",
    "\n",
    "\n",
    "preds = label_encoder.inverse_transform(np.argmax(probs, axis=1))\n",
    "test_filenames = [path.name for path in test_dataset.files]\n"
   ]
  },
  {
   "cell_type": "code",
   "execution_count": null,
   "metadata": {
    "id": "LRh4CzgKsvp7"
   },
   "outputs": [],
   "source": [
    "preds"
   ]
  },
  {
   "cell_type": "code",
   "execution_count": null,
   "metadata": {
    "id": "_rTtbV1teD2k"
   },
   "outputs": [],
   "source": [
    "! ls "
   ]
  },
  {
   "cell_type": "code",
   "execution_count": null,
   "metadata": {
    "id": "yw0zZ-Hdd89s"
   },
   "outputs": [],
   "source": [
    "import pandas as pd\n",
    "my_submit = pd.read_csv(\"./journey-springfield/sample_submission.csv\")\n",
    "my_submit = pd.DataFrame({'Id': test_filenames, 'Expected': preds})\n",
    "my_submit.head()"
   ]
  },
  {
   "cell_type": "code",
   "execution_count": null,
   "metadata": {
    "id": "VIYaqa20iYTL"
   },
   "outputs": [],
   "source": [
    "# TODO : сделайте сабмит (это важно, если Вы не справляетесь, но дошли до этой ячейки, то сообщите в чат и Вам помогут)"
   ]
  },
  {
   "cell_type": "code",
   "execution_count": null,
   "metadata": {
    "id": "5rdlyMKtiYe2"
   },
   "outputs": [],
   "source": [
    "my_submit.to_csv('./journey-springfield/resnet.csv', index=False)"
   ]
  },
  {
   "cell_type": "markdown",
   "metadata": {
    "id": "qSg9zYY3svp9"
   },
   "source": [
    "# Предсказываем другой сетью"
   ]
  },
  {
   "cell_type": "code",
   "execution_count": null,
   "metadata": {
    "id": "jv1wl8Ncsvp9"
   },
   "outputs": [],
   "source": [
    "test_dataset = SimpsonsDataset(test_files, mode=\"test\")\n",
    "test_loader = DataLoader(test_dataset, shuffle=False, batch_size=64)\n",
    "probs = predict(resnet, test_loader)\n",
    "\n",
    "\n",
    "preds = label_encoder.inverse_transform(np.argmax(probs, axis=1))\n",
    "test_filenames = [path.name for path in test_dataset.files]\n"
   ]
  },
  {
   "cell_type": "code",
   "execution_count": null,
   "metadata": {
    "id": "wBt4bwASsvp-"
   },
   "outputs": [],
   "source": [
    "import pandas as pd\n",
    "my_submit = pd.read_csv(\"./journey-springfield/sample_submission.csv\")\n",
    "my_submit = pd.DataFrame({'Id': test_filenames, 'Expected': preds})\n",
    "my_submit.head()"
   ]
  },
  {
   "cell_type": "code",
   "execution_count": null,
   "metadata": {
    "id": "pzCN-zCssvp-"
   },
   "outputs": [],
   "source": [
    "my_submit.to_csv('./journey-springfield/resnet_.csv', index=False)"
   ]
  },
  {
   "cell_type": "code",
   "execution_count": null,
   "metadata": {
    "id": "I4HnQBCysvp_"
   },
   "outputs": [],
   "source": []
  },
  {
   "cell_type": "markdown",
   "metadata": {
    "id": "h3M9SQZ7MuUq"
   },
   "source": [
    "## Приключение?\n",
    "\n",
    "А теперь самое интересное, мы сделали простенькую сверточную сеть и смогли отправить сабмит, но получившийся скор нас явно не устраивает. Надо с этим что-то сделать. \n",
    "\n",
    "Несколько срочныйх улучшейни для нашей сети, которые наверняка пришли Вам в голову: \n",
    "\n",
    "\n",
    "*   Учим дольше и изменяем гиперпараметры сети\n",
    "*  learning rate, batch size, нормализация картинки и вот это всё\n",
    "*   Кто же так строит нейронные сети? А где пулинги и батч нормы? Надо добавлять\n",
    "*  Ну разве Адам наше все? [adamW](https://www.fast.ai/2018/07/02/adam-weight-decay/) для практика, [статейка для любителей](https://openreview.net/pdf?id=ryQu7f-RZ) (очень хороший анализ), [наши ](https://github.com/MichaelKonobeev/adashift/) эксперименты для заинтересованных.\n",
    "\n",
    "* Ну разве это deep learning? Вот ResNet и Inception, которые можно зафайнтьюнить под наши данные, вот это я понимаю (можно и обучить в колабе, а можно и [готовые](https://github.com/Cadene/pretrained-models.pytorch) скачать).\n",
    "\n",
    "* Данных не очень много, можно их аугументировать и  доучититься на новом датасете ( который уже будет состоять из, как  пример аугументации, перевернутых изображений)\n",
    "\n",
    "* Стоит подумать об ансамблях\n",
    "\n",
    "\n",
    "Надеюсь, что у Вас получится!\n",
    "\n",
    "![alt text](https://pbs.twimg.com/profile_images/798904974986113024/adcQiVdV.jpg)\n"
   ]
  }
 ],
 "metadata": {
  "accelerator": "GPU",
  "colab": {
   "collapsed_sections": [],
   "name": "Копия Копия блокнота \"simpsons_baseline.ipynb\"",
   "provenance": [
    {
     "file_id": "1kjN7qXgl16IJwyL7UTfwNT18IrZxySXe",
     "timestamp": 1639985228838
    }
   ]
  },
  "kernelspec": {
   "display_name": "Python 3 (ipykernel)",
   "language": "python",
   "name": "python3"
  },
  "language_info": {
   "codemirror_mode": {
    "name": "ipython",
    "version": 3
   },
   "file_extension": ".py",
   "mimetype": "text/x-python",
   "name": "python",
   "nbconvert_exporter": "python",
   "pygments_lexer": "ipython3",
   "version": "3.8.5"
  },
  "widgets": {
   "application/vnd.jupyter.widget-state+json": {
    "393acf6bfdb34e43acb9943ee66528a4": {
     "model_module": "@jupyter-widgets/controls",
     "model_module_version": "1.5.0",
     "model_name": "DescriptionStyleModel",
     "state": {
      "_model_module": "@jupyter-widgets/controls",
      "_model_module_version": "1.5.0",
      "_model_name": "DescriptionStyleModel",
      "_view_count": null,
      "_view_module": "@jupyter-widgets/base",
      "_view_module_version": "1.2.0",
      "_view_name": "StyleView",
      "description_width": ""
     }
    },
    "584bea9925914401982af30b2c793db4": {
     "model_module": "@jupyter-widgets/controls",
     "model_module_version": "1.5.0",
     "model_name": "HBoxModel",
     "state": {
      "_dom_classes": [],
      "_model_module": "@jupyter-widgets/controls",
      "_model_module_version": "1.5.0",
      "_model_name": "HBoxModel",
      "_view_count": null,
      "_view_module": "@jupyter-widgets/controls",
      "_view_module_version": "1.5.0",
      "_view_name": "HBoxView",
      "box_style": "",
      "children": [
       "IPY_MODEL_ea991b7320124b268723dbf5092d260f",
       "IPY_MODEL_b1c1722c59924be79e17b7589053971d",
       "IPY_MODEL_7b135d570422416cad1f5ba5d4f49dcf"
      ],
      "layout": "IPY_MODEL_a36d3ec1b3e2487fbb0804e0e2abba8f"
     }
    },
    "5b9863b8c7594a0cb961e352e667a34a": {
     "model_module": "@jupyter-widgets/base",
     "model_module_version": "1.2.0",
     "model_name": "LayoutModel",
     "state": {
      "_model_module": "@jupyter-widgets/base",
      "_model_module_version": "1.2.0",
      "_model_name": "LayoutModel",
      "_view_count": null,
      "_view_module": "@jupyter-widgets/base",
      "_view_module_version": "1.2.0",
      "_view_name": "LayoutView",
      "align_content": null,
      "align_items": null,
      "align_self": null,
      "border": null,
      "bottom": null,
      "display": null,
      "flex": null,
      "flex_flow": null,
      "grid_area": null,
      "grid_auto_columns": null,
      "grid_auto_flow": null,
      "grid_auto_rows": null,
      "grid_column": null,
      "grid_gap": null,
      "grid_row": null,
      "grid_template_areas": null,
      "grid_template_columns": null,
      "grid_template_rows": null,
      "height": null,
      "justify_content": null,
      "justify_items": null,
      "left": null,
      "margin": null,
      "max_height": null,
      "max_width": null,
      "min_height": null,
      "min_width": null,
      "object_fit": null,
      "object_position": null,
      "order": null,
      "overflow": null,
      "overflow_x": null,
      "overflow_y": null,
      "padding": null,
      "right": null,
      "top": null,
      "visibility": null,
      "width": null
     }
    },
    "7b135d570422416cad1f5ba5d4f49dcf": {
     "model_module": "@jupyter-widgets/controls",
     "model_module_version": "1.5.0",
     "model_name": "HTMLModel",
     "state": {
      "_dom_classes": [],
      "_model_module": "@jupyter-widgets/controls",
      "_model_module_version": "1.5.0",
      "_model_name": "HTMLModel",
      "_view_count": null,
      "_view_module": "@jupyter-widgets/controls",
      "_view_module_version": "1.5.0",
      "_view_name": "HTMLView",
      "description": "",
      "description_tooltip": null,
      "layout": "IPY_MODEL_a8e548daf65945eaaba247432e2d4bf7",
      "placeholder": "​",
      "style": "IPY_MODEL_393acf6bfdb34e43acb9943ee66528a4",
      "value": " 97.8M/97.8M [00:01&lt;00:00, 93.1MB/s]"
     }
    },
    "7d8234b52df04f358484a6ebbc2e3c87": {
     "model_module": "@jupyter-widgets/controls",
     "model_module_version": "1.5.0",
     "model_name": "ProgressStyleModel",
     "state": {
      "_model_module": "@jupyter-widgets/controls",
      "_model_module_version": "1.5.0",
      "_model_name": "ProgressStyleModel",
      "_view_count": null,
      "_view_module": "@jupyter-widgets/base",
      "_view_module_version": "1.2.0",
      "_view_name": "StyleView",
      "bar_color": null,
      "description_width": ""
     }
    },
    "a36d3ec1b3e2487fbb0804e0e2abba8f": {
     "model_module": "@jupyter-widgets/base",
     "model_module_version": "1.2.0",
     "model_name": "LayoutModel",
     "state": {
      "_model_module": "@jupyter-widgets/base",
      "_model_module_version": "1.2.0",
      "_model_name": "LayoutModel",
      "_view_count": null,
      "_view_module": "@jupyter-widgets/base",
      "_view_module_version": "1.2.0",
      "_view_name": "LayoutView",
      "align_content": null,
      "align_items": null,
      "align_self": null,
      "border": null,
      "bottom": null,
      "display": null,
      "flex": null,
      "flex_flow": null,
      "grid_area": null,
      "grid_auto_columns": null,
      "grid_auto_flow": null,
      "grid_auto_rows": null,
      "grid_column": null,
      "grid_gap": null,
      "grid_row": null,
      "grid_template_areas": null,
      "grid_template_columns": null,
      "grid_template_rows": null,
      "height": null,
      "justify_content": null,
      "justify_items": null,
      "left": null,
      "margin": null,
      "max_height": null,
      "max_width": null,
      "min_height": null,
      "min_width": null,
      "object_fit": null,
      "object_position": null,
      "order": null,
      "overflow": null,
      "overflow_x": null,
      "overflow_y": null,
      "padding": null,
      "right": null,
      "top": null,
      "visibility": null,
      "width": null
     }
    },
    "a8e548daf65945eaaba247432e2d4bf7": {
     "model_module": "@jupyter-widgets/base",
     "model_module_version": "1.2.0",
     "model_name": "LayoutModel",
     "state": {
      "_model_module": "@jupyter-widgets/base",
      "_model_module_version": "1.2.0",
      "_model_name": "LayoutModel",
      "_view_count": null,
      "_view_module": "@jupyter-widgets/base",
      "_view_module_version": "1.2.0",
      "_view_name": "LayoutView",
      "align_content": null,
      "align_items": null,
      "align_self": null,
      "border": null,
      "bottom": null,
      "display": null,
      "flex": null,
      "flex_flow": null,
      "grid_area": null,
      "grid_auto_columns": null,
      "grid_auto_flow": null,
      "grid_auto_rows": null,
      "grid_column": null,
      "grid_gap": null,
      "grid_row": null,
      "grid_template_areas": null,
      "grid_template_columns": null,
      "grid_template_rows": null,
      "height": null,
      "justify_content": null,
      "justify_items": null,
      "left": null,
      "margin": null,
      "max_height": null,
      "max_width": null,
      "min_height": null,
      "min_width": null,
      "object_fit": null,
      "object_position": null,
      "order": null,
      "overflow": null,
      "overflow_x": null,
      "overflow_y": null,
      "padding": null,
      "right": null,
      "top": null,
      "visibility": null,
      "width": null
     }
    },
    "b1c1722c59924be79e17b7589053971d": {
     "model_module": "@jupyter-widgets/controls",
     "model_module_version": "1.5.0",
     "model_name": "FloatProgressModel",
     "state": {
      "_dom_classes": [],
      "_model_module": "@jupyter-widgets/controls",
      "_model_module_version": "1.5.0",
      "_model_name": "FloatProgressModel",
      "_view_count": null,
      "_view_module": "@jupyter-widgets/controls",
      "_view_module_version": "1.5.0",
      "_view_name": "ProgressView",
      "bar_style": "success",
      "description": "",
      "description_tooltip": null,
      "layout": "IPY_MODEL_d2dc0dc88bb745af81d4cdd7e99134a3",
      "max": 102530333,
      "min": 0,
      "orientation": "horizontal",
      "style": "IPY_MODEL_7d8234b52df04f358484a6ebbc2e3c87",
      "value": 102530333
     }
    },
    "bd6d0ca6eb3b4f87829570624a0b7a54": {
     "model_module": "@jupyter-widgets/controls",
     "model_module_version": "1.5.0",
     "model_name": "DescriptionStyleModel",
     "state": {
      "_model_module": "@jupyter-widgets/controls",
      "_model_module_version": "1.5.0",
      "_model_name": "DescriptionStyleModel",
      "_view_count": null,
      "_view_module": "@jupyter-widgets/base",
      "_view_module_version": "1.2.0",
      "_view_name": "StyleView",
      "description_width": ""
     }
    },
    "d2dc0dc88bb745af81d4cdd7e99134a3": {
     "model_module": "@jupyter-widgets/base",
     "model_module_version": "1.2.0",
     "model_name": "LayoutModel",
     "state": {
      "_model_module": "@jupyter-widgets/base",
      "_model_module_version": "1.2.0",
      "_model_name": "LayoutModel",
      "_view_count": null,
      "_view_module": "@jupyter-widgets/base",
      "_view_module_version": "1.2.0",
      "_view_name": "LayoutView",
      "align_content": null,
      "align_items": null,
      "align_self": null,
      "border": null,
      "bottom": null,
      "display": null,
      "flex": null,
      "flex_flow": null,
      "grid_area": null,
      "grid_auto_columns": null,
      "grid_auto_flow": null,
      "grid_auto_rows": null,
      "grid_column": null,
      "grid_gap": null,
      "grid_row": null,
      "grid_template_areas": null,
      "grid_template_columns": null,
      "grid_template_rows": null,
      "height": null,
      "justify_content": null,
      "justify_items": null,
      "left": null,
      "margin": null,
      "max_height": null,
      "max_width": null,
      "min_height": null,
      "min_width": null,
      "object_fit": null,
      "object_position": null,
      "order": null,
      "overflow": null,
      "overflow_x": null,
      "overflow_y": null,
      "padding": null,
      "right": null,
      "top": null,
      "visibility": null,
      "width": null
     }
    },
    "ea991b7320124b268723dbf5092d260f": {
     "model_module": "@jupyter-widgets/controls",
     "model_module_version": "1.5.0",
     "model_name": "HTMLModel",
     "state": {
      "_dom_classes": [],
      "_model_module": "@jupyter-widgets/controls",
      "_model_module_version": "1.5.0",
      "_model_name": "HTMLModel",
      "_view_count": null,
      "_view_module": "@jupyter-widgets/controls",
      "_view_module_version": "1.5.0",
      "_view_name": "HTMLView",
      "description": "",
      "description_tooltip": null,
      "layout": "IPY_MODEL_5b9863b8c7594a0cb961e352e667a34a",
      "placeholder": "​",
      "style": "IPY_MODEL_bd6d0ca6eb3b4f87829570624a0b7a54",
      "value": "100%"
     }
    }
   }
  }
 },
 "nbformat": 4,
 "nbformat_minor": 1
}
