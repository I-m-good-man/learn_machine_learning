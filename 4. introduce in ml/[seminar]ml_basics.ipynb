{
 "cells": [
  {
   "cell_type": "markdown",
   "metadata": {
    "id": "wU-s4PgBFoRY"
   },
   "source": [
    "<p style=\"align: center;\"><img src=\"https://static.tildacdn.com/tild6636-3531-4239-b465-376364646465/Deep_Learning_School.png\" width=\"300\"></p>\n",
    "\n",
    "<h3 style=\"text-align: center;\"><b>Физтех-Школа Прикладной математики и информатики (ФПМИ) МФТИ</b></h3>"
   ]
  },
  {
   "cell_type": "markdown",
   "metadata": {
    "id": "datr8Mp5FoRf"
   },
   "source": [
    "---"
   ]
  },
  {
   "cell_type": "markdown",
   "metadata": {
    "id": "GEmhGa2kFoRi"
   },
   "source": [
    "В этом ноутбке будет рассказано об основах машинного обучения."
   ]
  },
  {
   "cell_type": "markdown",
   "metadata": {
    "id": "-SFYozOuFoSx"
   },
   "source": [
    "# 1. Полезные ссылки"
   ]
  },
  {
   "cell_type": "markdown",
   "metadata": {
    "id": "LPgBJ6-WFoSz"
   },
   "source": [
    "1. [Наши доп материалы на Stepik](https://stepik.org/lesson/394280/step/1?unit=383263)\n",
    "1. [Больше о разных направлениях машинного обучения](http://www.machinelearning.ru/wiki/index.php?title=%D0%9C%D0%B0%D1%88%D0%B8%D0%BD%D0%BD%D0%BE%D0%B5_%D0%BE%D0%B1%D1%83%D1%87%D0%B5%D0%BD%D0%B8%D0%B5)\n",
    "2. Лекции Евгения Соколова https://github.com/esokolov/ml-course-msu/tree/master/ML15/lecture-notes"
   ]
  },
  {
   "cell_type": "markdown",
   "metadata": {
    "id": "O5Lj_FyVy3eq"
   },
   "source": [
    "# 2. Практическое занятие"
   ]
  },
  {
   "cell_type": "markdown",
   "metadata": {},
   "source": [
    "Что нужно вынести для себя из занятия:\n",
    "* Синтаксис работы с моделями и трансформерами в sklearn.\n",
    "* Какие бывают шаги предобработки данных.\n",
    "* Когда вы решаете ML задачу обязательно надо посмотреть на данные.\n",
    "\n",
    "\n",
    "### sklearn\n",
    "В sklearn есть два типа объектов:\n",
    "\n",
    "1. Estimator -- модель для предсказаний. Есть метод .fit(X, y) и .predict(X)\n",
    "2. Transformer -- обработчик данных (например нормирование признаков). Есть метод .fit(X) и .transform(X)"
   ]
  },
  {
   "cell_type": "markdown",
   "metadata": {
    "id": "R3EqSOCRy3et"
   },
   "source": [
    "## Данные\n",
    "\n",
    "Данные - информация о приложениях из AppStore. Поставим регрессионную задачу - предсказать рейтинг приложения. \n",
    "\n",
    "Скачать данные: https://www.kaggle.com/ramamet4/app-store-apple-data-set-10k-apps"
   ]
  },
  {
   "cell_type": "markdown",
   "metadata": {
    "id": "Nj6IqHx6y3ev"
   },
   "source": [
    "## Анализ данных\n",
    "\n",
    "Начнем с самой важной части - посмотрим на данные. "
   ]
  },
  {
   "cell_type": "code",
   "execution_count": 169,
   "metadata": {
    "id": "yxBPiW79y3ew"
   },
   "outputs": [],
   "source": [
    "import pandas as pd\n",
    "import numpy as np\n",
    "from matplotlib import pyplot as plt\n",
    "\n"
   ]
  },
  {
   "cell_type": "code",
   "execution_count": 170,
   "metadata": {
    "id": "oTzHxNFcy3e1",
    "outputId": "adffe915-598e-4996-8426-1a5f8123805d",
    "scrolled": true
   },
   "outputs": [
    {
     "data": {
      "text/html": [
       "<div>\n",
       "<style scoped>\n",
       "    .dataframe tbody tr th:only-of-type {\n",
       "        vertical-align: middle;\n",
       "    }\n",
       "\n",
       "    .dataframe tbody tr th {\n",
       "        vertical-align: top;\n",
       "    }\n",
       "\n",
       "    .dataframe thead th {\n",
       "        text-align: right;\n",
       "    }\n",
       "</style>\n",
       "<table border=\"1\" class=\"dataframe\">\n",
       "  <thead>\n",
       "    <tr style=\"text-align: right;\">\n",
       "      <th></th>\n",
       "      <th>Unnamed: 0</th>\n",
       "      <th>id</th>\n",
       "      <th>track_name</th>\n",
       "      <th>size_bytes</th>\n",
       "      <th>currency</th>\n",
       "      <th>price</th>\n",
       "      <th>rating_count_tot</th>\n",
       "      <th>rating_count_ver</th>\n",
       "      <th>user_rating</th>\n",
       "      <th>user_rating_ver</th>\n",
       "      <th>ver</th>\n",
       "      <th>cont_rating</th>\n",
       "      <th>prime_genre</th>\n",
       "      <th>sup_devices.num</th>\n",
       "      <th>ipadSc_urls.num</th>\n",
       "      <th>lang.num</th>\n",
       "      <th>vpp_lic</th>\n",
       "    </tr>\n",
       "  </thead>\n",
       "  <tbody>\n",
       "    <tr>\n",
       "      <th>0</th>\n",
       "      <td>1</td>\n",
       "      <td>281656475</td>\n",
       "      <td>PAC-MAN Premium</td>\n",
       "      <td>100788224</td>\n",
       "      <td>USD</td>\n",
       "      <td>3.99</td>\n",
       "      <td>21292</td>\n",
       "      <td>26</td>\n",
       "      <td>4.0</td>\n",
       "      <td>4.5</td>\n",
       "      <td>6.3.5</td>\n",
       "      <td>4+</td>\n",
       "      <td>Games</td>\n",
       "      <td>38</td>\n",
       "      <td>5</td>\n",
       "      <td>10</td>\n",
       "      <td>1</td>\n",
       "    </tr>\n",
       "    <tr>\n",
       "      <th>1</th>\n",
       "      <td>2</td>\n",
       "      <td>281796108</td>\n",
       "      <td>Evernote - stay organized</td>\n",
       "      <td>158578688</td>\n",
       "      <td>USD</td>\n",
       "      <td>0.00</td>\n",
       "      <td>161065</td>\n",
       "      <td>26</td>\n",
       "      <td>4.0</td>\n",
       "      <td>3.5</td>\n",
       "      <td>8.2.2</td>\n",
       "      <td>4+</td>\n",
       "      <td>Productivity</td>\n",
       "      <td>37</td>\n",
       "      <td>5</td>\n",
       "      <td>23</td>\n",
       "      <td>1</td>\n",
       "    </tr>\n",
       "    <tr>\n",
       "      <th>2</th>\n",
       "      <td>3</td>\n",
       "      <td>281940292</td>\n",
       "      <td>WeatherBug - Local Weather, Radar, Maps, Alerts</td>\n",
       "      <td>100524032</td>\n",
       "      <td>USD</td>\n",
       "      <td>0.00</td>\n",
       "      <td>188583</td>\n",
       "      <td>2822</td>\n",
       "      <td>3.5</td>\n",
       "      <td>4.5</td>\n",
       "      <td>5.0.0</td>\n",
       "      <td>4+</td>\n",
       "      <td>Weather</td>\n",
       "      <td>37</td>\n",
       "      <td>5</td>\n",
       "      <td>3</td>\n",
       "      <td>1</td>\n",
       "    </tr>\n",
       "    <tr>\n",
       "      <th>3</th>\n",
       "      <td>4</td>\n",
       "      <td>282614216</td>\n",
       "      <td>eBay: Best App to Buy, Sell, Save! Online Shop...</td>\n",
       "      <td>128512000</td>\n",
       "      <td>USD</td>\n",
       "      <td>0.00</td>\n",
       "      <td>262241</td>\n",
       "      <td>649</td>\n",
       "      <td>4.0</td>\n",
       "      <td>4.5</td>\n",
       "      <td>5.10.0</td>\n",
       "      <td>12+</td>\n",
       "      <td>Shopping</td>\n",
       "      <td>37</td>\n",
       "      <td>5</td>\n",
       "      <td>9</td>\n",
       "      <td>1</td>\n",
       "    </tr>\n",
       "    <tr>\n",
       "      <th>4</th>\n",
       "      <td>5</td>\n",
       "      <td>282935706</td>\n",
       "      <td>Bible</td>\n",
       "      <td>92774400</td>\n",
       "      <td>USD</td>\n",
       "      <td>0.00</td>\n",
       "      <td>985920</td>\n",
       "      <td>5320</td>\n",
       "      <td>4.5</td>\n",
       "      <td>5.0</td>\n",
       "      <td>7.5.1</td>\n",
       "      <td>4+</td>\n",
       "      <td>Reference</td>\n",
       "      <td>37</td>\n",
       "      <td>5</td>\n",
       "      <td>45</td>\n",
       "      <td>1</td>\n",
       "    </tr>\n",
       "    <tr>\n",
       "      <th>5</th>\n",
       "      <td>6</td>\n",
       "      <td>283619399</td>\n",
       "      <td>Shanghai Mahjong</td>\n",
       "      <td>10485713</td>\n",
       "      <td>USD</td>\n",
       "      <td>0.99</td>\n",
       "      <td>8253</td>\n",
       "      <td>5516</td>\n",
       "      <td>4.0</td>\n",
       "      <td>4.0</td>\n",
       "      <td>1.8</td>\n",
       "      <td>4+</td>\n",
       "      <td>Games</td>\n",
       "      <td>47</td>\n",
       "      <td>5</td>\n",
       "      <td>1</td>\n",
       "      <td>1</td>\n",
       "    </tr>\n",
       "    <tr>\n",
       "      <th>6</th>\n",
       "      <td>7</td>\n",
       "      <td>283646709</td>\n",
       "      <td>PayPal - Send and request money safely</td>\n",
       "      <td>227795968</td>\n",
       "      <td>USD</td>\n",
       "      <td>0.00</td>\n",
       "      <td>119487</td>\n",
       "      <td>879</td>\n",
       "      <td>4.0</td>\n",
       "      <td>4.5</td>\n",
       "      <td>6.12.0</td>\n",
       "      <td>4+</td>\n",
       "      <td>Finance</td>\n",
       "      <td>37</td>\n",
       "      <td>0</td>\n",
       "      <td>19</td>\n",
       "      <td>1</td>\n",
       "    </tr>\n",
       "    <tr>\n",
       "      <th>7</th>\n",
       "      <td>8</td>\n",
       "      <td>284035177</td>\n",
       "      <td>Pandora - Music &amp; Radio</td>\n",
       "      <td>130242560</td>\n",
       "      <td>USD</td>\n",
       "      <td>0.00</td>\n",
       "      <td>1126879</td>\n",
       "      <td>3594</td>\n",
       "      <td>4.0</td>\n",
       "      <td>4.5</td>\n",
       "      <td>8.4.1</td>\n",
       "      <td>12+</td>\n",
       "      <td>Music</td>\n",
       "      <td>37</td>\n",
       "      <td>4</td>\n",
       "      <td>1</td>\n",
       "      <td>1</td>\n",
       "    </tr>\n",
       "    <tr>\n",
       "      <th>8</th>\n",
       "      <td>9</td>\n",
       "      <td>284666222</td>\n",
       "      <td>PCalc - The Best Calculator</td>\n",
       "      <td>49250304</td>\n",
       "      <td>USD</td>\n",
       "      <td>9.99</td>\n",
       "      <td>1117</td>\n",
       "      <td>4</td>\n",
       "      <td>4.5</td>\n",
       "      <td>5.0</td>\n",
       "      <td>3.6.6</td>\n",
       "      <td>4+</td>\n",
       "      <td>Utilities</td>\n",
       "      <td>37</td>\n",
       "      <td>5</td>\n",
       "      <td>1</td>\n",
       "      <td>1</td>\n",
       "    </tr>\n",
       "    <tr>\n",
       "      <th>9</th>\n",
       "      <td>10</td>\n",
       "      <td>284736660</td>\n",
       "      <td>Ms. PAC-MAN</td>\n",
       "      <td>70023168</td>\n",
       "      <td>USD</td>\n",
       "      <td>3.99</td>\n",
       "      <td>7885</td>\n",
       "      <td>40</td>\n",
       "      <td>4.0</td>\n",
       "      <td>4.0</td>\n",
       "      <td>4.0.4</td>\n",
       "      <td>4+</td>\n",
       "      <td>Games</td>\n",
       "      <td>38</td>\n",
       "      <td>0</td>\n",
       "      <td>10</td>\n",
       "      <td>1</td>\n",
       "    </tr>\n",
       "    <tr>\n",
       "      <th>10</th>\n",
       "      <td>11</td>\n",
       "      <td>284791396</td>\n",
       "      <td>Solitaire by MobilityWare</td>\n",
       "      <td>49618944</td>\n",
       "      <td>USD</td>\n",
       "      <td>4.99</td>\n",
       "      <td>76720</td>\n",
       "      <td>4017</td>\n",
       "      <td>4.5</td>\n",
       "      <td>4.5</td>\n",
       "      <td>4.10.1</td>\n",
       "      <td>4+</td>\n",
       "      <td>Games</td>\n",
       "      <td>38</td>\n",
       "      <td>4</td>\n",
       "      <td>11</td>\n",
       "      <td>1</td>\n",
       "    </tr>\n",
       "    <tr>\n",
       "      <th>11</th>\n",
       "      <td>12</td>\n",
       "      <td>284815117</td>\n",
       "      <td>SCRABBLE Premium</td>\n",
       "      <td>227547136</td>\n",
       "      <td>USD</td>\n",
       "      <td>7.99</td>\n",
       "      <td>105776</td>\n",
       "      <td>166</td>\n",
       "      <td>3.5</td>\n",
       "      <td>2.5</td>\n",
       "      <td>5.19.0</td>\n",
       "      <td>4+</td>\n",
       "      <td>Games</td>\n",
       "      <td>37</td>\n",
       "      <td>0</td>\n",
       "      <td>6</td>\n",
       "      <td>1</td>\n",
       "    </tr>\n",
       "    <tr>\n",
       "      <th>12</th>\n",
       "      <td>13</td>\n",
       "      <td>284815942</td>\n",
       "      <td>Google – Search made just for mobile</td>\n",
       "      <td>179979264</td>\n",
       "      <td>USD</td>\n",
       "      <td>0.00</td>\n",
       "      <td>479440</td>\n",
       "      <td>203</td>\n",
       "      <td>3.5</td>\n",
       "      <td>4.0</td>\n",
       "      <td>27.0</td>\n",
       "      <td>17+</td>\n",
       "      <td>Utilities</td>\n",
       "      <td>37</td>\n",
       "      <td>4</td>\n",
       "      <td>33</td>\n",
       "      <td>1</td>\n",
       "    </tr>\n",
       "    <tr>\n",
       "      <th>13</th>\n",
       "      <td>14</td>\n",
       "      <td>284847138</td>\n",
       "      <td>Bank of America - Mobile Banking</td>\n",
       "      <td>160925696</td>\n",
       "      <td>USD</td>\n",
       "      <td>0.00</td>\n",
       "      <td>119773</td>\n",
       "      <td>2336</td>\n",
       "      <td>3.5</td>\n",
       "      <td>4.5</td>\n",
       "      <td>7.3.8</td>\n",
       "      <td>4+</td>\n",
       "      <td>Finance</td>\n",
       "      <td>37</td>\n",
       "      <td>0</td>\n",
       "      <td>2</td>\n",
       "      <td>1</td>\n",
       "    </tr>\n",
       "    <tr>\n",
       "      <th>14</th>\n",
       "      <td>15</td>\n",
       "      <td>284862767</td>\n",
       "      <td>FreeCell</td>\n",
       "      <td>55153664</td>\n",
       "      <td>USD</td>\n",
       "      <td>4.99</td>\n",
       "      <td>6340</td>\n",
       "      <td>668</td>\n",
       "      <td>4.5</td>\n",
       "      <td>4.5</td>\n",
       "      <td>4.0.3</td>\n",
       "      <td>4+</td>\n",
       "      <td>Games</td>\n",
       "      <td>38</td>\n",
       "      <td>5</td>\n",
       "      <td>2</td>\n",
       "      <td>1</td>\n",
       "    </tr>\n",
       "    <tr>\n",
       "      <th>15</th>\n",
       "      <td>16</td>\n",
       "      <td>284876795</td>\n",
       "      <td>TripAdvisor Hotels Flights Restaurants</td>\n",
       "      <td>207907840</td>\n",
       "      <td>USD</td>\n",
       "      <td>0.00</td>\n",
       "      <td>56194</td>\n",
       "      <td>87</td>\n",
       "      <td>4.0</td>\n",
       "      <td>3.5</td>\n",
       "      <td>21.1</td>\n",
       "      <td>4+</td>\n",
       "      <td>Travel</td>\n",
       "      <td>37</td>\n",
       "      <td>1</td>\n",
       "      <td>26</td>\n",
       "      <td>1</td>\n",
       "    </tr>\n",
       "    <tr>\n",
       "      <th>16</th>\n",
       "      <td>17</td>\n",
       "      <td>284882215</td>\n",
       "      <td>Facebook</td>\n",
       "      <td>389879808</td>\n",
       "      <td>USD</td>\n",
       "      <td>0.00</td>\n",
       "      <td>2974676</td>\n",
       "      <td>212</td>\n",
       "      <td>3.5</td>\n",
       "      <td>3.5</td>\n",
       "      <td>95.0</td>\n",
       "      <td>4+</td>\n",
       "      <td>Social Networking</td>\n",
       "      <td>37</td>\n",
       "      <td>1</td>\n",
       "      <td>29</td>\n",
       "      <td>1</td>\n",
       "    </tr>\n",
       "    <tr>\n",
       "      <th>17</th>\n",
       "      <td>18</td>\n",
       "      <td>284910350</td>\n",
       "      <td>Yelp - Nearby Restaurants, Shopping &amp; Services</td>\n",
       "      <td>167407616</td>\n",
       "      <td>USD</td>\n",
       "      <td>0.00</td>\n",
       "      <td>223885</td>\n",
       "      <td>3726</td>\n",
       "      <td>4.0</td>\n",
       "      <td>4.5</td>\n",
       "      <td>11.15.0</td>\n",
       "      <td>12+</td>\n",
       "      <td>Travel</td>\n",
       "      <td>37</td>\n",
       "      <td>5</td>\n",
       "      <td>18</td>\n",
       "      <td>1</td>\n",
       "    </tr>\n",
       "    <tr>\n",
       "      <th>18</th>\n",
       "      <td>20</td>\n",
       "      <td>284993459</td>\n",
       "      <td>Shazam - Discover music, artists, videos &amp; lyrics</td>\n",
       "      <td>147093504</td>\n",
       "      <td>USD</td>\n",
       "      <td>0.00</td>\n",
       "      <td>402925</td>\n",
       "      <td>136</td>\n",
       "      <td>4.0</td>\n",
       "      <td>4.5</td>\n",
       "      <td>11.0.3</td>\n",
       "      <td>12+</td>\n",
       "      <td>Music</td>\n",
       "      <td>37</td>\n",
       "      <td>3</td>\n",
       "      <td>16</td>\n",
       "      <td>1</td>\n",
       "    </tr>\n",
       "    <tr>\n",
       "      <th>19</th>\n",
       "      <td>21</td>\n",
       "      <td>285005463</td>\n",
       "      <td>Crash Bandicoot Nitro Kart 3D</td>\n",
       "      <td>10735026</td>\n",
       "      <td>USD</td>\n",
       "      <td>2.99</td>\n",
       "      <td>31456</td>\n",
       "      <td>4178</td>\n",
       "      <td>4.0</td>\n",
       "      <td>3.5</td>\n",
       "      <td>1.0.0</td>\n",
       "      <td>4+</td>\n",
       "      <td>Games</td>\n",
       "      <td>47</td>\n",
       "      <td>0</td>\n",
       "      <td>1</td>\n",
       "      <td>1</td>\n",
       "    </tr>\n",
       "  </tbody>\n",
       "</table>\n",
       "</div>"
      ],
      "text/plain": [
       "    Unnamed: 0         id                                         track_name  size_bytes currency  price  rating_count_tot  rating_count_ver  user_rating  user_rating_ver      ver cont_rating        prime_genre  sup_devices.num  ipadSc_urls.num  lang.num  vpp_lic\n",
       "0            1  281656475                                    PAC-MAN Premium   100788224      USD   3.99             21292                26          4.0              4.5    6.3.5          4+              Games               38                5        10        1\n",
       "1            2  281796108                          Evernote - stay organized   158578688      USD   0.00            161065                26          4.0              3.5    8.2.2          4+       Productivity               37                5        23        1\n",
       "2            3  281940292    WeatherBug - Local Weather, Radar, Maps, Alerts   100524032      USD   0.00            188583              2822          3.5              4.5    5.0.0          4+            Weather               37                5         3        1\n",
       "3            4  282614216  eBay: Best App to Buy, Sell, Save! Online Shop...   128512000      USD   0.00            262241               649          4.0              4.5   5.10.0         12+           Shopping               37                5         9        1\n",
       "4            5  282935706                                              Bible    92774400      USD   0.00            985920              5320          4.5              5.0    7.5.1          4+          Reference               37                5        45        1\n",
       "5            6  283619399                                   Shanghai Mahjong    10485713      USD   0.99              8253              5516          4.0              4.0      1.8          4+              Games               47                5         1        1\n",
       "6            7  283646709             PayPal - Send and request money safely   227795968      USD   0.00            119487               879          4.0              4.5   6.12.0          4+            Finance               37                0        19        1\n",
       "7            8  284035177                            Pandora - Music & Radio   130242560      USD   0.00           1126879              3594          4.0              4.5    8.4.1         12+              Music               37                4         1        1\n",
       "8            9  284666222                        PCalc - The Best Calculator    49250304      USD   9.99              1117                 4          4.5              5.0    3.6.6          4+          Utilities               37                5         1        1\n",
       "9           10  284736660                                        Ms. PAC-MAN    70023168      USD   3.99              7885                40          4.0              4.0    4.0.4          4+              Games               38                0        10        1\n",
       "10          11  284791396                          Solitaire by MobilityWare    49618944      USD   4.99             76720              4017          4.5              4.5   4.10.1          4+              Games               38                4        11        1\n",
       "11          12  284815117                                   SCRABBLE Premium   227547136      USD   7.99            105776               166          3.5              2.5   5.19.0          4+              Games               37                0         6        1\n",
       "12          13  284815942               Google – Search made just for mobile   179979264      USD   0.00            479440               203          3.5              4.0     27.0         17+          Utilities               37                4        33        1\n",
       "13          14  284847138                   Bank of America - Mobile Banking   160925696      USD   0.00            119773              2336          3.5              4.5    7.3.8          4+            Finance               37                0         2        1\n",
       "14          15  284862767                                           FreeCell    55153664      USD   4.99              6340               668          4.5              4.5    4.0.3          4+              Games               38                5         2        1\n",
       "15          16  284876795             TripAdvisor Hotels Flights Restaurants   207907840      USD   0.00             56194                87          4.0              3.5     21.1          4+             Travel               37                1        26        1\n",
       "16          17  284882215                                           Facebook   389879808      USD   0.00           2974676               212          3.5              3.5     95.0          4+  Social Networking               37                1        29        1\n",
       "17          18  284910350     Yelp - Nearby Restaurants, Shopping & Services   167407616      USD   0.00            223885              3726          4.0              4.5  11.15.0         12+             Travel               37                5        18        1\n",
       "18          20  284993459  Shazam - Discover music, artists, videos & lyrics   147093504      USD   0.00            402925               136          4.0              4.5   11.0.3         12+              Music               37                3        16        1\n",
       "19          21  285005463                      Crash Bandicoot Nitro Kart 3D    10735026      USD   2.99             31456              4178          4.0              3.5    1.0.0          4+              Games               47                0         1        1"
      ]
     },
     "execution_count": 170,
     "metadata": {},
     "output_type": "execute_result"
    }
   ],
   "source": [
    "# Загрузим данные и посмотрим на небольшую часть\n",
    "data = pd.read_csv('./AppleStore.csv', )\n",
    "data.name = 'app store database'\n",
    "data.head(20)"
   ]
  },
  {
   "cell_type": "markdown",
   "metadata": {
    "id": "dxAbj4ONy3e6"
   },
   "source": [
    "Выделим фичи из датасета и поделим их на числовые и категориальные. "
   ]
  },
  {
   "cell_type": "code",
   "execution_count": 171,
   "metadata": {
    "id": "AdvU1awHy3e7"
   },
   "outputs": [
    {
     "name": "stdout",
     "output_type": "stream",
     "text": [
      "RangeIndex(start=0, stop=7197, step=1)\n"
     ]
    }
   ],
   "source": [
    "print(data.index)\n",
    "\n",
    "\n",
    "num_cols = [\n",
    "    'size_bytes',\n",
    "    'price',\n",
    "    'rating_count_tot',\n",
    "    'rating_count_ver',\n",
    "    'sup_devices.num',\n",
    "    'ipadSc_urls.num',\n",
    "    'lang.num',\n",
    "    # Эта фича - не числовая, а порядковая, но мы все равно возьмем ее как числовую для удобства\n",
    "    'cont_rating',\n",
    "]\n",
    "\n",
    "cat_cols = [\n",
    "    'currency',\n",
    "    'prime_genre'\n",
    "]\n",
    "\n",
    "target_col = 'user_rating'\n",
    "\n",
    "cols = num_cols + cat_cols + [target_col]"
   ]
  },
  {
   "cell_type": "code",
   "execution_count": null,
   "metadata": {},
   "outputs": [],
   "source": []
  },
  {
   "cell_type": "code",
   "execution_count": 172,
   "metadata": {
    "id": "6uCVQEzNy3fB",
    "outputId": "5efb49af-7b53-43bc-aea9-8fdbdc282d7c",
    "scrolled": false
   },
   "outputs": [
    {
     "name": "stdout",
     "output_type": "stream",
     "text": [
      "0        4\n",
      "1        4\n",
      "2        4\n",
      "3       12\n",
      "4        4\n",
      "        ..\n",
      "7192     4\n",
      "7193     4\n",
      "7194     9\n",
      "7195    12\n",
      "7196     4\n",
      "Name: cont_rating, Length: 7197, dtype: object\n"
     ]
    },
    {
     "data": {
      "text/html": [
       "<div>\n",
       "<style scoped>\n",
       "    .dataframe tbody tr th:only-of-type {\n",
       "        vertical-align: middle;\n",
       "    }\n",
       "\n",
       "    .dataframe tbody tr th {\n",
       "        vertical-align: top;\n",
       "    }\n",
       "\n",
       "    .dataframe thead th {\n",
       "        text-align: right;\n",
       "    }\n",
       "</style>\n",
       "<table border=\"1\" class=\"dataframe\">\n",
       "  <thead>\n",
       "    <tr style=\"text-align: right;\">\n",
       "      <th></th>\n",
       "      <th>size_bytes</th>\n",
       "      <th>price</th>\n",
       "      <th>rating_count_tot</th>\n",
       "      <th>rating_count_ver</th>\n",
       "      <th>sup_devices.num</th>\n",
       "      <th>ipadSc_urls.num</th>\n",
       "      <th>lang.num</th>\n",
       "      <th>cont_rating</th>\n",
       "      <th>currency</th>\n",
       "      <th>prime_genre</th>\n",
       "      <th>user_rating</th>\n",
       "    </tr>\n",
       "  </thead>\n",
       "  <tbody>\n",
       "    <tr>\n",
       "      <th>0</th>\n",
       "      <td>100788224</td>\n",
       "      <td>3.99</td>\n",
       "      <td>21292</td>\n",
       "      <td>26</td>\n",
       "      <td>38</td>\n",
       "      <td>5</td>\n",
       "      <td>10</td>\n",
       "      <td>4</td>\n",
       "      <td>USD</td>\n",
       "      <td>Games</td>\n",
       "      <td>4.0</td>\n",
       "    </tr>\n",
       "    <tr>\n",
       "      <th>1</th>\n",
       "      <td>158578688</td>\n",
       "      <td>0.00</td>\n",
       "      <td>161065</td>\n",
       "      <td>26</td>\n",
       "      <td>37</td>\n",
       "      <td>5</td>\n",
       "      <td>23</td>\n",
       "      <td>4</td>\n",
       "      <td>USD</td>\n",
       "      <td>Productivity</td>\n",
       "      <td>4.0</td>\n",
       "    </tr>\n",
       "    <tr>\n",
       "      <th>2</th>\n",
       "      <td>100524032</td>\n",
       "      <td>0.00</td>\n",
       "      <td>188583</td>\n",
       "      <td>2822</td>\n",
       "      <td>37</td>\n",
       "      <td>5</td>\n",
       "      <td>3</td>\n",
       "      <td>4</td>\n",
       "      <td>USD</td>\n",
       "      <td>Weather</td>\n",
       "      <td>3.5</td>\n",
       "    </tr>\n",
       "    <tr>\n",
       "      <th>3</th>\n",
       "      <td>128512000</td>\n",
       "      <td>0.00</td>\n",
       "      <td>262241</td>\n",
       "      <td>649</td>\n",
       "      <td>37</td>\n",
       "      <td>5</td>\n",
       "      <td>9</td>\n",
       "      <td>12</td>\n",
       "      <td>USD</td>\n",
       "      <td>Shopping</td>\n",
       "      <td>4.0</td>\n",
       "    </tr>\n",
       "    <tr>\n",
       "      <th>4</th>\n",
       "      <td>92774400</td>\n",
       "      <td>0.00</td>\n",
       "      <td>985920</td>\n",
       "      <td>5320</td>\n",
       "      <td>37</td>\n",
       "      <td>5</td>\n",
       "      <td>45</td>\n",
       "      <td>4</td>\n",
       "      <td>USD</td>\n",
       "      <td>Reference</td>\n",
       "      <td>4.5</td>\n",
       "    </tr>\n",
       "  </tbody>\n",
       "</table>\n",
       "</div>"
      ],
      "text/plain": [
       "   size_bytes  price  rating_count_tot  rating_count_ver  sup_devices.num  ipadSc_urls.num  lang.num cont_rating currency   prime_genre  user_rating\n",
       "0   100788224   3.99             21292                26               38                5        10           4      USD         Games          4.0\n",
       "1   158578688   0.00            161065                26               37                5        23           4      USD  Productivity          4.0\n",
       "2   100524032   0.00            188583              2822               37                5         3           4      USD       Weather          3.5\n",
       "3   128512000   0.00            262241               649               37                5         9          12      USD      Shopping          4.0\n",
       "4    92774400   0.00            985920              5320               37                5        45           4      USD     Reference          4.5"
      ]
     },
     "execution_count": 172,
     "metadata": {},
     "output_type": "execute_result"
    }
   ],
   "source": [
    "data = data[cols]\n",
    "\n",
    "# Возраст записан не в виде числа, исправим это, вырезав последний символ и скастовав к числу\n",
    "\n",
    "# .str - это специальный параметр, с помощью которого можно изменять все значения серии типа string\n",
    "data['cont_rating'] = data['cont_rating'].astype(str).str[:-1]\n",
    "\n",
    "print(data['cont_rating'])\n",
    "\n",
    "data.head()\n"
   ]
  },
  {
   "cell_type": "code",
   "execution_count": 173,
   "metadata": {
    "id": "SC7qkIi8y3fF",
    "outputId": "fec11970-0ed2-4f07-ead7-71ba2e414d31",
    "scrolled": true
   },
   "outputs": [
    {
     "name": "stdout",
     "output_type": "stream",
     "text": [
      "      size_bytes  price  rating_count_tot  rating_count_ver  sup_devices.num  ipadSc_urls.num  lang.num  cont_rating  currency  prime_genre  user_rating\n",
      "0          False  False             False             False            False            False     False        False     False        False        False\n",
      "1          False  False             False             False            False            False     False        False     False        False        False\n",
      "2          False  False             False             False            False            False     False        False     False        False        False\n",
      "3          False  False             False             False            False            False     False        False     False        False        False\n",
      "4          False  False             False             False            False            False     False        False     False        False        False\n",
      "...          ...    ...               ...               ...              ...              ...       ...          ...       ...          ...          ...\n",
      "7192       False  False             False             False            False            False     False        False     False        False        False\n",
      "7193       False  False             False             False            False            False     False        False     False        False        False\n",
      "7194       False  False             False             False            False            False     False        False     False        False        False\n",
      "7195       False  False             False             False            False            False     False        False     False        False        False\n",
      "7196       False  False             False             False            False            False     False        False     False        False        False\n",
      "\n",
      "[7197 rows x 11 columns]\n"
     ]
    },
    {
     "data": {
      "text/plain": [
       "size_bytes          0.0\n",
       "price               0.0\n",
       "rating_count_tot    0.0\n",
       "rating_count_ver    0.0\n",
       "sup_devices.num     0.0\n",
       "ipadSc_urls.num     0.0\n",
       "lang.num            0.0\n",
       "cont_rating         0.0\n",
       "currency            0.0\n",
       "prime_genre         0.0\n",
       "user_rating         0.0\n",
       "dtype: float64"
      ]
     },
     "execution_count": 173,
     "metadata": {},
     "output_type": "execute_result"
    }
   ],
   "source": [
    "# Посмотрим на пропущенные значения\n",
    "# получаем маску, в которой каждому значению сопоставляется то, является ли значение NAN'ом или нет\n",
    "print(data.isna())\n",
    "\n",
    "# берем среднее значение чего либо, по колонкам\n",
    "data.isna().mean()"
   ]
  },
  {
   "cell_type": "code",
   "execution_count": 174,
   "metadata": {
    "scrolled": true
   },
   "outputs": [
    {
     "name": "stdout",
     "output_type": "stream",
     "text": [
      "['currency', 'prime_genre']\n",
      "Games                3862\n",
      "Entertainment         535\n",
      "Education             453\n",
      "Photo & Video         349\n",
      "Utilities             248\n",
      "Health & Fitness      180\n",
      "Productivity          178\n",
      "Social Networking     167\n",
      "Lifestyle             144\n",
      "Music                 138\n",
      "Shopping              122\n",
      "Sports                114\n",
      "Book                  112\n",
      "Finance               104\n",
      "Travel                 81\n",
      "News                   75\n",
      "Weather                72\n",
      "Reference              64\n",
      "Food & Drink           63\n",
      "Business               57\n",
      "Navigation             46\n",
      "Medical                23\n",
      "Catalogs               10\n",
      "Name: prime_genre, dtype: int64\n"
     ]
    },
    {
     "data": {
      "text/html": [
       "<div>\n",
       "<style scoped>\n",
       "    .dataframe tbody tr th:only-of-type {\n",
       "        vertical-align: middle;\n",
       "    }\n",
       "\n",
       "    .dataframe tbody tr th {\n",
       "        vertical-align: top;\n",
       "    }\n",
       "\n",
       "    .dataframe thead th {\n",
       "        text-align: right;\n",
       "    }\n",
       "</style>\n",
       "<table border=\"1\" class=\"dataframe\">\n",
       "  <thead>\n",
       "    <tr style=\"text-align: right;\">\n",
       "      <th></th>\n",
       "      <th>size_bytes</th>\n",
       "      <th>price</th>\n",
       "      <th>rating_count_tot</th>\n",
       "      <th>rating_count_ver</th>\n",
       "      <th>sup_devices.num</th>\n",
       "      <th>ipadSc_urls.num</th>\n",
       "      <th>lang.num</th>\n",
       "      <th>cont_rating</th>\n",
       "      <th>currency</th>\n",
       "      <th>prime_genre</th>\n",
       "      <th>user_rating</th>\n",
       "    </tr>\n",
       "  </thead>\n",
       "  <tbody>\n",
       "    <tr>\n",
       "      <th>0</th>\n",
       "      <td>100788224</td>\n",
       "      <td>3.99</td>\n",
       "      <td>21292</td>\n",
       "      <td>26</td>\n",
       "      <td>38</td>\n",
       "      <td>5</td>\n",
       "      <td>10</td>\n",
       "      <td>4</td>\n",
       "      <td>USD</td>\n",
       "      <td>Games</td>\n",
       "      <td>4.0</td>\n",
       "    </tr>\n",
       "    <tr>\n",
       "      <th>1</th>\n",
       "      <td>158578688</td>\n",
       "      <td>0.00</td>\n",
       "      <td>161065</td>\n",
       "      <td>26</td>\n",
       "      <td>37</td>\n",
       "      <td>5</td>\n",
       "      <td>23</td>\n",
       "      <td>4</td>\n",
       "      <td>USD</td>\n",
       "      <td>Productivity</td>\n",
       "      <td>4.0</td>\n",
       "    </tr>\n",
       "    <tr>\n",
       "      <th>2</th>\n",
       "      <td>100524032</td>\n",
       "      <td>0.00</td>\n",
       "      <td>188583</td>\n",
       "      <td>2822</td>\n",
       "      <td>37</td>\n",
       "      <td>5</td>\n",
       "      <td>3</td>\n",
       "      <td>4</td>\n",
       "      <td>USD</td>\n",
       "      <td>Weather</td>\n",
       "      <td>3.5</td>\n",
       "    </tr>\n",
       "    <tr>\n",
       "      <th>3</th>\n",
       "      <td>128512000</td>\n",
       "      <td>0.00</td>\n",
       "      <td>262241</td>\n",
       "      <td>649</td>\n",
       "      <td>37</td>\n",
       "      <td>5</td>\n",
       "      <td>9</td>\n",
       "      <td>12</td>\n",
       "      <td>USD</td>\n",
       "      <td>Shopping</td>\n",
       "      <td>4.0</td>\n",
       "    </tr>\n",
       "    <tr>\n",
       "      <th>4</th>\n",
       "      <td>92774400</td>\n",
       "      <td>0.00</td>\n",
       "      <td>985920</td>\n",
       "      <td>5320</td>\n",
       "      <td>37</td>\n",
       "      <td>5</td>\n",
       "      <td>45</td>\n",
       "      <td>4</td>\n",
       "      <td>USD</td>\n",
       "      <td>Reference</td>\n",
       "      <td>4.5</td>\n",
       "    </tr>\n",
       "  </tbody>\n",
       "</table>\n",
       "</div>"
      ],
      "text/plain": [
       "   size_bytes  price  rating_count_tot  rating_count_ver  sup_devices.num  ipadSc_urls.num  lang.num cont_rating currency   prime_genre  user_rating\n",
       "0   100788224   3.99             21292                26               38                5        10           4      USD         Games          4.0\n",
       "1   158578688   0.00            161065                26               37                5        23           4      USD  Productivity          4.0\n",
       "2   100524032   0.00            188583              2822               37                5         3           4      USD       Weather          3.5\n",
       "3   128512000   0.00            262241               649               37                5         9          12      USD      Shopping          4.0\n",
       "4    92774400   0.00            985920              5320               37                5        45           4      USD     Reference          4.5"
      ]
     },
     "execution_count": 174,
     "metadata": {},
     "output_type": "execute_result"
    }
   ],
   "source": [
    "print(cat_cols)\n",
    "print(data.prime_genre.value_counts())\n",
    "data.head()"
   ]
  },
  {
   "cell_type": "code",
   "execution_count": 175,
   "metadata": {
    "id": "3_JPQiJ_y3fJ",
    "outputId": "dae57f6d-1867-4e15-8ea5-867492a7ab44"
   },
   "outputs": [
    {
     "name": "stdout",
     "output_type": "stream",
     "text": [
      "currency DISTRIBUTION\n",
      "USD    7197\n",
      "Name: currency, dtype: int64\n",
      "\n",
      "prime_genre DISTRIBUTION\n",
      "Games                3862\n",
      "Entertainment         535\n",
      "Education             453\n",
      "Photo & Video         349\n",
      "Utilities             248\n",
      "Health & Fitness      180\n",
      "Productivity          178\n",
      "Social Networking     167\n",
      "Lifestyle             144\n",
      "Music                 138\n",
      "Shopping              122\n",
      "Sports                114\n",
      "Book                  112\n",
      "Finance               104\n",
      "Travel                 81\n",
      "News                   75\n",
      "Weather                72\n",
      "Reference              64\n",
      "Food & Drink           63\n",
      "Business               57\n",
      "Navigation             46\n",
      "Medical                23\n",
      "Catalogs               10\n",
      "Name: prime_genre, dtype: int64\n",
      "\n"
     ]
    }
   ],
   "source": [
    "# Посмотрим на распределение категориальных фичей\n",
    "for col in cat_cols:\n",
    "    print(f\"{col} DISTRIBUTION\")\n",
    "    print(data[col].value_counts())\n",
    "    print()"
   ]
  },
  {
   "cell_type": "code",
   "execution_count": 176,
   "metadata": {
    "id": "csl-6myHy3fN"
   },
   "outputs": [],
   "source": [
    "# Как мы видим, в колонке currency только одно значение, можно колонку убрать\n",
    "data = data.drop(columns=['currency'])\n",
    "cat_cols.remove('currency')"
   ]
  },
  {
   "cell_type": "code",
   "execution_count": 177,
   "metadata": {
    "id": "l2p5nTDFy3fU",
    "outputId": "5a11efcc-7697-4181-be59-2e899e641dff",
    "scrolled": false
   },
   "outputs": [
    {
     "data": {
      "image/png": "[encoded data removed]",
      "text/plain": [
       "<Figure size 1008x720 with 9 Axes>"
      ]
     },
     "metadata": {
      "needs_background": "light"
     },
     "output_type": "display_data"
    }
   ],
   "source": [
    "# Посмотрим на распредление величин\n",
    "data.hist(column=num_cols+cat_cols+[target_col], figsize=(14, 10))\n",
    "None"
   ]
  },
  {
   "cell_type": "markdown",
   "metadata": {
    "id": "W1mNkeiUy3fZ"
   },
   "source": [
    "А теперь посмотрим на корреляции между фичами"
   ]
  },
  {
   "cell_type": "code",
   "execution_count": 178,
   "metadata": {
    "id": "pZw73JW0y3fa",
    "outputId": "a07962f1-a725-4558-d575-1cb9f4b0448e",
    "scrolled": true
   },
   "outputs": [
    {
     "name": "stderr",
     "output_type": "stream",
     "text": [
      "C:\\Users\\marat\\AppData\\Local\\Temp/ipykernel_7456/286891049.py:1: FutureWarning: this method is deprecated in favour of `Styler.format(precision=..)`\n",
      "  data.corr().style.background_gradient(cmap='coolwarm').set_precision(2)\n"
     ]
    },
    {
     "data": {
      "text/html": [
       "<style type=\"text/css\">\n",
       "#T_02538_row0_col0, #T_02538_row1_col1, #T_02538_row2_col2, #T_02538_row3_col3, #T_02538_row4_col4, #T_02538_row5_col5, #T_02538_row6_col6, #T_02538_row7_col7 {\n",
       "  background-color: #b40426;\n",
       "  color: #f1f1f1;\n",
       "}\n",
       "#T_02538_row0_col1, #T_02538_row1_col0 {\n",
       "  background-color: #93b5fe;\n",
       "  color: #000000;\n",
       "}\n",
       "#T_02538_row0_col2, #T_02538_row5_col3 {\n",
       "  background-color: #465ecf;\n",
       "  color: #f1f1f1;\n",
       "}\n",
       "#T_02538_row0_col3 {\n",
       "  background-color: #4257c9;\n",
       "  color: #f1f1f1;\n",
       "}\n",
       "#T_02538_row0_col4, #T_02538_row1_col2, #T_02538_row1_col3, #T_02538_row1_col4, #T_02538_row4_col0, #T_02538_row4_col1, #T_02538_row4_col5, #T_02538_row4_col6, #T_02538_row4_col7 {\n",
       "  background-color: #3b4cc0;\n",
       "  color: #f1f1f1;\n",
       "}\n",
       "#T_02538_row0_col5 {\n",
       "  background-color: #7597f6;\n",
       "  color: #f1f1f1;\n",
       "}\n",
       "#T_02538_row0_col6, #T_02538_row4_col2 {\n",
       "  background-color: #485fd1;\n",
       "  color: #f1f1f1;\n",
       "}\n",
       "#T_02538_row0_col7 {\n",
       "  background-color: #5a78e4;\n",
       "  color: #f1f1f1;\n",
       "}\n",
       "#T_02538_row1_col5 {\n",
       "  background-color: #5977e3;\n",
       "  color: #f1f1f1;\n",
       "}\n",
       "#T_02538_row1_col6 {\n",
       "  background-color: #445acc;\n",
       "  color: #f1f1f1;\n",
       "}\n",
       "#T_02538_row1_col7, #T_02538_row7_col3 {\n",
       "  background-color: #5470de;\n",
       "  color: #f1f1f1;\n",
       "}\n",
       "#T_02538_row2_col0, #T_02538_row3_col0, #T_02538_row6_col0 {\n",
       "  background-color: #5d7ce6;\n",
       "  color: #f1f1f1;\n",
       "}\n",
       "#T_02538_row2_col1, #T_02538_row6_col4, #T_02538_row7_col4 {\n",
       "  background-color: #4f69d9;\n",
       "  color: #f1f1f1;\n",
       "}\n",
       "#T_02538_row2_col3 {\n",
       "  background-color: #7396f5;\n",
       "  color: #f1f1f1;\n",
       "}\n",
       "#T_02538_row2_col4 {\n",
       "  background-color: #5e7de7;\n",
       "  color: #f1f1f1;\n",
       "}\n",
       "#T_02538_row2_col5, #T_02538_row3_col6, #T_02538_row5_col2 {\n",
       "  background-color: #4a63d3;\n",
       "  color: #f1f1f1;\n",
       "}\n",
       "#T_02538_row2_col6 {\n",
       "  background-color: #7295f4;\n",
       "  color: #f1f1f1;\n",
       "}\n",
       "#T_02538_row2_col7, #T_02538_row7_col2 {\n",
       "  background-color: #5f7fe8;\n",
       "  color: #f1f1f1;\n",
       "}\n",
       "#T_02538_row3_col1 {\n",
       "  background-color: #5572df;\n",
       "  color: #f1f1f1;\n",
       "}\n",
       "#T_02538_row3_col2 {\n",
       "  background-color: #799cf8;\n",
       "  color: #f1f1f1;\n",
       "}\n",
       "#T_02538_row3_col4 {\n",
       "  background-color: #6687ed;\n",
       "  color: #f1f1f1;\n",
       "}\n",
       "#T_02538_row3_col5 {\n",
       "  background-color: #4c66d6;\n",
       "  color: #f1f1f1;\n",
       "}\n",
       "#T_02538_row3_col7 {\n",
       "  background-color: #5b7ae5;\n",
       "  color: #f1f1f1;\n",
       "}\n",
       "#T_02538_row4_col3 {\n",
       "  background-color: #4b64d5;\n",
       "  color: #f1f1f1;\n",
       "}\n",
       "#T_02538_row5_col0 {\n",
       "  background-color: #8badfd;\n",
       "  color: #000000;\n",
       "}\n",
       "#T_02538_row5_col1 {\n",
       "  background-color: #6e90f2;\n",
       "  color: #f1f1f1;\n",
       "}\n",
       "#T_02538_row5_col4 {\n",
       "  background-color: #506bda;\n",
       "  color: #f1f1f1;\n",
       "}\n",
       "#T_02538_row5_col6, #T_02538_row6_col5 {\n",
       "  background-color: #6180e9;\n",
       "  color: #f1f1f1;\n",
       "}\n",
       "#T_02538_row5_col7 {\n",
       "  background-color: #9dbdff;\n",
       "  color: #000000;\n",
       "}\n",
       "#T_02538_row6_col1 {\n",
       "  background-color: #5875e1;\n",
       "  color: #f1f1f1;\n",
       "}\n",
       "#T_02538_row6_col2 {\n",
       "  background-color: #7093f3;\n",
       "  color: #f1f1f1;\n",
       "}\n",
       "#T_02538_row6_col3 {\n",
       "  background-color: #4358cb;\n",
       "  color: #f1f1f1;\n",
       "}\n",
       "#T_02538_row6_col7, #T_02538_row7_col6 {\n",
       "  background-color: #7da0f9;\n",
       "  color: #f1f1f1;\n",
       "}\n",
       "#T_02538_row7_col0 {\n",
       "  background-color: #6f92f3;\n",
       "  color: #f1f1f1;\n",
       "}\n",
       "#T_02538_row7_col1 {\n",
       "  background-color: #688aef;\n",
       "  color: #f1f1f1;\n",
       "}\n",
       "#T_02538_row7_col5 {\n",
       "  background-color: #9bbcff;\n",
       "  color: #000000;\n",
       "}\n",
       "</style>\n",
       "<table id=\"T_02538_\">\n",
       "  <thead>\n",
       "    <tr>\n",
       "      <th class=\"blank level0\" >&nbsp;</th>\n",
       "      <th class=\"col_heading level0 col0\" >size_bytes</th>\n",
       "      <th class=\"col_heading level0 col1\" >price</th>\n",
       "      <th class=\"col_heading level0 col2\" >rating_count_tot</th>\n",
       "      <th class=\"col_heading level0 col3\" >rating_count_ver</th>\n",
       "      <th class=\"col_heading level0 col4\" >sup_devices.num</th>\n",
       "      <th class=\"col_heading level0 col5\" >ipadSc_urls.num</th>\n",
       "      <th class=\"col_heading level0 col6\" >lang.num</th>\n",
       "      <th class=\"col_heading level0 col7\" >user_rating</th>\n",
       "    </tr>\n",
       "  </thead>\n",
       "  <tbody>\n",
       "    <tr>\n",
       "      <th id=\"T_02538_level0_row0\" class=\"row_heading level0 row0\" >size_bytes</th>\n",
       "      <td id=\"T_02538_row0_col0\" class=\"data row0 col0\" >1.00</td>\n",
       "      <td id=\"T_02538_row0_col1\" class=\"data row0 col1\" >0.18</td>\n",
       "      <td id=\"T_02538_row0_col2\" class=\"data row0 col2\" >0.00</td>\n",
       "      <td id=\"T_02538_row0_col3\" class=\"data row0 col3\" >0.01</td>\n",
       "      <td id=\"T_02538_row0_col4\" class=\"data row0 col4\" >-0.12</td>\n",
       "      <td id=\"T_02538_row0_col5\" class=\"data row0 col5\" >0.15</td>\n",
       "      <td id=\"T_02538_row0_col6\" class=\"data row0 col6\" >0.00</td>\n",
       "      <td id=\"T_02538_row0_col7\" class=\"data row0 col7\" >0.07</td>\n",
       "    </tr>\n",
       "    <tr>\n",
       "      <th id=\"T_02538_level0_row1\" class=\"row_heading level0 row1\" >price</th>\n",
       "      <td id=\"T_02538_row1_col0\" class=\"data row1 col0\" >0.18</td>\n",
       "      <td id=\"T_02538_row1_col1\" class=\"data row1 col1\" >1.00</td>\n",
       "      <td id=\"T_02538_row1_col2\" class=\"data row1 col2\" >-0.04</td>\n",
       "      <td id=\"T_02538_row1_col3\" class=\"data row1 col3\" >-0.02</td>\n",
       "      <td id=\"T_02538_row1_col4\" class=\"data row1 col4\" >-0.12</td>\n",
       "      <td id=\"T_02538_row1_col5\" class=\"data row1 col5\" >0.07</td>\n",
       "      <td id=\"T_02538_row1_col6\" class=\"data row1 col6\" >-0.01</td>\n",
       "      <td id=\"T_02538_row1_col7\" class=\"data row1 col7\" >0.05</td>\n",
       "    </tr>\n",
       "    <tr>\n",
       "      <th id=\"T_02538_level0_row2\" class=\"row_heading level0 row2\" >rating_count_tot</th>\n",
       "      <td id=\"T_02538_row2_col0\" class=\"data row2 col0\" >0.00</td>\n",
       "      <td id=\"T_02538_row2_col1\" class=\"data row2 col1\" >-0.04</td>\n",
       "      <td id=\"T_02538_row2_col2\" class=\"data row2 col2\" >1.00</td>\n",
       "      <td id=\"T_02538_row2_col3\" class=\"data row2 col3\" >0.16</td>\n",
       "      <td id=\"T_02538_row2_col4\" class=\"data row2 col4\" >0.01</td>\n",
       "      <td id=\"T_02538_row2_col5\" class=\"data row2 col5\" >0.02</td>\n",
       "      <td id=\"T_02538_row2_col6\" class=\"data row2 col6\" >0.14</td>\n",
       "      <td id=\"T_02538_row2_col7\" class=\"data row2 col7\" >0.08</td>\n",
       "    </tr>\n",
       "    <tr>\n",
       "      <th id=\"T_02538_level0_row3\" class=\"row_heading level0 row3\" >rating_count_ver</th>\n",
       "      <td id=\"T_02538_row3_col0\" class=\"data row3 col0\" >0.01</td>\n",
       "      <td id=\"T_02538_row3_col1\" class=\"data row3 col1\" >-0.02</td>\n",
       "      <td id=\"T_02538_row3_col2\" class=\"data row3 col2\" >0.16</td>\n",
       "      <td id=\"T_02538_row3_col3\" class=\"data row3 col3\" >1.00</td>\n",
       "      <td id=\"T_02538_row3_col4\" class=\"data row3 col4\" >0.04</td>\n",
       "      <td id=\"T_02538_row3_col5\" class=\"data row3 col5\" >0.02</td>\n",
       "      <td id=\"T_02538_row3_col6\" class=\"data row3 col6\" >0.01</td>\n",
       "      <td id=\"T_02538_row3_col7\" class=\"data row3 col7\" >0.07</td>\n",
       "    </tr>\n",
       "    <tr>\n",
       "      <th id=\"T_02538_level0_row4\" class=\"row_heading level0 row4\" >sup_devices.num</th>\n",
       "      <td id=\"T_02538_row4_col0\" class=\"data row4 col0\" >-0.12</td>\n",
       "      <td id=\"T_02538_row4_col1\" class=\"data row4 col1\" >-0.12</td>\n",
       "      <td id=\"T_02538_row4_col2\" class=\"data row4 col2\" >0.01</td>\n",
       "      <td id=\"T_02538_row4_col3\" class=\"data row4 col3\" >0.04</td>\n",
       "      <td id=\"T_02538_row4_col4\" class=\"data row4 col4\" >1.00</td>\n",
       "      <td id=\"T_02538_row4_col5\" class=\"data row4 col5\" >-0.04</td>\n",
       "      <td id=\"T_02538_row4_col6\" class=\"data row4 col6\" >-0.04</td>\n",
       "      <td id=\"T_02538_row4_col7\" class=\"data row4 col7\" >-0.04</td>\n",
       "    </tr>\n",
       "    <tr>\n",
       "      <th id=\"T_02538_level0_row5\" class=\"row_heading level0 row5\" >ipadSc_urls.num</th>\n",
       "      <td id=\"T_02538_row5_col0\" class=\"data row5 col0\" >0.15</td>\n",
       "      <td id=\"T_02538_row5_col1\" class=\"data row5 col1\" >0.07</td>\n",
       "      <td id=\"T_02538_row5_col2\" class=\"data row5 col2\" >0.02</td>\n",
       "      <td id=\"T_02538_row5_col3\" class=\"data row5 col3\" >0.02</td>\n",
       "      <td id=\"T_02538_row5_col4\" class=\"data row5 col4\" >-0.04</td>\n",
       "      <td id=\"T_02538_row5_col5\" class=\"data row5 col5\" >1.00</td>\n",
       "      <td id=\"T_02538_row5_col6\" class=\"data row5 col6\" >0.09</td>\n",
       "      <td id=\"T_02538_row5_col7\" class=\"data row5 col7\" >0.27</td>\n",
       "    </tr>\n",
       "    <tr>\n",
       "      <th id=\"T_02538_level0_row6\" class=\"row_heading level0 row6\" >lang.num</th>\n",
       "      <td id=\"T_02538_row6_col0\" class=\"data row6 col0\" >0.00</td>\n",
       "      <td id=\"T_02538_row6_col1\" class=\"data row6 col1\" >-0.01</td>\n",
       "      <td id=\"T_02538_row6_col2\" class=\"data row6 col2\" >0.14</td>\n",
       "      <td id=\"T_02538_row6_col3\" class=\"data row6 col3\" >0.01</td>\n",
       "      <td id=\"T_02538_row6_col4\" class=\"data row6 col4\" >-0.04</td>\n",
       "      <td id=\"T_02538_row6_col5\" class=\"data row6 col5\" >0.09</td>\n",
       "      <td id=\"T_02538_row6_col6\" class=\"data row6 col6\" >1.00</td>\n",
       "      <td id=\"T_02538_row6_col7\" class=\"data row6 col7\" >0.17</td>\n",
       "    </tr>\n",
       "    <tr>\n",
       "      <th id=\"T_02538_level0_row7\" class=\"row_heading level0 row7\" >user_rating</th>\n",
       "      <td id=\"T_02538_row7_col0\" class=\"data row7 col0\" >0.07</td>\n",
       "      <td id=\"T_02538_row7_col1\" class=\"data row7 col1\" >0.05</td>\n",
       "      <td id=\"T_02538_row7_col2\" class=\"data row7 col2\" >0.08</td>\n",
       "      <td id=\"T_02538_row7_col3\" class=\"data row7 col3\" >0.07</td>\n",
       "      <td id=\"T_02538_row7_col4\" class=\"data row7 col4\" >-0.04</td>\n",
       "      <td id=\"T_02538_row7_col5\" class=\"data row7 col5\" >0.27</td>\n",
       "      <td id=\"T_02538_row7_col6\" class=\"data row7 col6\" >0.17</td>\n",
       "      <td id=\"T_02538_row7_col7\" class=\"data row7 col7\" >1.00</td>\n",
       "    </tr>\n",
       "  </tbody>\n",
       "</table>\n"
      ],
      "text/plain": [
       "<pandas.io.formats.style.Styler at 0x1aaa3ce8a00>"
      ]
     },
     "execution_count": 178,
     "metadata": {},
     "output_type": "execute_result"
    }
   ],
   "source": [
    "data.corr().style.background_gradient(cmap='coolwarm').set_precision(2)"
   ]
  },
  {
   "cell_type": "markdown",
   "metadata": {
    "id": "hz3bS5acy3fe"
   },
   "source": [
    "## И двойные графики"
   ]
  },
  {
   "cell_type": "code",
   "execution_count": 179,
   "metadata": {
    "id": "4faB0k7qy3ff",
    "outputId": "b52ad7c8-2e7d-4b1a-f0ed-0e27037f34f6",
    "scrolled": true
   },
   "outputs": [
    {
     "data": {
      "image/png": "[encoded data removed]",
      "text/plain": [
       "<Figure size 1080x1080 with 64 Axes>"
      ]
     },
     "metadata": {
      "needs_background": "light"
     },
     "output_type": "display_data"
    }
   ],
   "source": [
    "pd.plotting.scatter_matrix(data, c=data[target_col], figsize=(15, 15), marker='o',\n",
    "                        hist_kwds={'bins': 20}, s=10, alpha=.8)\n",
    "None"
   ]
  },
  {
   "cell_type": "markdown",
   "metadata": {
    "id": "N4WS7V0Fy3fj"
   },
   "source": [
    "**Упражнение**: Мы только что посмотрели на данные, какой из посмотренных графиков говорит, что мы вряд ли сможем сделать хорошую модель?\n",
    "> Ответ:"
   ]
  },
  {
   "cell_type": "markdown",
   "metadata": {
    "id": "o9lpza3ey3fk"
   },
   "source": [
    "В данном случае фичей мало, поэтому мы легко смогли посмотреть на них. Обычно фичей намного больше и построить такие графики для пар фичей не получится. Тогда в первую очередь можно посмотреть на корреляцию фичей с таргетом."
   ]
  },
  {
   "cell_type": "markdown",
   "metadata": {
    "id": "pwo_y5d6y3fl"
   },
   "source": [
    "## Подготовка данных\n",
    "\n",
    "### Очистка\n",
    "\n",
    "Данные достаточно чистые, в них вряд ли есть какие-то ошибки и не получается с первого взгляда найти выбросы (outliers). Поэтому и очищать особо нечего. Но в реальной жизни, ваши данные скорее всего будут полны мусора.\n",
    "\n",
    "Чаще всего нам пришлось бы убирать выбросы, исправлять очевидные ошибки итд.\n"
   ]
  },
  {
   "cell_type": "markdown",
   "metadata": {
    "id": "A9y1zqKry3fm"
   },
   "source": [
    "### Создание фичей\n",
    "\n",
    "Чем сложнее зависимость между фичей и таргетом, тем более сложная модель потребуется, чтобы эту зависимость использовать. Почему бы просто не выбрать семейство самых гибких моделей? Проблема в том, что без большого количества данных для обучения будет происходить overfit. Это значит, что модель выучит зависимости, которые случайно появились в обучающих из-за ограниченного размера выборки. Такая модель будет хорошо работать на обучающей выборке, но будет плохо справляться с реальной задачей.\n",
    "\n",
    "Используя человеческие знания об устройстве мира, мы можем упростить такую зависимость, создав новые фичи. На самом деле, можно даже не использовать человеческие знания, а просто применить какой-нибудь алгоритм. Например, если у нас есть фичи $x_1, x_2, ..., x_n$, то мы можем добавить новые фичи вида \n",
    "$$x_{newij} = x_i x_j, i \\ne j$$\n",
    "и понадеяться, что это улучшит предсказания"
   ]
  },
  {
   "cell_type": "code",
   "execution_count": 180,
   "metadata": {},
   "outputs": [
    {
     "name": "stdout",
     "output_type": "stream",
     "text": [
      "      size_bytes  price  rating_count_tot  rating_count_ver  sup_devices.num  ipadSc_urls.num  lang.num cont_rating   prime_genre  user_rating\n",
      "0      100788224   3.99             21292                26               38                5        10           4         Games          4.0\n",
      "1      158578688   0.00            161065                26               37                5        23           4  Productivity          4.0\n",
      "2      100524032   0.00            188583              2822               37                5         3           4       Weather          3.5\n",
      "3      128512000   0.00            262241               649               37                5         9          12      Shopping          4.0\n",
      "4       92774400   0.00            985920              5320               37                5        45           4     Reference          4.5\n",
      "...          ...    ...               ...               ...              ...              ...       ...         ...           ...          ...\n",
      "7192   126644224   0.00               142                75               38                5         1           4         Games          4.5\n",
      "7193   120760320   0.00                30                30               38                0         1           4         Games          4.5\n",
      "7194   111322112   1.99                15                 0               37                1         1           9     Utilities          4.5\n",
      "7195    97235968   0.00                85                32               38                0         2          12         Games          4.5\n",
      "7196    90898432   0.00                 3                 3               40                0         2           4         Games          5.0\n",
      "\n",
      "[7197 rows x 10 columns]\n"
     ]
    },
    {
     "ename": "KeyError",
     "evalue": "'is_free'",
     "output_type": "error",
     "traceback": [
      "\u001B[1;31m---------------------------------------------------------------------------\u001B[0m",
      "\u001B[1;31mKeyError\u001B[0m                                  Traceback (most recent call last)",
      "\u001B[1;32m~\\PycharmProjects\\learn_machine_learning\\venv\\lib\\site-packages\\pandas\\core\\indexes\\base.py\u001B[0m in \u001B[0;36mget_loc\u001B[1;34m(self, key, method, tolerance)\u001B[0m\n\u001B[0;32m   3360\u001B[0m             \u001B[1;32mtry\u001B[0m\u001B[1;33m:\u001B[0m\u001B[1;33m\u001B[0m\u001B[1;33m\u001B[0m\u001B[0m\n\u001B[1;32m-> 3361\u001B[1;33m                 \u001B[1;32mreturn\u001B[0m \u001B[0mself\u001B[0m\u001B[1;33m.\u001B[0m\u001B[0m_engine\u001B[0m\u001B[1;33m.\u001B[0m\u001B[0mget_loc\u001B[0m\u001B[1;33m(\u001B[0m\u001B[0mcasted_key\u001B[0m\u001B[1;33m)\u001B[0m\u001B[1;33m\u001B[0m\u001B[1;33m\u001B[0m\u001B[0m\n\u001B[0m\u001B[0;32m   3362\u001B[0m             \u001B[1;32mexcept\u001B[0m \u001B[0mKeyError\u001B[0m \u001B[1;32mas\u001B[0m \u001B[0merr\u001B[0m\u001B[1;33m:\u001B[0m\u001B[1;33m\u001B[0m\u001B[1;33m\u001B[0m\u001B[0m\n",
      "\u001B[1;32m~\\PycharmProjects\\learn_machine_learning\\venv\\lib\\site-packages\\pandas\\_libs\\index.pyx\u001B[0m in \u001B[0;36mpandas._libs.index.IndexEngine.get_loc\u001B[1;34m()\u001B[0m\n",
      "\u001B[1;32m~\\PycharmProjects\\learn_machine_learning\\venv\\lib\\site-packages\\pandas\\_libs\\index.pyx\u001B[0m in \u001B[0;36mpandas._libs.index.IndexEngine.get_loc\u001B[1;34m()\u001B[0m\n",
      "\u001B[1;32mpandas\\_libs\\hashtable_class_helper.pxi\u001B[0m in \u001B[0;36mpandas._libs.hashtable.PyObjectHashTable.get_item\u001B[1;34m()\u001B[0m\n",
      "\u001B[1;32mpandas\\_libs\\hashtable_class_helper.pxi\u001B[0m in \u001B[0;36mpandas._libs.hashtable.PyObjectHashTable.get_item\u001B[1;34m()\u001B[0m\n",
      "\u001B[1;31mKeyError\u001B[0m: 'is_free'",
      "\nThe above exception was the direct cause of the following exception:\n",
      "\u001B[1;31mKeyError\u001B[0m                                  Traceback (most recent call last)",
      "\u001B[1;32m~\\AppData\\Local\\Temp/ipykernel_7456/2829926637.py\u001B[0m in \u001B[0;36m<module>\u001B[1;34m\u001B[0m\n\u001B[0;32m      3\u001B[0m \u001B[1;33m\u001B[0m\u001B[0m\n\u001B[0;32m      4\u001B[0m \u001B[0mprint\u001B[0m\u001B[1;33m(\u001B[0m\u001B[0mdata\u001B[0m\u001B[1;33m)\u001B[0m\u001B[1;33m\u001B[0m\u001B[1;33m\u001B[0m\u001B[0m\n\u001B[1;32m----> 5\u001B[1;33m \u001B[0mdata\u001B[0m\u001B[1;33m[\u001B[0m\u001B[1;34m'is_free'\u001B[0m\u001B[1;33m]\u001B[0m \u001B[1;33m=\u001B[0m \u001B[0mdata\u001B[0m\u001B[1;33m[\u001B[0m\u001B[1;34m'is_free'\u001B[0m\u001B[1;33m]\u001B[0m\u001B[1;33m.\u001B[0m\u001B[0mastype\u001B[0m\u001B[1;33m(\u001B[0m\u001B[0mbool\u001B[0m\u001B[1;33m)\u001B[0m\u001B[1;33m\u001B[0m\u001B[1;33m\u001B[0m\u001B[0m\n\u001B[0m\u001B[0;32m      6\u001B[0m \u001B[0mdata\u001B[0m\u001B[1;33m\u001B[0m\u001B[1;33m\u001B[0m\u001B[0m\n\u001B[0;32m      7\u001B[0m \u001B[1;33m\u001B[0m\u001B[0m\n",
      "\u001B[1;32m~\\PycharmProjects\\learn_machine_learning\\venv\\lib\\site-packages\\pandas\\core\\frame.py\u001B[0m in \u001B[0;36m__getitem__\u001B[1;34m(self, key)\u001B[0m\n\u001B[0;32m   3456\u001B[0m             \u001B[1;32mif\u001B[0m \u001B[0mself\u001B[0m\u001B[1;33m.\u001B[0m\u001B[0mcolumns\u001B[0m\u001B[1;33m.\u001B[0m\u001B[0mnlevels\u001B[0m \u001B[1;33m>\u001B[0m \u001B[1;36m1\u001B[0m\u001B[1;33m:\u001B[0m\u001B[1;33m\u001B[0m\u001B[1;33m\u001B[0m\u001B[0m\n\u001B[0;32m   3457\u001B[0m                 \u001B[1;32mreturn\u001B[0m \u001B[0mself\u001B[0m\u001B[1;33m.\u001B[0m\u001B[0m_getitem_multilevel\u001B[0m\u001B[1;33m(\u001B[0m\u001B[0mkey\u001B[0m\u001B[1;33m)\u001B[0m\u001B[1;33m\u001B[0m\u001B[1;33m\u001B[0m\u001B[0m\n\u001B[1;32m-> 3458\u001B[1;33m             \u001B[0mindexer\u001B[0m \u001B[1;33m=\u001B[0m \u001B[0mself\u001B[0m\u001B[1;33m.\u001B[0m\u001B[0mcolumns\u001B[0m\u001B[1;33m.\u001B[0m\u001B[0mget_loc\u001B[0m\u001B[1;33m(\u001B[0m\u001B[0mkey\u001B[0m\u001B[1;33m)\u001B[0m\u001B[1;33m\u001B[0m\u001B[1;33m\u001B[0m\u001B[0m\n\u001B[0m\u001B[0;32m   3459\u001B[0m             \u001B[1;32mif\u001B[0m \u001B[0mis_integer\u001B[0m\u001B[1;33m(\u001B[0m\u001B[0mindexer\u001B[0m\u001B[1;33m)\u001B[0m\u001B[1;33m:\u001B[0m\u001B[1;33m\u001B[0m\u001B[1;33m\u001B[0m\u001B[0m\n\u001B[0;32m   3460\u001B[0m                 \u001B[0mindexer\u001B[0m \u001B[1;33m=\u001B[0m \u001B[1;33m[\u001B[0m\u001B[0mindexer\u001B[0m\u001B[1;33m]\u001B[0m\u001B[1;33m\u001B[0m\u001B[1;33m\u001B[0m\u001B[0m\n",
      "\u001B[1;32m~\\PycharmProjects\\learn_machine_learning\\venv\\lib\\site-packages\\pandas\\core\\indexes\\base.py\u001B[0m in \u001B[0;36mget_loc\u001B[1;34m(self, key, method, tolerance)\u001B[0m\n\u001B[0;32m   3361\u001B[0m                 \u001B[1;32mreturn\u001B[0m \u001B[0mself\u001B[0m\u001B[1;33m.\u001B[0m\u001B[0m_engine\u001B[0m\u001B[1;33m.\u001B[0m\u001B[0mget_loc\u001B[0m\u001B[1;33m(\u001B[0m\u001B[0mcasted_key\u001B[0m\u001B[1;33m)\u001B[0m\u001B[1;33m\u001B[0m\u001B[1;33m\u001B[0m\u001B[0m\n\u001B[0;32m   3362\u001B[0m             \u001B[1;32mexcept\u001B[0m \u001B[0mKeyError\u001B[0m \u001B[1;32mas\u001B[0m \u001B[0merr\u001B[0m\u001B[1;33m:\u001B[0m\u001B[1;33m\u001B[0m\u001B[1;33m\u001B[0m\u001B[0m\n\u001B[1;32m-> 3363\u001B[1;33m                 \u001B[1;32mraise\u001B[0m \u001B[0mKeyError\u001B[0m\u001B[1;33m(\u001B[0m\u001B[0mkey\u001B[0m\u001B[1;33m)\u001B[0m \u001B[1;32mfrom\u001B[0m \u001B[0merr\u001B[0m\u001B[1;33m\u001B[0m\u001B[1;33m\u001B[0m\u001B[0m\n\u001B[0m\u001B[0;32m   3364\u001B[0m \u001B[1;33m\u001B[0m\u001B[0m\n\u001B[0;32m   3365\u001B[0m         \u001B[1;32mif\u001B[0m \u001B[0mis_scalar\u001B[0m\u001B[1;33m(\u001B[0m\u001B[0mkey\u001B[0m\u001B[1;33m)\u001B[0m \u001B[1;32mand\u001B[0m \u001B[0misna\u001B[0m\u001B[1;33m(\u001B[0m\u001B[0mkey\u001B[0m\u001B[1;33m)\u001B[0m \u001B[1;32mand\u001B[0m \u001B[1;32mnot\u001B[0m \u001B[0mself\u001B[0m\u001B[1;33m.\u001B[0m\u001B[0mhasnans\u001B[0m\u001B[1;33m:\u001B[0m\u001B[1;33m\u001B[0m\u001B[1;33m\u001B[0m\u001B[0m\n",
      "\u001B[1;31mKeyError\u001B[0m: 'is_free'"
     ]
    }
   ],
   "source": [
    "#df_is_free = pd.DataFrame({'is_free': (data['price']==0).astype(int)})\n",
    "#data = data.join(df_is_free)\n",
    "\n",
    "print(data)\n",
    "data['is_free'] = data['is_free'].astype(bool)\n",
    "data\n",
    "\n",
    "\n"
   ]
  },
  {
   "cell_type": "code",
   "execution_count": null,
   "metadata": {
    "id": "C08zuEony3fn",
    "outputId": "8a80d48e-ec0d-43f0-866f-8c4effe952bc",
    "scrolled": false
   },
   "outputs": [],
   "source": [
    "# Добавим категориальную фичу, которая говорит, бесплатное приложение или нет\n",
    "data['is_free'] = data['price'] == 0\n",
    "cat_cols.append('is_free')\n",
    "data.head()"
   ]
  },
  {
   "cell_type": "code",
   "execution_count": null,
   "metadata": {},
   "outputs": [],
   "source": []
  },
  {
   "cell_type": "markdown",
   "metadata": {
    "id": "gJMjpLeky3fq"
   },
   "source": [
    "### Работа с категориальными признаками\n",
    "\n",
    "\n",
    "Большинство алгоритмов не принимает категориальные фичи в чистом виде и нужно из как-то закодировать.\n",
    "\n",
    "Очень небольшое число алгоритмов МО умеет работать с категориальными признаками в чистом виде. Например, это делает библиотека для градиентного бустинга от Яндекса catboost. Внтури она применяет разные эвристики для кодирования признаков в числа."
   ]
  },
  {
   "cell_type": "markdown",
   "metadata": {
    "id": "aBUWujK4y3fr"
   },
   "source": [
    "#### One-hot-encoding\n",
    "Самый простой способ закодировать категориальные фичи - one hot encoding. Представьте, что у нас есть категориальная фича prime_genre с возможными значениями \n",
    "> ['Games', 'Entertainment', 'Education', 'Photo & Video']\n",
    "\n",
    "мы можем создать 4 новые бинарные фичи для каждого из столбцов\n",
    "\n",
    "> 'Entertaiment' -> [0, 1, 0, 0]\n",
    "\n",
    "В pandas очень удобно использовать get_dummies для one-hot-encoding"
   ]
  },
  {
   "cell_type": "code",
   "execution_count": null,
   "metadata": {
    "id": "Zf7ueaAYy3fs",
    "outputId": "7c6af62e-4f81-4cf1-b5e4-55bf39a62a28"
   },
   "outputs": [],
   "source": [
    "a = pd.DataFrame.from_dict({'categorical': ['a', 'b', 'a', 'c']})\n",
    "a"
   ]
  },
  {
   "cell_type": "code",
   "execution_count": null,
   "metadata": {
    "id": "7TZRKn-Xy3fv",
    "outputId": "72bd8f41-7f28-4316-f4bc-398dfcdde0d5"
   },
   "outputs": [],
   "source": [
    "pd.get_dummies(a)"
   ]
  },
  {
   "cell_type": "code",
   "execution_count": 181,
   "metadata": {
    "id": "ktXAw6G4y3fz",
    "outputId": "b246953c-e115-4648-9fed-f4408917346b",
    "scrolled": true
   },
   "outputs": [
    {
     "name": "stdout",
     "output_type": "stream",
     "text": [
      "      size_bytes  price  rating_count_tot  rating_count_ver  sup_devices.num  ipadSc_urls.num  lang.num cont_rating   prime_genre  user_rating\n",
      "0      100788224   3.99             21292                26               38                5        10           4         Games          4.0\n",
      "1      158578688   0.00            161065                26               37                5        23           4  Productivity          4.0\n",
      "2      100524032   0.00            188583              2822               37                5         3           4       Weather          3.5\n",
      "3      128512000   0.00            262241               649               37                5         9          12      Shopping          4.0\n",
      "4       92774400   0.00            985920              5320               37                5        45           4     Reference          4.5\n",
      "...          ...    ...               ...               ...              ...              ...       ...         ...           ...          ...\n",
      "7192   126644224   0.00               142                75               38                5         1           4         Games          4.5\n",
      "7193   120760320   0.00                30                30               38                0         1           4         Games          4.5\n",
      "7194   111322112   1.99                15                 0               37                1         1           9     Utilities          4.5\n",
      "7195    97235968   0.00                85                32               38                0         2          12         Games          4.5\n",
      "7196    90898432   0.00                 3                 3               40                0         2           4         Games          5.0\n",
      "\n",
      "[7197 rows x 10 columns]\n"
     ]
    },
    {
     "data": {
      "text/html": [
       "<div>\n",
       "<style scoped>\n",
       "    .dataframe tbody tr th:only-of-type {\n",
       "        vertical-align: middle;\n",
       "    }\n",
       "\n",
       "    .dataframe tbody tr th {\n",
       "        vertical-align: top;\n",
       "    }\n",
       "\n",
       "    .dataframe thead th {\n",
       "        text-align: right;\n",
       "    }\n",
       "</style>\n",
       "<table border=\"1\" class=\"dataframe\">\n",
       "  <thead>\n",
       "    <tr style=\"text-align: right;\">\n",
       "      <th></th>\n",
       "      <th>size_bytes</th>\n",
       "      <th>price</th>\n",
       "      <th>rating_count_tot</th>\n",
       "      <th>rating_count_ver</th>\n",
       "      <th>sup_devices.num</th>\n",
       "      <th>ipadSc_urls.num</th>\n",
       "      <th>lang.num</th>\n",
       "      <th>cont_rating</th>\n",
       "      <th>user_rating</th>\n",
       "      <th>prime_genre_Book</th>\n",
       "      <th>prime_genre_Business</th>\n",
       "      <th>prime_genre_Catalogs</th>\n",
       "      <th>prime_genre_Education</th>\n",
       "      <th>prime_genre_Entertainment</th>\n",
       "      <th>prime_genre_Finance</th>\n",
       "      <th>prime_genre_Food &amp; Drink</th>\n",
       "      <th>prime_genre_Games</th>\n",
       "      <th>prime_genre_Health &amp; Fitness</th>\n",
       "      <th>prime_genre_Lifestyle</th>\n",
       "      <th>prime_genre_Medical</th>\n",
       "      <th>prime_genre_Music</th>\n",
       "      <th>prime_genre_Navigation</th>\n",
       "      <th>prime_genre_News</th>\n",
       "      <th>prime_genre_Photo &amp; Video</th>\n",
       "      <th>prime_genre_Productivity</th>\n",
       "      <th>prime_genre_Reference</th>\n",
       "      <th>prime_genre_Shopping</th>\n",
       "      <th>prime_genre_Social Networking</th>\n",
       "      <th>prime_genre_Sports</th>\n",
       "      <th>prime_genre_Travel</th>\n",
       "      <th>prime_genre_Utilities</th>\n",
       "      <th>prime_genre_Weather</th>\n",
       "    </tr>\n",
       "  </thead>\n",
       "  <tbody>\n",
       "    <tr>\n",
       "      <th>0</th>\n",
       "      <td>100788224</td>\n",
       "      <td>3.99</td>\n",
       "      <td>21292</td>\n",
       "      <td>26</td>\n",
       "      <td>38</td>\n",
       "      <td>5</td>\n",
       "      <td>10</td>\n",
       "      <td>4</td>\n",
       "      <td>4.0</td>\n",
       "      <td>0</td>\n",
       "      <td>0</td>\n",
       "      <td>0</td>\n",
       "      <td>0</td>\n",
       "      <td>0</td>\n",
       "      <td>0</td>\n",
       "      <td>0</td>\n",
       "      <td>1</td>\n",
       "      <td>0</td>\n",
       "      <td>0</td>\n",
       "      <td>0</td>\n",
       "      <td>0</td>\n",
       "      <td>0</td>\n",
       "      <td>0</td>\n",
       "      <td>0</td>\n",
       "      <td>0</td>\n",
       "      <td>0</td>\n",
       "      <td>0</td>\n",
       "      <td>0</td>\n",
       "      <td>0</td>\n",
       "      <td>0</td>\n",
       "      <td>0</td>\n",
       "      <td>0</td>\n",
       "    </tr>\n",
       "    <tr>\n",
       "      <th>1</th>\n",
       "      <td>158578688</td>\n",
       "      <td>0.00</td>\n",
       "      <td>161065</td>\n",
       "      <td>26</td>\n",
       "      <td>37</td>\n",
       "      <td>5</td>\n",
       "      <td>23</td>\n",
       "      <td>4</td>\n",
       "      <td>4.0</td>\n",
       "      <td>0</td>\n",
       "      <td>0</td>\n",
       "      <td>0</td>\n",
       "      <td>0</td>\n",
       "      <td>0</td>\n",
       "      <td>0</td>\n",
       "      <td>0</td>\n",
       "      <td>0</td>\n",
       "      <td>0</td>\n",
       "      <td>0</td>\n",
       "      <td>0</td>\n",
       "      <td>0</td>\n",
       "      <td>0</td>\n",
       "      <td>0</td>\n",
       "      <td>0</td>\n",
       "      <td>1</td>\n",
       "      <td>0</td>\n",
       "      <td>0</td>\n",
       "      <td>0</td>\n",
       "      <td>0</td>\n",
       "      <td>0</td>\n",
       "      <td>0</td>\n",
       "      <td>0</td>\n",
       "    </tr>\n",
       "    <tr>\n",
       "      <th>2</th>\n",
       "      <td>100524032</td>\n",
       "      <td>0.00</td>\n",
       "      <td>188583</td>\n",
       "      <td>2822</td>\n",
       "      <td>37</td>\n",
       "      <td>5</td>\n",
       "      <td>3</td>\n",
       "      <td>4</td>\n",
       "      <td>3.5</td>\n",
       "      <td>0</td>\n",
       "      <td>0</td>\n",
       "      <td>0</td>\n",
       "      <td>0</td>\n",
       "      <td>0</td>\n",
       "      <td>0</td>\n",
       "      <td>0</td>\n",
       "      <td>0</td>\n",
       "      <td>0</td>\n",
       "      <td>0</td>\n",
       "      <td>0</td>\n",
       "      <td>0</td>\n",
       "      <td>0</td>\n",
       "      <td>0</td>\n",
       "      <td>0</td>\n",
       "      <td>0</td>\n",
       "      <td>0</td>\n",
       "      <td>0</td>\n",
       "      <td>0</td>\n",
       "      <td>0</td>\n",
       "      <td>0</td>\n",
       "      <td>0</td>\n",
       "      <td>1</td>\n",
       "    </tr>\n",
       "    <tr>\n",
       "      <th>3</th>\n",
       "      <td>128512000</td>\n",
       "      <td>0.00</td>\n",
       "      <td>262241</td>\n",
       "      <td>649</td>\n",
       "      <td>37</td>\n",
       "      <td>5</td>\n",
       "      <td>9</td>\n",
       "      <td>12</td>\n",
       "      <td>4.0</td>\n",
       "      <td>0</td>\n",
       "      <td>0</td>\n",
       "      <td>0</td>\n",
       "      <td>0</td>\n",
       "      <td>0</td>\n",
       "      <td>0</td>\n",
       "      <td>0</td>\n",
       "      <td>0</td>\n",
       "      <td>0</td>\n",
       "      <td>0</td>\n",
       "      <td>0</td>\n",
       "      <td>0</td>\n",
       "      <td>0</td>\n",
       "      <td>0</td>\n",
       "      <td>0</td>\n",
       "      <td>0</td>\n",
       "      <td>0</td>\n",
       "      <td>1</td>\n",
       "      <td>0</td>\n",
       "      <td>0</td>\n",
       "      <td>0</td>\n",
       "      <td>0</td>\n",
       "      <td>0</td>\n",
       "    </tr>\n",
       "    <tr>\n",
       "      <th>4</th>\n",
       "      <td>92774400</td>\n",
       "      <td>0.00</td>\n",
       "      <td>985920</td>\n",
       "      <td>5320</td>\n",
       "      <td>37</td>\n",
       "      <td>5</td>\n",
       "      <td>45</td>\n",
       "      <td>4</td>\n",
       "      <td>4.5</td>\n",
       "      <td>0</td>\n",
       "      <td>0</td>\n",
       "      <td>0</td>\n",
       "      <td>0</td>\n",
       "      <td>0</td>\n",
       "      <td>0</td>\n",
       "      <td>0</td>\n",
       "      <td>0</td>\n",
       "      <td>0</td>\n",
       "      <td>0</td>\n",
       "      <td>0</td>\n",
       "      <td>0</td>\n",
       "      <td>0</td>\n",
       "      <td>0</td>\n",
       "      <td>0</td>\n",
       "      <td>0</td>\n",
       "      <td>1</td>\n",
       "      <td>0</td>\n",
       "      <td>0</td>\n",
       "      <td>0</td>\n",
       "      <td>0</td>\n",
       "      <td>0</td>\n",
       "      <td>0</td>\n",
       "    </tr>\n",
       "    <tr>\n",
       "      <th>...</th>\n",
       "      <td>...</td>\n",
       "      <td>...</td>\n",
       "      <td>...</td>\n",
       "      <td>...</td>\n",
       "      <td>...</td>\n",
       "      <td>...</td>\n",
       "      <td>...</td>\n",
       "      <td>...</td>\n",
       "      <td>...</td>\n",
       "      <td>...</td>\n",
       "      <td>...</td>\n",
       "      <td>...</td>\n",
       "      <td>...</td>\n",
       "      <td>...</td>\n",
       "      <td>...</td>\n",
       "      <td>...</td>\n",
       "      <td>...</td>\n",
       "      <td>...</td>\n",
       "      <td>...</td>\n",
       "      <td>...</td>\n",
       "      <td>...</td>\n",
       "      <td>...</td>\n",
       "      <td>...</td>\n",
       "      <td>...</td>\n",
       "      <td>...</td>\n",
       "      <td>...</td>\n",
       "      <td>...</td>\n",
       "      <td>...</td>\n",
       "      <td>...</td>\n",
       "      <td>...</td>\n",
       "      <td>...</td>\n",
       "      <td>...</td>\n",
       "    </tr>\n",
       "    <tr>\n",
       "      <th>7192</th>\n",
       "      <td>126644224</td>\n",
       "      <td>0.00</td>\n",
       "      <td>142</td>\n",
       "      <td>75</td>\n",
       "      <td>38</td>\n",
       "      <td>5</td>\n",
       "      <td>1</td>\n",
       "      <td>4</td>\n",
       "      <td>4.5</td>\n",
       "      <td>0</td>\n",
       "      <td>0</td>\n",
       "      <td>0</td>\n",
       "      <td>0</td>\n",
       "      <td>0</td>\n",
       "      <td>0</td>\n",
       "      <td>0</td>\n",
       "      <td>1</td>\n",
       "      <td>0</td>\n",
       "      <td>0</td>\n",
       "      <td>0</td>\n",
       "      <td>0</td>\n",
       "      <td>0</td>\n",
       "      <td>0</td>\n",
       "      <td>0</td>\n",
       "      <td>0</td>\n",
       "      <td>0</td>\n",
       "      <td>0</td>\n",
       "      <td>0</td>\n",
       "      <td>0</td>\n",
       "      <td>0</td>\n",
       "      <td>0</td>\n",
       "      <td>0</td>\n",
       "    </tr>\n",
       "    <tr>\n",
       "      <th>7193</th>\n",
       "      <td>120760320</td>\n",
       "      <td>0.00</td>\n",
       "      <td>30</td>\n",
       "      <td>30</td>\n",
       "      <td>38</td>\n",
       "      <td>0</td>\n",
       "      <td>1</td>\n",
       "      <td>4</td>\n",
       "      <td>4.5</td>\n",
       "      <td>0</td>\n",
       "      <td>0</td>\n",
       "      <td>0</td>\n",
       "      <td>0</td>\n",
       "      <td>0</td>\n",
       "      <td>0</td>\n",
       "      <td>0</td>\n",
       "      <td>1</td>\n",
       "      <td>0</td>\n",
       "      <td>0</td>\n",
       "      <td>0</td>\n",
       "      <td>0</td>\n",
       "      <td>0</td>\n",
       "      <td>0</td>\n",
       "      <td>0</td>\n",
       "      <td>0</td>\n",
       "      <td>0</td>\n",
       "      <td>0</td>\n",
       "      <td>0</td>\n",
       "      <td>0</td>\n",
       "      <td>0</td>\n",
       "      <td>0</td>\n",
       "      <td>0</td>\n",
       "    </tr>\n",
       "    <tr>\n",
       "      <th>7194</th>\n",
       "      <td>111322112</td>\n",
       "      <td>1.99</td>\n",
       "      <td>15</td>\n",
       "      <td>0</td>\n",
       "      <td>37</td>\n",
       "      <td>1</td>\n",
       "      <td>1</td>\n",
       "      <td>9</td>\n",
       "      <td>4.5</td>\n",
       "      <td>0</td>\n",
       "      <td>0</td>\n",
       "      <td>0</td>\n",
       "      <td>0</td>\n",
       "      <td>0</td>\n",
       "      <td>0</td>\n",
       "      <td>0</td>\n",
       "      <td>0</td>\n",
       "      <td>0</td>\n",
       "      <td>0</td>\n",
       "      <td>0</td>\n",
       "      <td>0</td>\n",
       "      <td>0</td>\n",
       "      <td>0</td>\n",
       "      <td>0</td>\n",
       "      <td>0</td>\n",
       "      <td>0</td>\n",
       "      <td>0</td>\n",
       "      <td>0</td>\n",
       "      <td>0</td>\n",
       "      <td>0</td>\n",
       "      <td>1</td>\n",
       "      <td>0</td>\n",
       "    </tr>\n",
       "    <tr>\n",
       "      <th>7195</th>\n",
       "      <td>97235968</td>\n",
       "      <td>0.00</td>\n",
       "      <td>85</td>\n",
       "      <td>32</td>\n",
       "      <td>38</td>\n",
       "      <td>0</td>\n",
       "      <td>2</td>\n",
       "      <td>12</td>\n",
       "      <td>4.5</td>\n",
       "      <td>0</td>\n",
       "      <td>0</td>\n",
       "      <td>0</td>\n",
       "      <td>0</td>\n",
       "      <td>0</td>\n",
       "      <td>0</td>\n",
       "      <td>0</td>\n",
       "      <td>1</td>\n",
       "      <td>0</td>\n",
       "      <td>0</td>\n",
       "      <td>0</td>\n",
       "      <td>0</td>\n",
       "      <td>0</td>\n",
       "      <td>0</td>\n",
       "      <td>0</td>\n",
       "      <td>0</td>\n",
       "      <td>0</td>\n",
       "      <td>0</td>\n",
       "      <td>0</td>\n",
       "      <td>0</td>\n",
       "      <td>0</td>\n",
       "      <td>0</td>\n",
       "      <td>0</td>\n",
       "    </tr>\n",
       "    <tr>\n",
       "      <th>7196</th>\n",
       "      <td>90898432</td>\n",
       "      <td>0.00</td>\n",
       "      <td>3</td>\n",
       "      <td>3</td>\n",
       "      <td>40</td>\n",
       "      <td>0</td>\n",
       "      <td>2</td>\n",
       "      <td>4</td>\n",
       "      <td>5.0</td>\n",
       "      <td>0</td>\n",
       "      <td>0</td>\n",
       "      <td>0</td>\n",
       "      <td>0</td>\n",
       "      <td>0</td>\n",
       "      <td>0</td>\n",
       "      <td>0</td>\n",
       "      <td>1</td>\n",
       "      <td>0</td>\n",
       "      <td>0</td>\n",
       "      <td>0</td>\n",
       "      <td>0</td>\n",
       "      <td>0</td>\n",
       "      <td>0</td>\n",
       "      <td>0</td>\n",
       "      <td>0</td>\n",
       "      <td>0</td>\n",
       "      <td>0</td>\n",
       "      <td>0</td>\n",
       "      <td>0</td>\n",
       "      <td>0</td>\n",
       "      <td>0</td>\n",
       "      <td>0</td>\n",
       "    </tr>\n",
       "  </tbody>\n",
       "</table>\n",
       "<p>7197 rows × 32 columns</p>\n",
       "</div>"
      ],
      "text/plain": [
       "      size_bytes  price  rating_count_tot  rating_count_ver  sup_devices.num  ipadSc_urls.num  lang.num cont_rating  user_rating  prime_genre_Book  prime_genre_Business  prime_genre_Catalogs  prime_genre_Education  prime_genre_Entertainment  prime_genre_Finance  prime_genre_Food & Drink  prime_genre_Games  \\\n",
       "0      100788224   3.99             21292                26               38                5        10           4          4.0                 0                     0                     0                      0                          0                    0                         0                  1   \n",
       "1      158578688   0.00            161065                26               37                5        23           4          4.0                 0                     0                     0                      0                          0                    0                         0                  0   \n",
       "2      100524032   0.00            188583              2822               37                5         3           4          3.5                 0                     0                     0                      0                          0                    0                         0                  0   \n",
       "3      128512000   0.00            262241               649               37                5         9          12          4.0                 0                     0                     0                      0                          0                    0                         0                  0   \n",
       "4       92774400   0.00            985920              5320               37                5        45           4          4.5                 0                     0                     0                      0                          0                    0                         0                  0   \n",
       "...          ...    ...               ...               ...              ...              ...       ...         ...          ...               ...                   ...                   ...                    ...                        ...                  ...                       ...                ...   \n",
       "7192   126644224   0.00               142                75               38                5         1           4          4.5                 0                     0                     0                      0                          0                    0                         0                  1   \n",
       "7193   120760320   0.00                30                30               38                0         1           4          4.5                 0                     0                     0                      0                          0                    0                         0                  1   \n",
       "7194   111322112   1.99                15                 0               37                1         1           9          4.5                 0                     0                     0                      0                          0                    0                         0                  0   \n",
       "7195    97235968   0.00                85                32               38                0         2          12          4.5                 0                     0                     0                      0                          0                    0                         0                  1   \n",
       "7196    90898432   0.00                 3                 3               40                0         2           4          5.0                 0                     0                     0                      0                          0                    0                         0                  1   \n",
       "\n",
       "      prime_genre_Health & Fitness  prime_genre_Lifestyle  prime_genre_Medical  prime_genre_Music  prime_genre_Navigation  prime_genre_News  prime_genre_Photo & Video  prime_genre_Productivity  prime_genre_Reference  prime_genre_Shopping  prime_genre_Social Networking  prime_genre_Sports  prime_genre_Travel  \\\n",
       "0                                0                      0                    0                  0                       0                 0                          0                         0                      0                     0                              0                   0                   0   \n",
       "1                                0                      0                    0                  0                       0                 0                          0                         1                      0                     0                              0                   0                   0   \n",
       "2                                0                      0                    0                  0                       0                 0                          0                         0                      0                     0                              0                   0                   0   \n",
       "3                                0                      0                    0                  0                       0                 0                          0                         0                      0                     1                              0                   0                   0   \n",
       "4                                0                      0                    0                  0                       0                 0                          0                         0                      1                     0                              0                   0                   0   \n",
       "...                            ...                    ...                  ...                ...                     ...               ...                        ...                       ...                    ...                   ...                            ...                 ...                 ...   \n",
       "7192                             0                      0                    0                  0                       0                 0                          0                         0                      0                     0                              0                   0                   0   \n",
       "7193                             0                      0                    0                  0                       0                 0                          0                         0                      0                     0                              0                   0                   0   \n",
       "7194                             0                      0                    0                  0                       0                 0                          0                         0                      0                     0                              0                   0                   0   \n",
       "7195                             0                      0                    0                  0                       0                 0                          0                         0                      0                     0                              0                   0                   0   \n",
       "7196                             0                      0                    0                  0                       0                 0                          0                         0                      0                     0                              0                   0                   0   \n",
       "\n",
       "      prime_genre_Utilities  prime_genre_Weather  \n",
       "0                         0                    0  \n",
       "1                         0                    0  \n",
       "2                         0                    1  \n",
       "3                         0                    0  \n",
       "4                         0                    0  \n",
       "...                     ...                  ...  \n",
       "7192                      0                    0  \n",
       "7193                      0                    0  \n",
       "7194                      1                    0  \n",
       "7195                      0                    0  \n",
       "7196                      0                    0  \n",
       "\n",
       "[7197 rows x 32 columns]"
      ]
     },
     "execution_count": 181,
     "metadata": {},
     "output_type": "execute_result"
    }
   ],
   "source": [
    "# Задание: Теперь добавьте в датафрейм колонки для всех категориальных фичей и обновите список категориальных фичей\n",
    "\n",
    "print(data)\n",
    "data = pd.get_dummies(data, columns=cat_cols)\n",
    "data"
   ]
  },
  {
   "cell_type": "code",
   "execution_count": 182,
   "metadata": {
    "id": "KOwf47Sqy3f2"
   },
   "outputs": [
    {
     "data": {
      "text/plain": [
       "['prime_genre_Book',\n",
       " 'prime_genre_Business',\n",
       " 'prime_genre_Catalogs',\n",
       " 'prime_genre_Education',\n",
       " 'prime_genre_Entertainment',\n",
       " 'prime_genre_Finance',\n",
       " 'prime_genre_Food & Drink',\n",
       " 'prime_genre_Games',\n",
       " 'prime_genre_Health & Fitness',\n",
       " 'prime_genre_Lifestyle',\n",
       " 'prime_genre_Medical',\n",
       " 'prime_genre_Music',\n",
       " 'prime_genre_Navigation',\n",
       " 'prime_genre_News',\n",
       " 'prime_genre_Photo & Video',\n",
       " 'prime_genre_Productivity',\n",
       " 'prime_genre_Reference',\n",
       " 'prime_genre_Shopping',\n",
       " 'prime_genre_Social Networking',\n",
       " 'prime_genre_Sports',\n",
       " 'prime_genre_Travel',\n",
       " 'prime_genre_Utilities',\n",
       " 'prime_genre_Weather']"
      ]
     },
     "execution_count": 182,
     "metadata": {},
     "output_type": "execute_result"
    }
   ],
   "source": [
    "cat_cols_new = []\n",
    "for col_name in cat_cols:\n",
    "    cat_cols_new.extend(filter(lambda x: x.startswith(col_name), data.columns))\n",
    "cat_cols = cat_cols_new\n",
    "cat_cols"
   ]
  },
  {
   "cell_type": "markdown",
   "metadata": {
    "id": "5CsX8Hvcy3f5"
   },
   "source": [
    "### Масштабирование признаков\n",
    "\n",
    "Как мы говорили в лекции часто необходимо привести все признаки к одному масштабу. Для этого в sklearn есть специальный Transformer -- StandardScaler и MinMaxScaler.\n",
    "\n",
    "StandardScaler во время .fit() для каждого признака $x_i$ считает среднее $\\mu_i$ и стандартное отклонение $\\sigma_i$ на обучающем датасете. Во время .transform() к каждому признаку применяется:\n",
    "\n",
    "$$\\mathbf{x_i}^{\\text{new}} = \\frac{\\mathbf{x_i} - \\mu_i}{\\sigma_i}$$\n",
    "\n",
    "\n",
    "MinMaxScaler во время .fit() для каждого признака $x_i$ считает минимум $x_{i, \\text{min}}$ и максимум $x_{i, \\text{max}}$ на обучающем датасете. Во время .transform() к каждому признаку применяется:\n",
    "\n",
    "$$\\mathbf{x_i}^{\\text{new}} = \\frac{\\mathbf{x_i} - x_{i, \\text{min}}}{x_{i, \\text{max}} - x_{i, \\text{min}}}$$"
   ]
  },
  {
   "cell_type": "code",
   "execution_count": 189,
   "metadata": {
    "id": "ryWzn4FAy3f6"
   },
   "outputs": [
    {
     "name": "stdout",
     "output_type": "stream",
     "text": [
      "[[-0.27380615  0.38812569  0.11090232 ... -0.1066902  -0.18891424\n",
      "  -0.10052494]\n",
      " [-0.11291148 -0.29596024  1.95647669 ... -0.1066902  -0.18891424\n",
      "  -0.10052494]\n",
      " [-0.27454169 -0.29596024  2.31982667 ... -0.1066902  -0.18891424\n",
      "   9.94778032]\n",
      " ...\n",
      " [-0.24447871  0.04522548 -0.17004096 ... -0.1066902   5.29340734\n",
      "  -0.10052494]\n",
      " [-0.283696   -0.29596024 -0.16911668 ... -0.1066902  -0.18891424\n",
      "  -0.10052494]\n",
      " [-0.30134036 -0.29596024 -0.17019941 ... -0.1066902  -0.18891424\n",
      "  -0.10052494]]\n"
     ]
    }
   ],
   "source": [
    "from sklearn.preprocessing import StandardScaler\n",
    "\n",
    "pca = StandardScaler()\n",
    "pca.fit(data[num_cols + cat_cols])\n",
    "# Выход pca - numpy матрица, положим ее в новую переменную со всеми фичами\n",
    "X = pca.transform(data[num_cols + cat_cols])\n",
    "\n",
    "# Или есть более простой способ \n",
    "X = pca.fit_transform(data[num_cols + cat_cols])"
   ]
  },
  {
   "cell_type": "markdown",
   "metadata": {
    "id": "uk4bKe1jy3f9"
   },
   "source": [
    "## Разделение на train/test\n",
    "\n",
    "После того, как мы обучили нашу модель нам нужно как-то понять, насколько она хорошо работает. Выше мы уже говорили про переобучение на данные, с которыми сеть обучалась. Из-за такого переобучения мы не сможем посчитать адекватно узнать точность предсказаний, если проверим точность на тех же данных, на которых обучались. Чтобы с этим бороться обучающую выборку обычно делят на две части train и test. На первой мы будем обучать модель, а на второй проверять, насколько хорошо модель работает. Размер тестовой выборки в 30-40% - неплохой выбор.\n",
    "\n",
    "Иногда данных слишком мало, чтобы жертвовать ими на тестовую часть. Тогда применяется метод, который называет cross validation. Мы посмотрим на то, как он работает в секции про оценку модели.\n",
    "\n",
    "**На самом деле, мы сделали не совсем правильно, потому что разделение на train/test нужно делать до добавления новых фичей/их кодирования итд. Иначе возможны лики из test части в train часть.** Например, при нормализации и PCA мы работаем со всем массивом данных, а значит информация из test попадет и в train. Но для упрощения кода и понимания того, что происходит мы не поделили выборку заранее. Если бы мы все-таки разделили выборку заранее, то нужно использовать fit на train части, а transform уже на обеих."
   ]
  },
  {
   "cell_type": "code",
   "execution_count": 185,
   "metadata": {
    "id": "xhDN3xvTy3gF"
   },
   "outputs": [],
   "source": [
    "from sklearn.model_selection import train_test_split"
   ]
  },
  {
   "cell_type": "code",
   "execution_count": 186,
   "metadata": {
    "id": "7WZupnVWy3gJ"
   },
   "outputs": [],
   "source": [
    "# Задание: Загуглите как работает эта функция и поделите выборку на две части\n",
    "X_train, X_test, y_train, y_test = train_test_split(X, data[target_col], test_size=0.2)"
   ]
  },
  {
   "cell_type": "markdown",
   "metadata": {
    "id": "UtES1khRy3gN"
   },
   "source": [
    "Хорошо, теперь можно обучить модели"
   ]
  },
  {
   "cell_type": "markdown",
   "metadata": {
    "id": "YN04Y8SSy3gN"
   },
   "source": [
    "## Обучение\n",
    "\n",
    "Самый хороший способ - попробовать максимум разных алгоритмов, посмотреть, какой из них лучше справляется и уже по метрикам выбрать лучший (возможно, объединить предсказания с помощью стэкинга или блендинга, о которых будет на следующем занятии)."
   ]
  },
  {
   "cell_type": "code",
   "execution_count": 187,
   "metadata": {
    "id": "tU6MSLCQy3gR"
   },
   "outputs": [],
   "source": [
    "from sklearn.linear_model import LinearRegression\n",
    "from sklearn.neighbors import KNeighborsRegressor\n",
    "from sklearn.metrics import r2_score, mean_squared_error"
   ]
  },
  {
   "cell_type": "markdown",
   "metadata": {
    "id": "N4dPdfSEy3gX"
   },
   "source": [
    "Поговорим про метрики. Метрика это, так же как и функция потерь, какая-то функция, показывающая насколько хорошо работает наша модель. Например, любой лосс можно назвать метрикой. Но не любую метрику можно назвать лоссом: лосс это именно то число, которое мы уменьшаем в процессе обучения модели + для лосса всегда верно, что чем он меньше, тем лучше. Метрики нужны как раз для того, чтобы оценивать работу алгоритма с помощью числа, которое он не учился напрямую минимизировать.\n",
    "\n",
    "Для классификации наиболее простой метрикой будет являться точность или accuracy (доля совпавших предсказаний и настоящих классов). Она никогда не используется внутри лоссов, потому что нет эффективного алгоритма, который бы позволил ее обучать модели с такой функцией потерь.\n",
    "\n",
    "В данном случае у нас задача регрессии, поэтому мы используем две метрики MSE и R_squared. \n",
    "\n",
    "$$R^2 = 1 - \\frac{\\sum_{i=1}^{n} (y^i - y_{pred}^i)^2}{\\sum_{i=1}^{n} (y^i - y_{mean})^2}$$\n",
    "\n",
    "R_aquared это доля объясненной вариации. R_squared = 1, когда у нас есть идеальный предсказатель. R_squared = 0 достигает модель, которая просто выдает в качестве ответа среднее Значение целевой переменной. А значения меньше 0 говорят о том, что модель хуже константного предсказателя."
   ]
  },
  {
   "cell_type": "code",
   "execution_count": 193,
   "metadata": {
    "id": "tcSu8p8Xy3gX"
   },
   "outputs": [],
   "source": [
    "def print_metrics(y_preds, y):\n",
    "    print(f'R^2: {r2_score(y_preds, y)}')\n",
    "    print(f'MSE: {mean_squared_error(y_preds, y)}')"
   ]
  },
  {
   "cell_type": "code",
   "execution_count": 194,
   "metadata": {
    "id": "oNdfnZ4jy3gb",
    "outputId": "2e8ff1d0-0536-481e-e987-fe289ba7db2a"
   },
   "outputs": [
    {
     "name": "stdout",
     "output_type": "stream",
     "text": [
      "R^2: -6.736987046464019\n",
      "MSE: 2.1178230026645495\n"
     ]
    }
   ],
   "source": [
    "# Используем обычную линейную регрессию, минимизирующую сумму квадратов ошибки\n",
    "lr = LinearRegression()\n",
    "lr.fit(X_train, y_train)\n",
    "\n",
    "print_metrics(lr.predict(X_test), y_test)"
   ]
  },
  {
   "cell_type": "code",
   "execution_count": 203,
   "metadata": {
    "id": "oNdfnZ4jy3gb",
    "outputId": "2e8ff1d0-0536-481e-e987-fe289ba7db2a"
   },
   "outputs": [
    {
     "name": "stdout",
     "output_type": "stream",
     "text": [
      "R^2: -1.3338488974061304\n",
      "MSE: 1.9678412543402777\n"
     ]
    }
   ],
   "source": [
    "# Используем обычную линейную регрессию, минимизирующую сумму квадратов ошибки\n",
    "knn = KNeighborsRegressor(n_neighbors=8)\n",
    "knn.fit(X_train, y_train)\n",
    "\n",
    "print_metrics(knn.predict(X_test), y_test)"
   ]
  },
  {
   "cell_type": "markdown",
   "metadata": {
    "id": "i8EbTpa3y3gr"
   },
   "source": [
    "**Задание:** поиграйтесь с гиперпараметрами и улучшите предсказания моделей."
   ]
  },
  {
   "cell_type": "markdown",
   "metadata": {
    "id": "ACDf5eMEy3gt"
   },
   "source": [
    "## Cross Validation\n",
    "\n",
    "До этого мы разбирали случай, когда выборка заранее делится на train/test, но часто данных итак не хватает и отдавать их часть на test слишком расточительно. В такой ситуации на помощью приходит кросс валидация:\n",
    "1. Выберем $k$ - количество частей, на которые разобьется наш датасет\n",
    "2. for $ i = 1..k$ \n",
    "    * Обучим модель на всех частях датасета, кроме i-ой.\n",
    "    * Посчитаем метрики или предсказания для i-ой части\n",
    "3. Саггрегируем все все предсказания или усредним метрики\n",
    "\n",
    "Таким образом мы сможем получить более объективные предсказания нашей модели, использовав весь датасет как train и как test, при этом не создав утечек данных.\n",
    "\n",
    "В sklearn существуют уже готовые классы моделей, которые за нас проводят все вышеописанные действия. Но у них есть один минус - выше мы уже писали, что лики могут произойти еще на этапе обработки данных. Избежать этого при ручной разбивке датасета легко, но в случае кросс валидации придется либо сдлеать специальный объект Pipeline, в котором будет скрыта вся обработка данных, и sklearn просто вызовет его $k$ раз, либо руками выбирать индексы объектов с помощью класса KFold и самостоятельно обрабатывать данные. Мы не будем делать ни то, ни другое, но покажем, как это может быть реализовано."
   ]
  },
  {
   "cell_type": "markdown",
   "metadata": {
    "id": "07m5iVJvy3gu"
   },
   "source": [
    "Получим из кроссвалидации метрики"
   ]
  },
  {
   "cell_type": "code",
   "execution_count": 204,
   "metadata": {
    "id": "6B-hvt0xy3gv"
   },
   "outputs": [],
   "source": [
    "from sklearn.metrics import r2_score, mean_squared_error, make_scorer\n",
    "from sklearn.model_selection import cross_validate"
   ]
  },
  {
   "cell_type": "code",
   "execution_count": 205,
   "metadata": {
    "id": "rvBUIh8Ey3g3",
    "outputId": "2e8405b6-fdb4-4909-98c4-b2470779427d"
   },
   "outputs": [
    {
     "data": {
      "text/plain": [
       "{'fit_time': array([0.01423144, 0.01499939, 0.01200271, 0.0099895 , 0.00900221]),\n",
       " 'score_time': array([0.00199676, 0.00200176, 0.00200367, 0.0019989 , 0.00099945]),\n",
       " 'test_r2_score': array([-0.79786385,  0.05559386,  0.11429771,  0.09272651,  0.05723733]),\n",
       " 'test_mean_squared_error': array([1.63601102, 1.504505  , 1.94356558, 2.87198154, 2.97567132])}"
      ]
     },
     "execution_count": 205,
     "metadata": {},
     "output_type": "execute_result"
    }
   ],
   "source": [
    "cross_validate(LinearRegression(), X, data[target_col], cv=5, \n",
    "               scoring={'r2_score': make_scorer(r2_score), \n",
    "                        'mean_squared_error': make_scorer(mean_squared_error)})"
   ]
  },
  {
   "cell_type": "code",
   "execution_count": 206,
   "metadata": {
    "id": "7p2M51I2y3g6",
    "outputId": "4876eed0-8147-492b-d46f-bb6786983d83"
   },
   "outputs": [
    {
     "data": {
      "text/plain": [
       "{'fit_time': array([0.0040133 , 0.0030117 , 0.00301504, 0.00300026, 0.00200129]),\n",
       " 'score_time': array([0.27900863, 0.31900811, 0.25900578, 0.25203919, 0.25901866]),\n",
       " 'test_r2_score': array([-0.63122627, -0.0417343 ,  0.0229818 ,  0.17901347,  0.10008469]),\n",
       " 'test_mean_squared_error': array([1.484375  , 1.65955556, 2.14394719, 2.59883947, 2.84043085])}"
      ]
     },
     "execution_count": 206,
     "metadata": {},
     "output_type": "execute_result"
    }
   ],
   "source": [
    "cross_validate(KNeighborsRegressor(), X, data[target_col], cv=5, \n",
    "               scoring={'r2_score': make_scorer(r2_score, ), \n",
    "                        'mean_squared_error': make_scorer(mean_squared_error)})"
   ]
  },
  {
   "cell_type": "markdown",
   "metadata": {
    "id": "UliVq-4qy3hC"
   },
   "source": [
    "## GridSearchCV\n",
    "А еще с помощью кросс валидации можно искать гиперпараметры."
   ]
  },
  {
   "cell_type": "code",
   "execution_count": 207,
   "metadata": {
    "id": "0evesgvhy3hD"
   },
   "outputs": [],
   "source": [
    "from sklearn.model_selection import GridSearchCV"
   ]
  },
  {
   "cell_type": "code",
   "execution_count": 208,
   "metadata": {
    "id": "Q3BiK1oBy3hG",
    "outputId": "78853985-2bcd-4330-c95b-e20cb55b208e",
    "scrolled": true
   },
   "outputs": [
    {
     "name": "stdout",
     "output_type": "stream",
     "text": [
      "Fitting 5 folds for each of 8 candidates, totalling 40 fits\n"
     ]
    },
    {
     "ename": "ValueError",
     "evalue": "error_score must be the string 'raise' or a numeric value. (Hint: if using 'raise', please make sure that it has been spelled correctly.)",
     "output_type": "error",
     "traceback": [
      "\u001B[1;31m---------------------------------------------------------------------------\u001B[0m",
      "\u001B[1;31mValueError\u001B[0m                                Traceback (most recent call last)",
      "\u001B[1;32m~\\AppData\\Local\\Temp/ipykernel_7456/1242127944.py\u001B[0m in \u001B[0;36m<module>\u001B[1;34m\u001B[0m\n\u001B[0;32m      4\u001B[0m                                \u001B[0merror_score\u001B[0m\u001B[1;33m=\u001B[0m\u001B[0mmake_scorer\u001B[0m\u001B[1;33m(\u001B[0m\u001B[0mmean_squared_error\u001B[0m\u001B[1;33m)\u001B[0m\u001B[1;33m,\u001B[0m\u001B[1;33m\u001B[0m\u001B[1;33m\u001B[0m\u001B[0m\n\u001B[0;32m      5\u001B[0m                                verbose=10)\n\u001B[1;32m----> 6\u001B[1;33m \u001B[0mgbr_grid_search\u001B[0m\u001B[1;33m.\u001B[0m\u001B[0mfit\u001B[0m\u001B[1;33m(\u001B[0m\u001B[0mX_train\u001B[0m\u001B[1;33m,\u001B[0m \u001B[0my_train\u001B[0m\u001B[1;33m)\u001B[0m\u001B[1;33m\u001B[0m\u001B[1;33m\u001B[0m\u001B[0m\n\u001B[0m",
      "\u001B[1;32m~\\PycharmProjects\\learn_machine_learning\\venv\\lib\\site-packages\\sklearn\\model_selection\\_search.py\u001B[0m in \u001B[0;36mfit\u001B[1;34m(self, X, y, groups, **fit_params)\u001B[0m\n\u001B[0;32m    889\u001B[0m                 \u001B[1;32mreturn\u001B[0m \u001B[0mresults\u001B[0m\u001B[1;33m\u001B[0m\u001B[1;33m\u001B[0m\u001B[0m\n\u001B[0;32m    890\u001B[0m \u001B[1;33m\u001B[0m\u001B[0m\n\u001B[1;32m--> 891\u001B[1;33m             \u001B[0mself\u001B[0m\u001B[1;33m.\u001B[0m\u001B[0m_run_search\u001B[0m\u001B[1;33m(\u001B[0m\u001B[0mevaluate_candidates\u001B[0m\u001B[1;33m)\u001B[0m\u001B[1;33m\u001B[0m\u001B[1;33m\u001B[0m\u001B[0m\n\u001B[0m\u001B[0;32m    892\u001B[0m \u001B[1;33m\u001B[0m\u001B[0m\n\u001B[0;32m    893\u001B[0m             \u001B[1;31m# multimetric is determined here because in the case of a callable\u001B[0m\u001B[1;33m\u001B[0m\u001B[1;33m\u001B[0m\u001B[1;33m\u001B[0m\u001B[0m\n",
      "\u001B[1;32m~\\PycharmProjects\\learn_machine_learning\\venv\\lib\\site-packages\\sklearn\\model_selection\\_search.py\u001B[0m in \u001B[0;36m_run_search\u001B[1;34m(self, evaluate_candidates)\u001B[0m\n\u001B[0;32m   1390\u001B[0m     \u001B[1;32mdef\u001B[0m \u001B[0m_run_search\u001B[0m\u001B[1;33m(\u001B[0m\u001B[0mself\u001B[0m\u001B[1;33m,\u001B[0m \u001B[0mevaluate_candidates\u001B[0m\u001B[1;33m)\u001B[0m\u001B[1;33m:\u001B[0m\u001B[1;33m\u001B[0m\u001B[1;33m\u001B[0m\u001B[0m\n\u001B[0;32m   1391\u001B[0m         \u001B[1;34m\"\"\"Search all candidates in param_grid\"\"\"\u001B[0m\u001B[1;33m\u001B[0m\u001B[1;33m\u001B[0m\u001B[0m\n\u001B[1;32m-> 1392\u001B[1;33m         \u001B[0mevaluate_candidates\u001B[0m\u001B[1;33m(\u001B[0m\u001B[0mParameterGrid\u001B[0m\u001B[1;33m(\u001B[0m\u001B[0mself\u001B[0m\u001B[1;33m.\u001B[0m\u001B[0mparam_grid\u001B[0m\u001B[1;33m)\u001B[0m\u001B[1;33m)\u001B[0m\u001B[1;33m\u001B[0m\u001B[1;33m\u001B[0m\u001B[0m\n\u001B[0m\u001B[0;32m   1393\u001B[0m \u001B[1;33m\u001B[0m\u001B[0m\n\u001B[0;32m   1394\u001B[0m \u001B[1;33m\u001B[0m\u001B[0m\n",
      "\u001B[1;32m~\\PycharmProjects\\learn_machine_learning\\venv\\lib\\site-packages\\sklearn\\model_selection\\_search.py\u001B[0m in \u001B[0;36mevaluate_candidates\u001B[1;34m(candidate_params, cv, more_results)\u001B[0m\n\u001B[0;32m    836\u001B[0m                     )\n\u001B[0;32m    837\u001B[0m \u001B[1;33m\u001B[0m\u001B[0m\n\u001B[1;32m--> 838\u001B[1;33m                 out = parallel(\n\u001B[0m\u001B[0;32m    839\u001B[0m                     delayed(_fit_and_score)(\n\u001B[0;32m    840\u001B[0m                         \u001B[0mclone\u001B[0m\u001B[1;33m(\u001B[0m\u001B[0mbase_estimator\u001B[0m\u001B[1;33m)\u001B[0m\u001B[1;33m,\u001B[0m\u001B[1;33m\u001B[0m\u001B[1;33m\u001B[0m\u001B[0m\n",
      "\u001B[1;32m~\\PycharmProjects\\learn_machine_learning\\venv\\lib\\site-packages\\joblib\\parallel.py\u001B[0m in \u001B[0;36m__call__\u001B[1;34m(self, iterable)\u001B[0m\n\u001B[0;32m   1041\u001B[0m             \u001B[1;31m# remaining jobs.\u001B[0m\u001B[1;33m\u001B[0m\u001B[1;33m\u001B[0m\u001B[1;33m\u001B[0m\u001B[0m\n\u001B[0;32m   1042\u001B[0m             \u001B[0mself\u001B[0m\u001B[1;33m.\u001B[0m\u001B[0m_iterating\u001B[0m \u001B[1;33m=\u001B[0m \u001B[1;32mFalse\u001B[0m\u001B[1;33m\u001B[0m\u001B[1;33m\u001B[0m\u001B[0m\n\u001B[1;32m-> 1043\u001B[1;33m             \u001B[1;32mif\u001B[0m \u001B[0mself\u001B[0m\u001B[1;33m.\u001B[0m\u001B[0mdispatch_one_batch\u001B[0m\u001B[1;33m(\u001B[0m\u001B[0miterator\u001B[0m\u001B[1;33m)\u001B[0m\u001B[1;33m:\u001B[0m\u001B[1;33m\u001B[0m\u001B[1;33m\u001B[0m\u001B[0m\n\u001B[0m\u001B[0;32m   1044\u001B[0m                 \u001B[0mself\u001B[0m\u001B[1;33m.\u001B[0m\u001B[0m_iterating\u001B[0m \u001B[1;33m=\u001B[0m \u001B[0mself\u001B[0m\u001B[1;33m.\u001B[0m\u001B[0m_original_iterator\u001B[0m \u001B[1;32mis\u001B[0m \u001B[1;32mnot\u001B[0m \u001B[1;32mNone\u001B[0m\u001B[1;33m\u001B[0m\u001B[1;33m\u001B[0m\u001B[0m\n\u001B[0;32m   1045\u001B[0m \u001B[1;33m\u001B[0m\u001B[0m\n",
      "\u001B[1;32m~\\PycharmProjects\\learn_machine_learning\\venv\\lib\\site-packages\\joblib\\parallel.py\u001B[0m in \u001B[0;36mdispatch_one_batch\u001B[1;34m(self, iterator)\u001B[0m\n\u001B[0;32m    859\u001B[0m                 \u001B[1;32mreturn\u001B[0m \u001B[1;32mFalse\u001B[0m\u001B[1;33m\u001B[0m\u001B[1;33m\u001B[0m\u001B[0m\n\u001B[0;32m    860\u001B[0m             \u001B[1;32melse\u001B[0m\u001B[1;33m:\u001B[0m\u001B[1;33m\u001B[0m\u001B[1;33m\u001B[0m\u001B[0m\n\u001B[1;32m--> 861\u001B[1;33m                 \u001B[0mself\u001B[0m\u001B[1;33m.\u001B[0m\u001B[0m_dispatch\u001B[0m\u001B[1;33m(\u001B[0m\u001B[0mtasks\u001B[0m\u001B[1;33m)\u001B[0m\u001B[1;33m\u001B[0m\u001B[1;33m\u001B[0m\u001B[0m\n\u001B[0m\u001B[0;32m    862\u001B[0m                 \u001B[1;32mreturn\u001B[0m \u001B[1;32mTrue\u001B[0m\u001B[1;33m\u001B[0m\u001B[1;33m\u001B[0m\u001B[0m\n\u001B[0;32m    863\u001B[0m \u001B[1;33m\u001B[0m\u001B[0m\n",
      "\u001B[1;32m~\\PycharmProjects\\learn_machine_learning\\venv\\lib\\site-packages\\joblib\\parallel.py\u001B[0m in \u001B[0;36m_dispatch\u001B[1;34m(self, batch)\u001B[0m\n\u001B[0;32m    777\u001B[0m         \u001B[1;32mwith\u001B[0m \u001B[0mself\u001B[0m\u001B[1;33m.\u001B[0m\u001B[0m_lock\u001B[0m\u001B[1;33m:\u001B[0m\u001B[1;33m\u001B[0m\u001B[1;33m\u001B[0m\u001B[0m\n\u001B[0;32m    778\u001B[0m             \u001B[0mjob_idx\u001B[0m \u001B[1;33m=\u001B[0m \u001B[0mlen\u001B[0m\u001B[1;33m(\u001B[0m\u001B[0mself\u001B[0m\u001B[1;33m.\u001B[0m\u001B[0m_jobs\u001B[0m\u001B[1;33m)\u001B[0m\u001B[1;33m\u001B[0m\u001B[1;33m\u001B[0m\u001B[0m\n\u001B[1;32m--> 779\u001B[1;33m             \u001B[0mjob\u001B[0m \u001B[1;33m=\u001B[0m \u001B[0mself\u001B[0m\u001B[1;33m.\u001B[0m\u001B[0m_backend\u001B[0m\u001B[1;33m.\u001B[0m\u001B[0mapply_async\u001B[0m\u001B[1;33m(\u001B[0m\u001B[0mbatch\u001B[0m\u001B[1;33m,\u001B[0m \u001B[0mcallback\u001B[0m\u001B[1;33m=\u001B[0m\u001B[0mcb\u001B[0m\u001B[1;33m)\u001B[0m\u001B[1;33m\u001B[0m\u001B[1;33m\u001B[0m\u001B[0m\n\u001B[0m\u001B[0;32m    780\u001B[0m             \u001B[1;31m# A job can complete so quickly than its callback is\u001B[0m\u001B[1;33m\u001B[0m\u001B[1;33m\u001B[0m\u001B[1;33m\u001B[0m\u001B[0m\n\u001B[0;32m    781\u001B[0m             \u001B[1;31m# called before we get here, causing self._jobs to\u001B[0m\u001B[1;33m\u001B[0m\u001B[1;33m\u001B[0m\u001B[1;33m\u001B[0m\u001B[0m\n",
      "\u001B[1;32m~\\PycharmProjects\\learn_machine_learning\\venv\\lib\\site-packages\\joblib\\_parallel_backends.py\u001B[0m in \u001B[0;36mapply_async\u001B[1;34m(self, func, callback)\u001B[0m\n\u001B[0;32m    206\u001B[0m     \u001B[1;32mdef\u001B[0m \u001B[0mapply_async\u001B[0m\u001B[1;33m(\u001B[0m\u001B[0mself\u001B[0m\u001B[1;33m,\u001B[0m \u001B[0mfunc\u001B[0m\u001B[1;33m,\u001B[0m \u001B[0mcallback\u001B[0m\u001B[1;33m=\u001B[0m\u001B[1;32mNone\u001B[0m\u001B[1;33m)\u001B[0m\u001B[1;33m:\u001B[0m\u001B[1;33m\u001B[0m\u001B[1;33m\u001B[0m\u001B[0m\n\u001B[0;32m    207\u001B[0m         \u001B[1;34m\"\"\"Schedule a func to be run\"\"\"\u001B[0m\u001B[1;33m\u001B[0m\u001B[1;33m\u001B[0m\u001B[0m\n\u001B[1;32m--> 208\u001B[1;33m         \u001B[0mresult\u001B[0m \u001B[1;33m=\u001B[0m \u001B[0mImmediateResult\u001B[0m\u001B[1;33m(\u001B[0m\u001B[0mfunc\u001B[0m\u001B[1;33m)\u001B[0m\u001B[1;33m\u001B[0m\u001B[1;33m\u001B[0m\u001B[0m\n\u001B[0m\u001B[0;32m    209\u001B[0m         \u001B[1;32mif\u001B[0m \u001B[0mcallback\u001B[0m\u001B[1;33m:\u001B[0m\u001B[1;33m\u001B[0m\u001B[1;33m\u001B[0m\u001B[0m\n\u001B[0;32m    210\u001B[0m             \u001B[0mcallback\u001B[0m\u001B[1;33m(\u001B[0m\u001B[0mresult\u001B[0m\u001B[1;33m)\u001B[0m\u001B[1;33m\u001B[0m\u001B[1;33m\u001B[0m\u001B[0m\n",
      "\u001B[1;32m~\\PycharmProjects\\learn_machine_learning\\venv\\lib\\site-packages\\joblib\\_parallel_backends.py\u001B[0m in \u001B[0;36m__init__\u001B[1;34m(self, batch)\u001B[0m\n\u001B[0;32m    570\u001B[0m         \u001B[1;31m# Don't delay the application, to avoid keeping the input\u001B[0m\u001B[1;33m\u001B[0m\u001B[1;33m\u001B[0m\u001B[1;33m\u001B[0m\u001B[0m\n\u001B[0;32m    571\u001B[0m         \u001B[1;31m# arguments in memory\u001B[0m\u001B[1;33m\u001B[0m\u001B[1;33m\u001B[0m\u001B[1;33m\u001B[0m\u001B[0m\n\u001B[1;32m--> 572\u001B[1;33m         \u001B[0mself\u001B[0m\u001B[1;33m.\u001B[0m\u001B[0mresults\u001B[0m \u001B[1;33m=\u001B[0m \u001B[0mbatch\u001B[0m\u001B[1;33m(\u001B[0m\u001B[1;33m)\u001B[0m\u001B[1;33m\u001B[0m\u001B[1;33m\u001B[0m\u001B[0m\n\u001B[0m\u001B[0;32m    573\u001B[0m \u001B[1;33m\u001B[0m\u001B[0m\n\u001B[0;32m    574\u001B[0m     \u001B[1;32mdef\u001B[0m \u001B[0mget\u001B[0m\u001B[1;33m(\u001B[0m\u001B[0mself\u001B[0m\u001B[1;33m)\u001B[0m\u001B[1;33m:\u001B[0m\u001B[1;33m\u001B[0m\u001B[1;33m\u001B[0m\u001B[0m\n",
      "\u001B[1;32m~\\PycharmProjects\\learn_machine_learning\\venv\\lib\\site-packages\\joblib\\parallel.py\u001B[0m in \u001B[0;36m__call__\u001B[1;34m(self)\u001B[0m\n\u001B[0;32m    260\u001B[0m         \u001B[1;31m# change the default number of processes to -1\u001B[0m\u001B[1;33m\u001B[0m\u001B[1;33m\u001B[0m\u001B[1;33m\u001B[0m\u001B[0m\n\u001B[0;32m    261\u001B[0m         \u001B[1;32mwith\u001B[0m \u001B[0mparallel_backend\u001B[0m\u001B[1;33m(\u001B[0m\u001B[0mself\u001B[0m\u001B[1;33m.\u001B[0m\u001B[0m_backend\u001B[0m\u001B[1;33m,\u001B[0m \u001B[0mn_jobs\u001B[0m\u001B[1;33m=\u001B[0m\u001B[0mself\u001B[0m\u001B[1;33m.\u001B[0m\u001B[0m_n_jobs\u001B[0m\u001B[1;33m)\u001B[0m\u001B[1;33m:\u001B[0m\u001B[1;33m\u001B[0m\u001B[1;33m\u001B[0m\u001B[0m\n\u001B[1;32m--> 262\u001B[1;33m             return [func(*args, **kwargs)\n\u001B[0m\u001B[0;32m    263\u001B[0m                     for func, args, kwargs in self.items]\n\u001B[0;32m    264\u001B[0m \u001B[1;33m\u001B[0m\u001B[0m\n",
      "\u001B[1;32m~\\PycharmProjects\\learn_machine_learning\\venv\\lib\\site-packages\\joblib\\parallel.py\u001B[0m in \u001B[0;36m<listcomp>\u001B[1;34m(.0)\u001B[0m\n\u001B[0;32m    260\u001B[0m         \u001B[1;31m# change the default number of processes to -1\u001B[0m\u001B[1;33m\u001B[0m\u001B[1;33m\u001B[0m\u001B[1;33m\u001B[0m\u001B[0m\n\u001B[0;32m    261\u001B[0m         \u001B[1;32mwith\u001B[0m \u001B[0mparallel_backend\u001B[0m\u001B[1;33m(\u001B[0m\u001B[0mself\u001B[0m\u001B[1;33m.\u001B[0m\u001B[0m_backend\u001B[0m\u001B[1;33m,\u001B[0m \u001B[0mn_jobs\u001B[0m\u001B[1;33m=\u001B[0m\u001B[0mself\u001B[0m\u001B[1;33m.\u001B[0m\u001B[0m_n_jobs\u001B[0m\u001B[1;33m)\u001B[0m\u001B[1;33m:\u001B[0m\u001B[1;33m\u001B[0m\u001B[1;33m\u001B[0m\u001B[0m\n\u001B[1;32m--> 262\u001B[1;33m             return [func(*args, **kwargs)\n\u001B[0m\u001B[0;32m    263\u001B[0m                     for func, args, kwargs in self.items]\n\u001B[0;32m    264\u001B[0m \u001B[1;33m\u001B[0m\u001B[0m\n",
      "\u001B[1;32m~\\PycharmProjects\\learn_machine_learning\\venv\\lib\\site-packages\\sklearn\\utils\\fixes.py\u001B[0m in \u001B[0;36m__call__\u001B[1;34m(self, *args, **kwargs)\u001B[0m\n\u001B[0;32m    207\u001B[0m     \u001B[1;32mdef\u001B[0m \u001B[0m__call__\u001B[0m\u001B[1;33m(\u001B[0m\u001B[0mself\u001B[0m\u001B[1;33m,\u001B[0m \u001B[1;33m*\u001B[0m\u001B[0margs\u001B[0m\u001B[1;33m,\u001B[0m \u001B[1;33m**\u001B[0m\u001B[0mkwargs\u001B[0m\u001B[1;33m)\u001B[0m\u001B[1;33m:\u001B[0m\u001B[1;33m\u001B[0m\u001B[1;33m\u001B[0m\u001B[0m\n\u001B[0;32m    208\u001B[0m         \u001B[1;32mwith\u001B[0m \u001B[0mconfig_context\u001B[0m\u001B[1;33m(\u001B[0m\u001B[1;33m**\u001B[0m\u001B[0mself\u001B[0m\u001B[1;33m.\u001B[0m\u001B[0mconfig\u001B[0m\u001B[1;33m)\u001B[0m\u001B[1;33m:\u001B[0m\u001B[1;33m\u001B[0m\u001B[1;33m\u001B[0m\u001B[0m\n\u001B[1;32m--> 209\u001B[1;33m             \u001B[1;32mreturn\u001B[0m \u001B[0mself\u001B[0m\u001B[1;33m.\u001B[0m\u001B[0mfunction\u001B[0m\u001B[1;33m(\u001B[0m\u001B[1;33m*\u001B[0m\u001B[0margs\u001B[0m\u001B[1;33m,\u001B[0m \u001B[1;33m**\u001B[0m\u001B[0mkwargs\u001B[0m\u001B[1;33m)\u001B[0m\u001B[1;33m\u001B[0m\u001B[1;33m\u001B[0m\u001B[0m\n\u001B[0m\u001B[0;32m    210\u001B[0m \u001B[1;33m\u001B[0m\u001B[0m\n\u001B[0;32m    211\u001B[0m \u001B[1;33m\u001B[0m\u001B[0m\n",
      "\u001B[1;32m~\\PycharmProjects\\learn_machine_learning\\venv\\lib\\site-packages\\sklearn\\model_selection\\_validation.py\u001B[0m in \u001B[0;36m_fit_and_score\u001B[1;34m(estimator, X, y, scorer, train, test, verbose, parameters, fit_params, return_train_score, return_parameters, return_n_test_samples, return_times, return_estimator, split_progress, candidate_progress, error_score)\u001B[0m\n\u001B[0;32m    632\u001B[0m     \"\"\"\n\u001B[0;32m    633\u001B[0m     \u001B[1;32mif\u001B[0m \u001B[1;32mnot\u001B[0m \u001B[0misinstance\u001B[0m\u001B[1;33m(\u001B[0m\u001B[0merror_score\u001B[0m\u001B[1;33m,\u001B[0m \u001B[0mnumbers\u001B[0m\u001B[1;33m.\u001B[0m\u001B[0mNumber\u001B[0m\u001B[1;33m)\u001B[0m \u001B[1;32mand\u001B[0m \u001B[0merror_score\u001B[0m \u001B[1;33m!=\u001B[0m \u001B[1;34m\"raise\"\u001B[0m\u001B[1;33m:\u001B[0m\u001B[1;33m\u001B[0m\u001B[1;33m\u001B[0m\u001B[0m\n\u001B[1;32m--> 634\u001B[1;33m         raise ValueError(\n\u001B[0m\u001B[0;32m    635\u001B[0m             \u001B[1;34m\"error_score must be the string 'raise' or a numeric value. \"\u001B[0m\u001B[1;33m\u001B[0m\u001B[1;33m\u001B[0m\u001B[0m\n\u001B[0;32m    636\u001B[0m             \u001B[1;34m\"(Hint: if using 'raise', please make sure that it has been \"\u001B[0m\u001B[1;33m\u001B[0m\u001B[1;33m\u001B[0m\u001B[0m\n",
      "\u001B[1;31mValueError\u001B[0m: error_score must be the string 'raise' or a numeric value. (Hint: if using 'raise', please make sure that it has been spelled correctly.)"
     ]
    }
   ],
   "source": [
    "gbr_grid_search = GridSearchCV(KNeighborsRegressor(), \n",
    "                               [{'n_neighbors': [1, 2, 3, 4, 6, 8, 10, 15]}],\n",
    "                               cv=5,\n",
    "                               error_score=make_scorer(mean_squared_error),\n",
    "                               verbose=10)\n",
    "gbr_grid_search.fit(X_train, y_train)"
   ]
  },
  {
   "cell_type": "code",
   "execution_count": 94,
   "metadata": {
    "id": "tTR0-nRBy3hJ",
    "outputId": "a1fd4807-5db3-405d-9965-f7aabca4ddc3"
   },
   "outputs": [
    {
     "name": "stdout",
     "output_type": "stream",
     "text": [
      "{'n_neighbors': 15}\n",
      "0.15991433616898054\n",
      "KNeighborsRegressor(algorithm='auto', leaf_size=30, metric='minkowski',\n",
      "                    metric_params=None, n_jobs=None, n_neighbors=15, p=2,\n",
      "                    weights='uniform')\n"
     ]
    }
   ],
   "source": [
    "print(gbr_grid_search.best_params_)\n",
    "print(gbr_grid_search.best_score_)\n",
    "print(gbr_grid_search.best_estimator_)"
   ]
  },
  {
   "cell_type": "markdown",
   "metadata": {
    "id": "1WiYVhlBy3hK"
   },
   "source": [
    "## Vanilla KFold\n",
    "\n",
    "**Задание**: Разберитесь как работает KFold по документации sklearn."
   ]
  },
  {
   "cell_type": "code",
   "execution_count": 29,
   "metadata": {
    "id": "i_xmIjK3y3hM"
   },
   "outputs": [],
   "source": [
    "from sklearn.model_selection import KFold"
   ]
  },
  {
   "cell_type": "code",
   "execution_count": 30,
   "metadata": {
    "id": "nRP4huETy3hP"
   },
   "outputs": [],
   "source": [
    "kf = KFold(n_splits=5)"
   ]
  },
  {
   "cell_type": "code",
   "execution_count": 31,
   "metadata": {
    "id": "V5S6qzsoy3hR"
   },
   "outputs": [],
   "source": [
    "model = KNeighborsRegressor()"
   ]
  },
  {
   "cell_type": "code",
   "execution_count": 32,
   "metadata": {
    "id": "KrdwS84Ey3hV"
   },
   "outputs": [],
   "source": [
    "metrics = []\n",
    "for train_ind, test_ind in kf.split(X_train):\n",
    "    model.fit(X_train[train_ind], y_train.values[train_ind])\n",
    "    pred = model.predict(X_train[test_ind])\n",
    "    metrics.append(mean_squared_error(y_train.values[test_ind], pred))"
   ]
  },
  {
   "cell_type": "code",
   "execution_count": 33,
   "metadata": {
    "id": "RdB5qMsRy3hZ",
    "outputId": "af3b26c2-5787-4c68-83ca-b2abc1e47c50"
   },
   "outputs": [
    {
     "data": {
      "text/plain": [
       "[2.039826388888889,\n",
       " 1.9344965277777777,\n",
       " 2.1757688966116424,\n",
       " 2.055751520417029,\n",
       " 2.1414856646394442]"
      ]
     },
     "execution_count": 33,
     "metadata": {},
     "output_type": "execute_result"
    }
   ],
   "source": [
    "metrics"
   ]
  },
  {
   "cell_type": "code",
   "execution_count": null,
   "metadata": {
    "id": "kTH4TSYDy3hb"
   },
   "outputs": [],
   "source": []
  },
  {
   "cell_type": "code",
   "execution_count": null,
   "metadata": {},
   "outputs": [],
   "source": []
  },
  {
   "cell_type": "code",
   "execution_count": null,
   "metadata": {},
   "outputs": [],
   "source": []
  }
 ],
 "metadata": {
  "colab": {
   "collapsed_sections": [],
   "name": "[seminar, prodv]ml_basics.ipynb",
   "provenance": []
  },
  "hide_input": false,
  "kernelspec": {
   "display_name": "Python 3 (ipykernel)",
   "language": "python",
   "name": "python3"
  },
  "language_info": {
   "codemirror_mode": {
    "name": "ipython",
    "version": 3
   },
   "file_extension": ".py",
   "mimetype": "text/x-python",
   "name": "python",
   "nbconvert_exporter": "python",
   "pygments_lexer": "ipython3",
   "version": "3.8.5"
  },
  "varInspector": {
   "cols": {
    "lenName": 16,
    "lenType": 16,
    "lenVar": 40
   },
   "kernels_config": {
    "python": {
     "delete_cmd_postfix": "",
     "delete_cmd_prefix": "del ",
     "library": "var_list.py",
     "varRefreshCmd": "print(var_dic_list())"
    },
    "r": {
     "delete_cmd_postfix": ") ",
     "delete_cmd_prefix": "rm(",
     "library": "var_list.r",
     "varRefreshCmd": "cat(var_dic_list()) "
    }
   },
   "types_to_exclude": [
    "module",
    "function",
    "builtin_function_or_method",
    "instance",
    "_Feature"
   ],
   "window_display": false
  }
 },
 "nbformat": 4,
 "nbformat_minor": 1
}